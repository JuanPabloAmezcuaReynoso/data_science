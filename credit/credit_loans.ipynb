{
  "cells": [
    {
      "cell_type": "code",
      "execution_count": null,
      "metadata": {
        "id": "iTatQpqjZBno"
      },
      "outputs": [],
      "source": [
        "# Cargar todas las librerías\n",
        "import pandas as pd\n",
        "import numpy as np\n",
        "import matplotlib.pyplot as plt\n",
        "from matplotlib import style\n",
        "\n",
        "# Carga los datos\n",
        "df = pd.read_csv('')"
      ]
    },
    {
      "cell_type": "markdown",
      "metadata": {
        "id": "wLmtxbPmZBnq"
      },
      "source": [
        "Exploración de datos"
      ]
    },
    {
      "cell_type": "code",
      "execution_count": null,
      "metadata": {
        "id": "dV4bJuQfZBnr",
        "outputId": "3cd5f411-10e9-44a1-f5d3-42486c225e7b"
      },
      "outputs": [
        {
          "name": "stdout",
          "output_type": "stream",
          "text": [
            "(21525, 12)\n"
          ]
        }
      ],
      "source": [
        "# Vamos a ver cuántas filas y columnas tiene nuestro conjunto de datos\n",
        "print(df.shape)"
      ]
    },
    {
      "cell_type": "code",
      "execution_count": null,
      "metadata": {
        "scrolled": true,
        "id": "OxjVwZA2ZBns",
        "outputId": "485dee72-66c1-4883-e00a-972446293135"
      },
      "outputs": [
        {
          "data": {
            "text/html": [
              "<div>\n",
              "<style scoped>\n",
              "    .dataframe tbody tr th:only-of-type {\n",
              "        vertical-align: middle;\n",
              "    }\n",
              "\n",
              "    .dataframe tbody tr th {\n",
              "        vertical-align: top;\n",
              "    }\n",
              "\n",
              "    .dataframe thead th {\n",
              "        text-align: right;\n",
              "    }\n",
              "</style>\n",
              "<table border=\"1\" class=\"dataframe\">\n",
              "  <thead>\n",
              "    <tr style=\"text-align: right;\">\n",
              "      <th></th>\n",
              "      <th>children</th>\n",
              "      <th>days_employed</th>\n",
              "      <th>dob_years</th>\n",
              "      <th>education</th>\n",
              "      <th>education_id</th>\n",
              "      <th>family_status</th>\n",
              "      <th>family_status_id</th>\n",
              "      <th>gender</th>\n",
              "      <th>income_type</th>\n",
              "      <th>debt</th>\n",
              "      <th>total_income</th>\n",
              "      <th>purpose</th>\n",
              "    </tr>\n",
              "  </thead>\n",
              "  <tbody>\n",
              "    <tr>\n",
              "      <th>0</th>\n",
              "      <td>1</td>\n",
              "      <td>-8437.673028</td>\n",
              "      <td>42</td>\n",
              "      <td>bachelor's degree</td>\n",
              "      <td>0</td>\n",
              "      <td>married</td>\n",
              "      <td>0</td>\n",
              "      <td>F</td>\n",
              "      <td>employee</td>\n",
              "      <td>0</td>\n",
              "      <td>40620.102</td>\n",
              "      <td>purchase of the house</td>\n",
              "    </tr>\n",
              "    <tr>\n",
              "      <th>1</th>\n",
              "      <td>1</td>\n",
              "      <td>-4024.803754</td>\n",
              "      <td>36</td>\n",
              "      <td>secondary education</td>\n",
              "      <td>1</td>\n",
              "      <td>married</td>\n",
              "      <td>0</td>\n",
              "      <td>F</td>\n",
              "      <td>employee</td>\n",
              "      <td>0</td>\n",
              "      <td>17932.802</td>\n",
              "      <td>car purchase</td>\n",
              "    </tr>\n",
              "    <tr>\n",
              "      <th>2</th>\n",
              "      <td>0</td>\n",
              "      <td>-5623.422610</td>\n",
              "      <td>33</td>\n",
              "      <td>Secondary Education</td>\n",
              "      <td>1</td>\n",
              "      <td>married</td>\n",
              "      <td>0</td>\n",
              "      <td>M</td>\n",
              "      <td>employee</td>\n",
              "      <td>0</td>\n",
              "      <td>23341.752</td>\n",
              "      <td>purchase of the house</td>\n",
              "    </tr>\n",
              "    <tr>\n",
              "      <th>3</th>\n",
              "      <td>3</td>\n",
              "      <td>-4124.747207</td>\n",
              "      <td>32</td>\n",
              "      <td>secondary education</td>\n",
              "      <td>1</td>\n",
              "      <td>married</td>\n",
              "      <td>0</td>\n",
              "      <td>M</td>\n",
              "      <td>employee</td>\n",
              "      <td>0</td>\n",
              "      <td>42820.568</td>\n",
              "      <td>supplementary education</td>\n",
              "    </tr>\n",
              "    <tr>\n",
              "      <th>4</th>\n",
              "      <td>0</td>\n",
              "      <td>340266.072047</td>\n",
              "      <td>53</td>\n",
              "      <td>secondary education</td>\n",
              "      <td>1</td>\n",
              "      <td>civil partnership</td>\n",
              "      <td>1</td>\n",
              "      <td>F</td>\n",
              "      <td>retiree</td>\n",
              "      <td>0</td>\n",
              "      <td>25378.572</td>\n",
              "      <td>to have a wedding</td>\n",
              "    </tr>\n",
              "    <tr>\n",
              "      <th>5</th>\n",
              "      <td>0</td>\n",
              "      <td>-926.185831</td>\n",
              "      <td>27</td>\n",
              "      <td>bachelor's degree</td>\n",
              "      <td>0</td>\n",
              "      <td>civil partnership</td>\n",
              "      <td>1</td>\n",
              "      <td>M</td>\n",
              "      <td>business</td>\n",
              "      <td>0</td>\n",
              "      <td>40922.170</td>\n",
              "      <td>purchase of the house</td>\n",
              "    </tr>\n",
              "    <tr>\n",
              "      <th>6</th>\n",
              "      <td>0</td>\n",
              "      <td>-2879.202052</td>\n",
              "      <td>43</td>\n",
              "      <td>bachelor's degree</td>\n",
              "      <td>0</td>\n",
              "      <td>married</td>\n",
              "      <td>0</td>\n",
              "      <td>F</td>\n",
              "      <td>business</td>\n",
              "      <td>0</td>\n",
              "      <td>38484.156</td>\n",
              "      <td>housing transactions</td>\n",
              "    </tr>\n",
              "    <tr>\n",
              "      <th>7</th>\n",
              "      <td>0</td>\n",
              "      <td>-152.779569</td>\n",
              "      <td>50</td>\n",
              "      <td>SECONDARY EDUCATION</td>\n",
              "      <td>1</td>\n",
              "      <td>married</td>\n",
              "      <td>0</td>\n",
              "      <td>M</td>\n",
              "      <td>employee</td>\n",
              "      <td>0</td>\n",
              "      <td>21731.829</td>\n",
              "      <td>education</td>\n",
              "    </tr>\n",
              "    <tr>\n",
              "      <th>8</th>\n",
              "      <td>2</td>\n",
              "      <td>-6929.865299</td>\n",
              "      <td>35</td>\n",
              "      <td>BACHELOR'S DEGREE</td>\n",
              "      <td>0</td>\n",
              "      <td>civil partnership</td>\n",
              "      <td>1</td>\n",
              "      <td>F</td>\n",
              "      <td>employee</td>\n",
              "      <td>0</td>\n",
              "      <td>15337.093</td>\n",
              "      <td>having a wedding</td>\n",
              "    </tr>\n",
              "    <tr>\n",
              "      <th>9</th>\n",
              "      <td>0</td>\n",
              "      <td>-2188.756445</td>\n",
              "      <td>41</td>\n",
              "      <td>secondary education</td>\n",
              "      <td>1</td>\n",
              "      <td>married</td>\n",
              "      <td>0</td>\n",
              "      <td>M</td>\n",
              "      <td>employee</td>\n",
              "      <td>0</td>\n",
              "      <td>23108.150</td>\n",
              "      <td>purchase of the house for my family</td>\n",
              "    </tr>\n",
              "  </tbody>\n",
              "</table>\n",
              "</div>"
            ],
            "text/plain": [
              "   children  days_employed  dob_years            education  education_id  \\\n",
              "0         1   -8437.673028         42    bachelor's degree             0   \n",
              "1         1   -4024.803754         36  secondary education             1   \n",
              "2         0   -5623.422610         33  Secondary Education             1   \n",
              "3         3   -4124.747207         32  secondary education             1   \n",
              "4         0  340266.072047         53  secondary education             1   \n",
              "5         0    -926.185831         27    bachelor's degree             0   \n",
              "6         0   -2879.202052         43    bachelor's degree             0   \n",
              "7         0    -152.779569         50  SECONDARY EDUCATION             1   \n",
              "8         2   -6929.865299         35    BACHELOR'S DEGREE             0   \n",
              "9         0   -2188.756445         41  secondary education             1   \n",
              "\n",
              "       family_status  family_status_id gender income_type  debt  total_income  \\\n",
              "0            married                 0      F    employee     0     40620.102   \n",
              "1            married                 0      F    employee     0     17932.802   \n",
              "2            married                 0      M    employee     0     23341.752   \n",
              "3            married                 0      M    employee     0     42820.568   \n",
              "4  civil partnership                 1      F     retiree     0     25378.572   \n",
              "5  civil partnership                 1      M    business     0     40922.170   \n",
              "6            married                 0      F    business     0     38484.156   \n",
              "7            married                 0      M    employee     0     21731.829   \n",
              "8  civil partnership                 1      F    employee     0     15337.093   \n",
              "9            married                 0      M    employee     0     23108.150   \n",
              "\n",
              "                               purpose  \n",
              "0                purchase of the house  \n",
              "1                         car purchase  \n",
              "2                purchase of the house  \n",
              "3              supplementary education  \n",
              "4                    to have a wedding  \n",
              "5                purchase of the house  \n",
              "6                 housing transactions  \n",
              "7                            education  \n",
              "8                     having a wedding  \n",
              "9  purchase of the house for my family  "
            ]
          },
          "execution_count": 32,
          "metadata": {},
          "output_type": "execute_result"
        }
      ],
      "source": [
        "# vamos a mostrar las primeras filas N\n",
        "df.head(10)"
      ]
    },
    {
      "cell_type": "code",
      "execution_count": null,
      "metadata": {
        "scrolled": false,
        "id": "uRM44KORZBnt",
        "outputId": "8e958dc8-9889-4711-c363-e2b2841fd339"
      },
      "outputs": [
        {
          "name": "stdout",
          "output_type": "stream",
          "text": [
            "<class 'pandas.core.frame.DataFrame'>\n",
            "RangeIndex: 21525 entries, 0 to 21524\n",
            "Data columns (total 12 columns):\n",
            " #   Column            Non-Null Count  Dtype  \n",
            "---  ------            --------------  -----  \n",
            " 0   children          21525 non-null  int64  \n",
            " 1   days_employed     19351 non-null  float64\n",
            " 2   dob_years         21525 non-null  int64  \n",
            " 3   education         21525 non-null  object \n",
            " 4   education_id      21525 non-null  int64  \n",
            " 5   family_status     21525 non-null  object \n",
            " 6   family_status_id  21525 non-null  int64  \n",
            " 7   gender            21525 non-null  object \n",
            " 8   income_type       21525 non-null  object \n",
            " 9   debt              21525 non-null  int64  \n",
            " 10  total_income      19351 non-null  float64\n",
            " 11  purpose           21525 non-null  object \n",
            "dtypes: float64(2), int64(5), object(5)\n",
            "memory usage: 2.0+ MB\n"
          ]
        }
      ],
      "source": [
        "# Obtener información sobre los datos\n",
        "df.info()"
      ]
    },
    {
      "cell_type": "code",
      "execution_count": null,
      "metadata": {
        "id": "3EBkTEB7ZBnu",
        "outputId": "f145deb3-a418-4caa-c702-d0f45d08d4f4"
      },
      "outputs": [
        {
          "data": {
            "text/plain": [
              "2174"
            ]
          },
          "execution_count": 34,
          "metadata": {},
          "output_type": "execute_result"
        }
      ],
      "source": [
        "# Veamos la tabla filtrada con valores ausentes de la primera columna donde faltan datos\n",
        "\n",
        "pd.isna(df['days_employed']).sum()"
      ]
    },
    {
      "cell_type": "code",
      "execution_count": null,
      "metadata": {
        "id": "9ZUPhGK8ZBnv",
        "outputId": "cf3661a9-841f-4750-9b6e-54c3d4534f4f"
      },
      "outputs": [
        {
          "data": {
            "text/html": [
              "<div>\n",
              "<style scoped>\n",
              "    .dataframe tbody tr th:only-of-type {\n",
              "        vertical-align: middle;\n",
              "    }\n",
              "\n",
              "    .dataframe tbody tr th {\n",
              "        vertical-align: top;\n",
              "    }\n",
              "\n",
              "    .dataframe thead th {\n",
              "        text-align: right;\n",
              "    }\n",
              "</style>\n",
              "<table border=\"1\" class=\"dataframe\">\n",
              "  <thead>\n",
              "    <tr style=\"text-align: right;\">\n",
              "      <th></th>\n",
              "      <th>children</th>\n",
              "      <th>days_employed</th>\n",
              "      <th>dob_years</th>\n",
              "      <th>education</th>\n",
              "      <th>education_id</th>\n",
              "      <th>family_status</th>\n",
              "      <th>family_status_id</th>\n",
              "      <th>gender</th>\n",
              "      <th>income_type</th>\n",
              "      <th>debt</th>\n",
              "      <th>total_income</th>\n",
              "      <th>purpose</th>\n",
              "    </tr>\n",
              "  </thead>\n",
              "  <tbody>\n",
              "    <tr>\n",
              "      <th>12</th>\n",
              "      <td>0</td>\n",
              "      <td>NaN</td>\n",
              "      <td>65</td>\n",
              "      <td>secondary education</td>\n",
              "      <td>1</td>\n",
              "      <td>civil partnership</td>\n",
              "      <td>1</td>\n",
              "      <td>M</td>\n",
              "      <td>retiree</td>\n",
              "      <td>0</td>\n",
              "      <td>NaN</td>\n",
              "      <td>to have a wedding</td>\n",
              "    </tr>\n",
              "    <tr>\n",
              "      <th>26</th>\n",
              "      <td>0</td>\n",
              "      <td>NaN</td>\n",
              "      <td>41</td>\n",
              "      <td>secondary education</td>\n",
              "      <td>1</td>\n",
              "      <td>married</td>\n",
              "      <td>0</td>\n",
              "      <td>M</td>\n",
              "      <td>civil servant</td>\n",
              "      <td>0</td>\n",
              "      <td>NaN</td>\n",
              "      <td>education</td>\n",
              "    </tr>\n",
              "    <tr>\n",
              "      <th>29</th>\n",
              "      <td>0</td>\n",
              "      <td>NaN</td>\n",
              "      <td>63</td>\n",
              "      <td>secondary education</td>\n",
              "      <td>1</td>\n",
              "      <td>unmarried</td>\n",
              "      <td>4</td>\n",
              "      <td>F</td>\n",
              "      <td>retiree</td>\n",
              "      <td>0</td>\n",
              "      <td>NaN</td>\n",
              "      <td>building a real estate</td>\n",
              "    </tr>\n",
              "    <tr>\n",
              "      <th>41</th>\n",
              "      <td>0</td>\n",
              "      <td>NaN</td>\n",
              "      <td>50</td>\n",
              "      <td>secondary education</td>\n",
              "      <td>1</td>\n",
              "      <td>married</td>\n",
              "      <td>0</td>\n",
              "      <td>F</td>\n",
              "      <td>civil servant</td>\n",
              "      <td>0</td>\n",
              "      <td>NaN</td>\n",
              "      <td>second-hand car purchase</td>\n",
              "    </tr>\n",
              "    <tr>\n",
              "      <th>55</th>\n",
              "      <td>0</td>\n",
              "      <td>NaN</td>\n",
              "      <td>54</td>\n",
              "      <td>secondary education</td>\n",
              "      <td>1</td>\n",
              "      <td>civil partnership</td>\n",
              "      <td>1</td>\n",
              "      <td>F</td>\n",
              "      <td>retiree</td>\n",
              "      <td>1</td>\n",
              "      <td>NaN</td>\n",
              "      <td>to have a wedding</td>\n",
              "    </tr>\n",
              "    <tr>\n",
              "      <th>...</th>\n",
              "      <td>...</td>\n",
              "      <td>...</td>\n",
              "      <td>...</td>\n",
              "      <td>...</td>\n",
              "      <td>...</td>\n",
              "      <td>...</td>\n",
              "      <td>...</td>\n",
              "      <td>...</td>\n",
              "      <td>...</td>\n",
              "      <td>...</td>\n",
              "      <td>...</td>\n",
              "      <td>...</td>\n",
              "    </tr>\n",
              "    <tr>\n",
              "      <th>21489</th>\n",
              "      <td>2</td>\n",
              "      <td>NaN</td>\n",
              "      <td>47</td>\n",
              "      <td>Secondary Education</td>\n",
              "      <td>1</td>\n",
              "      <td>married</td>\n",
              "      <td>0</td>\n",
              "      <td>M</td>\n",
              "      <td>business</td>\n",
              "      <td>0</td>\n",
              "      <td>NaN</td>\n",
              "      <td>purchase of a car</td>\n",
              "    </tr>\n",
              "    <tr>\n",
              "      <th>21495</th>\n",
              "      <td>1</td>\n",
              "      <td>NaN</td>\n",
              "      <td>50</td>\n",
              "      <td>secondary education</td>\n",
              "      <td>1</td>\n",
              "      <td>civil partnership</td>\n",
              "      <td>1</td>\n",
              "      <td>F</td>\n",
              "      <td>employee</td>\n",
              "      <td>0</td>\n",
              "      <td>NaN</td>\n",
              "      <td>wedding ceremony</td>\n",
              "    </tr>\n",
              "    <tr>\n",
              "      <th>21497</th>\n",
              "      <td>0</td>\n",
              "      <td>NaN</td>\n",
              "      <td>48</td>\n",
              "      <td>BACHELOR'S DEGREE</td>\n",
              "      <td>0</td>\n",
              "      <td>married</td>\n",
              "      <td>0</td>\n",
              "      <td>F</td>\n",
              "      <td>business</td>\n",
              "      <td>0</td>\n",
              "      <td>NaN</td>\n",
              "      <td>building a property</td>\n",
              "    </tr>\n",
              "    <tr>\n",
              "      <th>21502</th>\n",
              "      <td>1</td>\n",
              "      <td>NaN</td>\n",
              "      <td>42</td>\n",
              "      <td>secondary education</td>\n",
              "      <td>1</td>\n",
              "      <td>married</td>\n",
              "      <td>0</td>\n",
              "      <td>F</td>\n",
              "      <td>employee</td>\n",
              "      <td>0</td>\n",
              "      <td>NaN</td>\n",
              "      <td>building a real estate</td>\n",
              "    </tr>\n",
              "    <tr>\n",
              "      <th>21510</th>\n",
              "      <td>2</td>\n",
              "      <td>NaN</td>\n",
              "      <td>28</td>\n",
              "      <td>secondary education</td>\n",
              "      <td>1</td>\n",
              "      <td>married</td>\n",
              "      <td>0</td>\n",
              "      <td>F</td>\n",
              "      <td>employee</td>\n",
              "      <td>0</td>\n",
              "      <td>NaN</td>\n",
              "      <td>car purchase</td>\n",
              "    </tr>\n",
              "  </tbody>\n",
              "</table>\n",
              "<p>2174 rows × 12 columns</p>\n",
              "</div>"
            ],
            "text/plain": [
              "       children  days_employed  dob_years            education  education_id  \\\n",
              "12            0            NaN         65  secondary education             1   \n",
              "26            0            NaN         41  secondary education             1   \n",
              "29            0            NaN         63  secondary education             1   \n",
              "41            0            NaN         50  secondary education             1   \n",
              "55            0            NaN         54  secondary education             1   \n",
              "...         ...            ...        ...                  ...           ...   \n",
              "21489         2            NaN         47  Secondary Education             1   \n",
              "21495         1            NaN         50  secondary education             1   \n",
              "21497         0            NaN         48    BACHELOR'S DEGREE             0   \n",
              "21502         1            NaN         42  secondary education             1   \n",
              "21510         2            NaN         28  secondary education             1   \n",
              "\n",
              "           family_status  family_status_id gender    income_type  debt  \\\n",
              "12     civil partnership                 1      M        retiree     0   \n",
              "26               married                 0      M  civil servant     0   \n",
              "29             unmarried                 4      F        retiree     0   \n",
              "41               married                 0      F  civil servant     0   \n",
              "55     civil partnership                 1      F        retiree     1   \n",
              "...                  ...               ...    ...            ...   ...   \n",
              "21489            married                 0      M       business     0   \n",
              "21495  civil partnership                 1      F       employee     0   \n",
              "21497            married                 0      F       business     0   \n",
              "21502            married                 0      F       employee     0   \n",
              "21510            married                 0      F       employee     0   \n",
              "\n",
              "       total_income                   purpose  \n",
              "12              NaN         to have a wedding  \n",
              "26              NaN                 education  \n",
              "29              NaN    building a real estate  \n",
              "41              NaN  second-hand car purchase  \n",
              "55              NaN         to have a wedding  \n",
              "...             ...                       ...  \n",
              "21489           NaN         purchase of a car  \n",
              "21495           NaN          wedding ceremony  \n",
              "21497           NaN       building a property  \n",
              "21502           NaN    building a real estate  \n",
              "21510           NaN              car purchase  \n",
              "\n",
              "[2174 rows x 12 columns]"
            ]
          },
          "execution_count": 35,
          "metadata": {},
          "output_type": "execute_result"
        }
      ],
      "source": [
        "# Apliquemos múltiples condiciones para filtrar datos y veamos el número de filas en la tabla filtrada.\n",
        "\n",
        "df[df['days_employed'].isna()]"
      ]
    },
    {
      "cell_type": "code",
      "execution_count": null,
      "metadata": {
        "id": "1cCNLOKNZBnv",
        "outputId": "1a660bbb-7043-47a1-a1a8-84d2f77d69bf"
      },
      "outputs": [
        {
          "data": {
            "text/html": [
              "<div>\n",
              "<style scoped>\n",
              "    .dataframe tbody tr th:only-of-type {\n",
              "        vertical-align: middle;\n",
              "    }\n",
              "\n",
              "    .dataframe tbody tr th {\n",
              "        vertical-align: top;\n",
              "    }\n",
              "\n",
              "    .dataframe thead th {\n",
              "        text-align: right;\n",
              "    }\n",
              "</style>\n",
              "<table border=\"1\" class=\"dataframe\">\n",
              "  <thead>\n",
              "    <tr style=\"text-align: right;\">\n",
              "      <th></th>\n",
              "      <th>children</th>\n",
              "      <th>days_employed</th>\n",
              "      <th>dob_years</th>\n",
              "      <th>education</th>\n",
              "      <th>education_id</th>\n",
              "      <th>family_status</th>\n",
              "      <th>family_status_id</th>\n",
              "      <th>gender</th>\n",
              "      <th>income_type</th>\n",
              "      <th>debt</th>\n",
              "      <th>total_income</th>\n",
              "      <th>purpose</th>\n",
              "    </tr>\n",
              "  </thead>\n",
              "  <tbody>\n",
              "    <tr>\n",
              "      <th>12</th>\n",
              "      <td>0</td>\n",
              "      <td>NaN</td>\n",
              "      <td>65</td>\n",
              "      <td>secondary education</td>\n",
              "      <td>1</td>\n",
              "      <td>civil partnership</td>\n",
              "      <td>1</td>\n",
              "      <td>M</td>\n",
              "      <td>retiree</td>\n",
              "      <td>0</td>\n",
              "      <td>NaN</td>\n",
              "      <td>to have a wedding</td>\n",
              "    </tr>\n",
              "    <tr>\n",
              "      <th>26</th>\n",
              "      <td>0</td>\n",
              "      <td>NaN</td>\n",
              "      <td>41</td>\n",
              "      <td>secondary education</td>\n",
              "      <td>1</td>\n",
              "      <td>married</td>\n",
              "      <td>0</td>\n",
              "      <td>M</td>\n",
              "      <td>civil servant</td>\n",
              "      <td>0</td>\n",
              "      <td>NaN</td>\n",
              "      <td>education</td>\n",
              "    </tr>\n",
              "    <tr>\n",
              "      <th>29</th>\n",
              "      <td>0</td>\n",
              "      <td>NaN</td>\n",
              "      <td>63</td>\n",
              "      <td>secondary education</td>\n",
              "      <td>1</td>\n",
              "      <td>unmarried</td>\n",
              "      <td>4</td>\n",
              "      <td>F</td>\n",
              "      <td>retiree</td>\n",
              "      <td>0</td>\n",
              "      <td>NaN</td>\n",
              "      <td>building a real estate</td>\n",
              "    </tr>\n",
              "    <tr>\n",
              "      <th>41</th>\n",
              "      <td>0</td>\n",
              "      <td>NaN</td>\n",
              "      <td>50</td>\n",
              "      <td>secondary education</td>\n",
              "      <td>1</td>\n",
              "      <td>married</td>\n",
              "      <td>0</td>\n",
              "      <td>F</td>\n",
              "      <td>civil servant</td>\n",
              "      <td>0</td>\n",
              "      <td>NaN</td>\n",
              "      <td>second-hand car purchase</td>\n",
              "    </tr>\n",
              "    <tr>\n",
              "      <th>55</th>\n",
              "      <td>0</td>\n",
              "      <td>NaN</td>\n",
              "      <td>54</td>\n",
              "      <td>secondary education</td>\n",
              "      <td>1</td>\n",
              "      <td>civil partnership</td>\n",
              "      <td>1</td>\n",
              "      <td>F</td>\n",
              "      <td>retiree</td>\n",
              "      <td>1</td>\n",
              "      <td>NaN</td>\n",
              "      <td>to have a wedding</td>\n",
              "    </tr>\n",
              "    <tr>\n",
              "      <th>...</th>\n",
              "      <td>...</td>\n",
              "      <td>...</td>\n",
              "      <td>...</td>\n",
              "      <td>...</td>\n",
              "      <td>...</td>\n",
              "      <td>...</td>\n",
              "      <td>...</td>\n",
              "      <td>...</td>\n",
              "      <td>...</td>\n",
              "      <td>...</td>\n",
              "      <td>...</td>\n",
              "      <td>...</td>\n",
              "    </tr>\n",
              "    <tr>\n",
              "      <th>21423</th>\n",
              "      <td>0</td>\n",
              "      <td>NaN</td>\n",
              "      <td>63</td>\n",
              "      <td>secondary education</td>\n",
              "      <td>1</td>\n",
              "      <td>married</td>\n",
              "      <td>0</td>\n",
              "      <td>M</td>\n",
              "      <td>retiree</td>\n",
              "      <td>0</td>\n",
              "      <td>NaN</td>\n",
              "      <td>purchase of a car</td>\n",
              "    </tr>\n",
              "    <tr>\n",
              "      <th>21426</th>\n",
              "      <td>0</td>\n",
              "      <td>NaN</td>\n",
              "      <td>49</td>\n",
              "      <td>secondary education</td>\n",
              "      <td>1</td>\n",
              "      <td>married</td>\n",
              "      <td>0</td>\n",
              "      <td>F</td>\n",
              "      <td>employee</td>\n",
              "      <td>1</td>\n",
              "      <td>NaN</td>\n",
              "      <td>property</td>\n",
              "    </tr>\n",
              "    <tr>\n",
              "      <th>21495</th>\n",
              "      <td>1</td>\n",
              "      <td>NaN</td>\n",
              "      <td>50</td>\n",
              "      <td>secondary education</td>\n",
              "      <td>1</td>\n",
              "      <td>civil partnership</td>\n",
              "      <td>1</td>\n",
              "      <td>F</td>\n",
              "      <td>employee</td>\n",
              "      <td>0</td>\n",
              "      <td>NaN</td>\n",
              "      <td>wedding ceremony</td>\n",
              "    </tr>\n",
              "    <tr>\n",
              "      <th>21502</th>\n",
              "      <td>1</td>\n",
              "      <td>NaN</td>\n",
              "      <td>42</td>\n",
              "      <td>secondary education</td>\n",
              "      <td>1</td>\n",
              "      <td>married</td>\n",
              "      <td>0</td>\n",
              "      <td>F</td>\n",
              "      <td>employee</td>\n",
              "      <td>0</td>\n",
              "      <td>NaN</td>\n",
              "      <td>building a real estate</td>\n",
              "    </tr>\n",
              "    <tr>\n",
              "      <th>21510</th>\n",
              "      <td>2</td>\n",
              "      <td>NaN</td>\n",
              "      <td>28</td>\n",
              "      <td>secondary education</td>\n",
              "      <td>1</td>\n",
              "      <td>married</td>\n",
              "      <td>0</td>\n",
              "      <td>F</td>\n",
              "      <td>employee</td>\n",
              "      <td>0</td>\n",
              "      <td>NaN</td>\n",
              "      <td>car purchase</td>\n",
              "    </tr>\n",
              "  </tbody>\n",
              "</table>\n",
              "<p>1408 rows × 12 columns</p>\n",
              "</div>"
            ],
            "text/plain": [
              "       children  days_employed  dob_years            education  education_id  \\\n",
              "12            0            NaN         65  secondary education             1   \n",
              "26            0            NaN         41  secondary education             1   \n",
              "29            0            NaN         63  secondary education             1   \n",
              "41            0            NaN         50  secondary education             1   \n",
              "55            0            NaN         54  secondary education             1   \n",
              "...         ...            ...        ...                  ...           ...   \n",
              "21423         0            NaN         63  secondary education             1   \n",
              "21426         0            NaN         49  secondary education             1   \n",
              "21495         1            NaN         50  secondary education             1   \n",
              "21502         1            NaN         42  secondary education             1   \n",
              "21510         2            NaN         28  secondary education             1   \n",
              "\n",
              "           family_status  family_status_id gender    income_type  debt  \\\n",
              "12     civil partnership                 1      M        retiree     0   \n",
              "26               married                 0      M  civil servant     0   \n",
              "29             unmarried                 4      F        retiree     0   \n",
              "41               married                 0      F  civil servant     0   \n",
              "55     civil partnership                 1      F        retiree     1   \n",
              "...                  ...               ...    ...            ...   ...   \n",
              "21423            married                 0      M        retiree     0   \n",
              "21426            married                 0      F       employee     1   \n",
              "21495  civil partnership                 1      F       employee     0   \n",
              "21502            married                 0      F       employee     0   \n",
              "21510            married                 0      F       employee     0   \n",
              "\n",
              "       total_income                   purpose  \n",
              "12              NaN         to have a wedding  \n",
              "26              NaN                 education  \n",
              "29              NaN    building a real estate  \n",
              "41              NaN  second-hand car purchase  \n",
              "55              NaN         to have a wedding  \n",
              "...             ...                       ...  \n",
              "21423           NaN         purchase of a car  \n",
              "21426           NaN                  property  \n",
              "21495           NaN          wedding ceremony  \n",
              "21502           NaN    building a real estate  \n",
              "21510           NaN              car purchase  \n",
              "\n",
              "[1408 rows x 12 columns]"
            ]
          },
          "execution_count": 36,
          "metadata": {},
          "output_type": "execute_result"
        }
      ],
      "source": [
        "# Vamos a investigar a los clientes que no tienen datos sobre la característica identificada y la columna con los valores ausentes\n",
        "\n",
        "df[(df['education'] == 'secondary education') & df['days_employed'].isna()]"
      ]
    },
    {
      "cell_type": "code",
      "execution_count": null,
      "metadata": {
        "id": "FA7nwxwuZBnw",
        "outputId": "9c6b2de8-f388-471b-8739-d9fd49af3a1c"
      },
      "outputs": [
        {
          "data": {
            "text/html": [
              "<div>\n",
              "<style scoped>\n",
              "    .dataframe tbody tr th:only-of-type {\n",
              "        vertical-align: middle;\n",
              "    }\n",
              "\n",
              "    .dataframe tbody tr th {\n",
              "        vertical-align: top;\n",
              "    }\n",
              "\n",
              "    .dataframe thead th {\n",
              "        text-align: right;\n",
              "    }\n",
              "</style>\n",
              "<table border=\"1\" class=\"dataframe\">\n",
              "  <thead>\n",
              "    <tr style=\"text-align: right;\">\n",
              "      <th></th>\n",
              "      <th>children</th>\n",
              "      <th>days_employed</th>\n",
              "      <th>dob_years</th>\n",
              "      <th>education_id</th>\n",
              "      <th>family_status_id</th>\n",
              "      <th>debt</th>\n",
              "      <th>total_income</th>\n",
              "    </tr>\n",
              "  </thead>\n",
              "  <tbody>\n",
              "    <tr>\n",
              "      <th>count</th>\n",
              "      <td>1408.000000</td>\n",
              "      <td>0.0</td>\n",
              "      <td>1408.000000</td>\n",
              "      <td>1408.0</td>\n",
              "      <td>1408.000000</td>\n",
              "      <td>1408.000000</td>\n",
              "      <td>0.0</td>\n",
              "    </tr>\n",
              "    <tr>\n",
              "      <th>mean</th>\n",
              "      <td>0.536932</td>\n",
              "      <td>NaN</td>\n",
              "      <td>44.544744</td>\n",
              "      <td>1.0</td>\n",
              "      <td>0.911932</td>\n",
              "      <td>0.090909</td>\n",
              "      <td>NaN</td>\n",
              "    </tr>\n",
              "    <tr>\n",
              "      <th>std</th>\n",
              "      <td>1.484839</td>\n",
              "      <td>NaN</td>\n",
              "      <td>12.557846</td>\n",
              "      <td>0.0</td>\n",
              "      <td>1.358089</td>\n",
              "      <td>0.287582</td>\n",
              "      <td>NaN</td>\n",
              "    </tr>\n",
              "    <tr>\n",
              "      <th>min</th>\n",
              "      <td>-1.000000</td>\n",
              "      <td>NaN</td>\n",
              "      <td>0.000000</td>\n",
              "      <td>1.0</td>\n",
              "      <td>0.000000</td>\n",
              "      <td>0.000000</td>\n",
              "      <td>NaN</td>\n",
              "    </tr>\n",
              "    <tr>\n",
              "      <th>25%</th>\n",
              "      <td>0.000000</td>\n",
              "      <td>NaN</td>\n",
              "      <td>35.000000</td>\n",
              "      <td>1.0</td>\n",
              "      <td>0.000000</td>\n",
              "      <td>0.000000</td>\n",
              "      <td>NaN</td>\n",
              "    </tr>\n",
              "    <tr>\n",
              "      <th>50%</th>\n",
              "      <td>0.000000</td>\n",
              "      <td>NaN</td>\n",
              "      <td>44.000000</td>\n",
              "      <td>1.0</td>\n",
              "      <td>0.000000</td>\n",
              "      <td>0.000000</td>\n",
              "      <td>NaN</td>\n",
              "    </tr>\n",
              "    <tr>\n",
              "      <th>75%</th>\n",
              "      <td>1.000000</td>\n",
              "      <td>NaN</td>\n",
              "      <td>55.000000</td>\n",
              "      <td>1.0</td>\n",
              "      <td>1.000000</td>\n",
              "      <td>0.000000</td>\n",
              "      <td>NaN</td>\n",
              "    </tr>\n",
              "    <tr>\n",
              "      <th>max</th>\n",
              "      <td>20.000000</td>\n",
              "      <td>NaN</td>\n",
              "      <td>73.000000</td>\n",
              "      <td>1.0</td>\n",
              "      <td>4.000000</td>\n",
              "      <td>1.000000</td>\n",
              "      <td>NaN</td>\n",
              "    </tr>\n",
              "  </tbody>\n",
              "</table>\n",
              "</div>"
            ],
            "text/plain": [
              "          children  days_employed    dob_years  education_id  \\\n",
              "count  1408.000000            0.0  1408.000000        1408.0   \n",
              "mean      0.536932            NaN    44.544744           1.0   \n",
              "std       1.484839            NaN    12.557846           0.0   \n",
              "min      -1.000000            NaN     0.000000           1.0   \n",
              "25%       0.000000            NaN    35.000000           1.0   \n",
              "50%       0.000000            NaN    44.000000           1.0   \n",
              "75%       1.000000            NaN    55.000000           1.0   \n",
              "max      20.000000            NaN    73.000000           1.0   \n",
              "\n",
              "       family_status_id         debt  total_income  \n",
              "count       1408.000000  1408.000000           0.0  \n",
              "mean           0.911932     0.090909           NaN  \n",
              "std            1.358089     0.287582           NaN  \n",
              "min            0.000000     0.000000           NaN  \n",
              "25%            0.000000     0.000000           NaN  \n",
              "50%            0.000000     0.000000           NaN  \n",
              "75%            1.000000     0.000000           NaN  \n",
              "max            4.000000     1.000000           NaN  "
            ]
          },
          "execution_count": 37,
          "metadata": {},
          "output_type": "execute_result"
        }
      ],
      "source": [
        "# Comprobación de la distribución\n",
        "\n",
        "df[(df['education'] == 'secondary education') & df['days_employed'].isna()].describe()"
      ]
    },
    {
      "cell_type": "code",
      "execution_count": null,
      "metadata": {
        "id": "rJvIimF-ZBnx",
        "outputId": "0725bf59-7b60-4e10-c60e-765c0af14df5"
      },
      "outputs": [
        {
          "data": {
            "text/html": [
              "<div>\n",
              "<style scoped>\n",
              "    .dataframe tbody tr th:only-of-type {\n",
              "        vertical-align: middle;\n",
              "    }\n",
              "\n",
              "    .dataframe tbody tr th {\n",
              "        vertical-align: top;\n",
              "    }\n",
              "\n",
              "    .dataframe thead th {\n",
              "        text-align: right;\n",
              "    }\n",
              "</style>\n",
              "<table border=\"1\" class=\"dataframe\">\n",
              "  <thead>\n",
              "    <tr style=\"text-align: right;\">\n",
              "      <th></th>\n",
              "      <th>children</th>\n",
              "      <th>days_employed</th>\n",
              "      <th>dob_years</th>\n",
              "      <th>education_id</th>\n",
              "      <th>family_status_id</th>\n",
              "      <th>debt</th>\n",
              "      <th>total_income</th>\n",
              "    </tr>\n",
              "  </thead>\n",
              "  <tbody>\n",
              "    <tr>\n",
              "      <th>count</th>\n",
              "      <td>21525.000000</td>\n",
              "      <td>19351.000000</td>\n",
              "      <td>21525.000000</td>\n",
              "      <td>21525.000000</td>\n",
              "      <td>21525.000000</td>\n",
              "      <td>21525.000000</td>\n",
              "      <td>19351.000000</td>\n",
              "    </tr>\n",
              "    <tr>\n",
              "      <th>mean</th>\n",
              "      <td>0.538908</td>\n",
              "      <td>63046.497661</td>\n",
              "      <td>43.293380</td>\n",
              "      <td>0.817236</td>\n",
              "      <td>0.972544</td>\n",
              "      <td>0.080883</td>\n",
              "      <td>26787.568355</td>\n",
              "    </tr>\n",
              "    <tr>\n",
              "      <th>std</th>\n",
              "      <td>1.381587</td>\n",
              "      <td>140827.311974</td>\n",
              "      <td>12.574584</td>\n",
              "      <td>0.548138</td>\n",
              "      <td>1.420324</td>\n",
              "      <td>0.272661</td>\n",
              "      <td>16475.450632</td>\n",
              "    </tr>\n",
              "    <tr>\n",
              "      <th>min</th>\n",
              "      <td>-1.000000</td>\n",
              "      <td>-18388.949901</td>\n",
              "      <td>0.000000</td>\n",
              "      <td>0.000000</td>\n",
              "      <td>0.000000</td>\n",
              "      <td>0.000000</td>\n",
              "      <td>3306.762000</td>\n",
              "    </tr>\n",
              "    <tr>\n",
              "      <th>25%</th>\n",
              "      <td>0.000000</td>\n",
              "      <td>-2747.423625</td>\n",
              "      <td>33.000000</td>\n",
              "      <td>1.000000</td>\n",
              "      <td>0.000000</td>\n",
              "      <td>0.000000</td>\n",
              "      <td>16488.504500</td>\n",
              "    </tr>\n",
              "    <tr>\n",
              "      <th>50%</th>\n",
              "      <td>0.000000</td>\n",
              "      <td>-1203.369529</td>\n",
              "      <td>42.000000</td>\n",
              "      <td>1.000000</td>\n",
              "      <td>0.000000</td>\n",
              "      <td>0.000000</td>\n",
              "      <td>23202.870000</td>\n",
              "    </tr>\n",
              "    <tr>\n",
              "      <th>75%</th>\n",
              "      <td>1.000000</td>\n",
              "      <td>-291.095954</td>\n",
              "      <td>53.000000</td>\n",
              "      <td>1.000000</td>\n",
              "      <td>1.000000</td>\n",
              "      <td>0.000000</td>\n",
              "      <td>32549.611000</td>\n",
              "    </tr>\n",
              "    <tr>\n",
              "      <th>max</th>\n",
              "      <td>20.000000</td>\n",
              "      <td>401755.400475</td>\n",
              "      <td>75.000000</td>\n",
              "      <td>4.000000</td>\n",
              "      <td>4.000000</td>\n",
              "      <td>1.000000</td>\n",
              "      <td>362496.645000</td>\n",
              "    </tr>\n",
              "  </tbody>\n",
              "</table>\n",
              "</div>"
            ],
            "text/plain": [
              "           children  days_employed     dob_years  education_id  \\\n",
              "count  21525.000000   19351.000000  21525.000000  21525.000000   \n",
              "mean       0.538908   63046.497661     43.293380      0.817236   \n",
              "std        1.381587  140827.311974     12.574584      0.548138   \n",
              "min       -1.000000  -18388.949901      0.000000      0.000000   \n",
              "25%        0.000000   -2747.423625     33.000000      1.000000   \n",
              "50%        0.000000   -1203.369529     42.000000      1.000000   \n",
              "75%        1.000000    -291.095954     53.000000      1.000000   \n",
              "max       20.000000  401755.400475     75.000000      4.000000   \n",
              "\n",
              "       family_status_id          debt   total_income  \n",
              "count      21525.000000  21525.000000   19351.000000  \n",
              "mean           0.972544      0.080883   26787.568355  \n",
              "std            1.420324      0.272661   16475.450632  \n",
              "min            0.000000      0.000000    3306.762000  \n",
              "25%            0.000000      0.000000   16488.504500  \n",
              "50%            0.000000      0.000000   23202.870000  \n",
              "75%            1.000000      0.000000   32549.611000  \n",
              "max            4.000000      1.000000  362496.645000  "
            ]
          },
          "execution_count": 38,
          "metadata": {},
          "output_type": "execute_result"
        }
      ],
      "source": [
        "# Comprobando la distribución en el conjunto de datos entero\n",
        "\n",
        "df.describe()"
      ]
    },
    {
      "cell_type": "code",
      "execution_count": null,
      "metadata": {
        "id": "EhGrqVl_ZBny",
        "outputId": "bb78df5d-1be3-49fe-d01a-aa0bef01f375"
      },
      "outputs": [
        {
          "data": {
            "text/html": [
              "<div>\n",
              "<style scoped>\n",
              "    .dataframe tbody tr th:only-of-type {\n",
              "        vertical-align: middle;\n",
              "    }\n",
              "\n",
              "    .dataframe tbody tr th {\n",
              "        vertical-align: top;\n",
              "    }\n",
              "\n",
              "    .dataframe thead th {\n",
              "        text-align: right;\n",
              "    }\n",
              "</style>\n",
              "<table border=\"1\" class=\"dataframe\">\n",
              "  <thead>\n",
              "    <tr style=\"text-align: right;\">\n",
              "      <th></th>\n",
              "      <th>children</th>\n",
              "      <th>days_employed</th>\n",
              "      <th>dob_years</th>\n",
              "      <th>education</th>\n",
              "      <th>education_id</th>\n",
              "      <th>family_status</th>\n",
              "      <th>family_status_id</th>\n",
              "      <th>gender</th>\n",
              "      <th>income_type</th>\n",
              "      <th>debt</th>\n",
              "      <th>total_income</th>\n",
              "      <th>purpose</th>\n",
              "    </tr>\n",
              "  </thead>\n",
              "  <tbody>\n",
              "    <tr>\n",
              "      <th>12</th>\n",
              "      <td>0</td>\n",
              "      <td>NaN</td>\n",
              "      <td>65</td>\n",
              "      <td>secondary education</td>\n",
              "      <td>1</td>\n",
              "      <td>civil partnership</td>\n",
              "      <td>1</td>\n",
              "      <td>M</td>\n",
              "      <td>retiree</td>\n",
              "      <td>0</td>\n",
              "      <td>NaN</td>\n",
              "      <td>to have a wedding</td>\n",
              "    </tr>\n",
              "    <tr>\n",
              "      <th>26</th>\n",
              "      <td>0</td>\n",
              "      <td>NaN</td>\n",
              "      <td>41</td>\n",
              "      <td>secondary education</td>\n",
              "      <td>1</td>\n",
              "      <td>married</td>\n",
              "      <td>0</td>\n",
              "      <td>M</td>\n",
              "      <td>civil servant</td>\n",
              "      <td>0</td>\n",
              "      <td>NaN</td>\n",
              "      <td>education</td>\n",
              "    </tr>\n",
              "    <tr>\n",
              "      <th>29</th>\n",
              "      <td>0</td>\n",
              "      <td>NaN</td>\n",
              "      <td>63</td>\n",
              "      <td>secondary education</td>\n",
              "      <td>1</td>\n",
              "      <td>unmarried</td>\n",
              "      <td>4</td>\n",
              "      <td>F</td>\n",
              "      <td>retiree</td>\n",
              "      <td>0</td>\n",
              "      <td>NaN</td>\n",
              "      <td>building a real estate</td>\n",
              "    </tr>\n",
              "    <tr>\n",
              "      <th>41</th>\n",
              "      <td>0</td>\n",
              "      <td>NaN</td>\n",
              "      <td>50</td>\n",
              "      <td>secondary education</td>\n",
              "      <td>1</td>\n",
              "      <td>married</td>\n",
              "      <td>0</td>\n",
              "      <td>F</td>\n",
              "      <td>civil servant</td>\n",
              "      <td>0</td>\n",
              "      <td>NaN</td>\n",
              "      <td>second-hand car purchase</td>\n",
              "    </tr>\n",
              "    <tr>\n",
              "      <th>55</th>\n",
              "      <td>0</td>\n",
              "      <td>NaN</td>\n",
              "      <td>54</td>\n",
              "      <td>secondary education</td>\n",
              "      <td>1</td>\n",
              "      <td>civil partnership</td>\n",
              "      <td>1</td>\n",
              "      <td>F</td>\n",
              "      <td>retiree</td>\n",
              "      <td>1</td>\n",
              "      <td>NaN</td>\n",
              "      <td>to have a wedding</td>\n",
              "    </tr>\n",
              "    <tr>\n",
              "      <th>...</th>\n",
              "      <td>...</td>\n",
              "      <td>...</td>\n",
              "      <td>...</td>\n",
              "      <td>...</td>\n",
              "      <td>...</td>\n",
              "      <td>...</td>\n",
              "      <td>...</td>\n",
              "      <td>...</td>\n",
              "      <td>...</td>\n",
              "      <td>...</td>\n",
              "      <td>...</td>\n",
              "      <td>...</td>\n",
              "    </tr>\n",
              "    <tr>\n",
              "      <th>21426</th>\n",
              "      <td>0</td>\n",
              "      <td>NaN</td>\n",
              "      <td>49</td>\n",
              "      <td>secondary education</td>\n",
              "      <td>1</td>\n",
              "      <td>married</td>\n",
              "      <td>0</td>\n",
              "      <td>F</td>\n",
              "      <td>employee</td>\n",
              "      <td>1</td>\n",
              "      <td>NaN</td>\n",
              "      <td>property</td>\n",
              "    </tr>\n",
              "    <tr>\n",
              "      <th>21489</th>\n",
              "      <td>2</td>\n",
              "      <td>NaN</td>\n",
              "      <td>47</td>\n",
              "      <td>Secondary Education</td>\n",
              "      <td>1</td>\n",
              "      <td>married</td>\n",
              "      <td>0</td>\n",
              "      <td>M</td>\n",
              "      <td>business</td>\n",
              "      <td>0</td>\n",
              "      <td>NaN</td>\n",
              "      <td>purchase of a car</td>\n",
              "    </tr>\n",
              "    <tr>\n",
              "      <th>21495</th>\n",
              "      <td>1</td>\n",
              "      <td>NaN</td>\n",
              "      <td>50</td>\n",
              "      <td>secondary education</td>\n",
              "      <td>1</td>\n",
              "      <td>civil partnership</td>\n",
              "      <td>1</td>\n",
              "      <td>F</td>\n",
              "      <td>employee</td>\n",
              "      <td>0</td>\n",
              "      <td>NaN</td>\n",
              "      <td>wedding ceremony</td>\n",
              "    </tr>\n",
              "    <tr>\n",
              "      <th>21502</th>\n",
              "      <td>1</td>\n",
              "      <td>NaN</td>\n",
              "      <td>42</td>\n",
              "      <td>secondary education</td>\n",
              "      <td>1</td>\n",
              "      <td>married</td>\n",
              "      <td>0</td>\n",
              "      <td>F</td>\n",
              "      <td>employee</td>\n",
              "      <td>0</td>\n",
              "      <td>NaN</td>\n",
              "      <td>building a real estate</td>\n",
              "    </tr>\n",
              "    <tr>\n",
              "      <th>21510</th>\n",
              "      <td>2</td>\n",
              "      <td>NaN</td>\n",
              "      <td>28</td>\n",
              "      <td>secondary education</td>\n",
              "      <td>1</td>\n",
              "      <td>married</td>\n",
              "      <td>0</td>\n",
              "      <td>F</td>\n",
              "      <td>employee</td>\n",
              "      <td>0</td>\n",
              "      <td>NaN</td>\n",
              "      <td>car purchase</td>\n",
              "    </tr>\n",
              "  </tbody>\n",
              "</table>\n",
              "<p>1540 rows × 12 columns</p>\n",
              "</div>"
            ],
            "text/plain": [
              "       children  days_employed  dob_years            education  education_id  \\\n",
              "12            0            NaN         65  secondary education             1   \n",
              "26            0            NaN         41  secondary education             1   \n",
              "29            0            NaN         63  secondary education             1   \n",
              "41            0            NaN         50  secondary education             1   \n",
              "55            0            NaN         54  secondary education             1   \n",
              "...         ...            ...        ...                  ...           ...   \n",
              "21426         0            NaN         49  secondary education             1   \n",
              "21489         2            NaN         47  Secondary Education             1   \n",
              "21495         1            NaN         50  secondary education             1   \n",
              "21502         1            NaN         42  secondary education             1   \n",
              "21510         2            NaN         28  secondary education             1   \n",
              "\n",
              "           family_status  family_status_id gender    income_type  debt  \\\n",
              "12     civil partnership                 1      M        retiree     0   \n",
              "26               married                 0      M  civil servant     0   \n",
              "29             unmarried                 4      F        retiree     0   \n",
              "41               married                 0      F  civil servant     0   \n",
              "55     civil partnership                 1      F        retiree     1   \n",
              "...                  ...               ...    ...            ...   ...   \n",
              "21426            married                 0      F       employee     1   \n",
              "21489            married                 0      M       business     0   \n",
              "21495  civil partnership                 1      F       employee     0   \n",
              "21502            married                 0      F       employee     0   \n",
              "21510            married                 0      F       employee     0   \n",
              "\n",
              "       total_income                   purpose  \n",
              "12              NaN         to have a wedding  \n",
              "26              NaN                 education  \n",
              "29              NaN    building a real estate  \n",
              "41              NaN  second-hand car purchase  \n",
              "55              NaN         to have a wedding  \n",
              "...             ...                       ...  \n",
              "21426           NaN                  property  \n",
              "21489           NaN         purchase of a car  \n",
              "21495           NaN          wedding ceremony  \n",
              "21502           NaN    building a real estate  \n",
              "21510           NaN              car purchase  \n",
              "\n",
              "[1540 rows x 12 columns]"
            ]
          },
          "execution_count": 39,
          "metadata": {},
          "output_type": "execute_result"
        }
      ],
      "source": [
        "# Comprueba otras razones y patrones que podrían llevar a valores ausentes\n",
        "\n",
        "df[(df['education_id'] == 1) & df['days_employed'].isna()]"
      ]
    },
    {
      "cell_type": "code",
      "execution_count": null,
      "metadata": {
        "scrolled": true,
        "id": "NCoL54V0ZBny",
        "outputId": "9e649a71-799e-4b96-cb4f-46bd01ccb0e5"
      },
      "outputs": [
        {
          "data": {
            "text/html": [
              "<div>\n",
              "<style scoped>\n",
              "    .dataframe tbody tr th:only-of-type {\n",
              "        vertical-align: middle;\n",
              "    }\n",
              "\n",
              "    .dataframe tbody tr th {\n",
              "        vertical-align: top;\n",
              "    }\n",
              "\n",
              "    .dataframe thead th {\n",
              "        text-align: right;\n",
              "    }\n",
              "</style>\n",
              "<table border=\"1\" class=\"dataframe\">\n",
              "  <thead>\n",
              "    <tr style=\"text-align: right;\">\n",
              "      <th></th>\n",
              "      <th>children</th>\n",
              "      <th>days_employed</th>\n",
              "      <th>dob_years</th>\n",
              "      <th>education</th>\n",
              "      <th>education_id</th>\n",
              "      <th>family_status</th>\n",
              "      <th>family_status_id</th>\n",
              "      <th>gender</th>\n",
              "      <th>income_type</th>\n",
              "      <th>debt</th>\n",
              "      <th>total_income</th>\n",
              "      <th>purpose</th>\n",
              "    </tr>\n",
              "  </thead>\n",
              "  <tbody>\n",
              "    <tr>\n",
              "      <th>12</th>\n",
              "      <td>0</td>\n",
              "      <td>NaN</td>\n",
              "      <td>65</td>\n",
              "      <td>secondary education</td>\n",
              "      <td>1</td>\n",
              "      <td>civil partnership</td>\n",
              "      <td>1</td>\n",
              "      <td>M</td>\n",
              "      <td>retiree</td>\n",
              "      <td>0</td>\n",
              "      <td>NaN</td>\n",
              "      <td>to have a wedding</td>\n",
              "    </tr>\n",
              "    <tr>\n",
              "      <th>26</th>\n",
              "      <td>0</td>\n",
              "      <td>NaN</td>\n",
              "      <td>41</td>\n",
              "      <td>secondary education</td>\n",
              "      <td>1</td>\n",
              "      <td>married</td>\n",
              "      <td>0</td>\n",
              "      <td>M</td>\n",
              "      <td>civil servant</td>\n",
              "      <td>0</td>\n",
              "      <td>NaN</td>\n",
              "      <td>education</td>\n",
              "    </tr>\n",
              "    <tr>\n",
              "      <th>29</th>\n",
              "      <td>0</td>\n",
              "      <td>NaN</td>\n",
              "      <td>63</td>\n",
              "      <td>secondary education</td>\n",
              "      <td>1</td>\n",
              "      <td>unmarried</td>\n",
              "      <td>4</td>\n",
              "      <td>F</td>\n",
              "      <td>retiree</td>\n",
              "      <td>0</td>\n",
              "      <td>NaN</td>\n",
              "      <td>building a real estate</td>\n",
              "    </tr>\n",
              "    <tr>\n",
              "      <th>41</th>\n",
              "      <td>0</td>\n",
              "      <td>NaN</td>\n",
              "      <td>50</td>\n",
              "      <td>secondary education</td>\n",
              "      <td>1</td>\n",
              "      <td>married</td>\n",
              "      <td>0</td>\n",
              "      <td>F</td>\n",
              "      <td>civil servant</td>\n",
              "      <td>0</td>\n",
              "      <td>NaN</td>\n",
              "      <td>second-hand car purchase</td>\n",
              "    </tr>\n",
              "    <tr>\n",
              "      <th>55</th>\n",
              "      <td>0</td>\n",
              "      <td>NaN</td>\n",
              "      <td>54</td>\n",
              "      <td>secondary education</td>\n",
              "      <td>1</td>\n",
              "      <td>civil partnership</td>\n",
              "      <td>1</td>\n",
              "      <td>F</td>\n",
              "      <td>retiree</td>\n",
              "      <td>1</td>\n",
              "      <td>NaN</td>\n",
              "      <td>to have a wedding</td>\n",
              "    </tr>\n",
              "    <tr>\n",
              "      <th>...</th>\n",
              "      <td>...</td>\n",
              "      <td>...</td>\n",
              "      <td>...</td>\n",
              "      <td>...</td>\n",
              "      <td>...</td>\n",
              "      <td>...</td>\n",
              "      <td>...</td>\n",
              "      <td>...</td>\n",
              "      <td>...</td>\n",
              "      <td>...</td>\n",
              "      <td>...</td>\n",
              "      <td>...</td>\n",
              "    </tr>\n",
              "    <tr>\n",
              "      <th>21423</th>\n",
              "      <td>0</td>\n",
              "      <td>NaN</td>\n",
              "      <td>63</td>\n",
              "      <td>secondary education</td>\n",
              "      <td>1</td>\n",
              "      <td>married</td>\n",
              "      <td>0</td>\n",
              "      <td>M</td>\n",
              "      <td>retiree</td>\n",
              "      <td>0</td>\n",
              "      <td>NaN</td>\n",
              "      <td>purchase of a car</td>\n",
              "    </tr>\n",
              "    <tr>\n",
              "      <th>21426</th>\n",
              "      <td>0</td>\n",
              "      <td>NaN</td>\n",
              "      <td>49</td>\n",
              "      <td>secondary education</td>\n",
              "      <td>1</td>\n",
              "      <td>married</td>\n",
              "      <td>0</td>\n",
              "      <td>F</td>\n",
              "      <td>employee</td>\n",
              "      <td>1</td>\n",
              "      <td>NaN</td>\n",
              "      <td>property</td>\n",
              "    </tr>\n",
              "    <tr>\n",
              "      <th>21495</th>\n",
              "      <td>1</td>\n",
              "      <td>NaN</td>\n",
              "      <td>50</td>\n",
              "      <td>secondary education</td>\n",
              "      <td>1</td>\n",
              "      <td>civil partnership</td>\n",
              "      <td>1</td>\n",
              "      <td>F</td>\n",
              "      <td>employee</td>\n",
              "      <td>0</td>\n",
              "      <td>NaN</td>\n",
              "      <td>wedding ceremony</td>\n",
              "    </tr>\n",
              "    <tr>\n",
              "      <th>21502</th>\n",
              "      <td>1</td>\n",
              "      <td>NaN</td>\n",
              "      <td>42</td>\n",
              "      <td>secondary education</td>\n",
              "      <td>1</td>\n",
              "      <td>married</td>\n",
              "      <td>0</td>\n",
              "      <td>F</td>\n",
              "      <td>employee</td>\n",
              "      <td>0</td>\n",
              "      <td>NaN</td>\n",
              "      <td>building a real estate</td>\n",
              "    </tr>\n",
              "    <tr>\n",
              "      <th>21510</th>\n",
              "      <td>2</td>\n",
              "      <td>NaN</td>\n",
              "      <td>28</td>\n",
              "      <td>secondary education</td>\n",
              "      <td>1</td>\n",
              "      <td>married</td>\n",
              "      <td>0</td>\n",
              "      <td>F</td>\n",
              "      <td>employee</td>\n",
              "      <td>0</td>\n",
              "      <td>NaN</td>\n",
              "      <td>car purchase</td>\n",
              "    </tr>\n",
              "  </tbody>\n",
              "</table>\n",
              "<p>1408 rows × 12 columns</p>\n",
              "</div>"
            ],
            "text/plain": [
              "       children  days_employed  dob_years            education  education_id  \\\n",
              "12            0            NaN         65  secondary education             1   \n",
              "26            0            NaN         41  secondary education             1   \n",
              "29            0            NaN         63  secondary education             1   \n",
              "41            0            NaN         50  secondary education             1   \n",
              "55            0            NaN         54  secondary education             1   \n",
              "...         ...            ...        ...                  ...           ...   \n",
              "21423         0            NaN         63  secondary education             1   \n",
              "21426         0            NaN         49  secondary education             1   \n",
              "21495         1            NaN         50  secondary education             1   \n",
              "21502         1            NaN         42  secondary education             1   \n",
              "21510         2            NaN         28  secondary education             1   \n",
              "\n",
              "           family_status  family_status_id gender    income_type  debt  \\\n",
              "12     civil partnership                 1      M        retiree     0   \n",
              "26               married                 0      M  civil servant     0   \n",
              "29             unmarried                 4      F        retiree     0   \n",
              "41               married                 0      F  civil servant     0   \n",
              "55     civil partnership                 1      F        retiree     1   \n",
              "...                  ...               ...    ...            ...   ...   \n",
              "21423            married                 0      M        retiree     0   \n",
              "21426            married                 0      F       employee     1   \n",
              "21495  civil partnership                 1      F       employee     0   \n",
              "21502            married                 0      F       employee     0   \n",
              "21510            married                 0      F       employee     0   \n",
              "\n",
              "       total_income                   purpose  \n",
              "12              NaN         to have a wedding  \n",
              "26              NaN                 education  \n",
              "29              NaN    building a real estate  \n",
              "41              NaN  second-hand car purchase  \n",
              "55              NaN         to have a wedding  \n",
              "...             ...                       ...  \n",
              "21423           NaN         purchase of a car  \n",
              "21426           NaN                  property  \n",
              "21495           NaN          wedding ceremony  \n",
              "21502           NaN    building a real estate  \n",
              "21510           NaN              car purchase  \n",
              "\n",
              "[1408 rows x 12 columns]"
            ]
          },
          "execution_count": 40,
          "metadata": {},
          "output_type": "execute_result"
        }
      ],
      "source": [
        "# Comprobación de otros patrones: explica cuáles\n",
        "## En este codigo comprobaré si total_income tiene correlación con las demas variables y sus datos faltantes\n",
        "df[(df['education'] == 'secondary education') & df['total_income'].isna()]"
      ]
    },
    {
      "cell_type": "code",
      "execution_count": null,
      "metadata": {
        "id": "nHrl7670ZBnz",
        "outputId": "b41eb589-e523-4c01-8d69-669d86d8cc3a"
      },
      "outputs": [
        {
          "data": {
            "text/plain": [
              "array([\"bachelor's degree\", 'secondary education', 'Secondary Education',\n",
              "       'SECONDARY EDUCATION', \"BACHELOR'S DEGREE\", 'some college',\n",
              "       'primary education', \"Bachelor's Degree\", 'SOME COLLEGE',\n",
              "       'Some College', 'PRIMARY EDUCATION', 'Primary Education',\n",
              "       'Graduate Degree', 'GRADUATE DEGREE', 'graduate degree'],\n",
              "      dtype=object)"
            ]
          },
          "execution_count": 41,
          "metadata": {},
          "output_type": "execute_result"
        }
      ],
      "source": [
        "# Veamos todos los valores en la columna de educación para verificar si será necesario corregir la ortografía y qué habrá que corregir exactamente\n",
        "df['education'].unique()"
      ]
    },
    {
      "cell_type": "code",
      "execution_count": null,
      "metadata": {
        "scrolled": true,
        "id": "BP6RPR0hZBn0"
      },
      "outputs": [],
      "source": [
        "# Arregla los registros si es necesario\n",
        "df['education'] = df['education'].str.lower()"
      ]
    },
    {
      "cell_type": "code",
      "execution_count": null,
      "metadata": {
        "id": "FT1POytpZBn0",
        "outputId": "65aa4776-cd50-4ac5-d585-e88b9a062743"
      },
      "outputs": [
        {
          "data": {
            "text/plain": [
              "array([\"bachelor's degree\", 'secondary education', 'some college',\n",
              "       'primary education', 'graduate degree'], dtype=object)"
            ]
          },
          "execution_count": 43,
          "metadata": {},
          "output_type": "execute_result"
        }
      ],
      "source": [
        "# Comprobar todos los valores en la columna para asegurarnos de que los hayamos corregido\n",
        "df['education'].unique()"
      ]
    },
    {
      "cell_type": "code",
      "execution_count": null,
      "metadata": {
        "id": "jYyPNTwMZBn1",
        "outputId": "3ff27f60-63a9-4cf6-e89a-774ad12d8e9b"
      },
      "outputs": [
        {
          "data": {
            "text/plain": [
              "count    21525.000000\n",
              "mean         0.538908\n",
              "std          1.381587\n",
              "min         -1.000000\n",
              "25%          0.000000\n",
              "50%          0.000000\n",
              "75%          1.000000\n",
              "max         20.000000\n",
              "Name: children, dtype: float64"
            ]
          },
          "execution_count": 44,
          "metadata": {},
          "output_type": "execute_result"
        }
      ],
      "source": [
        "# Veamos la distribución de los valores en la columna `children`\n",
        "df['children'].describe()"
      ]
    },
    {
      "cell_type": "code",
      "execution_count": null,
      "metadata": {
        "id": "gqZH5hKVZBn8"
      },
      "outputs": [],
      "source": [
        "# [arregla los datos según tu decisión]\n",
        "df['children'] = df['children'].replace(20, 2)\n",
        "df['children'] = df['children'].replace(-1, 1)"
      ]
    },
    {
      "cell_type": "code",
      "execution_count": null,
      "metadata": {
        "id": "-DxxevgQZBn8",
        "outputId": "23ad319a-ced6-4a9d-c967-3b9032b82309"
      },
      "outputs": [
        {
          "data": {
            "text/plain": [
              "count    21525.000000\n",
              "mean         0.479721\n",
              "std          0.755528\n",
              "min          0.000000\n",
              "25%          0.000000\n",
              "50%          0.000000\n",
              "75%          1.000000\n",
              "max          5.000000\n",
              "Name: children, dtype: float64"
            ]
          },
          "execution_count": 46,
          "metadata": {},
          "output_type": "execute_result"
        }
      ],
      "source": [
        "# Comprobar la columna `children` de nuevo para asegurarnos de que todo está arreglado\n",
        "\n",
        "df['children'].describe()"
      ]
    },
    {
      "cell_type": "code",
      "execution_count": null,
      "metadata": {
        "id": "GHwCLB6BZBn9",
        "outputId": "687f1b2e-0ef7-4c37-806c-15116856af8c"
      },
      "outputs": [
        {
          "data": {
            "text/plain": [
              "count     19351.000000\n",
              "mean      63046.497661\n",
              "std      140827.311974\n",
              "min      -18388.949901\n",
              "25%       -2747.423625\n",
              "50%       -1203.369529\n",
              "75%        -291.095954\n",
              "max      401755.400475\n",
              "Name: days_employed, dtype: float64"
            ]
          },
          "execution_count": 47,
          "metadata": {},
          "output_type": "execute_result"
        }
      ],
      "source": [
        "# Encuentra datos problemáticos en `days_employed`, si existen, y calcula el porcentaje\n",
        "## El 15% de los datos son problemáticos\n",
        "df['days_employed'].describe()"
      ]
    },
    {
      "cell_type": "code",
      "execution_count": null,
      "metadata": {
        "id": "PzMjKlmhZBn-"
      },
      "outputs": [],
      "source": [
        "# Aborda los valores problemáticos, si existen.\n",
        "df['days_employed'] = df['days_employed'].abs()\n",
        "valor_parche = 14600\n",
        "df.loc[df['days_employed'] > 18250, 'days_employed' ] = valor_parche"
      ]
    },
    {
      "cell_type": "code",
      "execution_count": null,
      "metadata": {
        "id": "1Iw2MXBSZBoB",
        "outputId": "716f417a-5c71-444a-e56c-31648a38a588"
      },
      "outputs": [
        {
          "name": "stdout",
          "output_type": "stream",
          "text": [
            "0         8437.673028\n",
            "1         4024.803754\n",
            "2         5623.422610\n",
            "3         4124.747207\n",
            "4        14600.000000\n",
            "             ...     \n",
            "21520     4529.316663\n",
            "21521    14600.000000\n",
            "21522     2113.346888\n",
            "21523     3112.481705\n",
            "21524     1984.507589\n",
            "Name: days_employed, Length: 21525, dtype: float64\n"
          ]
        }
      ],
      "source": [
        "# Comprueba el resultado - asegúrate de que esté arreglado\n",
        "print(df['days_employed'])"
      ]
    },
    {
      "cell_type": "code",
      "execution_count": null,
      "metadata": {
        "scrolled": true,
        "id": "YWnV-TTFZBoD",
        "outputId": "981b96e7-e716-4734-fdf4-633c1eb2e7e8"
      },
      "outputs": [
        {
          "data": {
            "text/html": [
              "<div>\n",
              "<style scoped>\n",
              "    .dataframe tbody tr th:only-of-type {\n",
              "        vertical-align: middle;\n",
              "    }\n",
              "\n",
              "    .dataframe tbody tr th {\n",
              "        vertical-align: top;\n",
              "    }\n",
              "\n",
              "    .dataframe thead th {\n",
              "        text-align: right;\n",
              "    }\n",
              "</style>\n",
              "<table border=\"1\" class=\"dataframe\">\n",
              "  <thead>\n",
              "    <tr style=\"text-align: right;\">\n",
              "      <th></th>\n",
              "      <th>children</th>\n",
              "      <th>days_employed</th>\n",
              "      <th>dob_years</th>\n",
              "      <th>education</th>\n",
              "      <th>education_id</th>\n",
              "      <th>family_status</th>\n",
              "      <th>family_status_id</th>\n",
              "      <th>gender</th>\n",
              "      <th>income_type</th>\n",
              "      <th>debt</th>\n",
              "      <th>total_income</th>\n",
              "      <th>purpose</th>\n",
              "    </tr>\n",
              "  </thead>\n",
              "  <tbody>\n",
              "    <tr>\n",
              "      <th>99</th>\n",
              "      <td>0</td>\n",
              "      <td>14600.000000</td>\n",
              "      <td>0</td>\n",
              "      <td>secondary education</td>\n",
              "      <td>1</td>\n",
              "      <td>married</td>\n",
              "      <td>0</td>\n",
              "      <td>F</td>\n",
              "      <td>retiree</td>\n",
              "      <td>0</td>\n",
              "      <td>11406.644</td>\n",
              "      <td>car</td>\n",
              "    </tr>\n",
              "    <tr>\n",
              "      <th>149</th>\n",
              "      <td>0</td>\n",
              "      <td>2664.273168</td>\n",
              "      <td>0</td>\n",
              "      <td>secondary education</td>\n",
              "      <td>1</td>\n",
              "      <td>divorced</td>\n",
              "      <td>3</td>\n",
              "      <td>F</td>\n",
              "      <td>employee</td>\n",
              "      <td>0</td>\n",
              "      <td>11228.230</td>\n",
              "      <td>housing transactions</td>\n",
              "    </tr>\n",
              "    <tr>\n",
              "      <th>270</th>\n",
              "      <td>3</td>\n",
              "      <td>1872.663186</td>\n",
              "      <td>0</td>\n",
              "      <td>secondary education</td>\n",
              "      <td>1</td>\n",
              "      <td>married</td>\n",
              "      <td>0</td>\n",
              "      <td>F</td>\n",
              "      <td>employee</td>\n",
              "      <td>0</td>\n",
              "      <td>16346.633</td>\n",
              "      <td>housing renovation</td>\n",
              "    </tr>\n",
              "    <tr>\n",
              "      <th>578</th>\n",
              "      <td>0</td>\n",
              "      <td>14600.000000</td>\n",
              "      <td>0</td>\n",
              "      <td>secondary education</td>\n",
              "      <td>1</td>\n",
              "      <td>married</td>\n",
              "      <td>0</td>\n",
              "      <td>F</td>\n",
              "      <td>retiree</td>\n",
              "      <td>0</td>\n",
              "      <td>15619.310</td>\n",
              "      <td>construction of own property</td>\n",
              "    </tr>\n",
              "    <tr>\n",
              "      <th>1040</th>\n",
              "      <td>0</td>\n",
              "      <td>1158.029561</td>\n",
              "      <td>0</td>\n",
              "      <td>bachelor's degree</td>\n",
              "      <td>0</td>\n",
              "      <td>divorced</td>\n",
              "      <td>3</td>\n",
              "      <td>F</td>\n",
              "      <td>business</td>\n",
              "      <td>0</td>\n",
              "      <td>48639.062</td>\n",
              "      <td>to own a car</td>\n",
              "    </tr>\n",
              "    <tr>\n",
              "      <th>...</th>\n",
              "      <td>...</td>\n",
              "      <td>...</td>\n",
              "      <td>...</td>\n",
              "      <td>...</td>\n",
              "      <td>...</td>\n",
              "      <td>...</td>\n",
              "      <td>...</td>\n",
              "      <td>...</td>\n",
              "      <td>...</td>\n",
              "      <td>...</td>\n",
              "      <td>...</td>\n",
              "      <td>...</td>\n",
              "    </tr>\n",
              "    <tr>\n",
              "      <th>19829</th>\n",
              "      <td>0</td>\n",
              "      <td>NaN</td>\n",
              "      <td>0</td>\n",
              "      <td>secondary education</td>\n",
              "      <td>1</td>\n",
              "      <td>married</td>\n",
              "      <td>0</td>\n",
              "      <td>F</td>\n",
              "      <td>employee</td>\n",
              "      <td>0</td>\n",
              "      <td>NaN</td>\n",
              "      <td>housing</td>\n",
              "    </tr>\n",
              "    <tr>\n",
              "      <th>20462</th>\n",
              "      <td>0</td>\n",
              "      <td>14600.000000</td>\n",
              "      <td>0</td>\n",
              "      <td>secondary education</td>\n",
              "      <td>1</td>\n",
              "      <td>married</td>\n",
              "      <td>0</td>\n",
              "      <td>F</td>\n",
              "      <td>retiree</td>\n",
              "      <td>0</td>\n",
              "      <td>41471.027</td>\n",
              "      <td>purchase of my own house</td>\n",
              "    </tr>\n",
              "    <tr>\n",
              "      <th>20577</th>\n",
              "      <td>0</td>\n",
              "      <td>14600.000000</td>\n",
              "      <td>0</td>\n",
              "      <td>secondary education</td>\n",
              "      <td>1</td>\n",
              "      <td>unmarried</td>\n",
              "      <td>4</td>\n",
              "      <td>F</td>\n",
              "      <td>retiree</td>\n",
              "      <td>0</td>\n",
              "      <td>20766.202</td>\n",
              "      <td>property</td>\n",
              "    </tr>\n",
              "    <tr>\n",
              "      <th>21179</th>\n",
              "      <td>2</td>\n",
              "      <td>108.967042</td>\n",
              "      <td>0</td>\n",
              "      <td>bachelor's degree</td>\n",
              "      <td>0</td>\n",
              "      <td>married</td>\n",
              "      <td>0</td>\n",
              "      <td>M</td>\n",
              "      <td>business</td>\n",
              "      <td>0</td>\n",
              "      <td>38512.321</td>\n",
              "      <td>building a real estate</td>\n",
              "    </tr>\n",
              "    <tr>\n",
              "      <th>21313</th>\n",
              "      <td>0</td>\n",
              "      <td>1268.487728</td>\n",
              "      <td>0</td>\n",
              "      <td>secondary education</td>\n",
              "      <td>1</td>\n",
              "      <td>unmarried</td>\n",
              "      <td>4</td>\n",
              "      <td>M</td>\n",
              "      <td>employee</td>\n",
              "      <td>0</td>\n",
              "      <td>24387.070</td>\n",
              "      <td>housing transactions</td>\n",
              "    </tr>\n",
              "  </tbody>\n",
              "</table>\n",
              "<p>101 rows × 12 columns</p>\n",
              "</div>"
            ],
            "text/plain": [
              "       children  days_employed  dob_years            education  education_id  \\\n",
              "99            0   14600.000000          0  secondary education             1   \n",
              "149           0    2664.273168          0  secondary education             1   \n",
              "270           3    1872.663186          0  secondary education             1   \n",
              "578           0   14600.000000          0  secondary education             1   \n",
              "1040          0    1158.029561          0    bachelor's degree             0   \n",
              "...         ...            ...        ...                  ...           ...   \n",
              "19829         0            NaN          0  secondary education             1   \n",
              "20462         0   14600.000000          0  secondary education             1   \n",
              "20577         0   14600.000000          0  secondary education             1   \n",
              "21179         2     108.967042          0    bachelor's degree             0   \n",
              "21313         0    1268.487728          0  secondary education             1   \n",
              "\n",
              "      family_status  family_status_id gender income_type  debt  total_income  \\\n",
              "99          married                 0      F     retiree     0     11406.644   \n",
              "149        divorced                 3      F    employee     0     11228.230   \n",
              "270         married                 0      F    employee     0     16346.633   \n",
              "578         married                 0      F     retiree     0     15619.310   \n",
              "1040       divorced                 3      F    business     0     48639.062   \n",
              "...             ...               ...    ...         ...   ...           ...   \n",
              "19829       married                 0      F    employee     0           NaN   \n",
              "20462       married                 0      F     retiree     0     41471.027   \n",
              "20577     unmarried                 4      F     retiree     0     20766.202   \n",
              "21179       married                 0      M    business     0     38512.321   \n",
              "21313     unmarried                 4      M    employee     0     24387.070   \n",
              "\n",
              "                            purpose  \n",
              "99                              car  \n",
              "149            housing transactions  \n",
              "270              housing renovation  \n",
              "578    construction of own property  \n",
              "1040                   to own a car  \n",
              "...                             ...  \n",
              "19829                       housing  \n",
              "20462      purchase of my own house  \n",
              "20577                      property  \n",
              "21179        building a real estate  \n",
              "21313          housing transactions  \n",
              "\n",
              "[101 rows x 12 columns]"
            ]
          },
          "execution_count": 50,
          "metadata": {},
          "output_type": "execute_result"
        }
      ],
      "source": [
        "# Revisa `dob_years` en busca de valores sospechosos y cuenta el porcentaje\n",
        "## Su porcentaje representa el 0.4%\n",
        "df[df['dob_years'] == 0]"
      ]
    },
    {
      "cell_type": "code",
      "execution_count": null,
      "metadata": {
        "id": "SY_cnL_HZBoG",
        "outputId": "e156183d-880c-424e-c535-7509ca94cbb6"
      },
      "outputs": [
        {
          "data": {
            "text/plain": [
              "43.0"
            ]
          },
          "execution_count": 51,
          "metadata": {},
          "output_type": "execute_result"
        }
      ],
      "source": [
        "df.loc[df['dob_years']!= 0, 'dob_years'].median()"
      ]
    },
    {
      "cell_type": "code",
      "execution_count": null,
      "metadata": {
        "id": "37FcM9jFZBoH"
      },
      "outputs": [],
      "source": [
        "# Resuelve los problemas en la columna `dob_years`, si existen\n",
        "df['dob_years'] = df['dob_years'].replace(0, 43)"
      ]
    },
    {
      "cell_type": "code",
      "execution_count": null,
      "metadata": {
        "id": "pq7g2cpPZBoI",
        "outputId": "fab7f8bf-ed18-48f7-d0a6-4b2a9a029e22"
      },
      "outputs": [
        {
          "data": {
            "text/html": [
              "<div>\n",
              "<style scoped>\n",
              "    .dataframe tbody tr th:only-of-type {\n",
              "        vertical-align: middle;\n",
              "    }\n",
              "\n",
              "    .dataframe tbody tr th {\n",
              "        vertical-align: top;\n",
              "    }\n",
              "\n",
              "    .dataframe thead th {\n",
              "        text-align: right;\n",
              "    }\n",
              "</style>\n",
              "<table border=\"1\" class=\"dataframe\">\n",
              "  <thead>\n",
              "    <tr style=\"text-align: right;\">\n",
              "      <th></th>\n",
              "      <th>children</th>\n",
              "      <th>days_employed</th>\n",
              "      <th>dob_years</th>\n",
              "      <th>education</th>\n",
              "      <th>education_id</th>\n",
              "      <th>family_status</th>\n",
              "      <th>family_status_id</th>\n",
              "      <th>gender</th>\n",
              "      <th>income_type</th>\n",
              "      <th>debt</th>\n",
              "      <th>total_income</th>\n",
              "      <th>purpose</th>\n",
              "    </tr>\n",
              "  </thead>\n",
              "  <tbody>\n",
              "  </tbody>\n",
              "</table>\n",
              "</div>"
            ],
            "text/plain": [
              "Empty DataFrame\n",
              "Columns: [children, days_employed, dob_years, education, education_id, family_status, family_status_id, gender, income_type, debt, total_income, purpose]\n",
              "Index: []"
            ]
          },
          "execution_count": 53,
          "metadata": {},
          "output_type": "execute_result"
        }
      ],
      "source": [
        "# Comprueba el resultado - asegúrate de que esté arreglado\n",
        "df[df['dob_years'] == 0]"
      ]
    },
    {
      "cell_type": "code",
      "execution_count": null,
      "metadata": {
        "id": "pFZ5gp_VZBoJ",
        "outputId": "8cb3e025-31c2-40d3-b5ce-5ed00168d17b"
      },
      "outputs": [
        {
          "name": "stdout",
          "output_type": "stream",
          "text": [
            "['married' 'civil partnership' 'widow / widower' 'divorced' 'unmarried']\n",
            "******************************\n",
            "family_status\n",
            "civil partnership     4177\n",
            "divorced              1195\n",
            "married              12380\n",
            "unmarried             2813\n",
            "widow / widower        960\n",
            "Name: dob_years, dtype: int64\n",
            "******************************\n"
          ]
        }
      ],
      "source": [
        "# Veamos los valores de la columna\n",
        "print(df['family_status'].unique())\n",
        "print('*'*30)\n",
        "\n",
        "print(df.groupby('family_status')['dob_years'].count())\n",
        "print('*'*30)\n"
      ]
    },
    {
      "cell_type": "code",
      "execution_count": null,
      "metadata": {
        "id": "Kvh9XoWBZBoJ"
      },
      "outputs": [],
      "source": [
        "# Aborda los valores problemáticos en `family_status`, si existen\n",
        "\n",
        "## No hay"
      ]
    },
    {
      "cell_type": "code",
      "execution_count": null,
      "metadata": {
        "id": "1kG6x6k-ZBoK"
      },
      "outputs": [],
      "source": [
        "# Comprueba el resultado - asegúrate de que esté arreglado\n",
        "## No hay"
      ]
    },
    {
      "cell_type": "code",
      "execution_count": null,
      "metadata": {
        "id": "vGPbUphdZBoK",
        "outputId": "b7828cc6-d64e-4c06-b9f9-4e0e8912781b"
      },
      "outputs": [
        {
          "name": "stdout",
          "output_type": "stream",
          "text": [
            "['F' 'M' 'XNA']\n",
            "******************************\n",
            "gender\n",
            "F      14236\n",
            "M       7288\n",
            "XNA        1\n",
            "Name: dob_years, dtype: int64\n",
            "******************************\n"
          ]
        }
      ],
      "source": [
        "# Veamos los valores en la columna\n",
        "print(df['gender'].unique())\n",
        "print('*'*30)\n",
        "\n",
        "print(df.groupby('gender')['dob_years'].count())\n",
        "print('*'*30)\n"
      ]
    },
    {
      "cell_type": "code",
      "execution_count": null,
      "metadata": {
        "id": "WVrfk5dWZBoL"
      },
      "outputs": [],
      "source": [
        "# Aborda los valores problemáticos, si existen\n",
        "df['gender'] = df['gender'].replace('XNA', 'F')"
      ]
    },
    {
      "cell_type": "code",
      "execution_count": null,
      "metadata": {
        "id": "Tm3YW5T5ZBoL",
        "outputId": "20a055f0-2363-4712-9421-d714c55d6aa3"
      },
      "outputs": [
        {
          "name": "stdout",
          "output_type": "stream",
          "text": [
            "['F' 'M']\n",
            "******************************\n",
            "gender\n",
            "F    14237\n",
            "M     7288\n",
            "Name: dob_years, dtype: int64\n",
            "******************************\n"
          ]
        }
      ],
      "source": [
        "# Comprueba el resultado - asegúrate de que esté arreglado\n",
        "\n",
        "print(df['gender'].unique())\n",
        "print('*'*30)\n",
        "\n",
        "print(df.groupby('gender')['dob_years'].count())\n",
        "print('*'*30)\n"
      ]
    },
    {
      "cell_type": "code",
      "execution_count": null,
      "metadata": {
        "id": "vq_UJ1WaZBoM",
        "outputId": "79d8e5a9-8a48-416c-ea3c-a64c73fa314c"
      },
      "outputs": [
        {
          "name": "stdout",
          "output_type": "stream",
          "text": [
            "['employee' 'retiree' 'business' 'civil servant' 'unemployed'\n",
            " 'entrepreneur' 'student' 'paternity / maternity leave']\n",
            "******************************\n",
            "income_type\n",
            "business                        5085\n",
            "civil servant                   1459\n",
            "employee                       11119\n",
            "entrepreneur                       2\n",
            "paternity / maternity leave        1\n",
            "retiree                         3856\n",
            "student                            1\n",
            "unemployed                         2\n",
            "Name: dob_years, dtype: int64\n",
            "******************************\n"
          ]
        }
      ],
      "source": [
        "# Veamos los valores en la columna\n",
        "print(df['income_type'].unique())\n",
        "print('*'*30)\n",
        "\n",
        "print(df.groupby('income_type')['dob_years'].count())\n",
        "print('*'*30)\n"
      ]
    },
    {
      "cell_type": "code",
      "execution_count": null,
      "metadata": {
        "id": "08USlPUpZBoN"
      },
      "outputs": [],
      "source": [
        "# Aborda los valores problemáticos, si existen\n",
        "## No hay"
      ]
    },
    {
      "cell_type": "code",
      "execution_count": null,
      "metadata": {
        "id": "tHpk5_OwZBoN",
        "outputId": "f887fd2a-d61d-4992-8127-4fc2efb16a22"
      },
      "outputs": [
        {
          "name": "stdout",
          "output_type": "stream",
          "text": [
            "['employee' 'retiree' 'business' 'civil servant' 'unemployed'\n",
            " 'entrepreneur' 'student' 'paternity / maternity leave']\n",
            "******************************\n",
            "income_type\n",
            "business                        5085\n",
            "civil servant                   1459\n",
            "employee                       11119\n",
            "entrepreneur                       2\n",
            "paternity / maternity leave        1\n",
            "retiree                         3856\n",
            "student                            1\n",
            "unemployed                         2\n",
            "Name: dob_years, dtype: int64\n",
            "******************************\n"
          ]
        }
      ],
      "source": [
        "# Comprueba el resultado - asegúrate de que esté arreglado\n",
        "\n",
        "print(df['income_type'].unique())\n",
        "print('*'*30)\n",
        "\n",
        "print(df.groupby('income_type')['dob_years'].count())\n",
        "print('*'*30)\n"
      ]
    },
    {
      "cell_type": "code",
      "execution_count": null,
      "metadata": {
        "id": "c0o9U_hrZBoO",
        "outputId": "43d5eb2e-c7c6-42b7-8af9-6368abf1efab"
      },
      "outputs": [
        {
          "data": {
            "text/plain": [
              "71"
            ]
          },
          "execution_count": 63,
          "metadata": {},
          "output_type": "execute_result"
        }
      ],
      "source": [
        "# Comprobar los duplicados\n",
        "\n",
        "df.duplicated().sum()"
      ]
    },
    {
      "cell_type": "code",
      "execution_count": null,
      "metadata": {
        "id": "DwQ-xedtZBoO"
      },
      "outputs": [],
      "source": [
        "# Aborda los duplicados, si existen\n",
        "df = df.drop_duplicates().reset_index(drop\n",
        "= True)\n"
      ]
    },
    {
      "cell_type": "code",
      "execution_count": null,
      "metadata": {
        "id": "csKSYL7rZBoP",
        "outputId": "db286a59-9281-4b24-c7ec-8582de917e15"
      },
      "outputs": [
        {
          "data": {
            "text/plain": [
              "0"
            ]
          },
          "execution_count": 65,
          "metadata": {},
          "output_type": "execute_result"
        }
      ],
      "source": [
        "# Última comprobación para ver si tenemos duplicados\n",
        "df.duplicated().sum()"
      ]
    },
    {
      "cell_type": "code",
      "execution_count": null,
      "metadata": {
        "id": "tGBALVLmZBoP",
        "outputId": "2ca6ce4e-8d87-4670-cb06-5ac0eed6de42"
      },
      "outputs": [
        {
          "name": "stdout",
          "output_type": "stream",
          "text": [
            "<class 'pandas.core.frame.DataFrame'>\n",
            "RangeIndex: 21454 entries, 0 to 21453\n",
            "Data columns (total 12 columns):\n",
            " #   Column            Non-Null Count  Dtype  \n",
            "---  ------            --------------  -----  \n",
            " 0   children          21454 non-null  int64  \n",
            " 1   days_employed     19351 non-null  float64\n",
            " 2   dob_years         21454 non-null  int64  \n",
            " 3   education         21454 non-null  object \n",
            " 4   education_id      21454 non-null  int64  \n",
            " 5   family_status     21454 non-null  object \n",
            " 6   family_status_id  21454 non-null  int64  \n",
            " 7   gender            21454 non-null  object \n",
            " 8   income_type       21454 non-null  object \n",
            " 9   debt              21454 non-null  int64  \n",
            " 10  total_income      19351 non-null  float64\n",
            " 11  purpose           21454 non-null  object \n",
            "dtypes: float64(2), int64(5), object(5)\n",
            "memory usage: 2.0+ MB\n"
          ]
        }
      ],
      "source": [
        "# Comprueba el tamaño del conjunto de datos que tienes ahora, después de haber ejecutado estas primeras manipulaciones\n",
        "df.info()"
      ]
    },
    {
      "cell_type": "markdown",
      "metadata": {
        "id": "vCI09YwuZBoQ"
      },
      "source": [
        "# Trabajar con valores ausentes"
      ]
    },
    {
      "cell_type": "code",
      "execution_count": null,
      "metadata": {
        "id": "fU70bMt9ZBoQ",
        "outputId": "9fcaffba-5cd5-46aa-ddfc-77ede3894570"
      },
      "outputs": [
        {
          "data": {
            "text/plain": [
              "family_status_id  family_status    \n",
              "0                 married              12339\n",
              "1                 civil partnership     4151\n",
              "2                 widow / widower        959\n",
              "3                 divorced              1195\n",
              "4                 unmarried             2810\n",
              "Name: family_status_id, dtype: int64"
            ]
          },
          "execution_count": 67,
          "metadata": {},
          "output_type": "execute_result"
        }
      ],
      "source": [
        "# Encuentra los diccionarios\n",
        "df.groupby(['family_status_id', 'family_status'])['family_status_id'].count()"
      ]
    },
    {
      "cell_type": "code",
      "execution_count": null,
      "metadata": {
        "id": "Uut2nWF0ZBoR"
      },
      "outputs": [],
      "source": [
        "# Vamos a escribir una función que calcule la categoría de edad\n",
        "def cat_edad(x):\n",
        "    if x <=28:\n",
        "        return 'Adulto joven'\n",
        "    if x <= 64:\n",
        "        return 'Adulto mayor'\n",
        "    else:\n",
        "        return 'Retirado'"
      ]
    },
    {
      "cell_type": "code",
      "execution_count": null,
      "metadata": {
        "id": "AfiboNvbZBoS",
        "outputId": "939ae954-b178-4003-c34b-542d0aea329d"
      },
      "outputs": [
        {
          "data": {
            "text/plain": [
              "'Adulto mayor'"
            ]
          },
          "execution_count": 69,
          "metadata": {},
          "output_type": "execute_result"
        }
      ],
      "source": [
        "# Prueba si la función funciona bien\n",
        "cat_edad(50)"
      ]
    },
    {
      "cell_type": "code",
      "execution_count": null,
      "metadata": {
        "id": "I1eTUHYIZBoS"
      },
      "outputs": [],
      "source": [
        "# Crear una nueva columna basada en la función\n",
        "df['cat_edades'] = df['dob_years'].apply(cat_edad)"
      ]
    },
    {
      "cell_type": "code",
      "execution_count": null,
      "metadata": {
        "id": "3SDhRDbWZBoT",
        "outputId": "2cad6814-8578-4ebe-e795-7bdbb2d6d3a8"
      },
      "outputs": [
        {
          "data": {
            "text/plain": [
              "0        Adulto mayor\n",
              "1        Adulto mayor\n",
              "2        Adulto mayor\n",
              "3        Adulto mayor\n",
              "4        Adulto mayor\n",
              "             ...     \n",
              "21449    Adulto mayor\n",
              "21450        Retirado\n",
              "21451    Adulto mayor\n",
              "21452    Adulto mayor\n",
              "21453    Adulto mayor\n",
              "Name: cat_edades, Length: 21454, dtype: object"
            ]
          },
          "execution_count": 71,
          "metadata": {},
          "output_type": "execute_result"
        }
      ],
      "source": [
        "# Comprobar cómo los valores en la nueva columna\n",
        "df['cat_edades']"
      ]
    },
    {
      "cell_type": "code",
      "execution_count": null,
      "metadata": {
        "id": "C9woK8K3ZBoU",
        "outputId": "230f1fd2-f7a9-455c-a7bd-307b1ee50b64"
      },
      "outputs": [
        {
          "data": {
            "text/html": [
              "<div>\n",
              "<style scoped>\n",
              "    .dataframe tbody tr th:only-of-type {\n",
              "        vertical-align: middle;\n",
              "    }\n",
              "\n",
              "    .dataframe tbody tr th {\n",
              "        vertical-align: top;\n",
              "    }\n",
              "\n",
              "    .dataframe thead th {\n",
              "        text-align: right;\n",
              "    }\n",
              "</style>\n",
              "<table border=\"1\" class=\"dataframe\">\n",
              "  <thead>\n",
              "    <tr style=\"text-align: right;\">\n",
              "      <th></th>\n",
              "      <th>children</th>\n",
              "      <th>days_employed</th>\n",
              "      <th>dob_years</th>\n",
              "      <th>education</th>\n",
              "      <th>education_id</th>\n",
              "      <th>family_status</th>\n",
              "      <th>family_status_id</th>\n",
              "      <th>gender</th>\n",
              "      <th>income_type</th>\n",
              "      <th>debt</th>\n",
              "      <th>total_income</th>\n",
              "      <th>purpose</th>\n",
              "      <th>cat_edades</th>\n",
              "    </tr>\n",
              "  </thead>\n",
              "  <tbody>\n",
              "    <tr>\n",
              "      <th>0</th>\n",
              "      <td>1</td>\n",
              "      <td>8437.673028</td>\n",
              "      <td>42</td>\n",
              "      <td>bachelor's degree</td>\n",
              "      <td>0</td>\n",
              "      <td>married</td>\n",
              "      <td>0</td>\n",
              "      <td>F</td>\n",
              "      <td>employee</td>\n",
              "      <td>0</td>\n",
              "      <td>40620.102</td>\n",
              "      <td>purchase of the house</td>\n",
              "      <td>Adulto mayor</td>\n",
              "    </tr>\n",
              "    <tr>\n",
              "      <th>1</th>\n",
              "      <td>1</td>\n",
              "      <td>4024.803754</td>\n",
              "      <td>36</td>\n",
              "      <td>secondary education</td>\n",
              "      <td>1</td>\n",
              "      <td>married</td>\n",
              "      <td>0</td>\n",
              "      <td>F</td>\n",
              "      <td>employee</td>\n",
              "      <td>0</td>\n",
              "      <td>17932.802</td>\n",
              "      <td>car purchase</td>\n",
              "      <td>Adulto mayor</td>\n",
              "    </tr>\n",
              "    <tr>\n",
              "      <th>2</th>\n",
              "      <td>0</td>\n",
              "      <td>5623.422610</td>\n",
              "      <td>33</td>\n",
              "      <td>secondary education</td>\n",
              "      <td>1</td>\n",
              "      <td>married</td>\n",
              "      <td>0</td>\n",
              "      <td>M</td>\n",
              "      <td>employee</td>\n",
              "      <td>0</td>\n",
              "      <td>23341.752</td>\n",
              "      <td>purchase of the house</td>\n",
              "      <td>Adulto mayor</td>\n",
              "    </tr>\n",
              "    <tr>\n",
              "      <th>3</th>\n",
              "      <td>3</td>\n",
              "      <td>4124.747207</td>\n",
              "      <td>32</td>\n",
              "      <td>secondary education</td>\n",
              "      <td>1</td>\n",
              "      <td>married</td>\n",
              "      <td>0</td>\n",
              "      <td>M</td>\n",
              "      <td>employee</td>\n",
              "      <td>0</td>\n",
              "      <td>42820.568</td>\n",
              "      <td>supplementary education</td>\n",
              "      <td>Adulto mayor</td>\n",
              "    </tr>\n",
              "    <tr>\n",
              "      <th>4</th>\n",
              "      <td>0</td>\n",
              "      <td>14600.000000</td>\n",
              "      <td>53</td>\n",
              "      <td>secondary education</td>\n",
              "      <td>1</td>\n",
              "      <td>civil partnership</td>\n",
              "      <td>1</td>\n",
              "      <td>F</td>\n",
              "      <td>retiree</td>\n",
              "      <td>0</td>\n",
              "      <td>25378.572</td>\n",
              "      <td>to have a wedding</td>\n",
              "      <td>Adulto mayor</td>\n",
              "    </tr>\n",
              "    <tr>\n",
              "      <th>5</th>\n",
              "      <td>0</td>\n",
              "      <td>926.185831</td>\n",
              "      <td>27</td>\n",
              "      <td>bachelor's degree</td>\n",
              "      <td>0</td>\n",
              "      <td>civil partnership</td>\n",
              "      <td>1</td>\n",
              "      <td>M</td>\n",
              "      <td>business</td>\n",
              "      <td>0</td>\n",
              "      <td>40922.170</td>\n",
              "      <td>purchase of the house</td>\n",
              "      <td>Adulto joven</td>\n",
              "    </tr>\n",
              "    <tr>\n",
              "      <th>6</th>\n",
              "      <td>0</td>\n",
              "      <td>2879.202052</td>\n",
              "      <td>43</td>\n",
              "      <td>bachelor's degree</td>\n",
              "      <td>0</td>\n",
              "      <td>married</td>\n",
              "      <td>0</td>\n",
              "      <td>F</td>\n",
              "      <td>business</td>\n",
              "      <td>0</td>\n",
              "      <td>38484.156</td>\n",
              "      <td>housing transactions</td>\n",
              "      <td>Adulto mayor</td>\n",
              "    </tr>\n",
              "    <tr>\n",
              "      <th>7</th>\n",
              "      <td>0</td>\n",
              "      <td>152.779569</td>\n",
              "      <td>50</td>\n",
              "      <td>secondary education</td>\n",
              "      <td>1</td>\n",
              "      <td>married</td>\n",
              "      <td>0</td>\n",
              "      <td>M</td>\n",
              "      <td>employee</td>\n",
              "      <td>0</td>\n",
              "      <td>21731.829</td>\n",
              "      <td>education</td>\n",
              "      <td>Adulto mayor</td>\n",
              "    </tr>\n",
              "    <tr>\n",
              "      <th>8</th>\n",
              "      <td>2</td>\n",
              "      <td>6929.865299</td>\n",
              "      <td>35</td>\n",
              "      <td>bachelor's degree</td>\n",
              "      <td>0</td>\n",
              "      <td>civil partnership</td>\n",
              "      <td>1</td>\n",
              "      <td>F</td>\n",
              "      <td>employee</td>\n",
              "      <td>0</td>\n",
              "      <td>15337.093</td>\n",
              "      <td>having a wedding</td>\n",
              "      <td>Adulto mayor</td>\n",
              "    </tr>\n",
              "    <tr>\n",
              "      <th>9</th>\n",
              "      <td>0</td>\n",
              "      <td>2188.756445</td>\n",
              "      <td>41</td>\n",
              "      <td>secondary education</td>\n",
              "      <td>1</td>\n",
              "      <td>married</td>\n",
              "      <td>0</td>\n",
              "      <td>M</td>\n",
              "      <td>employee</td>\n",
              "      <td>0</td>\n",
              "      <td>23108.150</td>\n",
              "      <td>purchase of the house for my family</td>\n",
              "      <td>Adulto mayor</td>\n",
              "    </tr>\n",
              "  </tbody>\n",
              "</table>\n",
              "</div>"
            ],
            "text/plain": [
              "   children  days_employed  dob_years            education  education_id  \\\n",
              "0         1    8437.673028         42    bachelor's degree             0   \n",
              "1         1    4024.803754         36  secondary education             1   \n",
              "2         0    5623.422610         33  secondary education             1   \n",
              "3         3    4124.747207         32  secondary education             1   \n",
              "4         0   14600.000000         53  secondary education             1   \n",
              "5         0     926.185831         27    bachelor's degree             0   \n",
              "6         0    2879.202052         43    bachelor's degree             0   \n",
              "7         0     152.779569         50  secondary education             1   \n",
              "8         2    6929.865299         35    bachelor's degree             0   \n",
              "9         0    2188.756445         41  secondary education             1   \n",
              "\n",
              "       family_status  family_status_id gender income_type  debt  total_income  \\\n",
              "0            married                 0      F    employee     0     40620.102   \n",
              "1            married                 0      F    employee     0     17932.802   \n",
              "2            married                 0      M    employee     0     23341.752   \n",
              "3            married                 0      M    employee     0     42820.568   \n",
              "4  civil partnership                 1      F     retiree     0     25378.572   \n",
              "5  civil partnership                 1      M    business     0     40922.170   \n",
              "6            married                 0      F    business     0     38484.156   \n",
              "7            married                 0      M    employee     0     21731.829   \n",
              "8  civil partnership                 1      F    employee     0     15337.093   \n",
              "9            married                 0      M    employee     0     23108.150   \n",
              "\n",
              "                               purpose    cat_edades  \n",
              "0                purchase of the house  Adulto mayor  \n",
              "1                         car purchase  Adulto mayor  \n",
              "2                purchase of the house  Adulto mayor  \n",
              "3              supplementary education  Adulto mayor  \n",
              "4                    to have a wedding  Adulto mayor  \n",
              "5                purchase of the house  Adulto joven  \n",
              "6                 housing transactions  Adulto mayor  \n",
              "7                            education  Adulto mayor  \n",
              "8                     having a wedding  Adulto mayor  \n",
              "9  purchase of the house for my family  Adulto mayor  "
            ]
          },
          "execution_count": 72,
          "metadata": {},
          "output_type": "execute_result"
        }
      ],
      "source": [
        "# Crea una tabla sin valores ausentes y muestra algunas de sus filas para asegurarte de que se ve bien\n",
        "df_limpia = df.dropna()\n",
        "df_limpia.head(10)"
      ]
    },
    {
      "cell_type": "code",
      "execution_count": null,
      "metadata": {
        "id": "jCdFgnkpZBoU",
        "outputId": "0cb80fd6-21d8-493e-ec8c-3238b229ffcd"
      },
      "outputs": [
        {
          "name": "stdout",
          "output_type": "stream",
          "text": [
            "income_type\n",
            "business                       32386.793835\n",
            "civil servant                  27343.729582\n",
            "employee                       25820.841683\n",
            "entrepreneur                   79866.103000\n",
            "paternity / maternity leave     8612.661000\n",
            "retiree                        21940.394503\n",
            "student                        15712.260000\n",
            "unemployed                     21014.360500\n",
            "Name: total_income, dtype: float64\n"
          ]
        }
      ],
      "source": [
        "# Examina los valores medios de los ingresos en función de los factores que identificaste\n",
        "mean_total_income = df_limpia.groupby('income_type')['total_income'].mean()\n",
        "print(mean_total_income)"
      ]
    },
    {
      "cell_type": "code",
      "execution_count": null,
      "metadata": {
        "scrolled": true,
        "id": "oWFKTGT0ZBoV",
        "outputId": "183854be-8e45-4738-976c-903b19142c9d"
      },
      "outputs": [
        {
          "name": "stdout",
          "output_type": "stream",
          "text": [
            "income_type\n",
            "business                       27577.2720\n",
            "civil servant                  24071.6695\n",
            "employee                       22815.1035\n",
            "entrepreneur                   79866.1030\n",
            "paternity / maternity leave     8612.6610\n",
            "retiree                        18962.3180\n",
            "student                        15712.2600\n",
            "unemployed                     21014.3605\n",
            "Name: total_income, dtype: float64\n"
          ]
        }
      ],
      "source": [
        "# Examina los valores medianos de los ingresos en función de los factores que identificaste\n",
        "median_total_income = df_limpia.groupby('income_type')['total_income'].median()\n",
        "print(median_total_income)"
      ]
    },
    {
      "cell_type": "code",
      "execution_count": null,
      "metadata": {
        "id": "j3f3-c-PZBoW"
      },
      "outputs": [],
      "source": [
        "#  Escribe una función que usaremos para completar los valores ausentes\n",
        "def fill_income(row):\n",
        "    estado = row['income_type']\n",
        "    income = row['total_income']\n",
        "\n",
        "    if np.isnan(income):\n",
        "        return median_total_income[estado]\n",
        "    else:\n",
        "        return income"
      ]
    },
    {
      "cell_type": "code",
      "execution_count": null,
      "metadata": {
        "id": "a-a1MmPeZBoX",
        "outputId": "d51f5f13-d105-4fb8-ff89-e54f8e602381"
      },
      "outputs": [
        {
          "data": {
            "text/plain": [
              "<function __main__.fill_income(row)>"
            ]
          },
          "execution_count": 76,
          "metadata": {},
          "output_type": "execute_result"
        }
      ],
      "source": [
        "# Comprueba si funciona\n",
        "fill_income"
      ]
    },
    {
      "cell_type": "code",
      "execution_count": null,
      "metadata": {
        "id": "f06NNdSbZBoX"
      },
      "outputs": [],
      "source": [
        "# Aplícalo a cada fila\n",
        "copia_df = df.copy()\n",
        "\n",
        "copia_df['total_income'] = copia_df.apply(fill_income, axis= 1)"
      ]
    },
    {
      "cell_type": "code",
      "execution_count": null,
      "metadata": {
        "id": "HI14qSVwZBoY",
        "outputId": "234d89b4-9df7-4514-f9c5-7618bf216aa6"
      },
      "outputs": [
        {
          "data": {
            "text/plain": [
              "0"
            ]
          },
          "execution_count": 78,
          "metadata": {},
          "output_type": "execute_result"
        }
      ],
      "source": [
        "# Comprueba si tenemos algún error\n",
        "copia_df['total_income'].isna().sum()"
      ]
    },
    {
      "cell_type": "code",
      "execution_count": null,
      "metadata": {
        "id": "Z44wfvHNZBoZ"
      },
      "outputs": [],
      "source": [
        "# Reemplazar los valores ausentes si hay algún error\n",
        "## Se sustituyeron los valores de manera correcta por sus medianas."
      ]
    },
    {
      "cell_type": "code",
      "execution_count": null,
      "metadata": {
        "id": "gsTGyziQZBoa",
        "outputId": "3c7d52c5-6e78-4b77-8464-9341c3b13883"
      },
      "outputs": [
        {
          "data": {
            "text/plain": [
              "0        40620.102\n",
              "1        17932.802\n",
              "2        23341.752\n",
              "3        42820.568\n",
              "4        25378.572\n",
              "           ...    \n",
              "21449    35966.698\n",
              "21450    24959.969\n",
              "21451    14347.610\n",
              "21452    39054.888\n",
              "21453    13127.587\n",
              "Name: total_income, Length: 21454, dtype: float64"
            ]
          },
          "execution_count": 80,
          "metadata": {},
          "output_type": "execute_result"
        }
      ],
      "source": [
        "# Comprobar el número de entradas en las columnas\n",
        "\n",
        "copia_df['total_income']"
      ]
    },
    {
      "cell_type": "code",
      "execution_count": null,
      "metadata": {
        "pycharm": {
          "name": "#%%\n"
        },
        "id": "TokWnzRrZBod",
        "outputId": "0fc59bc2-bffa-44d0-f13a-ad6f36ccc110"
      },
      "outputs": [
        {
          "data": {
            "text/plain": [
              "count       57.000000\n",
              "mean      6006.939746\n",
              "std       6002.722005\n",
              "min        618.733817\n",
              "25%       1446.622542\n",
              "50%       2253.981630\n",
              "75%      14600.000000\n",
              "max      14600.000000\n",
              "Name: days_employed, dtype: float64"
            ]
          },
          "execution_count": 81,
          "metadata": {},
          "output_type": "execute_result"
        }
      ],
      "source": [
        "# Distribución de las medianas de `days_employed` en función de los parámetros identificados\n",
        "\n",
        "median_days_employed = df_limpia.groupby('dob_years')['days_employed'].median()\n",
        "median_days_employed.describe()"
      ]
    },
    {
      "cell_type": "code",
      "execution_count": null,
      "metadata": {
        "id": "kgAULcluZBod",
        "outputId": "de36478b-20f4-49dc-d603-3a3331945140"
      },
      "outputs": [
        {
          "data": {
            "text/plain": [
              "count       57.000000\n",
              "mean      5767.270356\n",
              "std       4734.925945\n",
              "min        633.678086\n",
              "25%       1817.373408\n",
              "50%       3224.319617\n",
              "75%      11135.416724\n",
              "max      13826.185812\n",
              "Name: days_employed, dtype: float64"
            ]
          },
          "execution_count": 82,
          "metadata": {},
          "output_type": "execute_result"
        }
      ],
      "source": [
        "# Distribución de las medias de `days_employed` en función de los parámetros identificados\n",
        "mean_days_employed = df_limpia.groupby('dob_years')['days_employed'].mean()\n",
        "mean_days_employed.describe()"
      ]
    },
    {
      "cell_type": "code",
      "execution_count": null,
      "metadata": {
        "id": "H8f6O_CVZBoe"
      },
      "outputs": [],
      "source": [
        "# Escribamos una función que calcule medias o medianas (dependiendo de tu decisión) según el parámetro identificado\n",
        "def median_input(row):\n",
        "    row_days_employed = row['days_employed']\n",
        "    row_family_status = row['dob_years']\n",
        "    if pd.isna(row_days_employed):\n",
        "        return median_days_employed[row_family_status]\n",
        "    else:\n",
        "        return row_days_employed"
      ]
    },
    {
      "cell_type": "code",
      "execution_count": null,
      "metadata": {
        "id": "hwoLnfLQZBoe",
        "outputId": "5db013fa-3cad-4aa9-e7ef-a20effb45a61"
      },
      "outputs": [
        {
          "data": {
            "text/plain": [
              "<function __main__.median_input(row)>"
            ]
          },
          "execution_count": 84,
          "metadata": {},
          "output_type": "execute_result"
        }
      ],
      "source": [
        "# Comprueba que la función funciona\n",
        "\n",
        "median_input"
      ]
    },
    {
      "cell_type": "code",
      "execution_count": null,
      "metadata": {
        "id": "d8f9JgtiZBoe"
      },
      "outputs": [],
      "source": [
        "# Aplicar la función al income_type\n",
        "\n",
        "copia_df['days_employed'] = copia_df.apply(median_input, axis=1)"
      ]
    },
    {
      "cell_type": "code",
      "execution_count": null,
      "metadata": {
        "id": "Uqdg4HkDZBof",
        "outputId": "65336e85-ee38-4a48-a7ca-4c6582b8468c"
      },
      "outputs": [
        {
          "data": {
            "text/plain": [
              "0"
            ]
          },
          "execution_count": 86,
          "metadata": {},
          "output_type": "execute_result"
        }
      ],
      "source": [
        "# Comprueba si la función funcionó\n",
        "\n",
        "copia_df['income_type'].isna().sum()"
      ]
    },
    {
      "cell_type": "code",
      "execution_count": null,
      "metadata": {
        "id": "OCXHGvxWZBof"
      },
      "outputs": [],
      "source": [
        "# Reemplazar valores ausentes\n",
        "## Ya se ha realizado."
      ]
    },
    {
      "cell_type": "code",
      "execution_count": null,
      "metadata": {
        "id": "odOVvoq7ZBog",
        "outputId": "4c5ee1f8-7730-4048-aff9-2670c13ca399"
      },
      "outputs": [
        {
          "data": {
            "text/plain": [
              "children            0\n",
              "days_employed       0\n",
              "dob_years           0\n",
              "education           0\n",
              "education_id        0\n",
              "family_status       0\n",
              "family_status_id    0\n",
              "gender              0\n",
              "income_type         0\n",
              "debt                0\n",
              "total_income        0\n",
              "purpose             0\n",
              "cat_edades          0\n",
              "dtype: int64"
            ]
          },
          "execution_count": 88,
          "metadata": {},
          "output_type": "execute_result"
        }
      ],
      "source": [
        "# Comprueba las entradas en todas las columnas: asegúrate de que hayamos corregido todos los valores ausentes\n",
        "copia_df.isna().sum()"
      ]
    },
    {
      "cell_type": "code",
      "execution_count": null,
      "metadata": {
        "scrolled": true,
        "id": "ZAICYDVrZBog",
        "outputId": "c39736a2-b80f-4f36-a058-63a5c1206d14"
      },
      "outputs": [
        {
          "data": {
            "text/plain": [
              "debt  purpose                   \n",
              "0     wedding ceremony              727\n",
              "      to have a wedding             707\n",
              "      having a wedding              704\n",
              "      real estate transactions      620\n",
              "      buy commercial real estate    614\n",
              "                                   ... \n",
              "1     getting an education           37\n",
              "      buying a second-hand car       36\n",
              "      housing renovation             35\n",
              "      purchase of my own house       34\n",
              "      education                      32\n",
              "Name: purpose, Length: 76, dtype: int64"
            ]
          },
          "execution_count": 89,
          "metadata": {},
          "output_type": "execute_result"
        }
      ],
      "source": [
        "# Muestra los valores de los datos seleccionados para la clasificación\n",
        "copia_df.groupby('debt')['purpose'].value_counts()"
      ]
    },
    {
      "cell_type": "code",
      "execution_count": null,
      "metadata": {
        "id": "MOM4_FS5ZBoh",
        "outputId": "f315aa62-96a5-4f7a-82ae-02c62cba1034"
      },
      "outputs": [
        {
          "name": "stdout",
          "output_type": "stream",
          "text": [
            "['purchase of the house' 'car purchase' 'supplementary education'\n",
            " 'to have a wedding' 'housing transactions' 'education' 'having a wedding'\n",
            " 'purchase of the house for my family' 'buy real estate'\n",
            " 'buy commercial real estate' 'buy residential real estate'\n",
            " 'construction of own property' 'property' 'building a property'\n",
            " 'buying a second-hand car' 'buying my own car'\n",
            " 'transactions with commercial real estate' 'building a real estate'\n",
            " 'housing' 'transactions with my real estate' 'cars' 'to become educated'\n",
            " 'second-hand car purchase' 'getting an education' 'car'\n",
            " 'wedding ceremony' 'to get a supplementary education'\n",
            " 'purchase of my own house' 'real estate transactions'\n",
            " 'getting higher education' 'to own a car' 'purchase of a car'\n",
            " 'profile education' 'university education'\n",
            " 'buying property for renting out' 'to buy a car' 'housing renovation'\n",
            " 'going to university']\n"
          ]
        }
      ],
      "source": [
        "# Comprobar los valores únicos\n",
        "print(df['purpose'].unique())"
      ]
    },
    {
      "cell_type": "code",
      "execution_count": null,
      "metadata": {
        "id": "OJNJykvAZBoh"
      },
      "outputs": [],
      "source": [
        "# Escribamos una función para clasificar los datos en función de temas comunes\n",
        "comprar_auto = 'car purchase', 'buying a second-hand car', 'buying my own car', 'cars', 'second-hand car purchase', 'car', 'to own a car', 'purchase of a car', 'to buy a car'\n",
        "comprar_propiedad = 'purchase of the house', 'housing transactions', 'purchase of the house for my family', 'buy real estate', 'buy commercial real estate', 'buy residential real estate', 'construction of own property', 'property', 'building a property', 'transactions with commercial real estate', 'building a real estate', 'housing', 'transactions with my real estate', 'purchase of my own house', 'real estate transactions', 'buying property for renting out', 'housing renovation'\n",
        "comprar_educacion = 'supplementary education', 'education', 'to become educated', 'getting an education', 'to get a supplementary education', 'getting higher education', 'profile education', 'university education', 'going to university'\n",
        "comprar_boda = 'to have a wedding', 'having a wedding', 'wedding ceremony',\n",
        "\n",
        "def clasif_datos(row):\n",
        "    proposito = row['purpose']\n",
        "    if proposito in comprar_auto:\n",
        "        return 'Auto'\n",
        "    if proposito in comprar_propiedad:\n",
        "        return 'Propiedad'\n",
        "    if proposito in comprar_educacion:\n",
        "        return 'Educacion'\n",
        "    if proposito in comprar_boda:\n",
        "        return 'Boda'"
      ]
    },
    {
      "cell_type": "code",
      "execution_count": null,
      "metadata": {
        "id": "z8fo-KpyZBoi",
        "outputId": "7c08013d-ab23-40f0-ddf6-0f1f325d0931"
      },
      "outputs": [
        {
          "data": {
            "text/plain": [
              "Propiedad    10811\n",
              "Auto          4306\n",
              "Educacion     4013\n",
              "Boda          2324\n",
              "Name: purpose_filtro, dtype: int64"
            ]
          },
          "execution_count": 92,
          "metadata": {},
          "output_type": "execute_result"
        }
      ],
      "source": [
        "# Crea una columna con las categorías y cuenta los valores en ellas\n",
        "copia_df['purpose_filtro'] = copia_df.apply(clasif_datos, axis=1)\n",
        "copia_df['purpose_filtro'].value_counts()"
      ]
    },
    {
      "cell_type": "code",
      "execution_count": null,
      "metadata": {
        "id": "4_mn1_jnZBoi"
      },
      "outputs": [],
      "source": [
        "# Revisar todos los datos numéricos en la columna seleccionada para la clasificación\n",
        "## No es necesario"
      ]
    },
    {
      "cell_type": "code",
      "execution_count": null,
      "metadata": {
        "id": "fs3mkZNDZBoj",
        "outputId": "f4db2fc3-0de9-483e-9ea5-6535b8302bb2"
      },
      "outputs": [
        {
          "data": {
            "text/plain": [
              "count         21454\n",
              "unique            4\n",
              "top       Propiedad\n",
              "freq          10811\n",
              "Name: purpose_filtro, dtype: object"
            ]
          },
          "execution_count": 94,
          "metadata": {},
          "output_type": "execute_result"
        }
      ],
      "source": [
        "# Obtener estadísticas resumidas para la columna\n",
        "copia_df['purpose_filtro'].describe()"
      ]
    },
    {
      "cell_type": "code",
      "execution_count": null,
      "metadata": {
        "id": "MNzevNzMZBoj"
      },
      "outputs": [],
      "source": [
        "# Crear una función para clasificar en diferentes grupos numéricos basándose en rangos\n",
        "## No es necesario debido a que ya habia creado una clasificación."
      ]
    },
    {
      "cell_type": "code",
      "execution_count": null,
      "metadata": {
        "id": "SVBvqJ9vZBok"
      },
      "outputs": [],
      "source": [
        "# Crear una columna con categorías\n",
        "## No es necesario"
      ]
    },
    {
      "cell_type": "code",
      "execution_count": null,
      "metadata": {
        "scrolled": true,
        "id": "bp1vE1KXZBok"
      },
      "outputs": [],
      "source": [
        "# Contar los valores de cada categoría para ver la distribución\n",
        "## No es necesario"
      ]
    },
    {
      "cell_type": "code",
      "execution_count": null,
      "metadata": {
        "id": "YMh5T2S6ZBol",
        "outputId": "9e8546be-bf08-4328-9767-bdb3aa7ef75e"
      },
      "outputs": [
        {
          "name": "stdout",
          "output_type": "stream",
          "text": [
            "la tasa de incumplimiento para 0 cantidad de hijos es 7.543822297920658\n",
            "la tasa de incumplimiento para 1 cantidad de hijos es 9.165808444902163\n",
            "la tasa de incumplimiento para 2 cantidad de hijos es 9.492481203007518\n",
            "la tasa de incumplimiento para 3 cantidad de hijos es 8.181818181818182\n",
            "la tasa de incumplimiento para 4 cantidad de hijos es 9.75609756097561\n",
            "la tasa de incumplimiento para 5 cantidad de hijos es 0.0\n"
          ]
        }
      ],
      "source": [
        "# Comprueba los datos sobre los hijos y los pagos puntuales\n",
        "cantidad_hijos = copia_df.groupby('children')['debt'].count()\n",
        "con_deuda = copia_df.groupby('children')['debt'].sum()\n",
        "\n",
        "# Calcular la tasa de incumplimiento en función del número de hijos\n",
        "for i in range(6):\n",
        "    try:\n",
        "        x = con_deuda[i]*100/cantidad_hijos[i]\n",
        "        print(f'la tasa de incumplimiento para {i} cantidad de hijos es {x}')\n",
        "    except:\n",
        "        print('No se pudo realizar la operación')"
      ]
    },
    {
      "cell_type": "code",
      "execution_count": null,
      "metadata": {
        "id": "2aqqRqnNZBor",
        "outputId": "4a85af6f-f614-4425-e77f-922d12300a54"
      },
      "outputs": [
        {
          "name": "stdout",
          "output_type": "stream",
          "text": [
            "la tasa de incumplimiento para 0 situación familiar es 9.349397590361447\n",
            "la tasa de incumplimiento para 1 situación familiar es 7.112970711297071\n",
            "la tasa de incumplimiento para 2 situación familiar es 7.5451819434313965\n",
            "la tasa de incumplimiento para 3 situación familiar es 9.750889679715302\n",
            "la tasa de incumplimiento para 4 situación familiar es 6.569343065693431\n"
          ]
        }
      ],
      "source": [
        "# Comprueba los datos del estado familiar y los pagos a tiempo\n",
        "sit_familiar = copia_df.groupby('family_status')['debt'].count()\n",
        "con_deuda = copia_df.groupby('family_status')['debt'].sum()\n",
        "# Calcular la tasa de incumplimiento basada en el estado familiar\n",
        "for i in range(5):\n",
        "    try:\n",
        "        x = con_deuda[i]*100/sit_familiar[i]\n",
        "        print(f'la tasa de incumplimiento para {i} situación familiar es {x}')\n",
        "    except:\n",
        "        print('No se pudo realizar la operación')\n"
      ]
    },
    {
      "cell_type": "code",
      "execution_count": null,
      "metadata": {
        "id": "UECqeRkTZBos",
        "outputId": "eb552af4-39e6-4797-9c0c-82c0f662b9fd"
      },
      "outputs": [
        {
          "data": {
            "text/plain": [
              "count     21453.000000\n",
              "mean      26451.382421\n",
              "std       15710.314734\n",
              "min        3306.762000\n",
              "25%       17219.352000\n",
              "50%       22815.103500\n",
              "75%       31331.461000\n",
              "max      362496.645000\n",
              "Name: total_income, dtype: float64"
            ]
          },
          "execution_count": 153,
          "metadata": {},
          "output_type": "execute_result"
        }
      ],
      "source": [
        "copia_df['total_income'].describe()"
      ]
    },
    {
      "cell_type": "code",
      "execution_count": null,
      "metadata": {
        "id": "Lmf471rLZBos"
      },
      "outputs": [],
      "source": [
        "# Definir rangos entre el nivel de ingresos\n",
        "def rangos_income(row):\n",
        "    ingresos = row['total_income']\n",
        "    if ingresos >= 31331.461000:\n",
        "        return 'Ingreso mayor al 75%'\n",
        "    if ingresos >= 22815.103500:\n",
        "        return 'Ingreso mayor al 50% y menor al 75%'\n",
        "    if ingresos >= 17219.352000:\n",
        "        return 'Ingreso mayor al 25% y menor al 50%'\n",
        "    else:\n",
        "        return 'Ingreso menor al 25%'\n",
        "copia_df['rangos_de_ingreso'] = copia_df.apply(rangos_income, axis=1)"
      ]
    },
    {
      "cell_type": "code",
      "execution_count": null,
      "metadata": {
        "id": "xCJ6NGDHZBot",
        "outputId": "cd7eda0c-e2f8-41a6-9200-e86c9a1e7edf"
      },
      "outputs": [
        {
          "name": "stdout",
          "output_type": "stream",
          "text": [
            "la tasa de incumplimiento para 0 rango ingreso es 8.815477276875342\n",
            "la tasa de incumplimiento para 1 rango ingreso es 8.538212311797217\n",
            "la tasa de incumplimiento para 2 rango ingreso es 7.140193885160328\n",
            "la tasa de incumplimiento para 3 rango ingreso es 7.961961588663062\n"
          ]
        }
      ],
      "source": [
        "# Comprueba los datos del nivel de ingresos y los pagos a tiempo\n",
        "rango_ingreso = copia_df.groupby('rangos_de_ingreso')['debt'].count()\n",
        "con_deuda = copia_df.groupby('rangos_de_ingreso')['debt'].sum()\n",
        "# Calcular la tasa de incumplimiento basada en el nivel de ingresos\n",
        "for i in range(4):\n",
        "    try:\n",
        "        x = con_deuda[i]*100/rango_ingreso[i]\n",
        "        print(f'la tasa de incumplimiento para {i} rango ingreso es {x}')\n",
        "    except:\n",
        "        print('No se pudo realizar la operación')"
      ]
    },
    {
      "cell_type": "code",
      "execution_count": null,
      "metadata": {
        "id": "PtdtDdTbZBou",
        "outputId": "5b76725e-8643-4e94-d2e6-911e26f27317"
      },
      "outputs": [
        {
          "name": "stdout",
          "output_type": "stream",
          "text": [
            "la tasa de incumplimiento para 0 proposito es 9.359033906177427\n",
            "la tasa de incumplimiento para 1 proposito es 8.006887645286268\n",
            "la tasa de incumplimiento para 2 proposito es 9.22003488661849\n",
            "la tasa de incumplimiento para 3 proposito es 7.233373415965221\n"
          ]
        }
      ],
      "source": [
        "# Consulta los porcentajes de tasa de incumplimiento para cada propósito del crédito y analízalos\n",
        "dif_purpose = copia_df.groupby('purpose_filtro')['debt'].count()\n",
        "con_deuda = copia_df.groupby('purpose_filtro')['debt'].sum()\n",
        "\n",
        "for i in range(4):\n",
        "    try:\n",
        "        x = con_deuda[i]*100/dif_purpose[i]\n",
        "        print(f'la tasa de incumplimiento para {i} proposito es {x}')\n",
        "    except:\n",
        "        print('No se pudo realizar la operación')\n"
      ]
    },
    {
      "cell_type": "markdown",
      "metadata": {
        "id": "Jkd6wGAGZBov"
      },
      "source": [
        "# Conclusión general\n",
        "\n",
        "- Principalmente a lo largo del proyecto pudimos observar que existieron muchos valores faltantes y no existia correlacion entre los datos y los valores ausentes, tuvimos que ahondar mas en la preparación de los datos y su origen para poder imputarlos o eliminarlos si no representaban una muestra significativa para el desarrollo del proyecto.\n",
        "- De igual manera para comprobar las hipotesis descubrimos que no existio correlacion entre los datos faltantes ni entre el incumplimiento de los pagos con ninguna otra variable.\n",
        "- Se tuvo que llegar a un comun denominador para imputar los valores ausentes que en este proyecto la mayoria fueron por la mediana debido a que existian valores atipicos o \"outliers\" que disparaban la media entonces no se podia imputar con la media.\n",
        "- Existian personas con dias de trabajo negativos a lo cual decidi suponer que fue un error de dedo o que a la hora de la importacion de la base de datos al csv se pusieron como valores negativos, por lo cual se uso el valor absoluto.\n",
        "- Habia gente con mas de 1000 años de experiencia laboral lo cual es imposible entonces tambien supuse que se debia a un error en el cual quizas añadieron varios 0 de mas o fue error humano, se opto por imputar con la mediana.\n",
        "\n",
        "\n",
        "- Debido a que ninguna de las hipotesis fue comprobada correcta podemos intuir que entonces ninguna variable entre si estuvo relacionada, por ende todo fue un mal uso de los datos ya sea por parte del usuario o del programa que los recolecto, debido a eso tuvimos que ahondar y profundizar la investigación para poder dar con una conclusión acertada que es que los valores finales no demuestran una significancia superior al 10% lo cual nos da una confiabilidad del 90%."
      ]
    }
  ],
  "metadata": {
    "ExecuteTimeLog": [
      {
        "duration": 2741,
        "start_time": "2021-10-21T01:08:49.480Z"
      },
      {
        "duration": 52,
        "start_time": "2021-10-21T01:08:53.315Z"
      },
      {
        "duration": 49,
        "start_time": "2021-10-21T01:08:57.432Z"
      },
      {
        "duration": 70,
        "start_time": "2021-10-21T01:09:07.706Z"
      }
    ],
    "kernelspec": {
      "display_name": "Python 3 (ipykernel)",
      "language": "python",
      "name": "python3"
    },
    "language_info": {
      "codemirror_mode": {
        "name": "ipython",
        "version": 3
      },
      "file_extension": ".py",
      "mimetype": "text/x-python",
      "name": "python",
      "nbconvert_exporter": "python",
      "pygments_lexer": "ipython3",
      "version": "3.9.5"
    },
    "toc": {
      "base_numbering": 1,
      "nav_menu": {},
      "number_sections": true,
      "sideBar": true,
      "skip_h1_title": true,
      "title_cell": "Table of Contents",
      "title_sidebar": "Contents",
      "toc_cell": false,
      "toc_position": {},
      "toc_section_display": true,
      "toc_window_display": true
    },
    "colab": {
      "provenance": []
    }
  },
  "nbformat": 4,
  "nbformat_minor": 0
}