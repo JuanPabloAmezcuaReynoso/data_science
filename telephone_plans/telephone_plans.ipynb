{
  "cells": [
    {
      "cell_type": "code",
      "execution_count": null,
      "metadata": {
        "id": "FheXsmrWX6tq"
      },
      "outputs": [],
      "source": [
        "# Cargar todas las librerías\n",
        "import pandas as pd\n",
        "import numpy as np\n",
        "import matplotlib.pyplot as plt\n",
        "import math as mt\n",
        "from math import factorial\n",
        "from scipy import stats as st\n",
        "from datetime import timedelta as td\n",
        "from datetime import datetime"
      ]
    },
    {
      "cell_type": "code",
      "execution_count": null,
      "metadata": {
        "id": "KpoMZR5FX6tv"
      },
      "outputs": [],
      "source": [
        "# Carga los archivos de datos en diferentes DataFrames\n",
        "planes = pd.read_csv('/datasets/megaline_plans.csv')\n",
        "usuarios = pd.read_csv('/datasets/megaline_users.csv', parse_dates=['reg_date'])\n",
        "llamadas = pd.read_csv('/datasets/megaline_calls.csv', parse_dates=['call_date'])\n",
        "mensajes = pd.read_csv('/datasets/megaline_messages.csv', parse_dates=['message_date'])\n",
        "internet = pd.read_csv('/datasets/megaline_internet.csv', parse_dates=['session_date'])"
      ]
    },
    {
      "cell_type": "code",
      "execution_count": null,
      "metadata": {
        "id": "avghlK6wX6ty",
        "outputId": "25e07271-5d4f-4a7e-d5ac-5a83dceb6579"
      },
      "outputs": [
        {
          "name": "stdout",
          "output_type": "stream",
          "text": [
            "<class 'pandas.core.frame.DataFrame'>\n",
            "RangeIndex: 2 entries, 0 to 1\n",
            "Data columns (total 8 columns):\n",
            " #   Column                 Non-Null Count  Dtype  \n",
            "---  ------                 --------------  -----  \n",
            " 0   messages_included      2 non-null      int64  \n",
            " 1   mb_per_month_included  2 non-null      int64  \n",
            " 2   minutes_included       2 non-null      int64  \n",
            " 3   usd_monthly_pay        2 non-null      int64  \n",
            " 4   usd_per_gb             2 non-null      int64  \n",
            " 5   usd_per_message        2 non-null      float64\n",
            " 6   usd_per_minute         2 non-null      float64\n",
            " 7   plan_name              2 non-null      object \n",
            "dtypes: float64(2), int64(5), object(1)\n",
            "memory usage: 256.0+ bytes\n"
          ]
        }
      ],
      "source": [
        "# Imprime la información general/resumen sobre el DataFrame de los planes\n",
        "planes.info()"
      ]
    },
    {
      "cell_type": "code",
      "execution_count": null,
      "metadata": {
        "id": "zevVgXcWX6tz",
        "outputId": "ea6f2c26-278a-4c01-8983-e6efd708fcc0"
      },
      "outputs": [
        {
          "data": {
            "text/html": [
              "<div>\n",
              "<style scoped>\n",
              "    .dataframe tbody tr th:only-of-type {\n",
              "        vertical-align: middle;\n",
              "    }\n",
              "\n",
              "    .dataframe tbody tr th {\n",
              "        vertical-align: top;\n",
              "    }\n",
              "\n",
              "    .dataframe thead th {\n",
              "        text-align: right;\n",
              "    }\n",
              "</style>\n",
              "<table border=\"1\" class=\"dataframe\">\n",
              "  <thead>\n",
              "    <tr style=\"text-align: right;\">\n",
              "      <th></th>\n",
              "      <th>messages_included</th>\n",
              "      <th>mb_per_month_included</th>\n",
              "      <th>minutes_included</th>\n",
              "      <th>usd_monthly_pay</th>\n",
              "      <th>usd_per_gb</th>\n",
              "      <th>usd_per_message</th>\n",
              "      <th>usd_per_minute</th>\n",
              "      <th>plan_name</th>\n",
              "    </tr>\n",
              "  </thead>\n",
              "  <tbody>\n",
              "    <tr>\n",
              "      <th>0</th>\n",
              "      <td>50</td>\n",
              "      <td>15360</td>\n",
              "      <td>500</td>\n",
              "      <td>20</td>\n",
              "      <td>10</td>\n",
              "      <td>0.03</td>\n",
              "      <td>0.03</td>\n",
              "      <td>surf</td>\n",
              "    </tr>\n",
              "    <tr>\n",
              "      <th>1</th>\n",
              "      <td>1000</td>\n",
              "      <td>30720</td>\n",
              "      <td>3000</td>\n",
              "      <td>70</td>\n",
              "      <td>7</td>\n",
              "      <td>0.01</td>\n",
              "      <td>0.01</td>\n",
              "      <td>ultimate</td>\n",
              "    </tr>\n",
              "  </tbody>\n",
              "</table>\n",
              "</div>"
            ],
            "text/plain": [
              "   messages_included  mb_per_month_included  minutes_included  \\\n",
              "0                 50                  15360               500   \n",
              "1               1000                  30720              3000   \n",
              "\n",
              "   usd_monthly_pay  usd_per_gb  usd_per_message  usd_per_minute plan_name  \n",
              "0               20          10             0.03            0.03      surf  \n",
              "1               70           7             0.01            0.01  ultimate  "
            ]
          },
          "execution_count": 5,
          "metadata": {},
          "output_type": "execute_result"
        }
      ],
      "source": [
        "# Imprime una muestra de los datos para los planes\n",
        "planes.head()"
      ]
    },
    {
      "cell_type": "markdown",
      "metadata": {
        "id": "mr_54339X6t0"
      },
      "source": [
        "- De momento no se observa ningun problema con los datos, el plan mas caro recibe mayores beneficios siendo mas mb por mes, mas minutos y el costo por mensajes, gb y minutos es un beneficio aparente por tener un mejor plan."
      ]
    },
    {
      "cell_type": "code",
      "execution_count": null,
      "metadata": {
        "id": "zxnSzodhX6t1"
      },
      "outputs": [],
      "source": [
        "# Corrige los problemas obvios con los datos basándote en las observaciones iniciales.\n",
        "## No hay problema aparente."
      ]
    },
    {
      "cell_type": "code",
      "execution_count": null,
      "metadata": {
        "id": "60qLIjUiX6t1"
      },
      "outputs": [],
      "source": [
        "# Agrega factores adicionales a los datos si crees que pudieran ser útiles.\n",
        "planes['gb_per_month_included'] = planes['mb_per_month_included'] / 1024"
      ]
    },
    {
      "cell_type": "code",
      "execution_count": null,
      "metadata": {
        "id": "tEn7FMZyX6t2"
      },
      "outputs": [],
      "source": [
        "# Aqui corregimos la columna de float a int64\n",
        "planes['gb_per_month_included'] = planes['gb_per_month_included'].astype('int64')"
      ]
    },
    {
      "cell_type": "code",
      "execution_count": null,
      "metadata": {
        "id": "9KRLT76lX6t3",
        "outputId": "5e7a8510-2a70-4766-b9dc-91964dc2adfd"
      },
      "outputs": [
        {
          "data": {
            "text/html": [
              "<div>\n",
              "<style scoped>\n",
              "    .dataframe tbody tr th:only-of-type {\n",
              "        vertical-align: middle;\n",
              "    }\n",
              "\n",
              "    .dataframe tbody tr th {\n",
              "        vertical-align: top;\n",
              "    }\n",
              "\n",
              "    .dataframe thead th {\n",
              "        text-align: right;\n",
              "    }\n",
              "</style>\n",
              "<table border=\"1\" class=\"dataframe\">\n",
              "  <thead>\n",
              "    <tr style=\"text-align: right;\">\n",
              "      <th></th>\n",
              "      <th>messages_included</th>\n",
              "      <th>mb_per_month_included</th>\n",
              "      <th>minutes_included</th>\n",
              "      <th>usd_monthly_pay</th>\n",
              "      <th>usd_per_gb</th>\n",
              "      <th>usd_per_message</th>\n",
              "      <th>usd_per_minute</th>\n",
              "      <th>plan_name</th>\n",
              "      <th>gb_per_month_included</th>\n",
              "    </tr>\n",
              "  </thead>\n",
              "  <tbody>\n",
              "    <tr>\n",
              "      <th>0</th>\n",
              "      <td>50</td>\n",
              "      <td>15360</td>\n",
              "      <td>500</td>\n",
              "      <td>20</td>\n",
              "      <td>10</td>\n",
              "      <td>0.03</td>\n",
              "      <td>0.03</td>\n",
              "      <td>surf</td>\n",
              "      <td>15</td>\n",
              "    </tr>\n",
              "    <tr>\n",
              "      <th>1</th>\n",
              "      <td>1000</td>\n",
              "      <td>30720</td>\n",
              "      <td>3000</td>\n",
              "      <td>70</td>\n",
              "      <td>7</td>\n",
              "      <td>0.01</td>\n",
              "      <td>0.01</td>\n",
              "      <td>ultimate</td>\n",
              "      <td>30</td>\n",
              "    </tr>\n",
              "  </tbody>\n",
              "</table>\n",
              "</div>"
            ],
            "text/plain": [
              "   messages_included  mb_per_month_included  minutes_included  \\\n",
              "0                 50                  15360               500   \n",
              "1               1000                  30720              3000   \n",
              "\n",
              "   usd_monthly_pay  usd_per_gb  usd_per_message  usd_per_minute plan_name  \\\n",
              "0               20          10             0.03            0.03      surf   \n",
              "1               70           7             0.01            0.01  ultimate   \n",
              "\n",
              "   gb_per_month_included  \n",
              "0                     15  \n",
              "1                     30  "
            ]
          },
          "execution_count": 9,
          "metadata": {},
          "output_type": "execute_result"
        }
      ],
      "source": [
        "planes.head()"
      ]
    },
    {
      "cell_type": "code",
      "execution_count": null,
      "metadata": {
        "id": "kHtuBUjkX6t3",
        "outputId": "389862f4-5033-4feb-cef2-6d4c0303c37d"
      },
      "outputs": [
        {
          "name": "stdout",
          "output_type": "stream",
          "text": [
            "<class 'pandas.core.frame.DataFrame'>\n",
            "RangeIndex: 500 entries, 0 to 499\n",
            "Data columns (total 8 columns):\n",
            " #   Column      Non-Null Count  Dtype         \n",
            "---  ------      --------------  -----         \n",
            " 0   user_id     500 non-null    int64         \n",
            " 1   first_name  500 non-null    object        \n",
            " 2   last_name   500 non-null    object        \n",
            " 3   age         500 non-null    int64         \n",
            " 4   city        500 non-null    object        \n",
            " 5   reg_date    500 non-null    datetime64[ns]\n",
            " 6   plan        500 non-null    object        \n",
            " 7   churn_date  34 non-null     object        \n",
            "dtypes: datetime64[ns](1), int64(2), object(5)\n",
            "memory usage: 31.4+ KB\n"
          ]
        }
      ],
      "source": [
        "# Imprime la información general/resumen sobre el DataFrame de los usuarios\n",
        "usuarios.info()"
      ]
    },
    {
      "cell_type": "code",
      "execution_count": null,
      "metadata": {
        "id": "u7bT7514X6t4",
        "outputId": "db99e719-6975-4870-e93d-6558b55dea24"
      },
      "outputs": [
        {
          "data": {
            "text/html": [
              "<div>\n",
              "<style scoped>\n",
              "    .dataframe tbody tr th:only-of-type {\n",
              "        vertical-align: middle;\n",
              "    }\n",
              "\n",
              "    .dataframe tbody tr th {\n",
              "        vertical-align: top;\n",
              "    }\n",
              "\n",
              "    .dataframe thead th {\n",
              "        text-align: right;\n",
              "    }\n",
              "</style>\n",
              "<table border=\"1\" class=\"dataframe\">\n",
              "  <thead>\n",
              "    <tr style=\"text-align: right;\">\n",
              "      <th></th>\n",
              "      <th>user_id</th>\n",
              "      <th>first_name</th>\n",
              "      <th>last_name</th>\n",
              "      <th>age</th>\n",
              "      <th>city</th>\n",
              "      <th>reg_date</th>\n",
              "      <th>plan</th>\n",
              "      <th>churn_date</th>\n",
              "    </tr>\n",
              "  </thead>\n",
              "  <tbody>\n",
              "    <tr>\n",
              "      <th>0</th>\n",
              "      <td>1000</td>\n",
              "      <td>Anamaria</td>\n",
              "      <td>Bauer</td>\n",
              "      <td>45</td>\n",
              "      <td>Atlanta-Sandy Springs-Roswell, GA MSA</td>\n",
              "      <td>2018-12-24</td>\n",
              "      <td>ultimate</td>\n",
              "      <td>NaN</td>\n",
              "    </tr>\n",
              "    <tr>\n",
              "      <th>1</th>\n",
              "      <td>1001</td>\n",
              "      <td>Mickey</td>\n",
              "      <td>Wilkerson</td>\n",
              "      <td>28</td>\n",
              "      <td>Seattle-Tacoma-Bellevue, WA MSA</td>\n",
              "      <td>2018-08-13</td>\n",
              "      <td>surf</td>\n",
              "      <td>NaN</td>\n",
              "    </tr>\n",
              "    <tr>\n",
              "      <th>2</th>\n",
              "      <td>1002</td>\n",
              "      <td>Carlee</td>\n",
              "      <td>Hoffman</td>\n",
              "      <td>36</td>\n",
              "      <td>Las Vegas-Henderson-Paradise, NV MSA</td>\n",
              "      <td>2018-10-21</td>\n",
              "      <td>surf</td>\n",
              "      <td>NaN</td>\n",
              "    </tr>\n",
              "    <tr>\n",
              "      <th>3</th>\n",
              "      <td>1003</td>\n",
              "      <td>Reynaldo</td>\n",
              "      <td>Jenkins</td>\n",
              "      <td>52</td>\n",
              "      <td>Tulsa, OK MSA</td>\n",
              "      <td>2018-01-28</td>\n",
              "      <td>surf</td>\n",
              "      <td>NaN</td>\n",
              "    </tr>\n",
              "    <tr>\n",
              "      <th>4</th>\n",
              "      <td>1004</td>\n",
              "      <td>Leonila</td>\n",
              "      <td>Thompson</td>\n",
              "      <td>40</td>\n",
              "      <td>Seattle-Tacoma-Bellevue, WA MSA</td>\n",
              "      <td>2018-05-23</td>\n",
              "      <td>surf</td>\n",
              "      <td>NaN</td>\n",
              "    </tr>\n",
              "    <tr>\n",
              "      <th>5</th>\n",
              "      <td>1005</td>\n",
              "      <td>Livia</td>\n",
              "      <td>Shields</td>\n",
              "      <td>31</td>\n",
              "      <td>Dallas-Fort Worth-Arlington, TX MSA</td>\n",
              "      <td>2018-11-29</td>\n",
              "      <td>surf</td>\n",
              "      <td>NaN</td>\n",
              "    </tr>\n",
              "    <tr>\n",
              "      <th>6</th>\n",
              "      <td>1006</td>\n",
              "      <td>Jesusa</td>\n",
              "      <td>Bradford</td>\n",
              "      <td>73</td>\n",
              "      <td>San Francisco-Oakland-Berkeley, CA MSA</td>\n",
              "      <td>2018-11-27</td>\n",
              "      <td>ultimate</td>\n",
              "      <td>2018-12-18</td>\n",
              "    </tr>\n",
              "    <tr>\n",
              "      <th>7</th>\n",
              "      <td>1007</td>\n",
              "      <td>Eusebio</td>\n",
              "      <td>Welch</td>\n",
              "      <td>42</td>\n",
              "      <td>Grand Rapids-Kentwood, MI MSA</td>\n",
              "      <td>2018-07-11</td>\n",
              "      <td>surf</td>\n",
              "      <td>NaN</td>\n",
              "    </tr>\n",
              "    <tr>\n",
              "      <th>8</th>\n",
              "      <td>1008</td>\n",
              "      <td>Emely</td>\n",
              "      <td>Hoffman</td>\n",
              "      <td>53</td>\n",
              "      <td>Orlando-Kissimmee-Sanford, FL MSA</td>\n",
              "      <td>2018-08-03</td>\n",
              "      <td>ultimate</td>\n",
              "      <td>NaN</td>\n",
              "    </tr>\n",
              "    <tr>\n",
              "      <th>9</th>\n",
              "      <td>1009</td>\n",
              "      <td>Gerry</td>\n",
              "      <td>Little</td>\n",
              "      <td>19</td>\n",
              "      <td>San Jose-Sunnyvale-Santa Clara, CA MSA</td>\n",
              "      <td>2018-04-22</td>\n",
              "      <td>surf</td>\n",
              "      <td>NaN</td>\n",
              "    </tr>\n",
              "  </tbody>\n",
              "</table>\n",
              "</div>"
            ],
            "text/plain": [
              "   user_id first_name  last_name  age                                    city  \\\n",
              "0     1000   Anamaria      Bauer   45   Atlanta-Sandy Springs-Roswell, GA MSA   \n",
              "1     1001     Mickey  Wilkerson   28         Seattle-Tacoma-Bellevue, WA MSA   \n",
              "2     1002     Carlee    Hoffman   36    Las Vegas-Henderson-Paradise, NV MSA   \n",
              "3     1003   Reynaldo    Jenkins   52                           Tulsa, OK MSA   \n",
              "4     1004    Leonila   Thompson   40         Seattle-Tacoma-Bellevue, WA MSA   \n",
              "5     1005      Livia    Shields   31     Dallas-Fort Worth-Arlington, TX MSA   \n",
              "6     1006     Jesusa   Bradford   73  San Francisco-Oakland-Berkeley, CA MSA   \n",
              "7     1007    Eusebio      Welch   42           Grand Rapids-Kentwood, MI MSA   \n",
              "8     1008      Emely    Hoffman   53       Orlando-Kissimmee-Sanford, FL MSA   \n",
              "9     1009      Gerry     Little   19  San Jose-Sunnyvale-Santa Clara, CA MSA   \n",
              "\n",
              "    reg_date      plan  churn_date  \n",
              "0 2018-12-24  ultimate         NaN  \n",
              "1 2018-08-13      surf         NaN  \n",
              "2 2018-10-21      surf         NaN  \n",
              "3 2018-01-28      surf         NaN  \n",
              "4 2018-05-23      surf         NaN  \n",
              "5 2018-11-29      surf         NaN  \n",
              "6 2018-11-27  ultimate  2018-12-18  \n",
              "7 2018-07-11      surf         NaN  \n",
              "8 2018-08-03  ultimate         NaN  \n",
              "9 2018-04-22      surf         NaN  "
            ]
          },
          "execution_count": 11,
          "metadata": {},
          "output_type": "execute_result"
        }
      ],
      "source": [
        "# Imprime una muestra de los datos para los usuarios\n",
        "usuarios.head(10)"
      ]
    },
    {
      "cell_type": "code",
      "execution_count": null,
      "metadata": {
        "id": "WdIj3r3rX6t5",
        "outputId": "a61edfad-464e-4b0c-dc45-d5ffb27f6809"
      },
      "outputs": [
        {
          "data": {
            "text/plain": [
              "466"
            ]
          },
          "execution_count": 12,
          "metadata": {},
          "output_type": "execute_result"
        }
      ],
      "source": [
        "# Exploraremos en churn_date para identificar problemas\n",
        "usuarios['churn_date'].isna().sum()"
      ]
    },
    {
      "cell_type": "markdown",
      "metadata": {
        "id": "oDUAU9mnX6t6"
      },
      "source": [
        "- Despues de analizar los datos conclui con transformar la columna reg_date a datetime desde que se leyo el archivo para poder trabajarla como formato de fecha, de igual manera se observaron valores ausentes en 'churn_date' los cuales nos indican que no ha terminado su plan, dicho de otra forma que siguen activos, entonces impute la fecha del dia de hoy 14/02/2023."
      ]
    },
    {
      "cell_type": "code",
      "execution_count": null,
      "metadata": {
        "id": "HnRqnvzDX6t6"
      },
      "outputs": [],
      "source": [
        "# Se decidio dejar los valores ausentes como tal."
      ]
    },
    {
      "cell_type": "code",
      "execution_count": null,
      "metadata": {
        "id": "gZMpBbU1X6t7",
        "outputId": "f62a7cb9-cfb0-4a8d-ece1-1d5d7e78e6d8"
      },
      "outputs": [
        {
          "name": "stdout",
          "output_type": "stream",
          "text": [
            "<class 'pandas.core.frame.DataFrame'>\n",
            "RangeIndex: 500 entries, 0 to 499\n",
            "Data columns (total 8 columns):\n",
            " #   Column      Non-Null Count  Dtype         \n",
            "---  ------      --------------  -----         \n",
            " 0   user_id     500 non-null    int64         \n",
            " 1   first_name  500 non-null    object        \n",
            " 2   last_name   500 non-null    object        \n",
            " 3   age         500 non-null    int64         \n",
            " 4   city        500 non-null    object        \n",
            " 5   reg_date    500 non-null    datetime64[ns]\n",
            " 6   plan        500 non-null    object        \n",
            " 7   churn_date  34 non-null     object        \n",
            "dtypes: datetime64[ns](1), int64(2), object(5)\n",
            "memory usage: 31.4+ KB\n"
          ]
        }
      ],
      "source": [
        "usuarios.info()"
      ]
    },
    {
      "cell_type": "code",
      "execution_count": null,
      "metadata": {
        "id": "LtSM9CaTX6t8",
        "outputId": "e61e5a4d-492e-4004-aefa-b64ff3ddebe1"
      },
      "outputs": [
        {
          "data": {
            "text/html": [
              "<div>\n",
              "<style scoped>\n",
              "    .dataframe tbody tr th:only-of-type {\n",
              "        vertical-align: middle;\n",
              "    }\n",
              "\n",
              "    .dataframe tbody tr th {\n",
              "        vertical-align: top;\n",
              "    }\n",
              "\n",
              "    .dataframe thead th {\n",
              "        text-align: right;\n",
              "    }\n",
              "</style>\n",
              "<table border=\"1\" class=\"dataframe\">\n",
              "  <thead>\n",
              "    <tr style=\"text-align: right;\">\n",
              "      <th></th>\n",
              "      <th>user_id</th>\n",
              "      <th>first_name</th>\n",
              "      <th>last_name</th>\n",
              "      <th>age</th>\n",
              "      <th>city</th>\n",
              "      <th>reg_date</th>\n",
              "      <th>plan</th>\n",
              "      <th>churn_date</th>\n",
              "    </tr>\n",
              "  </thead>\n",
              "  <tbody>\n",
              "    <tr>\n",
              "      <th>0</th>\n",
              "      <td>1000</td>\n",
              "      <td>Anamaria</td>\n",
              "      <td>Bauer</td>\n",
              "      <td>45</td>\n",
              "      <td>Atlanta-Sandy Springs-Roswell, GA MSA</td>\n",
              "      <td>2018-12-24</td>\n",
              "      <td>ultimate</td>\n",
              "      <td>NaN</td>\n",
              "    </tr>\n",
              "    <tr>\n",
              "      <th>1</th>\n",
              "      <td>1001</td>\n",
              "      <td>Mickey</td>\n",
              "      <td>Wilkerson</td>\n",
              "      <td>28</td>\n",
              "      <td>Seattle-Tacoma-Bellevue, WA MSA</td>\n",
              "      <td>2018-08-13</td>\n",
              "      <td>surf</td>\n",
              "      <td>NaN</td>\n",
              "    </tr>\n",
              "    <tr>\n",
              "      <th>2</th>\n",
              "      <td>1002</td>\n",
              "      <td>Carlee</td>\n",
              "      <td>Hoffman</td>\n",
              "      <td>36</td>\n",
              "      <td>Las Vegas-Henderson-Paradise, NV MSA</td>\n",
              "      <td>2018-10-21</td>\n",
              "      <td>surf</td>\n",
              "      <td>NaN</td>\n",
              "    </tr>\n",
              "    <tr>\n",
              "      <th>3</th>\n",
              "      <td>1003</td>\n",
              "      <td>Reynaldo</td>\n",
              "      <td>Jenkins</td>\n",
              "      <td>52</td>\n",
              "      <td>Tulsa, OK MSA</td>\n",
              "      <td>2018-01-28</td>\n",
              "      <td>surf</td>\n",
              "      <td>NaN</td>\n",
              "    </tr>\n",
              "    <tr>\n",
              "      <th>4</th>\n",
              "      <td>1004</td>\n",
              "      <td>Leonila</td>\n",
              "      <td>Thompson</td>\n",
              "      <td>40</td>\n",
              "      <td>Seattle-Tacoma-Bellevue, WA MSA</td>\n",
              "      <td>2018-05-23</td>\n",
              "      <td>surf</td>\n",
              "      <td>NaN</td>\n",
              "    </tr>\n",
              "    <tr>\n",
              "      <th>5</th>\n",
              "      <td>1005</td>\n",
              "      <td>Livia</td>\n",
              "      <td>Shields</td>\n",
              "      <td>31</td>\n",
              "      <td>Dallas-Fort Worth-Arlington, TX MSA</td>\n",
              "      <td>2018-11-29</td>\n",
              "      <td>surf</td>\n",
              "      <td>NaN</td>\n",
              "    </tr>\n",
              "    <tr>\n",
              "      <th>6</th>\n",
              "      <td>1006</td>\n",
              "      <td>Jesusa</td>\n",
              "      <td>Bradford</td>\n",
              "      <td>73</td>\n",
              "      <td>San Francisco-Oakland-Berkeley, CA MSA</td>\n",
              "      <td>2018-11-27</td>\n",
              "      <td>ultimate</td>\n",
              "      <td>2018-12-18</td>\n",
              "    </tr>\n",
              "    <tr>\n",
              "      <th>7</th>\n",
              "      <td>1007</td>\n",
              "      <td>Eusebio</td>\n",
              "      <td>Welch</td>\n",
              "      <td>42</td>\n",
              "      <td>Grand Rapids-Kentwood, MI MSA</td>\n",
              "      <td>2018-07-11</td>\n",
              "      <td>surf</td>\n",
              "      <td>NaN</td>\n",
              "    </tr>\n",
              "    <tr>\n",
              "      <th>8</th>\n",
              "      <td>1008</td>\n",
              "      <td>Emely</td>\n",
              "      <td>Hoffman</td>\n",
              "      <td>53</td>\n",
              "      <td>Orlando-Kissimmee-Sanford, FL MSA</td>\n",
              "      <td>2018-08-03</td>\n",
              "      <td>ultimate</td>\n",
              "      <td>NaN</td>\n",
              "    </tr>\n",
              "    <tr>\n",
              "      <th>9</th>\n",
              "      <td>1009</td>\n",
              "      <td>Gerry</td>\n",
              "      <td>Little</td>\n",
              "      <td>19</td>\n",
              "      <td>San Jose-Sunnyvale-Santa Clara, CA MSA</td>\n",
              "      <td>2018-04-22</td>\n",
              "      <td>surf</td>\n",
              "      <td>NaN</td>\n",
              "    </tr>\n",
              "  </tbody>\n",
              "</table>\n",
              "</div>"
            ],
            "text/plain": [
              "   user_id first_name  last_name  age                                    city  \\\n",
              "0     1000   Anamaria      Bauer   45   Atlanta-Sandy Springs-Roswell, GA MSA   \n",
              "1     1001     Mickey  Wilkerson   28         Seattle-Tacoma-Bellevue, WA MSA   \n",
              "2     1002     Carlee    Hoffman   36    Las Vegas-Henderson-Paradise, NV MSA   \n",
              "3     1003   Reynaldo    Jenkins   52                           Tulsa, OK MSA   \n",
              "4     1004    Leonila   Thompson   40         Seattle-Tacoma-Bellevue, WA MSA   \n",
              "5     1005      Livia    Shields   31     Dallas-Fort Worth-Arlington, TX MSA   \n",
              "6     1006     Jesusa   Bradford   73  San Francisco-Oakland-Berkeley, CA MSA   \n",
              "7     1007    Eusebio      Welch   42           Grand Rapids-Kentwood, MI MSA   \n",
              "8     1008      Emely    Hoffman   53       Orlando-Kissimmee-Sanford, FL MSA   \n",
              "9     1009      Gerry     Little   19  San Jose-Sunnyvale-Santa Clara, CA MSA   \n",
              "\n",
              "    reg_date      plan  churn_date  \n",
              "0 2018-12-24  ultimate         NaN  \n",
              "1 2018-08-13      surf         NaN  \n",
              "2 2018-10-21      surf         NaN  \n",
              "3 2018-01-28      surf         NaN  \n",
              "4 2018-05-23      surf         NaN  \n",
              "5 2018-11-29      surf         NaN  \n",
              "6 2018-11-27  ultimate  2018-12-18  \n",
              "7 2018-07-11      surf         NaN  \n",
              "8 2018-08-03  ultimate         NaN  \n",
              "9 2018-04-22      surf         NaN  "
            ]
          },
          "execution_count": 15,
          "metadata": {},
          "output_type": "execute_result"
        }
      ],
      "source": [
        "usuarios.head(10)"
      ]
    },
    {
      "cell_type": "code",
      "execution_count": null,
      "metadata": {
        "id": "qLYcsqIWX6uL"
      },
      "outputs": [],
      "source": [
        "# Añadiremos una columna con lo que paga cada usuario por su plan inicial\n",
        "def pago_por_plan(row):\n",
        "    planes = row['plan']\n",
        "    if planes == 'surf':\n",
        "        return 20\n",
        "    else:\n",
        "        return 70\n",
        "usuarios['usd_per_plan'] = usuarios.apply(pago_por_plan, axis=1)"
      ]
    },
    {
      "cell_type": "code",
      "execution_count": null,
      "metadata": {
        "id": "JFzPa7BcX6uM",
        "outputId": "ce1326bd-136b-4db5-d79f-7752a3288af3"
      },
      "outputs": [
        {
          "data": {
            "text/html": [
              "<div>\n",
              "<style scoped>\n",
              "    .dataframe tbody tr th:only-of-type {\n",
              "        vertical-align: middle;\n",
              "    }\n",
              "\n",
              "    .dataframe tbody tr th {\n",
              "        vertical-align: top;\n",
              "    }\n",
              "\n",
              "    .dataframe thead th {\n",
              "        text-align: right;\n",
              "    }\n",
              "</style>\n",
              "<table border=\"1\" class=\"dataframe\">\n",
              "  <thead>\n",
              "    <tr style=\"text-align: right;\">\n",
              "      <th></th>\n",
              "      <th>user_id</th>\n",
              "      <th>first_name</th>\n",
              "      <th>last_name</th>\n",
              "      <th>age</th>\n",
              "      <th>city</th>\n",
              "      <th>reg_date</th>\n",
              "      <th>plan</th>\n",
              "      <th>churn_date</th>\n",
              "      <th>usd_per_plan</th>\n",
              "    </tr>\n",
              "  </thead>\n",
              "  <tbody>\n",
              "    <tr>\n",
              "      <th>0</th>\n",
              "      <td>1000</td>\n",
              "      <td>Anamaria</td>\n",
              "      <td>Bauer</td>\n",
              "      <td>45</td>\n",
              "      <td>Atlanta-Sandy Springs-Roswell, GA MSA</td>\n",
              "      <td>2018-12-24</td>\n",
              "      <td>ultimate</td>\n",
              "      <td>NaN</td>\n",
              "      <td>70</td>\n",
              "    </tr>\n",
              "    <tr>\n",
              "      <th>1</th>\n",
              "      <td>1001</td>\n",
              "      <td>Mickey</td>\n",
              "      <td>Wilkerson</td>\n",
              "      <td>28</td>\n",
              "      <td>Seattle-Tacoma-Bellevue, WA MSA</td>\n",
              "      <td>2018-08-13</td>\n",
              "      <td>surf</td>\n",
              "      <td>NaN</td>\n",
              "      <td>20</td>\n",
              "    </tr>\n",
              "    <tr>\n",
              "      <th>2</th>\n",
              "      <td>1002</td>\n",
              "      <td>Carlee</td>\n",
              "      <td>Hoffman</td>\n",
              "      <td>36</td>\n",
              "      <td>Las Vegas-Henderson-Paradise, NV MSA</td>\n",
              "      <td>2018-10-21</td>\n",
              "      <td>surf</td>\n",
              "      <td>NaN</td>\n",
              "      <td>20</td>\n",
              "    </tr>\n",
              "    <tr>\n",
              "      <th>3</th>\n",
              "      <td>1003</td>\n",
              "      <td>Reynaldo</td>\n",
              "      <td>Jenkins</td>\n",
              "      <td>52</td>\n",
              "      <td>Tulsa, OK MSA</td>\n",
              "      <td>2018-01-28</td>\n",
              "      <td>surf</td>\n",
              "      <td>NaN</td>\n",
              "      <td>20</td>\n",
              "    </tr>\n",
              "    <tr>\n",
              "      <th>4</th>\n",
              "      <td>1004</td>\n",
              "      <td>Leonila</td>\n",
              "      <td>Thompson</td>\n",
              "      <td>40</td>\n",
              "      <td>Seattle-Tacoma-Bellevue, WA MSA</td>\n",
              "      <td>2018-05-23</td>\n",
              "      <td>surf</td>\n",
              "      <td>NaN</td>\n",
              "      <td>20</td>\n",
              "    </tr>\n",
              "    <tr>\n",
              "      <th>...</th>\n",
              "      <td>...</td>\n",
              "      <td>...</td>\n",
              "      <td>...</td>\n",
              "      <td>...</td>\n",
              "      <td>...</td>\n",
              "      <td>...</td>\n",
              "      <td>...</td>\n",
              "      <td>...</td>\n",
              "      <td>...</td>\n",
              "    </tr>\n",
              "    <tr>\n",
              "      <th>495</th>\n",
              "      <td>1495</td>\n",
              "      <td>Fidel</td>\n",
              "      <td>Sharpe</td>\n",
              "      <td>67</td>\n",
              "      <td>New York-Newark-Jersey City, NY-NJ-PA MSA</td>\n",
              "      <td>2018-09-04</td>\n",
              "      <td>surf</td>\n",
              "      <td>NaN</td>\n",
              "      <td>20</td>\n",
              "    </tr>\n",
              "    <tr>\n",
              "      <th>496</th>\n",
              "      <td>1496</td>\n",
              "      <td>Ariel</td>\n",
              "      <td>Shepherd</td>\n",
              "      <td>49</td>\n",
              "      <td>New Orleans-Metairie, LA MSA</td>\n",
              "      <td>2018-02-20</td>\n",
              "      <td>surf</td>\n",
              "      <td>NaN</td>\n",
              "      <td>20</td>\n",
              "    </tr>\n",
              "    <tr>\n",
              "      <th>497</th>\n",
              "      <td>1497</td>\n",
              "      <td>Donte</td>\n",
              "      <td>Barrera</td>\n",
              "      <td>49</td>\n",
              "      <td>Los Angeles-Long Beach-Anaheim, CA MSA</td>\n",
              "      <td>2018-12-10</td>\n",
              "      <td>ultimate</td>\n",
              "      <td>NaN</td>\n",
              "      <td>70</td>\n",
              "    </tr>\n",
              "    <tr>\n",
              "      <th>498</th>\n",
              "      <td>1498</td>\n",
              "      <td>Scot</td>\n",
              "      <td>Williamson</td>\n",
              "      <td>51</td>\n",
              "      <td>New York-Newark-Jersey City, NY-NJ-PA MSA</td>\n",
              "      <td>2018-02-04</td>\n",
              "      <td>surf</td>\n",
              "      <td>NaN</td>\n",
              "      <td>20</td>\n",
              "    </tr>\n",
              "    <tr>\n",
              "      <th>499</th>\n",
              "      <td>1499</td>\n",
              "      <td>Shena</td>\n",
              "      <td>Dickson</td>\n",
              "      <td>37</td>\n",
              "      <td>Orlando-Kissimmee-Sanford, FL MSA</td>\n",
              "      <td>2018-05-06</td>\n",
              "      <td>surf</td>\n",
              "      <td>NaN</td>\n",
              "      <td>20</td>\n",
              "    </tr>\n",
              "  </tbody>\n",
              "</table>\n",
              "<p>500 rows × 9 columns</p>\n",
              "</div>"
            ],
            "text/plain": [
              "     user_id first_name   last_name  age  \\\n",
              "0       1000   Anamaria       Bauer   45   \n",
              "1       1001     Mickey   Wilkerson   28   \n",
              "2       1002     Carlee     Hoffman   36   \n",
              "3       1003   Reynaldo     Jenkins   52   \n",
              "4       1004    Leonila    Thompson   40   \n",
              "..       ...        ...         ...  ...   \n",
              "495     1495      Fidel      Sharpe   67   \n",
              "496     1496      Ariel    Shepherd   49   \n",
              "497     1497      Donte     Barrera   49   \n",
              "498     1498       Scot  Williamson   51   \n",
              "499     1499      Shena     Dickson   37   \n",
              "\n",
              "                                          city   reg_date      plan  \\\n",
              "0        Atlanta-Sandy Springs-Roswell, GA MSA 2018-12-24  ultimate   \n",
              "1              Seattle-Tacoma-Bellevue, WA MSA 2018-08-13      surf   \n",
              "2         Las Vegas-Henderson-Paradise, NV MSA 2018-10-21      surf   \n",
              "3                                Tulsa, OK MSA 2018-01-28      surf   \n",
              "4              Seattle-Tacoma-Bellevue, WA MSA 2018-05-23      surf   \n",
              "..                                         ...        ...       ...   \n",
              "495  New York-Newark-Jersey City, NY-NJ-PA MSA 2018-09-04      surf   \n",
              "496               New Orleans-Metairie, LA MSA 2018-02-20      surf   \n",
              "497     Los Angeles-Long Beach-Anaheim, CA MSA 2018-12-10  ultimate   \n",
              "498  New York-Newark-Jersey City, NY-NJ-PA MSA 2018-02-04      surf   \n",
              "499          Orlando-Kissimmee-Sanford, FL MSA 2018-05-06      surf   \n",
              "\n",
              "    churn_date  usd_per_plan  \n",
              "0          NaN            70  \n",
              "1          NaN            20  \n",
              "2          NaN            20  \n",
              "3          NaN            20  \n",
              "4          NaN            20  \n",
              "..         ...           ...  \n",
              "495        NaN            20  \n",
              "496        NaN            20  \n",
              "497        NaN            70  \n",
              "498        NaN            20  \n",
              "499        NaN            20  \n",
              "\n",
              "[500 rows x 9 columns]"
            ]
          },
          "execution_count": 18,
          "metadata": {},
          "output_type": "execute_result"
        }
      ],
      "source": [
        "usuarios"
      ]
    },
    {
      "cell_type": "code",
      "execution_count": null,
      "metadata": {
        "id": "fqBKtKFrX6uN",
        "outputId": "407357b3-537b-4d0a-a132-96bf5ee12857"
      },
      "outputs": [
        {
          "name": "stdout",
          "output_type": "stream",
          "text": [
            "<class 'pandas.core.frame.DataFrame'>\n",
            "RangeIndex: 137735 entries, 0 to 137734\n",
            "Data columns (total 4 columns):\n",
            " #   Column     Non-Null Count   Dtype         \n",
            "---  ------     --------------   -----         \n",
            " 0   id         137735 non-null  object        \n",
            " 1   user_id    137735 non-null  int64         \n",
            " 2   call_date  137735 non-null  datetime64[ns]\n",
            " 3   duration   137735 non-null  float64       \n",
            "dtypes: datetime64[ns](1), float64(1), int64(1), object(1)\n",
            "memory usage: 4.2+ MB\n"
          ]
        }
      ],
      "source": [
        "# Imprime la información/resumen general sobre el DataFrame de las llamadas\n",
        "llamadas.info()"
      ]
    },
    {
      "cell_type": "code",
      "execution_count": null,
      "metadata": {
        "id": "obiiBCoKX6uO",
        "outputId": "75e09646-9521-4e9c-94f2-7bac201c7b8e"
      },
      "outputs": [
        {
          "data": {
            "text/html": [
              "<div>\n",
              "<style scoped>\n",
              "    .dataframe tbody tr th:only-of-type {\n",
              "        vertical-align: middle;\n",
              "    }\n",
              "\n",
              "    .dataframe tbody tr th {\n",
              "        vertical-align: top;\n",
              "    }\n",
              "\n",
              "    .dataframe thead th {\n",
              "        text-align: right;\n",
              "    }\n",
              "</style>\n",
              "<table border=\"1\" class=\"dataframe\">\n",
              "  <thead>\n",
              "    <tr style=\"text-align: right;\">\n",
              "      <th></th>\n",
              "      <th>id</th>\n",
              "      <th>user_id</th>\n",
              "      <th>call_date</th>\n",
              "      <th>duration</th>\n",
              "    </tr>\n",
              "  </thead>\n",
              "  <tbody>\n",
              "    <tr>\n",
              "      <th>0</th>\n",
              "      <td>1000_93</td>\n",
              "      <td>1000</td>\n",
              "      <td>2018-12-27</td>\n",
              "      <td>8.52</td>\n",
              "    </tr>\n",
              "    <tr>\n",
              "      <th>1</th>\n",
              "      <td>1000_145</td>\n",
              "      <td>1000</td>\n",
              "      <td>2018-12-27</td>\n",
              "      <td>13.66</td>\n",
              "    </tr>\n",
              "    <tr>\n",
              "      <th>2</th>\n",
              "      <td>1000_247</td>\n",
              "      <td>1000</td>\n",
              "      <td>2018-12-27</td>\n",
              "      <td>14.48</td>\n",
              "    </tr>\n",
              "    <tr>\n",
              "      <th>3</th>\n",
              "      <td>1000_309</td>\n",
              "      <td>1000</td>\n",
              "      <td>2018-12-28</td>\n",
              "      <td>5.76</td>\n",
              "    </tr>\n",
              "    <tr>\n",
              "      <th>4</th>\n",
              "      <td>1000_380</td>\n",
              "      <td>1000</td>\n",
              "      <td>2018-12-30</td>\n",
              "      <td>4.22</td>\n",
              "    </tr>\n",
              "    <tr>\n",
              "      <th>5</th>\n",
              "      <td>1000_388</td>\n",
              "      <td>1000</td>\n",
              "      <td>2018-12-31</td>\n",
              "      <td>2.20</td>\n",
              "    </tr>\n",
              "    <tr>\n",
              "      <th>6</th>\n",
              "      <td>1000_510</td>\n",
              "      <td>1000</td>\n",
              "      <td>2018-12-27</td>\n",
              "      <td>5.75</td>\n",
              "    </tr>\n",
              "    <tr>\n",
              "      <th>7</th>\n",
              "      <td>1000_521</td>\n",
              "      <td>1000</td>\n",
              "      <td>2018-12-28</td>\n",
              "      <td>14.18</td>\n",
              "    </tr>\n",
              "    <tr>\n",
              "      <th>8</th>\n",
              "      <td>1000_530</td>\n",
              "      <td>1000</td>\n",
              "      <td>2018-12-28</td>\n",
              "      <td>5.77</td>\n",
              "    </tr>\n",
              "    <tr>\n",
              "      <th>9</th>\n",
              "      <td>1000_544</td>\n",
              "      <td>1000</td>\n",
              "      <td>2018-12-26</td>\n",
              "      <td>4.40</td>\n",
              "    </tr>\n",
              "  </tbody>\n",
              "</table>\n",
              "</div>"
            ],
            "text/plain": [
              "         id  user_id  call_date  duration\n",
              "0   1000_93     1000 2018-12-27      8.52\n",
              "1  1000_145     1000 2018-12-27     13.66\n",
              "2  1000_247     1000 2018-12-27     14.48\n",
              "3  1000_309     1000 2018-12-28      5.76\n",
              "4  1000_380     1000 2018-12-30      4.22\n",
              "5  1000_388     1000 2018-12-31      2.20\n",
              "6  1000_510     1000 2018-12-27      5.75\n",
              "7  1000_521     1000 2018-12-28     14.18\n",
              "8  1000_530     1000 2018-12-28      5.77\n",
              "9  1000_544     1000 2018-12-26      4.40"
            ]
          },
          "execution_count": 20,
          "metadata": {},
          "output_type": "execute_result"
        }
      ],
      "source": [
        "# Imprime una muestra de datos para llamadas\n",
        "llamadas.head(10)"
      ]
    },
    {
      "cell_type": "code",
      "execution_count": null,
      "metadata": {
        "id": "8tFABhK7X6uO",
        "outputId": "b93c2b3c-89ba-4c1b-97c4-ea419d8d7174"
      },
      "outputs": [
        {
          "data": {
            "text/html": [
              "<div>\n",
              "<style scoped>\n",
              "    .dataframe tbody tr th:only-of-type {\n",
              "        vertical-align: middle;\n",
              "    }\n",
              "\n",
              "    .dataframe tbody tr th {\n",
              "        vertical-align: top;\n",
              "    }\n",
              "\n",
              "    .dataframe thead th {\n",
              "        text-align: right;\n",
              "    }\n",
              "</style>\n",
              "<table border=\"1\" class=\"dataframe\">\n",
              "  <thead>\n",
              "    <tr style=\"text-align: right;\">\n",
              "      <th></th>\n",
              "      <th>id</th>\n",
              "      <th>user_id</th>\n",
              "      <th>call_date</th>\n",
              "      <th>duration</th>\n",
              "    </tr>\n",
              "  </thead>\n",
              "  <tbody>\n",
              "    <tr>\n",
              "      <th>19</th>\n",
              "      <td>1001_4</td>\n",
              "      <td>1001</td>\n",
              "      <td>2018-12-05</td>\n",
              "      <td>0.0</td>\n",
              "    </tr>\n",
              "    <tr>\n",
              "      <th>25</th>\n",
              "      <td>1001_13</td>\n",
              "      <td>1001</td>\n",
              "      <td>2018-12-24</td>\n",
              "      <td>0.0</td>\n",
              "    </tr>\n",
              "    <tr>\n",
              "      <th>31</th>\n",
              "      <td>1001_30</td>\n",
              "      <td>1001</td>\n",
              "      <td>2018-10-17</td>\n",
              "      <td>0.0</td>\n",
              "    </tr>\n",
              "    <tr>\n",
              "      <th>32</th>\n",
              "      <td>1001_31</td>\n",
              "      <td>1001</td>\n",
              "      <td>2018-11-03</td>\n",
              "      <td>0.0</td>\n",
              "    </tr>\n",
              "    <tr>\n",
              "      <th>34</th>\n",
              "      <td>1001_35</td>\n",
              "      <td>1001</td>\n",
              "      <td>2018-12-21</td>\n",
              "      <td>0.0</td>\n",
              "    </tr>\n",
              "    <tr>\n",
              "      <th>...</th>\n",
              "      <td>...</td>\n",
              "      <td>...</td>\n",
              "      <td>...</td>\n",
              "      <td>...</td>\n",
              "    </tr>\n",
              "    <tr>\n",
              "      <th>137714</th>\n",
              "      <td>1499_183</td>\n",
              "      <td>1499</td>\n",
              "      <td>2018-11-10</td>\n",
              "      <td>0.0</td>\n",
              "    </tr>\n",
              "    <tr>\n",
              "      <th>137715</th>\n",
              "      <td>1499_184</td>\n",
              "      <td>1499</td>\n",
              "      <td>2018-09-15</td>\n",
              "      <td>0.0</td>\n",
              "    </tr>\n",
              "    <tr>\n",
              "      <th>137720</th>\n",
              "      <td>1499_189</td>\n",
              "      <td>1499</td>\n",
              "      <td>2018-12-27</td>\n",
              "      <td>0.0</td>\n",
              "    </tr>\n",
              "    <tr>\n",
              "      <th>137722</th>\n",
              "      <td>1499_191</td>\n",
              "      <td>1499</td>\n",
              "      <td>2018-12-24</td>\n",
              "      <td>0.0</td>\n",
              "    </tr>\n",
              "    <tr>\n",
              "      <th>137725</th>\n",
              "      <td>1499_194</td>\n",
              "      <td>1499</td>\n",
              "      <td>2018-10-31</td>\n",
              "      <td>0.0</td>\n",
              "    </tr>\n",
              "  </tbody>\n",
              "</table>\n",
              "<p>26834 rows × 4 columns</p>\n",
              "</div>"
            ],
            "text/plain": [
              "              id  user_id  call_date  duration\n",
              "19        1001_4     1001 2018-12-05       0.0\n",
              "25       1001_13     1001 2018-12-24       0.0\n",
              "31       1001_30     1001 2018-10-17       0.0\n",
              "32       1001_31     1001 2018-11-03       0.0\n",
              "34       1001_35     1001 2018-12-21       0.0\n",
              "...          ...      ...        ...       ...\n",
              "137714  1499_183     1499 2018-11-10       0.0\n",
              "137715  1499_184     1499 2018-09-15       0.0\n",
              "137720  1499_189     1499 2018-12-27       0.0\n",
              "137722  1499_191     1499 2018-12-24       0.0\n",
              "137725  1499_194     1499 2018-10-31       0.0\n",
              "\n",
              "[26834 rows x 4 columns]"
            ]
          },
          "execution_count": 21,
          "metadata": {},
          "output_type": "execute_result"
        }
      ],
      "source": [
        "llamadas[llamadas['duration'] == 0.0]"
      ]
    },
    {
      "cell_type": "markdown",
      "metadata": {
        "id": "6sOhrXPkX6uZ"
      },
      "source": [
        "- Aqui los problemas principales identificados fueron el tipo de datos de call_date que se cambiaron a datetime, despues observe que hay llamadas con duración 0, revise cuantos datos son para ver si podian ser eliminados sin perjudicar, pero represetan el 23% de los datos por ende decidí dejarlos así pero habrá que interpretar que fueron llamadas perdidas asi que no se cobrará. De igual manera se reviso si existian valores atipicos en alguna de las columnas y no es el caso, por consiguiente procederemos con el analisis."
      ]
    },
    {
      "cell_type": "code",
      "execution_count": null,
      "metadata": {
        "id": "Mmx9gGy2X6ua",
        "outputId": "7bfe97bd-c8ce-4b94-e2a7-fb866fecc0b9"
      },
      "outputs": [
        {
          "data": {
            "text/html": [
              "<div>\n",
              "<style scoped>\n",
              "    .dataframe tbody tr th:only-of-type {\n",
              "        vertical-align: middle;\n",
              "    }\n",
              "\n",
              "    .dataframe tbody tr th {\n",
              "        vertical-align: top;\n",
              "    }\n",
              "\n",
              "    .dataframe thead th {\n",
              "        text-align: right;\n",
              "    }\n",
              "</style>\n",
              "<table border=\"1\" class=\"dataframe\">\n",
              "  <thead>\n",
              "    <tr style=\"text-align: right;\">\n",
              "      <th></th>\n",
              "      <th>id</th>\n",
              "      <th>user_id</th>\n",
              "      <th>call_date</th>\n",
              "      <th>duration</th>\n",
              "    </tr>\n",
              "  </thead>\n",
              "  <tbody>\n",
              "    <tr>\n",
              "      <th>0</th>\n",
              "      <td>1000_93</td>\n",
              "      <td>1000</td>\n",
              "      <td>2018-12-27</td>\n",
              "      <td>9.0</td>\n",
              "    </tr>\n",
              "    <tr>\n",
              "      <th>1</th>\n",
              "      <td>1000_145</td>\n",
              "      <td>1000</td>\n",
              "      <td>2018-12-27</td>\n",
              "      <td>14.0</td>\n",
              "    </tr>\n",
              "    <tr>\n",
              "      <th>2</th>\n",
              "      <td>1000_247</td>\n",
              "      <td>1000</td>\n",
              "      <td>2018-12-27</td>\n",
              "      <td>15.0</td>\n",
              "    </tr>\n",
              "    <tr>\n",
              "      <th>3</th>\n",
              "      <td>1000_309</td>\n",
              "      <td>1000</td>\n",
              "      <td>2018-12-28</td>\n",
              "      <td>6.0</td>\n",
              "    </tr>\n",
              "    <tr>\n",
              "      <th>4</th>\n",
              "      <td>1000_380</td>\n",
              "      <td>1000</td>\n",
              "      <td>2018-12-30</td>\n",
              "      <td>5.0</td>\n",
              "    </tr>\n",
              "    <tr>\n",
              "      <th>...</th>\n",
              "      <td>...</td>\n",
              "      <td>...</td>\n",
              "      <td>...</td>\n",
              "      <td>...</td>\n",
              "    </tr>\n",
              "    <tr>\n",
              "      <th>137730</th>\n",
              "      <td>1499_199</td>\n",
              "      <td>1499</td>\n",
              "      <td>2018-11-21</td>\n",
              "      <td>9.0</td>\n",
              "    </tr>\n",
              "    <tr>\n",
              "      <th>137731</th>\n",
              "      <td>1499_200</td>\n",
              "      <td>1499</td>\n",
              "      <td>2018-10-20</td>\n",
              "      <td>11.0</td>\n",
              "    </tr>\n",
              "    <tr>\n",
              "      <th>137732</th>\n",
              "      <td>1499_201</td>\n",
              "      <td>1499</td>\n",
              "      <td>2018-09-21</td>\n",
              "      <td>9.0</td>\n",
              "    </tr>\n",
              "    <tr>\n",
              "      <th>137733</th>\n",
              "      <td>1499_202</td>\n",
              "      <td>1499</td>\n",
              "      <td>2018-10-10</td>\n",
              "      <td>1.0</td>\n",
              "    </tr>\n",
              "    <tr>\n",
              "      <th>137734</th>\n",
              "      <td>1499_203</td>\n",
              "      <td>1499</td>\n",
              "      <td>2018-12-29</td>\n",
              "      <td>14.0</td>\n",
              "    </tr>\n",
              "  </tbody>\n",
              "</table>\n",
              "<p>137735 rows × 4 columns</p>\n",
              "</div>"
            ],
            "text/plain": [
              "              id  user_id  call_date  duration\n",
              "0        1000_93     1000 2018-12-27       9.0\n",
              "1       1000_145     1000 2018-12-27      14.0\n",
              "2       1000_247     1000 2018-12-27      15.0\n",
              "3       1000_309     1000 2018-12-28       6.0\n",
              "4       1000_380     1000 2018-12-30       5.0\n",
              "...          ...      ...        ...       ...\n",
              "137730  1499_199     1499 2018-11-21       9.0\n",
              "137731  1499_200     1499 2018-10-20      11.0\n",
              "137732  1499_201     1499 2018-09-21       9.0\n",
              "137733  1499_202     1499 2018-10-10       1.0\n",
              "137734  1499_203     1499 2018-12-29      14.0\n",
              "\n",
              "[137735 rows x 4 columns]"
            ]
          },
          "execution_count": 22,
          "metadata": {},
          "output_type": "execute_result"
        }
      ],
      "source": [
        "# Aqui se realiza un redondeo de los minutos hacia arriba.\n",
        "llamadas['duration'] = np.ceil(llamadas['duration'])\n",
        "llamadas"
      ]
    },
    {
      "cell_type": "code",
      "execution_count": null,
      "metadata": {
        "id": "lUtb2K9MX6ub"
      },
      "outputs": [],
      "source": [
        "# Se añade una columna 'month' para que guarde el mes.\n",
        "llamadas['month'] = pd.DatetimeIndex(llamadas['call_date']).month"
      ]
    },
    {
      "cell_type": "code",
      "execution_count": null,
      "metadata": {
        "id": "nWdgFjTrX6uc",
        "outputId": "ee1f7004-1194-45d4-dd89-e464e7f20a24"
      },
      "outputs": [
        {
          "name": "stdout",
          "output_type": "stream",
          "text": [
            "<class 'pandas.core.frame.DataFrame'>\n",
            "RangeIndex: 76051 entries, 0 to 76050\n",
            "Data columns (total 3 columns):\n",
            " #   Column        Non-Null Count  Dtype         \n",
            "---  ------        --------------  -----         \n",
            " 0   id            76051 non-null  object        \n",
            " 1   user_id       76051 non-null  int64         \n",
            " 2   message_date  76051 non-null  datetime64[ns]\n",
            "dtypes: datetime64[ns](1), int64(1), object(1)\n",
            "memory usage: 1.7+ MB\n"
          ]
        }
      ],
      "source": [
        "# Imprime la información/resumen general sobre el DataFrame de los mensajes\n",
        "mensajes.info()"
      ]
    },
    {
      "cell_type": "code",
      "execution_count": null,
      "metadata": {
        "id": "7A-1CBkDX6uc",
        "outputId": "4d26eaa9-59c5-4210-dcb4-9768d8a1b767"
      },
      "outputs": [
        {
          "data": {
            "text/html": [
              "<div>\n",
              "<style scoped>\n",
              "    .dataframe tbody tr th:only-of-type {\n",
              "        vertical-align: middle;\n",
              "    }\n",
              "\n",
              "    .dataframe tbody tr th {\n",
              "        vertical-align: top;\n",
              "    }\n",
              "\n",
              "    .dataframe thead th {\n",
              "        text-align: right;\n",
              "    }\n",
              "</style>\n",
              "<table border=\"1\" class=\"dataframe\">\n",
              "  <thead>\n",
              "    <tr style=\"text-align: right;\">\n",
              "      <th></th>\n",
              "      <th>id</th>\n",
              "      <th>user_id</th>\n",
              "      <th>message_date</th>\n",
              "    </tr>\n",
              "  </thead>\n",
              "  <tbody>\n",
              "    <tr>\n",
              "      <th>0</th>\n",
              "      <td>1000_125</td>\n",
              "      <td>1000</td>\n",
              "      <td>2018-12-27</td>\n",
              "    </tr>\n",
              "    <tr>\n",
              "      <th>1</th>\n",
              "      <td>1000_160</td>\n",
              "      <td>1000</td>\n",
              "      <td>2018-12-31</td>\n",
              "    </tr>\n",
              "    <tr>\n",
              "      <th>2</th>\n",
              "      <td>1000_223</td>\n",
              "      <td>1000</td>\n",
              "      <td>2018-12-31</td>\n",
              "    </tr>\n",
              "    <tr>\n",
              "      <th>3</th>\n",
              "      <td>1000_251</td>\n",
              "      <td>1000</td>\n",
              "      <td>2018-12-27</td>\n",
              "    </tr>\n",
              "    <tr>\n",
              "      <th>4</th>\n",
              "      <td>1000_255</td>\n",
              "      <td>1000</td>\n",
              "      <td>2018-12-26</td>\n",
              "    </tr>\n",
              "    <tr>\n",
              "      <th>5</th>\n",
              "      <td>1000_346</td>\n",
              "      <td>1000</td>\n",
              "      <td>2018-12-29</td>\n",
              "    </tr>\n",
              "    <tr>\n",
              "      <th>6</th>\n",
              "      <td>1000_386</td>\n",
              "      <td>1000</td>\n",
              "      <td>2018-12-30</td>\n",
              "    </tr>\n",
              "    <tr>\n",
              "      <th>7</th>\n",
              "      <td>1000_413</td>\n",
              "      <td>1000</td>\n",
              "      <td>2018-12-31</td>\n",
              "    </tr>\n",
              "    <tr>\n",
              "      <th>8</th>\n",
              "      <td>1000_502</td>\n",
              "      <td>1000</td>\n",
              "      <td>2018-12-27</td>\n",
              "    </tr>\n",
              "    <tr>\n",
              "      <th>9</th>\n",
              "      <td>1000_525</td>\n",
              "      <td>1000</td>\n",
              "      <td>2018-12-28</td>\n",
              "    </tr>\n",
              "  </tbody>\n",
              "</table>\n",
              "</div>"
            ],
            "text/plain": [
              "         id  user_id message_date\n",
              "0  1000_125     1000   2018-12-27\n",
              "1  1000_160     1000   2018-12-31\n",
              "2  1000_223     1000   2018-12-31\n",
              "3  1000_251     1000   2018-12-27\n",
              "4  1000_255     1000   2018-12-26\n",
              "5  1000_346     1000   2018-12-29\n",
              "6  1000_386     1000   2018-12-30\n",
              "7  1000_413     1000   2018-12-31\n",
              "8  1000_502     1000   2018-12-27\n",
              "9  1000_525     1000   2018-12-28"
            ]
          },
          "execution_count": 25,
          "metadata": {},
          "output_type": "execute_result"
        }
      ],
      "source": [
        "# Imprime una muestra de datos para los mensajes\n",
        "mensajes.head(10)"
      ]
    },
    {
      "cell_type": "markdown",
      "metadata": {
        "id": "XX3zxaPTX6ud"
      },
      "source": [
        "- En estos datos podemos observar las fechas en la que los usuarios enviaron mensajes, de igual manera el principal problema fue message_date estaba en tipo str y se cambio a datetime para poder incluir una columna 'month' para poder hacer uso de ella en las futuras agrupaciones por mes por usuario."
      ]
    },
    {
      "cell_type": "code",
      "execution_count": null,
      "metadata": {
        "id": "vYld5fbjX6ue"
      },
      "outputs": [],
      "source": [
        "# Aqui se añadira la cantidad de mensajes que envio cada usuario por mes\n",
        "mensajes_x_usuario = mensajes.groupby('user_id')['id'].count()"
      ]
    },
    {
      "cell_type": "code",
      "execution_count": null,
      "metadata": {
        "id": "Z2ljLbHrX6uf"
      },
      "outputs": [],
      "source": [
        "mensajes['month'] = pd.DatetimeIndex(mensajes['message_date']).month\n",
        "mensajes_mes = mensajes.groupby(['month', 'user_id']).agg({'user_id': ['count']}).reset_index()"
      ]
    },
    {
      "cell_type": "code",
      "execution_count": null,
      "metadata": {
        "id": "pIQscHPSX6uf",
        "outputId": "9ea8284e-6f55-401d-dcfa-e4c0f398b1dc"
      },
      "outputs": [
        {
          "data": {
            "text/plain": [
              "user_id\n",
              "1000     11\n",
              "1001    207\n",
              "1002     88\n",
              "1003     50\n",
              "1004    177\n",
              "       ... \n",
              "1491    409\n",
              "1492    108\n",
              "1494    174\n",
              "1496     65\n",
              "1497     50\n",
              "Name: id, Length: 402, dtype: int64"
            ]
          },
          "execution_count": 29,
          "metadata": {},
          "output_type": "execute_result"
        }
      ],
      "source": [
        "mensajes_x_usuario"
      ]
    },
    {
      "cell_type": "code",
      "execution_count": null,
      "metadata": {
        "id": "3pAI6rmSX6uh",
        "outputId": "5e9e13c0-72b7-4114-90e4-6e11e5e3f4ce"
      },
      "outputs": [
        {
          "name": "stdout",
          "output_type": "stream",
          "text": [
            "<class 'pandas.core.frame.DataFrame'>\n",
            "RangeIndex: 104825 entries, 0 to 104824\n",
            "Data columns (total 4 columns):\n",
            " #   Column        Non-Null Count   Dtype         \n",
            "---  ------        --------------   -----         \n",
            " 0   id            104825 non-null  object        \n",
            " 1   user_id       104825 non-null  int64         \n",
            " 2   session_date  104825 non-null  datetime64[ns]\n",
            " 3   mb_used       104825 non-null  float64       \n",
            "dtypes: datetime64[ns](1), float64(1), int64(1), object(1)\n",
            "memory usage: 3.2+ MB\n"
          ]
        }
      ],
      "source": [
        "# Imprime la información/resumen general sobre el DataFrame de los mensajes\n",
        "internet.info()"
      ]
    },
    {
      "cell_type": "code",
      "execution_count": null,
      "metadata": {
        "id": "oKs0mlwVX6ui",
        "outputId": "d02b56df-eaa9-437b-dae3-3b7d11a42be8"
      },
      "outputs": [
        {
          "data": {
            "text/html": [
              "<div>\n",
              "<style scoped>\n",
              "    .dataframe tbody tr th:only-of-type {\n",
              "        vertical-align: middle;\n",
              "    }\n",
              "\n",
              "    .dataframe tbody tr th {\n",
              "        vertical-align: top;\n",
              "    }\n",
              "\n",
              "    .dataframe thead th {\n",
              "        text-align: right;\n",
              "    }\n",
              "</style>\n",
              "<table border=\"1\" class=\"dataframe\">\n",
              "  <thead>\n",
              "    <tr style=\"text-align: right;\">\n",
              "      <th></th>\n",
              "      <th>id</th>\n",
              "      <th>user_id</th>\n",
              "      <th>session_date</th>\n",
              "      <th>mb_used</th>\n",
              "    </tr>\n",
              "  </thead>\n",
              "  <tbody>\n",
              "    <tr>\n",
              "      <th>0</th>\n",
              "      <td>1000_13</td>\n",
              "      <td>1000</td>\n",
              "      <td>2018-12-29</td>\n",
              "      <td>89.86</td>\n",
              "    </tr>\n",
              "    <tr>\n",
              "      <th>1</th>\n",
              "      <td>1000_204</td>\n",
              "      <td>1000</td>\n",
              "      <td>2018-12-31</td>\n",
              "      <td>0.00</td>\n",
              "    </tr>\n",
              "    <tr>\n",
              "      <th>2</th>\n",
              "      <td>1000_379</td>\n",
              "      <td>1000</td>\n",
              "      <td>2018-12-28</td>\n",
              "      <td>660.40</td>\n",
              "    </tr>\n",
              "    <tr>\n",
              "      <th>3</th>\n",
              "      <td>1000_413</td>\n",
              "      <td>1000</td>\n",
              "      <td>2018-12-26</td>\n",
              "      <td>270.99</td>\n",
              "    </tr>\n",
              "    <tr>\n",
              "      <th>4</th>\n",
              "      <td>1000_442</td>\n",
              "      <td>1000</td>\n",
              "      <td>2018-12-27</td>\n",
              "      <td>880.22</td>\n",
              "    </tr>\n",
              "    <tr>\n",
              "      <th>5</th>\n",
              "      <td>1001_0</td>\n",
              "      <td>1001</td>\n",
              "      <td>2018-08-24</td>\n",
              "      <td>284.68</td>\n",
              "    </tr>\n",
              "    <tr>\n",
              "      <th>6</th>\n",
              "      <td>1001_3</td>\n",
              "      <td>1001</td>\n",
              "      <td>2018-12-09</td>\n",
              "      <td>656.04</td>\n",
              "    </tr>\n",
              "    <tr>\n",
              "      <th>7</th>\n",
              "      <td>1001_4</td>\n",
              "      <td>1001</td>\n",
              "      <td>2018-11-04</td>\n",
              "      <td>16.97</td>\n",
              "    </tr>\n",
              "    <tr>\n",
              "      <th>8</th>\n",
              "      <td>1001_10</td>\n",
              "      <td>1001</td>\n",
              "      <td>2018-11-27</td>\n",
              "      <td>135.18</td>\n",
              "    </tr>\n",
              "    <tr>\n",
              "      <th>9</th>\n",
              "      <td>1001_15</td>\n",
              "      <td>1001</td>\n",
              "      <td>2018-12-13</td>\n",
              "      <td>761.92</td>\n",
              "    </tr>\n",
              "  </tbody>\n",
              "</table>\n",
              "</div>"
            ],
            "text/plain": [
              "         id  user_id session_date  mb_used\n",
              "0   1000_13     1000   2018-12-29    89.86\n",
              "1  1000_204     1000   2018-12-31     0.00\n",
              "2  1000_379     1000   2018-12-28   660.40\n",
              "3  1000_413     1000   2018-12-26   270.99\n",
              "4  1000_442     1000   2018-12-27   880.22\n",
              "5    1001_0     1001   2018-08-24   284.68\n",
              "6    1001_3     1001   2018-12-09   656.04\n",
              "7    1001_4     1001   2018-11-04    16.97\n",
              "8   1001_10     1001   2018-11-27   135.18\n",
              "9   1001_15     1001   2018-12-13   761.92"
            ]
          },
          "execution_count": 31,
          "metadata": {},
          "output_type": "execute_result"
        }
      ],
      "source": [
        "# Imprime una muestra de datos para el tráfico de internet\n",
        "internet.head(10)"
      ]
    },
    {
      "cell_type": "code",
      "execution_count": null,
      "metadata": {
        "id": "PVwXjSaRX6uj",
        "outputId": "22b8889d-f630-4995-a83a-3b67dddfb048"
      },
      "outputs": [
        {
          "data": {
            "text/html": [
              "<div>\n",
              "<style scoped>\n",
              "    .dataframe tbody tr th:only-of-type {\n",
              "        vertical-align: middle;\n",
              "    }\n",
              "\n",
              "    .dataframe tbody tr th {\n",
              "        vertical-align: top;\n",
              "    }\n",
              "\n",
              "    .dataframe thead th {\n",
              "        text-align: right;\n",
              "    }\n",
              "</style>\n",
              "<table border=\"1\" class=\"dataframe\">\n",
              "  <thead>\n",
              "    <tr style=\"text-align: right;\">\n",
              "      <th></th>\n",
              "      <th>id</th>\n",
              "      <th>user_id</th>\n",
              "      <th>session_date</th>\n",
              "      <th>mb_used</th>\n",
              "    </tr>\n",
              "  </thead>\n",
              "  <tbody>\n",
              "    <tr>\n",
              "      <th>92312</th>\n",
              "      <td>1430_447</td>\n",
              "      <td>1430</td>\n",
              "      <td>2018-12-30</td>\n",
              "      <td>1693.47</td>\n",
              "    </tr>\n",
              "  </tbody>\n",
              "</table>\n",
              "</div>"
            ],
            "text/plain": [
              "             id  user_id session_date  mb_used\n",
              "92312  1430_447     1430   2018-12-30  1693.47"
            ]
          },
          "execution_count": 32,
          "metadata": {},
          "output_type": "execute_result"
        }
      ],
      "source": [
        "internet[internet['mb_used'] >= 1690]"
      ]
    },
    {
      "cell_type": "markdown",
      "metadata": {
        "id": "O6fDhNJCX6uj"
      },
      "source": [
        "- En este dataframe podemos observar que hay usuarios que no usaron ni un mb, asi como en la columna de llamadas habian usuarios con 0 minutos aqui se realizo un calculo para ver cuantos datos representaban y nos dio 13%, sigue siendo un valor alto como para solo eliminar los datos asi que utilizaré el mismo criterio y no se cobrará a aquellos que hayan usado 0 mb. De igual manera se deberia de añadir una columna de gb_used para poder realizar los calculos mas facilmente."
      ]
    },
    {
      "cell_type": "code",
      "execution_count": null,
      "metadata": {
        "id": "7WjkDTbkX6ul",
        "outputId": "84357445-26fa-47ed-8d26-7b3b15f05e6c"
      },
      "outputs": [
        {
          "data": {
            "text/html": [
              "<div>\n",
              "<style scoped>\n",
              "    .dataframe tbody tr th:only-of-type {\n",
              "        vertical-align: middle;\n",
              "    }\n",
              "\n",
              "    .dataframe tbody tr th {\n",
              "        vertical-align: top;\n",
              "    }\n",
              "\n",
              "    .dataframe thead th {\n",
              "        text-align: right;\n",
              "    }\n",
              "</style>\n",
              "<table border=\"1\" class=\"dataframe\">\n",
              "  <thead>\n",
              "    <tr style=\"text-align: right;\">\n",
              "      <th></th>\n",
              "      <th>id</th>\n",
              "      <th>user_id</th>\n",
              "      <th>session_date</th>\n",
              "      <th>mb_used</th>\n",
              "      <th>month</th>\n",
              "    </tr>\n",
              "  </thead>\n",
              "  <tbody>\n",
              "    <tr>\n",
              "      <th>0</th>\n",
              "      <td>1000_13</td>\n",
              "      <td>1000</td>\n",
              "      <td>2018-12-29</td>\n",
              "      <td>89.86</td>\n",
              "      <td>12</td>\n",
              "    </tr>\n",
              "    <tr>\n",
              "      <th>1</th>\n",
              "      <td>1000_204</td>\n",
              "      <td>1000</td>\n",
              "      <td>2018-12-31</td>\n",
              "      <td>0.00</td>\n",
              "      <td>12</td>\n",
              "    </tr>\n",
              "    <tr>\n",
              "      <th>2</th>\n",
              "      <td>1000_379</td>\n",
              "      <td>1000</td>\n",
              "      <td>2018-12-28</td>\n",
              "      <td>660.40</td>\n",
              "      <td>12</td>\n",
              "    </tr>\n",
              "    <tr>\n",
              "      <th>3</th>\n",
              "      <td>1000_413</td>\n",
              "      <td>1000</td>\n",
              "      <td>2018-12-26</td>\n",
              "      <td>270.99</td>\n",
              "      <td>12</td>\n",
              "    </tr>\n",
              "    <tr>\n",
              "      <th>4</th>\n",
              "      <td>1000_442</td>\n",
              "      <td>1000</td>\n",
              "      <td>2018-12-27</td>\n",
              "      <td>880.22</td>\n",
              "      <td>12</td>\n",
              "    </tr>\n",
              "    <tr>\n",
              "      <th>...</th>\n",
              "      <td>...</td>\n",
              "      <td>...</td>\n",
              "      <td>...</td>\n",
              "      <td>...</td>\n",
              "      <td>...</td>\n",
              "    </tr>\n",
              "    <tr>\n",
              "      <th>104820</th>\n",
              "      <td>1499_215</td>\n",
              "      <td>1499</td>\n",
              "      <td>2018-10-20</td>\n",
              "      <td>218.06</td>\n",
              "      <td>10</td>\n",
              "    </tr>\n",
              "    <tr>\n",
              "      <th>104821</th>\n",
              "      <td>1499_216</td>\n",
              "      <td>1499</td>\n",
              "      <td>2018-12-30</td>\n",
              "      <td>304.72</td>\n",
              "      <td>12</td>\n",
              "    </tr>\n",
              "    <tr>\n",
              "      <th>104822</th>\n",
              "      <td>1499_217</td>\n",
              "      <td>1499</td>\n",
              "      <td>2018-09-22</td>\n",
              "      <td>292.75</td>\n",
              "      <td>9</td>\n",
              "    </tr>\n",
              "    <tr>\n",
              "      <th>104823</th>\n",
              "      <td>1499_218</td>\n",
              "      <td>1499</td>\n",
              "      <td>2018-12-07</td>\n",
              "      <td>0.00</td>\n",
              "      <td>12</td>\n",
              "    </tr>\n",
              "    <tr>\n",
              "      <th>104824</th>\n",
              "      <td>1499_219</td>\n",
              "      <td>1499</td>\n",
              "      <td>2018-12-24</td>\n",
              "      <td>758.31</td>\n",
              "      <td>12</td>\n",
              "    </tr>\n",
              "  </tbody>\n",
              "</table>\n",
              "<p>104825 rows × 5 columns</p>\n",
              "</div>"
            ],
            "text/plain": [
              "              id  user_id session_date  mb_used  month\n",
              "0        1000_13     1000   2018-12-29    89.86     12\n",
              "1       1000_204     1000   2018-12-31     0.00     12\n",
              "2       1000_379     1000   2018-12-28   660.40     12\n",
              "3       1000_413     1000   2018-12-26   270.99     12\n",
              "4       1000_442     1000   2018-12-27   880.22     12\n",
              "...          ...      ...          ...      ...    ...\n",
              "104820  1499_215     1499   2018-10-20   218.06     10\n",
              "104821  1499_216     1499   2018-12-30   304.72     12\n",
              "104822  1499_217     1499   2018-09-22   292.75      9\n",
              "104823  1499_218     1499   2018-12-07     0.00     12\n",
              "104824  1499_219     1499   2018-12-24   758.31     12\n",
              "\n",
              "[104825 rows x 5 columns]"
            ]
          },
          "execution_count": 35,
          "metadata": {},
          "output_type": "execute_result"
        }
      ],
      "source": [
        "# Aqui añadiremos una columna 'month'\n",
        "internet['month'] = pd.DatetimeIndex(internet['session_date']).month\n",
        "internet"
      ]
    },
    {
      "cell_type": "code",
      "execution_count": null,
      "metadata": {
        "id": "qPYRI7ZUX6um",
        "outputId": "6a1049b8-c69f-4ad0-d361-241ecebc68cc"
      },
      "outputs": [
        {
          "data": {
            "text/html": [
              "<div>\n",
              "<style scoped>\n",
              "    .dataframe tbody tr th:only-of-type {\n",
              "        vertical-align: middle;\n",
              "    }\n",
              "\n",
              "    .dataframe tbody tr th {\n",
              "        vertical-align: top;\n",
              "    }\n",
              "\n",
              "    .dataframe thead th {\n",
              "        text-align: right;\n",
              "    }\n",
              "</style>\n",
              "<table border=\"1\" class=\"dataframe\">\n",
              "  <thead>\n",
              "    <tr style=\"text-align: right;\">\n",
              "      <th></th>\n",
              "      <th>messages_included</th>\n",
              "      <th>mb_per_month_included</th>\n",
              "      <th>minutes_included</th>\n",
              "      <th>usd_monthly_pay</th>\n",
              "      <th>usd_per_gb</th>\n",
              "      <th>usd_per_message</th>\n",
              "      <th>usd_per_minute</th>\n",
              "      <th>plan_name</th>\n",
              "      <th>gb_per_month_included</th>\n",
              "    </tr>\n",
              "  </thead>\n",
              "  <tbody>\n",
              "    <tr>\n",
              "      <th>0</th>\n",
              "      <td>50</td>\n",
              "      <td>15360</td>\n",
              "      <td>500</td>\n",
              "      <td>20</td>\n",
              "      <td>10</td>\n",
              "      <td>0.03</td>\n",
              "      <td>0.03</td>\n",
              "      <td>surf</td>\n",
              "      <td>15</td>\n",
              "    </tr>\n",
              "    <tr>\n",
              "      <th>1</th>\n",
              "      <td>1000</td>\n",
              "      <td>30720</td>\n",
              "      <td>3000</td>\n",
              "      <td>70</td>\n",
              "      <td>7</td>\n",
              "      <td>0.01</td>\n",
              "      <td>0.01</td>\n",
              "      <td>ultimate</td>\n",
              "      <td>30</td>\n",
              "    </tr>\n",
              "  </tbody>\n",
              "</table>\n",
              "</div>"
            ],
            "text/plain": [
              "   messages_included  mb_per_month_included  minutes_included  \\\n",
              "0                 50                  15360               500   \n",
              "1               1000                  30720              3000   \n",
              "\n",
              "   usd_monthly_pay  usd_per_gb  usd_per_message  usd_per_minute plan_name  \\\n",
              "0               20          10             0.03            0.03      surf   \n",
              "1               70           7             0.01            0.01  ultimate   \n",
              "\n",
              "   gb_per_month_included  \n",
              "0                     15  \n",
              "1                     30  "
            ]
          },
          "execution_count": 37,
          "metadata": {},
          "output_type": "execute_result"
        }
      ],
      "source": [
        "# Imprime las condiciones del plan y asegúrate de que te resulten claros\n",
        "planes.head()"
      ]
    },
    {
      "cell_type": "code",
      "execution_count": null,
      "metadata": {
        "id": "iRXj95U-X6un",
        "outputId": "d0c12871-b2f3-4af2-a4ea-4814a83a74dd"
      },
      "outputs": [
        {
          "data": {
            "text/html": [
              "<div>\n",
              "<style scoped>\n",
              "    .dataframe tbody tr th:only-of-type {\n",
              "        vertical-align: middle;\n",
              "    }\n",
              "\n",
              "    .dataframe tbody tr th {\n",
              "        vertical-align: top;\n",
              "    }\n",
              "\n",
              "    .dataframe thead th {\n",
              "        text-align: right;\n",
              "    }\n",
              "</style>\n",
              "<table border=\"1\" class=\"dataframe\">\n",
              "  <thead>\n",
              "    <tr style=\"text-align: right;\">\n",
              "      <th></th>\n",
              "      <th>month</th>\n",
              "      <th>user_id</th>\n",
              "      <th>minutes_x_month</th>\n",
              "      <th>calls_x_month</th>\n",
              "    </tr>\n",
              "  </thead>\n",
              "  <tbody>\n",
              "    <tr>\n",
              "      <th>0</th>\n",
              "      <td>1</td>\n",
              "      <td>1042</td>\n",
              "      <td>114.0</td>\n",
              "      <td>18</td>\n",
              "    </tr>\n",
              "    <tr>\n",
              "      <th>1</th>\n",
              "      <td>1</td>\n",
              "      <td>1077</td>\n",
              "      <td>290.0</td>\n",
              "      <td>42</td>\n",
              "    </tr>\n",
              "    <tr>\n",
              "      <th>2</th>\n",
              "      <td>1</td>\n",
              "      <td>1185</td>\n",
              "      <td>181.0</td>\n",
              "      <td>23</td>\n",
              "    </tr>\n",
              "    <tr>\n",
              "      <th>3</th>\n",
              "      <td>1</td>\n",
              "      <td>1196</td>\n",
              "      <td>287.0</td>\n",
              "      <td>42</td>\n",
              "    </tr>\n",
              "    <tr>\n",
              "      <th>4</th>\n",
              "      <td>1</td>\n",
              "      <td>1214</td>\n",
              "      <td>16.0</td>\n",
              "      <td>5</td>\n",
              "    </tr>\n",
              "    <tr>\n",
              "      <th>...</th>\n",
              "      <td>...</td>\n",
              "      <td>...</td>\n",
              "      <td>...</td>\n",
              "      <td>...</td>\n",
              "    </tr>\n",
              "    <tr>\n",
              "      <th>2253</th>\n",
              "      <td>12</td>\n",
              "      <td>1495</td>\n",
              "      <td>492.0</td>\n",
              "      <td>65</td>\n",
              "    </tr>\n",
              "    <tr>\n",
              "      <th>2254</th>\n",
              "      <td>12</td>\n",
              "      <td>1496</td>\n",
              "      <td>294.0</td>\n",
              "      <td>40</td>\n",
              "    </tr>\n",
              "    <tr>\n",
              "      <th>2255</th>\n",
              "      <td>12</td>\n",
              "      <td>1497</td>\n",
              "      <td>300.0</td>\n",
              "      <td>54</td>\n",
              "    </tr>\n",
              "    <tr>\n",
              "      <th>2256</th>\n",
              "      <td>12</td>\n",
              "      <td>1498</td>\n",
              "      <td>339.0</td>\n",
              "      <td>39</td>\n",
              "    </tr>\n",
              "    <tr>\n",
              "      <th>2257</th>\n",
              "      <td>12</td>\n",
              "      <td>1499</td>\n",
              "      <td>496.0</td>\n",
              "      <td>65</td>\n",
              "    </tr>\n",
              "  </tbody>\n",
              "</table>\n",
              "<p>2258 rows × 4 columns</p>\n",
              "</div>"
            ],
            "text/plain": [
              "      month  user_id  minutes_x_month  calls_x_month\n",
              "0         1     1042            114.0             18\n",
              "1         1     1077            290.0             42\n",
              "2         1     1185            181.0             23\n",
              "3         1     1196            287.0             42\n",
              "4         1     1214             16.0              5\n",
              "...     ...      ...              ...            ...\n",
              "2253     12     1495            492.0             65\n",
              "2254     12     1496            294.0             40\n",
              "2255     12     1497            300.0             54\n",
              "2256     12     1498            339.0             39\n",
              "2257     12     1499            496.0             65\n",
              "\n",
              "[2258 rows x 4 columns]"
            ]
          },
          "execution_count": 38,
          "metadata": {},
          "output_type": "execute_result"
        }
      ],
      "source": [
        "# Aqui agrupamos la cantidad de llamadas y minutos realizados por cada usuario dependiendo del mes.\n",
        "llamadas_x_mes = llamadas.groupby(['month', 'user_id']).agg({'duration': ['sum'], 'user_id':['count']}).reset_index()\n",
        "llamadas_x_mes.columns = ['month', 'user_id', 'minutes_x_month', 'calls_x_month']\n",
        "llamadas_x_mes"
      ]
    },
    {
      "cell_type": "code",
      "execution_count": null,
      "metadata": {
        "id": "KK-i0sl3X6un",
        "outputId": "a0115ce9-039a-48e2-bb96-571e0bb11780"
      },
      "outputs": [
        {
          "data": {
            "text/html": [
              "<div>\n",
              "<style scoped>\n",
              "    .dataframe tbody tr th:only-of-type {\n",
              "        vertical-align: middle;\n",
              "    }\n",
              "\n",
              "    .dataframe tbody tr th {\n",
              "        vertical-align: top;\n",
              "    }\n",
              "\n",
              "    .dataframe thead th {\n",
              "        text-align: right;\n",
              "    }\n",
              "</style>\n",
              "<table border=\"1\" class=\"dataframe\">\n",
              "  <thead>\n",
              "    <tr style=\"text-align: right;\">\n",
              "      <th></th>\n",
              "      <th>month</th>\n",
              "      <th>user_id</th>\n",
              "      <th>calls_x_month</th>\n",
              "    </tr>\n",
              "  </thead>\n",
              "  <tbody>\n",
              "    <tr>\n",
              "      <th>0</th>\n",
              "      <td>1</td>\n",
              "      <td>1042</td>\n",
              "      <td>18</td>\n",
              "    </tr>\n",
              "    <tr>\n",
              "      <th>1</th>\n",
              "      <td>1</td>\n",
              "      <td>1077</td>\n",
              "      <td>42</td>\n",
              "    </tr>\n",
              "    <tr>\n",
              "      <th>2</th>\n",
              "      <td>1</td>\n",
              "      <td>1185</td>\n",
              "      <td>23</td>\n",
              "    </tr>\n",
              "    <tr>\n",
              "      <th>3</th>\n",
              "      <td>1</td>\n",
              "      <td>1196</td>\n",
              "      <td>42</td>\n",
              "    </tr>\n",
              "    <tr>\n",
              "      <th>4</th>\n",
              "      <td>1</td>\n",
              "      <td>1214</td>\n",
              "      <td>5</td>\n",
              "    </tr>\n",
              "    <tr>\n",
              "      <th>...</th>\n",
              "      <td>...</td>\n",
              "      <td>...</td>\n",
              "      <td>...</td>\n",
              "    </tr>\n",
              "    <tr>\n",
              "      <th>2253</th>\n",
              "      <td>12</td>\n",
              "      <td>1495</td>\n",
              "      <td>65</td>\n",
              "    </tr>\n",
              "    <tr>\n",
              "      <th>2254</th>\n",
              "      <td>12</td>\n",
              "      <td>1496</td>\n",
              "      <td>40</td>\n",
              "    </tr>\n",
              "    <tr>\n",
              "      <th>2255</th>\n",
              "      <td>12</td>\n",
              "      <td>1497</td>\n",
              "      <td>54</td>\n",
              "    </tr>\n",
              "    <tr>\n",
              "      <th>2256</th>\n",
              "      <td>12</td>\n",
              "      <td>1498</td>\n",
              "      <td>39</td>\n",
              "    </tr>\n",
              "    <tr>\n",
              "      <th>2257</th>\n",
              "      <td>12</td>\n",
              "      <td>1499</td>\n",
              "      <td>65</td>\n",
              "    </tr>\n",
              "  </tbody>\n",
              "</table>\n",
              "<p>2258 rows × 3 columns</p>\n",
              "</div>"
            ],
            "text/plain": [
              "      month  user_id  calls_x_month\n",
              "0         1     1042             18\n",
              "1         1     1077             42\n",
              "2         1     1185             23\n",
              "3         1     1196             42\n",
              "4         1     1214              5\n",
              "...     ...      ...            ...\n",
              "2253     12     1495             65\n",
              "2254     12     1496             40\n",
              "2255     12     1497             54\n",
              "2256     12     1498             39\n",
              "2257     12     1499             65\n",
              "\n",
              "[2258 rows x 3 columns]"
            ]
          },
          "execution_count": 39,
          "metadata": {},
          "output_type": "execute_result"
        }
      ],
      "source": [
        "# Calcula el número de llamadas hechas por cada usuario por mes. Guarda el resultado.\n",
        "llamadas_mes = llamadas.groupby(['month', 'user_id']).agg({'user_id': ['count']}).reset_index()\n",
        "llamadas_mes.columns = ['month', 'user_id', 'calls_x_month']\n",
        "llamadas_mes"
      ]
    },
    {
      "cell_type": "code",
      "execution_count": null,
      "metadata": {
        "id": "MSXtK0LjX6up",
        "outputId": "f8df8408-5be3-4e97-db47-06c46fb77f51"
      },
      "outputs": [
        {
          "data": {
            "text/html": [
              "<div>\n",
              "<style scoped>\n",
              "    .dataframe tbody tr th:only-of-type {\n",
              "        vertical-align: middle;\n",
              "    }\n",
              "\n",
              "    .dataframe tbody tr th {\n",
              "        vertical-align: top;\n",
              "    }\n",
              "\n",
              "    .dataframe thead tr th {\n",
              "        text-align: left;\n",
              "    }\n",
              "</style>\n",
              "<table border=\"1\" class=\"dataframe\">\n",
              "  <thead>\n",
              "    <tr>\n",
              "      <th></th>\n",
              "      <th>month</th>\n",
              "      <th>user_id</th>\n",
              "      <th>duration</th>\n",
              "    </tr>\n",
              "    <tr>\n",
              "      <th></th>\n",
              "      <th></th>\n",
              "      <th></th>\n",
              "      <th>sum</th>\n",
              "    </tr>\n",
              "  </thead>\n",
              "  <tbody>\n",
              "    <tr>\n",
              "      <th>0</th>\n",
              "      <td>1</td>\n",
              "      <td>1042</td>\n",
              "      <td>114.0</td>\n",
              "    </tr>\n",
              "    <tr>\n",
              "      <th>1</th>\n",
              "      <td>1</td>\n",
              "      <td>1077</td>\n",
              "      <td>290.0</td>\n",
              "    </tr>\n",
              "    <tr>\n",
              "      <th>2</th>\n",
              "      <td>1</td>\n",
              "      <td>1185</td>\n",
              "      <td>181.0</td>\n",
              "    </tr>\n",
              "    <tr>\n",
              "      <th>3</th>\n",
              "      <td>1</td>\n",
              "      <td>1196</td>\n",
              "      <td>287.0</td>\n",
              "    </tr>\n",
              "    <tr>\n",
              "      <th>4</th>\n",
              "      <td>1</td>\n",
              "      <td>1214</td>\n",
              "      <td>16.0</td>\n",
              "    </tr>\n",
              "    <tr>\n",
              "      <th>...</th>\n",
              "      <td>...</td>\n",
              "      <td>...</td>\n",
              "      <td>...</td>\n",
              "    </tr>\n",
              "    <tr>\n",
              "      <th>2253</th>\n",
              "      <td>12</td>\n",
              "      <td>1495</td>\n",
              "      <td>492.0</td>\n",
              "    </tr>\n",
              "    <tr>\n",
              "      <th>2254</th>\n",
              "      <td>12</td>\n",
              "      <td>1496</td>\n",
              "      <td>294.0</td>\n",
              "    </tr>\n",
              "    <tr>\n",
              "      <th>2255</th>\n",
              "      <td>12</td>\n",
              "      <td>1497</td>\n",
              "      <td>300.0</td>\n",
              "    </tr>\n",
              "    <tr>\n",
              "      <th>2256</th>\n",
              "      <td>12</td>\n",
              "      <td>1498</td>\n",
              "      <td>339.0</td>\n",
              "    </tr>\n",
              "    <tr>\n",
              "      <th>2257</th>\n",
              "      <td>12</td>\n",
              "      <td>1499</td>\n",
              "      <td>496.0</td>\n",
              "    </tr>\n",
              "  </tbody>\n",
              "</table>\n",
              "<p>2258 rows × 3 columns</p>\n",
              "</div>"
            ],
            "text/plain": [
              "     month user_id duration\n",
              "                        sum\n",
              "0        1    1042    114.0\n",
              "1        1    1077    290.0\n",
              "2        1    1185    181.0\n",
              "3        1    1196    287.0\n",
              "4        1    1214     16.0\n",
              "...    ...     ...      ...\n",
              "2253    12    1495    492.0\n",
              "2254    12    1496    294.0\n",
              "2255    12    1497    300.0\n",
              "2256    12    1498    339.0\n",
              "2257    12    1499    496.0\n",
              "\n",
              "[2258 rows x 3 columns]"
            ]
          },
          "execution_count": 40,
          "metadata": {},
          "output_type": "execute_result"
        }
      ],
      "source": [
        "# Calcula la cantidad de minutos que usó cada usuario por mes. Guarda el resultado.\n",
        "minutos_mes = llamadas.groupby(['month', 'user_id']).agg({'duration': ['sum']}).reset_index()\n",
        "minutos_mes"
      ]
    },
    {
      "cell_type": "code",
      "execution_count": null,
      "metadata": {
        "id": "VExsSmBRX6up",
        "outputId": "586a13ae-7250-4219-a15d-668d0f8c3f73"
      },
      "outputs": [
        {
          "data": {
            "text/html": [
              "<div>\n",
              "<style scoped>\n",
              "    .dataframe tbody tr th:only-of-type {\n",
              "        vertical-align: middle;\n",
              "    }\n",
              "\n",
              "    .dataframe tbody tr th {\n",
              "        vertical-align: top;\n",
              "    }\n",
              "\n",
              "    .dataframe thead th {\n",
              "        text-align: right;\n",
              "    }\n",
              "</style>\n",
              "<table border=\"1\" class=\"dataframe\">\n",
              "  <thead>\n",
              "    <tr style=\"text-align: right;\">\n",
              "      <th></th>\n",
              "      <th>month</th>\n",
              "      <th>user_id</th>\n",
              "      <th>mensajes_x_mes</th>\n",
              "    </tr>\n",
              "  </thead>\n",
              "  <tbody>\n",
              "    <tr>\n",
              "      <th>0</th>\n",
              "      <td>1</td>\n",
              "      <td>1077</td>\n",
              "      <td>37</td>\n",
              "    </tr>\n",
              "    <tr>\n",
              "      <th>1</th>\n",
              "      <td>1</td>\n",
              "      <td>1196</td>\n",
              "      <td>23</td>\n",
              "    </tr>\n",
              "    <tr>\n",
              "      <th>2</th>\n",
              "      <td>1</td>\n",
              "      <td>1214</td>\n",
              "      <td>2</td>\n",
              "    </tr>\n",
              "    <tr>\n",
              "      <th>3</th>\n",
              "      <td>1</td>\n",
              "      <td>1362</td>\n",
              "      <td>21</td>\n",
              "    </tr>\n",
              "    <tr>\n",
              "      <th>4</th>\n",
              "      <td>2</td>\n",
              "      <td>1028</td>\n",
              "      <td>12</td>\n",
              "    </tr>\n",
              "    <tr>\n",
              "      <th>...</th>\n",
              "      <td>...</td>\n",
              "      <td>...</td>\n",
              "      <td>...</td>\n",
              "    </tr>\n",
              "    <tr>\n",
              "      <th>1801</th>\n",
              "      <td>12</td>\n",
              "      <td>1491</td>\n",
              "      <td>43</td>\n",
              "    </tr>\n",
              "    <tr>\n",
              "      <th>1802</th>\n",
              "      <td>12</td>\n",
              "      <td>1492</td>\n",
              "      <td>37</td>\n",
              "    </tr>\n",
              "    <tr>\n",
              "      <th>1803</th>\n",
              "      <td>12</td>\n",
              "      <td>1494</td>\n",
              "      <td>33</td>\n",
              "    </tr>\n",
              "    <tr>\n",
              "      <th>1804</th>\n",
              "      <td>12</td>\n",
              "      <td>1496</td>\n",
              "      <td>11</td>\n",
              "    </tr>\n",
              "    <tr>\n",
              "      <th>1805</th>\n",
              "      <td>12</td>\n",
              "      <td>1497</td>\n",
              "      <td>50</td>\n",
              "    </tr>\n",
              "  </tbody>\n",
              "</table>\n",
              "<p>1806 rows × 3 columns</p>\n",
              "</div>"
            ],
            "text/plain": [
              "      month  user_id  mensajes_x_mes\n",
              "0         1     1077              37\n",
              "1         1     1196              23\n",
              "2         1     1214               2\n",
              "3         1     1362              21\n",
              "4         2     1028              12\n",
              "...     ...      ...             ...\n",
              "1801     12     1491              43\n",
              "1802     12     1492              37\n",
              "1803     12     1494              33\n",
              "1804     12     1496              11\n",
              "1805     12     1497              50\n",
              "\n",
              "[1806 rows x 3 columns]"
            ]
          },
          "execution_count": 41,
          "metadata": {},
          "output_type": "execute_result"
        }
      ],
      "source": [
        "# Calcula el número de mensajes enviados por cada usuario por mes. Guarda el resultado.\n",
        "mensajes_mes = mensajes.groupby(['month', 'user_id']).agg({'user_id': ['count']}).reset_index()\n",
        "mensajes_mes.columns = ['month', 'user_id', 'mensajes_x_mes']\n",
        "mensajes_mes"
      ]
    },
    {
      "cell_type": "code",
      "execution_count": null,
      "metadata": {
        "id": "9T6u3qfeX6uq",
        "outputId": "e6ad48af-a70d-4530-aaa9-0d7b3e3ffc5c"
      },
      "outputs": [
        {
          "data": {
            "text/html": [
              "<div>\n",
              "<style scoped>\n",
              "    .dataframe tbody tr th:only-of-type {\n",
              "        vertical-align: middle;\n",
              "    }\n",
              "\n",
              "    .dataframe tbody tr th {\n",
              "        vertical-align: top;\n",
              "    }\n",
              "\n",
              "    .dataframe thead th {\n",
              "        text-align: right;\n",
              "    }\n",
              "</style>\n",
              "<table border=\"1\" class=\"dataframe\">\n",
              "  <thead>\n",
              "    <tr style=\"text-align: right;\">\n",
              "      <th></th>\n",
              "      <th>month</th>\n",
              "      <th>user_id</th>\n",
              "      <th>monthly_mb_used</th>\n",
              "      <th>sessions</th>\n",
              "      <th>monthly_gb_used</th>\n",
              "    </tr>\n",
              "  </thead>\n",
              "  <tbody>\n",
              "    <tr>\n",
              "      <th>0</th>\n",
              "      <td>1</td>\n",
              "      <td>1042</td>\n",
              "      <td>1854</td>\n",
              "      <td>8</td>\n",
              "      <td>2.0</td>\n",
              "    </tr>\n",
              "    <tr>\n",
              "      <th>1</th>\n",
              "      <td>1</td>\n",
              "      <td>1077</td>\n",
              "      <td>10635</td>\n",
              "      <td>22</td>\n",
              "      <td>11.0</td>\n",
              "    </tr>\n",
              "    <tr>\n",
              "      <th>2</th>\n",
              "      <td>1</td>\n",
              "      <td>1185</td>\n",
              "      <td>6812</td>\n",
              "      <td>25</td>\n",
              "      <td>7.0</td>\n",
              "    </tr>\n",
              "    <tr>\n",
              "      <th>3</th>\n",
              "      <td>1</td>\n",
              "      <td>1196</td>\n",
              "      <td>8908</td>\n",
              "      <td>15</td>\n",
              "      <td>9.0</td>\n",
              "    </tr>\n",
              "    <tr>\n",
              "      <th>4</th>\n",
              "      <td>1</td>\n",
              "      <td>1214</td>\n",
              "      <td>1315</td>\n",
              "      <td>4</td>\n",
              "      <td>2.0</td>\n",
              "    </tr>\n",
              "    <tr>\n",
              "      <th>...</th>\n",
              "      <td>...</td>\n",
              "      <td>...</td>\n",
              "      <td>...</td>\n",
              "      <td>...</td>\n",
              "      <td>...</td>\n",
              "    </tr>\n",
              "    <tr>\n",
              "      <th>2272</th>\n",
              "      <td>12</td>\n",
              "      <td>1495</td>\n",
              "      <td>24097</td>\n",
              "      <td>71</td>\n",
              "      <td>24.0</td>\n",
              "    </tr>\n",
              "    <tr>\n",
              "      <th>2273</th>\n",
              "      <td>12</td>\n",
              "      <td>1496</td>\n",
              "      <td>16438</td>\n",
              "      <td>53</td>\n",
              "      <td>17.0</td>\n",
              "    </tr>\n",
              "    <tr>\n",
              "      <th>2274</th>\n",
              "      <td>12</td>\n",
              "      <td>1497</td>\n",
              "      <td>11106</td>\n",
              "      <td>31</td>\n",
              "      <td>11.0</td>\n",
              "    </tr>\n",
              "    <tr>\n",
              "      <th>2275</th>\n",
              "      <td>12</td>\n",
              "      <td>1498</td>\n",
              "      <td>23137</td>\n",
              "      <td>65</td>\n",
              "      <td>23.0</td>\n",
              "    </tr>\n",
              "    <tr>\n",
              "      <th>2276</th>\n",
              "      <td>12</td>\n",
              "      <td>1499</td>\n",
              "      <td>22059</td>\n",
              "      <td>65</td>\n",
              "      <td>22.0</td>\n",
              "    </tr>\n",
              "  </tbody>\n",
              "</table>\n",
              "<p>2277 rows × 5 columns</p>\n",
              "</div>"
            ],
            "text/plain": [
              "      month  user_id  monthly_mb_used  sessions  monthly_gb_used\n",
              "0         1     1042             1854         8              2.0\n",
              "1         1     1077            10635        22             11.0\n",
              "2         1     1185             6812        25              7.0\n",
              "3         1     1196             8908        15              9.0\n",
              "4         1     1214             1315         4              2.0\n",
              "...     ...      ...              ...       ...              ...\n",
              "2272     12     1495            24097        71             24.0\n",
              "2273     12     1496            16438        53             17.0\n",
              "2274     12     1497            11106        31             11.0\n",
              "2275     12     1498            23137        65             23.0\n",
              "2276     12     1499            22059        65             22.0\n",
              "\n",
              "[2277 rows x 5 columns]"
            ]
          },
          "execution_count": 42,
          "metadata": {},
          "output_type": "execute_result"
        }
      ],
      "source": [
        "# Aqui se agruparan los datos del dataframe internet para dividirlos por mes\n",
        "internet_mes = internet.groupby(['month', 'user_id']).agg({'mb_used': ['sum'], 'id': ['count']}).reset_index()\n",
        "internet_mes.columns = ['month', 'user_id', 'monthly_mb_used', 'sessions']\n",
        "internet_mes['monthly_mb_used'] = internet_mes['monthly_mb_used'].astype('int64')\n",
        "internet_mes['monthly_gb_used'] = (internet_mes['monthly_mb_used'] / 1024)\n",
        "internet_mes['monthly_gb_used'] = np.ceil(internet_mes['monthly_gb_used'])\n",
        "internet_mes"
      ]
    },
    {
      "cell_type": "code",
      "execution_count": null,
      "metadata": {
        "id": "nIGZI-3jX6ur",
        "outputId": "5ca2692f-8dd5-4f3c-ad5a-b6542d04f9c2"
      },
      "outputs": [
        {
          "data": {
            "text/html": [
              "<div>\n",
              "<style scoped>\n",
              "    .dataframe tbody tr th:only-of-type {\n",
              "        vertical-align: middle;\n",
              "    }\n",
              "\n",
              "    .dataframe tbody tr th {\n",
              "        vertical-align: top;\n",
              "    }\n",
              "\n",
              "    .dataframe thead th {\n",
              "        text-align: right;\n",
              "    }\n",
              "</style>\n",
              "<table border=\"1\" class=\"dataframe\">\n",
              "  <thead>\n",
              "    <tr style=\"text-align: right;\">\n",
              "      <th></th>\n",
              "      <th>month</th>\n",
              "      <th>user_id</th>\n",
              "      <th>monthly_gb_used</th>\n",
              "    </tr>\n",
              "  </thead>\n",
              "  <tbody>\n",
              "    <tr>\n",
              "      <th>0</th>\n",
              "      <td>1</td>\n",
              "      <td>1042</td>\n",
              "      <td>2.0</td>\n",
              "    </tr>\n",
              "    <tr>\n",
              "      <th>1</th>\n",
              "      <td>1</td>\n",
              "      <td>1077</td>\n",
              "      <td>11.0</td>\n",
              "    </tr>\n",
              "    <tr>\n",
              "      <th>2</th>\n",
              "      <td>1</td>\n",
              "      <td>1185</td>\n",
              "      <td>7.0</td>\n",
              "    </tr>\n",
              "    <tr>\n",
              "      <th>3</th>\n",
              "      <td>1</td>\n",
              "      <td>1196</td>\n",
              "      <td>9.0</td>\n",
              "    </tr>\n",
              "    <tr>\n",
              "      <th>4</th>\n",
              "      <td>1</td>\n",
              "      <td>1214</td>\n",
              "      <td>2.0</td>\n",
              "    </tr>\n",
              "    <tr>\n",
              "      <th>...</th>\n",
              "      <td>...</td>\n",
              "      <td>...</td>\n",
              "      <td>...</td>\n",
              "    </tr>\n",
              "    <tr>\n",
              "      <th>2272</th>\n",
              "      <td>12</td>\n",
              "      <td>1495</td>\n",
              "      <td>24.0</td>\n",
              "    </tr>\n",
              "    <tr>\n",
              "      <th>2273</th>\n",
              "      <td>12</td>\n",
              "      <td>1496</td>\n",
              "      <td>17.0</td>\n",
              "    </tr>\n",
              "    <tr>\n",
              "      <th>2274</th>\n",
              "      <td>12</td>\n",
              "      <td>1497</td>\n",
              "      <td>11.0</td>\n",
              "    </tr>\n",
              "    <tr>\n",
              "      <th>2275</th>\n",
              "      <td>12</td>\n",
              "      <td>1498</td>\n",
              "      <td>23.0</td>\n",
              "    </tr>\n",
              "    <tr>\n",
              "      <th>2276</th>\n",
              "      <td>12</td>\n",
              "      <td>1499</td>\n",
              "      <td>22.0</td>\n",
              "    </tr>\n",
              "  </tbody>\n",
              "</table>\n",
              "<p>2277 rows × 3 columns</p>\n",
              "</div>"
            ],
            "text/plain": [
              "      month  user_id  monthly_gb_used\n",
              "0         1     1042              2.0\n",
              "1         1     1077             11.0\n",
              "2         1     1185              7.0\n",
              "3         1     1196              9.0\n",
              "4         1     1214              2.0\n",
              "...     ...      ...              ...\n",
              "2272     12     1495             24.0\n",
              "2273     12     1496             17.0\n",
              "2274     12     1497             11.0\n",
              "2275     12     1498             23.0\n",
              "2276     12     1499             22.0\n",
              "\n",
              "[2277 rows x 3 columns]"
            ]
          },
          "execution_count": 43,
          "metadata": {},
          "output_type": "execute_result"
        }
      ],
      "source": [
        "# Calcula el volumen del trafico de internet usado por cada usuario por mes. Guarda el resultado.\n",
        "inter_used = internet_mes.groupby(['month', 'user_id']).agg({'monthly_gb_used': ['sum']}).reset_index()\n",
        "inter_used.columns = ['month', 'user_id', 'monthly_gb_used']\n",
        "inter_used"
      ]
    },
    {
      "cell_type": "code",
      "execution_count": null,
      "metadata": {
        "id": "QbPuoNUGX6ur"
      },
      "outputs": [],
      "source": [
        "# Combina los datos para las llamadas, minutos, mensajes e internet con base en el user_id y el mes\n",
        "combi_llamadas = llamadas_x_mes.merge(internet_mes, how='outer').fillna(0)\n",
        "combi_mensajes = combi_llamadas.merge(mensajes_mes, how='outer').fillna(0)"
      ]
    },
    {
      "cell_type": "code",
      "execution_count": null,
      "metadata": {
        "id": "Z9AUP1SUX6us",
        "outputId": "67f4be0e-da30-4f5a-e619-58a5eaab10a8"
      },
      "outputs": [
        {
          "data": {
            "text/html": [
              "<div>\n",
              "<style scoped>\n",
              "    .dataframe tbody tr th:only-of-type {\n",
              "        vertical-align: middle;\n",
              "    }\n",
              "\n",
              "    .dataframe tbody tr th {\n",
              "        vertical-align: top;\n",
              "    }\n",
              "\n",
              "    .dataframe thead th {\n",
              "        text-align: right;\n",
              "    }\n",
              "</style>\n",
              "<table border=\"1\" class=\"dataframe\">\n",
              "  <thead>\n",
              "    <tr style=\"text-align: right;\">\n",
              "      <th></th>\n",
              "      <th>month</th>\n",
              "      <th>user_id</th>\n",
              "      <th>minutes_x_month</th>\n",
              "      <th>calls_x_month</th>\n",
              "      <th>monthly_mb_used</th>\n",
              "      <th>sessions</th>\n",
              "      <th>monthly_gb_used</th>\n",
              "    </tr>\n",
              "  </thead>\n",
              "  <tbody>\n",
              "    <tr>\n",
              "      <th>0</th>\n",
              "      <td>1</td>\n",
              "      <td>1042</td>\n",
              "      <td>114.0</td>\n",
              "      <td>18.0</td>\n",
              "      <td>1854.0</td>\n",
              "      <td>8.0</td>\n",
              "      <td>2.0</td>\n",
              "    </tr>\n",
              "    <tr>\n",
              "      <th>1</th>\n",
              "      <td>1</td>\n",
              "      <td>1077</td>\n",
              "      <td>290.0</td>\n",
              "      <td>42.0</td>\n",
              "      <td>10635.0</td>\n",
              "      <td>22.0</td>\n",
              "      <td>11.0</td>\n",
              "    </tr>\n",
              "    <tr>\n",
              "      <th>2</th>\n",
              "      <td>1</td>\n",
              "      <td>1185</td>\n",
              "      <td>181.0</td>\n",
              "      <td>23.0</td>\n",
              "      <td>6812.0</td>\n",
              "      <td>25.0</td>\n",
              "      <td>7.0</td>\n",
              "    </tr>\n",
              "    <tr>\n",
              "      <th>3</th>\n",
              "      <td>1</td>\n",
              "      <td>1196</td>\n",
              "      <td>287.0</td>\n",
              "      <td>42.0</td>\n",
              "      <td>8908.0</td>\n",
              "      <td>15.0</td>\n",
              "      <td>9.0</td>\n",
              "    </tr>\n",
              "    <tr>\n",
              "      <th>4</th>\n",
              "      <td>1</td>\n",
              "      <td>1214</td>\n",
              "      <td>16.0</td>\n",
              "      <td>5.0</td>\n",
              "      <td>1315.0</td>\n",
              "      <td>4.0</td>\n",
              "      <td>2.0</td>\n",
              "    </tr>\n",
              "    <tr>\n",
              "      <th>...</th>\n",
              "      <td>...</td>\n",
              "      <td>...</td>\n",
              "      <td>...</td>\n",
              "      <td>...</td>\n",
              "      <td>...</td>\n",
              "      <td>...</td>\n",
              "      <td>...</td>\n",
              "    </tr>\n",
              "    <tr>\n",
              "      <th>2287</th>\n",
              "      <td>12</td>\n",
              "      <td>1131</td>\n",
              "      <td>0.0</td>\n",
              "      <td>0.0</td>\n",
              "      <td>15212.0</td>\n",
              "      <td>28.0</td>\n",
              "      <td>15.0</td>\n",
              "    </tr>\n",
              "    <tr>\n",
              "      <th>2288</th>\n",
              "      <td>12</td>\n",
              "      <td>1137</td>\n",
              "      <td>0.0</td>\n",
              "      <td>0.0</td>\n",
              "      <td>6745.0</td>\n",
              "      <td>16.0</td>\n",
              "      <td>7.0</td>\n",
              "    </tr>\n",
              "    <tr>\n",
              "      <th>2289</th>\n",
              "      <td>12</td>\n",
              "      <td>1194</td>\n",
              "      <td>0.0</td>\n",
              "      <td>0.0</td>\n",
              "      <td>31088.0</td>\n",
              "      <td>63.0</td>\n",
              "      <td>31.0</td>\n",
              "    </tr>\n",
              "    <tr>\n",
              "      <th>2290</th>\n",
              "      <td>12</td>\n",
              "      <td>1204</td>\n",
              "      <td>0.0</td>\n",
              "      <td>0.0</td>\n",
              "      <td>36730.0</td>\n",
              "      <td>80.0</td>\n",
              "      <td>36.0</td>\n",
              "    </tr>\n",
              "    <tr>\n",
              "      <th>2291</th>\n",
              "      <td>12</td>\n",
              "      <td>1349</td>\n",
              "      <td>0.0</td>\n",
              "      <td>0.0</td>\n",
              "      <td>13039.0</td>\n",
              "      <td>27.0</td>\n",
              "      <td>13.0</td>\n",
              "    </tr>\n",
              "  </tbody>\n",
              "</table>\n",
              "<p>2292 rows × 7 columns</p>\n",
              "</div>"
            ],
            "text/plain": [
              "      month  user_id  minutes_x_month  calls_x_month  monthly_mb_used  \\\n",
              "0         1     1042            114.0           18.0           1854.0   \n",
              "1         1     1077            290.0           42.0          10635.0   \n",
              "2         1     1185            181.0           23.0           6812.0   \n",
              "3         1     1196            287.0           42.0           8908.0   \n",
              "4         1     1214             16.0            5.0           1315.0   \n",
              "...     ...      ...              ...            ...              ...   \n",
              "2287     12     1131              0.0            0.0          15212.0   \n",
              "2288     12     1137              0.0            0.0           6745.0   \n",
              "2289     12     1194              0.0            0.0          31088.0   \n",
              "2290     12     1204              0.0            0.0          36730.0   \n",
              "2291     12     1349              0.0            0.0          13039.0   \n",
              "\n",
              "      sessions  monthly_gb_used  \n",
              "0          8.0              2.0  \n",
              "1         22.0             11.0  \n",
              "2         25.0              7.0  \n",
              "3         15.0              9.0  \n",
              "4          4.0              2.0  \n",
              "...        ...              ...  \n",
              "2287      28.0             15.0  \n",
              "2288      16.0              7.0  \n",
              "2289      63.0             31.0  \n",
              "2290      80.0             36.0  \n",
              "2291      27.0             13.0  \n",
              "\n",
              "[2292 rows x 7 columns]"
            ]
          },
          "execution_count": 45,
          "metadata": {},
          "output_type": "execute_result"
        }
      ],
      "source": [
        "combi_llamadas"
      ]
    },
    {
      "cell_type": "code",
      "execution_count": null,
      "metadata": {
        "id": "NDelGl82X6us",
        "outputId": "9e58794b-14ca-4b78-cbc9-636ee3fa296c"
      },
      "outputs": [
        {
          "name": "stdout",
          "output_type": "stream",
          "text": [
            "<class 'pandas.core.frame.DataFrame'>\n",
            "Int64Index: 2303 entries, 0 to 2302\n",
            "Data columns (total 16 columns):\n",
            " #   Column           Non-Null Count  Dtype         \n",
            "---  ------           --------------  -----         \n",
            " 0   month            2303 non-null   float64       \n",
            " 1   user_id          2303 non-null   int64         \n",
            " 2   minutes_x_month  2303 non-null   float64       \n",
            " 3   calls_x_month    2303 non-null   float64       \n",
            " 4   monthly_mb_used  2303 non-null   float64       \n",
            " 5   sessions         2303 non-null   float64       \n",
            " 6   monthly_gb_used  2303 non-null   float64       \n",
            " 7   mensajes_x_mes   2303 non-null   float64       \n",
            " 8   first_name       2303 non-null   object        \n",
            " 9   last_name        2303 non-null   object        \n",
            " 10  age              2303 non-null   int64         \n",
            " 11  city             2303 non-null   object        \n",
            " 12  reg_date         2303 non-null   datetime64[ns]\n",
            " 13  plan             2303 non-null   object        \n",
            " 14  churn_date       2303 non-null   object        \n",
            " 15  usd_per_plan     2303 non-null   int64         \n",
            "dtypes: datetime64[ns](1), float64(7), int64(3), object(5)\n",
            "memory usage: 305.9+ KB\n"
          ]
        }
      ],
      "source": [
        "# Añade la información del plan\n",
        "combi_total = combi_mensajes.merge(usuarios, how='outer').fillna(0)\n",
        "combi_total.info()"
      ]
    },
    {
      "cell_type": "code",
      "execution_count": null,
      "metadata": {
        "id": "rbvRRqrbX6us"
      },
      "outputs": [],
      "source": [
        "# Calcula el ingreso mensual para cada usuario\n",
        "combi_total_copy = combi_total.copy()\n",
        "def costo_gb_extra(row):\n",
        "    gigas = row['monthly_gb_used']\n",
        "    plan = row['plan']\n",
        "    if plan == 'surf':\n",
        "        if gigas > 15:\n",
        "            return (gigas - 15) * 10\n",
        "    if plan == 'ultimate':\n",
        "        if gigas > 30:\n",
        "            return (gigas - 30) * 7\n",
        "def costo_min_extra(row):\n",
        "    plan = row['plan']\n",
        "    minutes = row['minutes_x_month']\n",
        "    if plan == 'surf':\n",
        "        if minutes > 500:\n",
        "             return (minutes - 500) * 0.3\n",
        "    if plan == 'ultimate':\n",
        "        if minutes > 3000:\n",
        "            return (minutes - 3000) * 0.1\n",
        "def costo_mens_extra(row):\n",
        "    plan = row['plan']\n",
        "    sms = row['mensajes_x_mes']\n",
        "    if plan == 'surf':\n",
        "        if sms > 50:\n",
        "             return (sms - 50) * 0.3\n",
        "    if plan == 'ultimate':\n",
        "        if sms > 1000:\n",
        "            return (sms - 1000) * 0.1\n",
        "combi_total_copy['monthly_gb_usd_extra'] = combi_total.apply(costo_gb_extra, axis=1).fillna(0)\n",
        "combi_total_copy['monthly_minutes_usd_extra'] = combi_total.apply(costo_min_extra, axis=1).fillna(0)\n",
        "combi_total_copy['monthly_sms_usd_extra'] = combi_total.apply(costo_mens_extra, axis=1).fillna(0)\n",
        "combi_total_copy['ingreso_extras_mensual'] = combi_total_copy['monthly_gb_usd_extra'] + combi_total_copy['monthly_minutes_usd_extra'] + combi_total_copy['monthly_sms_usd_extra']\n",
        "combi_total_copy['ingreso_total_mensual'] = combi_total_copy['usd_per_plan'] + combi_total_copy['monthly_gb_usd_extra'] + combi_total_copy['monthly_minutes_usd_extra'] + combi_total_copy['monthly_sms_usd_extra']"
      ]
    },
    {
      "cell_type": "code",
      "execution_count": null,
      "metadata": {
        "id": "hBRHpq1yX6ut",
        "outputId": "649edebf-c38f-436f-ebee-4f50b6d6f797"
      },
      "outputs": [
        {
          "data": {
            "text/html": [
              "<div>\n",
              "<style scoped>\n",
              "    .dataframe tbody tr th:only-of-type {\n",
              "        vertical-align: middle;\n",
              "    }\n",
              "\n",
              "    .dataframe tbody tr th {\n",
              "        vertical-align: top;\n",
              "    }\n",
              "\n",
              "    .dataframe thead th {\n",
              "        text-align: right;\n",
              "    }\n",
              "</style>\n",
              "<table border=\"1\" class=\"dataframe\">\n",
              "  <thead>\n",
              "    <tr style=\"text-align: right;\">\n",
              "      <th></th>\n",
              "      <th>month</th>\n",
              "      <th>user_id</th>\n",
              "      <th>minutes_x_month</th>\n",
              "      <th>calls_x_month</th>\n",
              "      <th>monthly_mb_used</th>\n",
              "      <th>sessions</th>\n",
              "      <th>monthly_gb_used</th>\n",
              "      <th>mensajes_x_mes</th>\n",
              "      <th>first_name</th>\n",
              "      <th>last_name</th>\n",
              "      <th>age</th>\n",
              "      <th>city</th>\n",
              "      <th>reg_date</th>\n",
              "      <th>plan</th>\n",
              "      <th>churn_date</th>\n",
              "      <th>usd_per_plan</th>\n",
              "      <th>monthly_gb_usd_extra</th>\n",
              "      <th>monthly_minutes_usd_extra</th>\n",
              "      <th>monthly_sms_usd_extra</th>\n",
              "      <th>ingreso_extras_mensual</th>\n",
              "      <th>ingreso_total_mensual</th>\n",
              "    </tr>\n",
              "  </thead>\n",
              "  <tbody>\n",
              "    <tr>\n",
              "      <th>0</th>\n",
              "      <td>1.0</td>\n",
              "      <td>1042</td>\n",
              "      <td>114.0</td>\n",
              "      <td>18.0</td>\n",
              "      <td>1854.0</td>\n",
              "      <td>8.0</td>\n",
              "      <td>2.0</td>\n",
              "      <td>0.0</td>\n",
              "      <td>Clementina</td>\n",
              "      <td>Mclaughlin</td>\n",
              "      <td>40</td>\n",
              "      <td>Philadelphia-Camden-Wilmington, PA-NJ-DE-MD MSA</td>\n",
              "      <td>2018-01-15</td>\n",
              "      <td>surf</td>\n",
              "      <td>0</td>\n",
              "      <td>20</td>\n",
              "      <td>0.0</td>\n",
              "      <td>0.0</td>\n",
              "      <td>0.0</td>\n",
              "      <td>0.0</td>\n",
              "      <td>20.0</td>\n",
              "    </tr>\n",
              "    <tr>\n",
              "      <th>1</th>\n",
              "      <td>2.0</td>\n",
              "      <td>1042</td>\n",
              "      <td>254.0</td>\n",
              "      <td>37.0</td>\n",
              "      <td>6801.0</td>\n",
              "      <td>14.0</td>\n",
              "      <td>7.0</td>\n",
              "      <td>0.0</td>\n",
              "      <td>Clementina</td>\n",
              "      <td>Mclaughlin</td>\n",
              "      <td>40</td>\n",
              "      <td>Philadelphia-Camden-Wilmington, PA-NJ-DE-MD MSA</td>\n",
              "      <td>2018-01-15</td>\n",
              "      <td>surf</td>\n",
              "      <td>0</td>\n",
              "      <td>20</td>\n",
              "      <td>0.0</td>\n",
              "      <td>0.0</td>\n",
              "      <td>0.0</td>\n",
              "      <td>0.0</td>\n",
              "      <td>20.0</td>\n",
              "    </tr>\n",
              "    <tr>\n",
              "      <th>2</th>\n",
              "      <td>3.0</td>\n",
              "      <td>1042</td>\n",
              "      <td>214.0</td>\n",
              "      <td>39.0</td>\n",
              "      <td>7400.0</td>\n",
              "      <td>14.0</td>\n",
              "      <td>8.0</td>\n",
              "      <td>0.0</td>\n",
              "      <td>Clementina</td>\n",
              "      <td>Mclaughlin</td>\n",
              "      <td>40</td>\n",
              "      <td>Philadelphia-Camden-Wilmington, PA-NJ-DE-MD MSA</td>\n",
              "      <td>2018-01-15</td>\n",
              "      <td>surf</td>\n",
              "      <td>0</td>\n",
              "      <td>20</td>\n",
              "      <td>0.0</td>\n",
              "      <td>0.0</td>\n",
              "      <td>0.0</td>\n",
              "      <td>0.0</td>\n",
              "      <td>20.0</td>\n",
              "    </tr>\n",
              "    <tr>\n",
              "      <th>3</th>\n",
              "      <td>4.0</td>\n",
              "      <td>1042</td>\n",
              "      <td>279.0</td>\n",
              "      <td>44.0</td>\n",
              "      <td>7102.0</td>\n",
              "      <td>18.0</td>\n",
              "      <td>7.0</td>\n",
              "      <td>0.0</td>\n",
              "      <td>Clementina</td>\n",
              "      <td>Mclaughlin</td>\n",
              "      <td>40</td>\n",
              "      <td>Philadelphia-Camden-Wilmington, PA-NJ-DE-MD MSA</td>\n",
              "      <td>2018-01-15</td>\n",
              "      <td>surf</td>\n",
              "      <td>0</td>\n",
              "      <td>20</td>\n",
              "      <td>0.0</td>\n",
              "      <td>0.0</td>\n",
              "      <td>0.0</td>\n",
              "      <td>0.0</td>\n",
              "      <td>20.0</td>\n",
              "    </tr>\n",
              "    <tr>\n",
              "      <th>4</th>\n",
              "      <td>5.0</td>\n",
              "      <td>1042</td>\n",
              "      <td>489.0</td>\n",
              "      <td>51.0</td>\n",
              "      <td>9061.0</td>\n",
              "      <td>21.0</td>\n",
              "      <td>9.0</td>\n",
              "      <td>0.0</td>\n",
              "      <td>Clementina</td>\n",
              "      <td>Mclaughlin</td>\n",
              "      <td>40</td>\n",
              "      <td>Philadelphia-Camden-Wilmington, PA-NJ-DE-MD MSA</td>\n",
              "      <td>2018-01-15</td>\n",
              "      <td>surf</td>\n",
              "      <td>0</td>\n",
              "      <td>20</td>\n",
              "      <td>0.0</td>\n",
              "      <td>0.0</td>\n",
              "      <td>0.0</td>\n",
              "      <td>0.0</td>\n",
              "      <td>20.0</td>\n",
              "    </tr>\n",
              "    <tr>\n",
              "      <th>...</th>\n",
              "      <td>...</td>\n",
              "      <td>...</td>\n",
              "      <td>...</td>\n",
              "      <td>...</td>\n",
              "      <td>...</td>\n",
              "      <td>...</td>\n",
              "      <td>...</td>\n",
              "      <td>...</td>\n",
              "      <td>...</td>\n",
              "      <td>...</td>\n",
              "      <td>...</td>\n",
              "      <td>...</td>\n",
              "      <td>...</td>\n",
              "      <td>...</td>\n",
              "      <td>...</td>\n",
              "      <td>...</td>\n",
              "      <td>...</td>\n",
              "      <td>...</td>\n",
              "      <td>...</td>\n",
              "      <td>...</td>\n",
              "      <td>...</td>\n",
              "    </tr>\n",
              "    <tr>\n",
              "      <th>2298</th>\n",
              "      <td>0.0</td>\n",
              "      <td>1307</td>\n",
              "      <td>0.0</td>\n",
              "      <td>0.0</td>\n",
              "      <td>0.0</td>\n",
              "      <td>0.0</td>\n",
              "      <td>0.0</td>\n",
              "      <td>0.0</td>\n",
              "      <td>Kristopher</td>\n",
              "      <td>Lang</td>\n",
              "      <td>28</td>\n",
              "      <td>Boston-Cambridge-Newton, MA-NH MSA</td>\n",
              "      <td>2018-12-31</td>\n",
              "      <td>surf</td>\n",
              "      <td>0</td>\n",
              "      <td>20</td>\n",
              "      <td>0.0</td>\n",
              "      <td>0.0</td>\n",
              "      <td>0.0</td>\n",
              "      <td>0.0</td>\n",
              "      <td>20.0</td>\n",
              "    </tr>\n",
              "    <tr>\n",
              "      <th>2299</th>\n",
              "      <td>0.0</td>\n",
              "      <td>1319</td>\n",
              "      <td>0.0</td>\n",
              "      <td>0.0</td>\n",
              "      <td>0.0</td>\n",
              "      <td>0.0</td>\n",
              "      <td>0.0</td>\n",
              "      <td>0.0</td>\n",
              "      <td>Eliseo</td>\n",
              "      <td>Carson</td>\n",
              "      <td>21</td>\n",
              "      <td>Colorado Springs, CO MSA</td>\n",
              "      <td>2018-06-17</td>\n",
              "      <td>surf</td>\n",
              "      <td>0</td>\n",
              "      <td>20</td>\n",
              "      <td>0.0</td>\n",
              "      <td>0.0</td>\n",
              "      <td>0.0</td>\n",
              "      <td>0.0</td>\n",
              "      <td>20.0</td>\n",
              "    </tr>\n",
              "    <tr>\n",
              "      <th>2300</th>\n",
              "      <td>0.0</td>\n",
              "      <td>1378</td>\n",
              "      <td>0.0</td>\n",
              "      <td>0.0</td>\n",
              "      <td>0.0</td>\n",
              "      <td>0.0</td>\n",
              "      <td>0.0</td>\n",
              "      <td>0.0</td>\n",
              "      <td>Mckinley</td>\n",
              "      <td>Clayton</td>\n",
              "      <td>22</td>\n",
              "      <td>Denver-Aurora-Lakewood, CO MSA</td>\n",
              "      <td>2018-12-17</td>\n",
              "      <td>surf</td>\n",
              "      <td>0</td>\n",
              "      <td>20</td>\n",
              "      <td>0.0</td>\n",
              "      <td>0.0</td>\n",
              "      <td>0.0</td>\n",
              "      <td>0.0</td>\n",
              "      <td>20.0</td>\n",
              "    </tr>\n",
              "    <tr>\n",
              "      <th>2301</th>\n",
              "      <td>0.0</td>\n",
              "      <td>1463</td>\n",
              "      <td>0.0</td>\n",
              "      <td>0.0</td>\n",
              "      <td>0.0</td>\n",
              "      <td>0.0</td>\n",
              "      <td>0.0</td>\n",
              "      <td>0.0</td>\n",
              "      <td>Dinorah</td>\n",
              "      <td>Simmons</td>\n",
              "      <td>30</td>\n",
              "      <td>Atlanta-Sandy Springs-Roswell, GA MSA</td>\n",
              "      <td>2018-11-27</td>\n",
              "      <td>ultimate</td>\n",
              "      <td>0</td>\n",
              "      <td>70</td>\n",
              "      <td>0.0</td>\n",
              "      <td>0.0</td>\n",
              "      <td>0.0</td>\n",
              "      <td>0.0</td>\n",
              "      <td>70.0</td>\n",
              "    </tr>\n",
              "    <tr>\n",
              "      <th>2302</th>\n",
              "      <td>0.0</td>\n",
              "      <td>1473</td>\n",
              "      <td>0.0</td>\n",
              "      <td>0.0</td>\n",
              "      <td>0.0</td>\n",
              "      <td>0.0</td>\n",
              "      <td>0.0</td>\n",
              "      <td>0.0</td>\n",
              "      <td>Kirk</td>\n",
              "      <td>Velez</td>\n",
              "      <td>61</td>\n",
              "      <td>Louisville/Jefferson County, KY-IN MSA</td>\n",
              "      <td>2018-12-31</td>\n",
              "      <td>surf</td>\n",
              "      <td>0</td>\n",
              "      <td>20</td>\n",
              "      <td>0.0</td>\n",
              "      <td>0.0</td>\n",
              "      <td>0.0</td>\n",
              "      <td>0.0</td>\n",
              "      <td>20.0</td>\n",
              "    </tr>\n",
              "  </tbody>\n",
              "</table>\n",
              "<p>2303 rows × 21 columns</p>\n",
              "</div>"
            ],
            "text/plain": [
              "      month  user_id  minutes_x_month  calls_x_month  monthly_mb_used  \\\n",
              "0       1.0     1042            114.0           18.0           1854.0   \n",
              "1       2.0     1042            254.0           37.0           6801.0   \n",
              "2       3.0     1042            214.0           39.0           7400.0   \n",
              "3       4.0     1042            279.0           44.0           7102.0   \n",
              "4       5.0     1042            489.0           51.0           9061.0   \n",
              "...     ...      ...              ...            ...              ...   \n",
              "2298    0.0     1307              0.0            0.0              0.0   \n",
              "2299    0.0     1319              0.0            0.0              0.0   \n",
              "2300    0.0     1378              0.0            0.0              0.0   \n",
              "2301    0.0     1463              0.0            0.0              0.0   \n",
              "2302    0.0     1473              0.0            0.0              0.0   \n",
              "\n",
              "      sessions  monthly_gb_used  mensajes_x_mes  first_name   last_name  age  \\\n",
              "0          8.0              2.0             0.0  Clementina  Mclaughlin   40   \n",
              "1         14.0              7.0             0.0  Clementina  Mclaughlin   40   \n",
              "2         14.0              8.0             0.0  Clementina  Mclaughlin   40   \n",
              "3         18.0              7.0             0.0  Clementina  Mclaughlin   40   \n",
              "4         21.0              9.0             0.0  Clementina  Mclaughlin   40   \n",
              "...        ...              ...             ...         ...         ...  ...   \n",
              "2298       0.0              0.0             0.0  Kristopher        Lang   28   \n",
              "2299       0.0              0.0             0.0      Eliseo      Carson   21   \n",
              "2300       0.0              0.0             0.0    Mckinley     Clayton   22   \n",
              "2301       0.0              0.0             0.0     Dinorah     Simmons   30   \n",
              "2302       0.0              0.0             0.0        Kirk       Velez   61   \n",
              "\n",
              "                                                 city   reg_date      plan  \\\n",
              "0     Philadelphia-Camden-Wilmington, PA-NJ-DE-MD MSA 2018-01-15      surf   \n",
              "1     Philadelphia-Camden-Wilmington, PA-NJ-DE-MD MSA 2018-01-15      surf   \n",
              "2     Philadelphia-Camden-Wilmington, PA-NJ-DE-MD MSA 2018-01-15      surf   \n",
              "3     Philadelphia-Camden-Wilmington, PA-NJ-DE-MD MSA 2018-01-15      surf   \n",
              "4     Philadelphia-Camden-Wilmington, PA-NJ-DE-MD MSA 2018-01-15      surf   \n",
              "...                                               ...        ...       ...   \n",
              "2298               Boston-Cambridge-Newton, MA-NH MSA 2018-12-31      surf   \n",
              "2299                         Colorado Springs, CO MSA 2018-06-17      surf   \n",
              "2300                   Denver-Aurora-Lakewood, CO MSA 2018-12-17      surf   \n",
              "2301            Atlanta-Sandy Springs-Roswell, GA MSA 2018-11-27  ultimate   \n",
              "2302           Louisville/Jefferson County, KY-IN MSA 2018-12-31      surf   \n",
              "\n",
              "     churn_date  usd_per_plan  monthly_gb_usd_extra  \\\n",
              "0             0            20                   0.0   \n",
              "1             0            20                   0.0   \n",
              "2             0            20                   0.0   \n",
              "3             0            20                   0.0   \n",
              "4             0            20                   0.0   \n",
              "...         ...           ...                   ...   \n",
              "2298          0            20                   0.0   \n",
              "2299          0            20                   0.0   \n",
              "2300          0            20                   0.0   \n",
              "2301          0            70                   0.0   \n",
              "2302          0            20                   0.0   \n",
              "\n",
              "      monthly_minutes_usd_extra  monthly_sms_usd_extra  \\\n",
              "0                           0.0                    0.0   \n",
              "1                           0.0                    0.0   \n",
              "2                           0.0                    0.0   \n",
              "3                           0.0                    0.0   \n",
              "4                           0.0                    0.0   \n",
              "...                         ...                    ...   \n",
              "2298                        0.0                    0.0   \n",
              "2299                        0.0                    0.0   \n",
              "2300                        0.0                    0.0   \n",
              "2301                        0.0                    0.0   \n",
              "2302                        0.0                    0.0   \n",
              "\n",
              "      ingreso_extras_mensual  ingreso_total_mensual  \n",
              "0                        0.0                   20.0  \n",
              "1                        0.0                   20.0  \n",
              "2                        0.0                   20.0  \n",
              "3                        0.0                   20.0  \n",
              "4                        0.0                   20.0  \n",
              "...                      ...                    ...  \n",
              "2298                     0.0                   20.0  \n",
              "2299                     0.0                   20.0  \n",
              "2300                     0.0                   20.0  \n",
              "2301                     0.0                   70.0  \n",
              "2302                     0.0                   20.0  \n",
              "\n",
              "[2303 rows x 21 columns]"
            ]
          },
          "execution_count": 48,
          "metadata": {},
          "output_type": "execute_result"
        }
      ],
      "source": [
        "pd.set_option('display.max_columns', None)\n",
        "combi_total_copy"
      ]
    },
    {
      "cell_type": "code",
      "execution_count": null,
      "metadata": {
        "id": "8IdeVluhX6uu",
        "outputId": "302cc01e-2f7f-4d4d-fdbd-e75aeb1a69c2"
      },
      "outputs": [
        {
          "data": {
            "text/plain": [
              "<AxesSubplot:xlabel='month'>"
            ]
          },
          "execution_count": 49,
          "metadata": {},
          "output_type": "execute_result"
        },
        {
          "data": {
            "image/png": "[encoded data removed]",
            "text/plain": [
              "<Figure size 432x288 with 1 Axes>"
            ]
          },
          "metadata": {
            "needs_background": "light"
          },
          "output_type": "display_data"
        }
      ],
      "source": [
        "# Compara la duración promedio de llamadas por cada plan por cada mes. Dibuja una gráfica de barras para visualizarlo.\n",
        "llamadas_pivot = combi_total_copy.pivot_table(index='month', columns='plan', values='minutes_x_month')\n",
        "llamadas_pivot.plot(kind='bar', grid=True)"
      ]
    },
    {
      "cell_type": "code",
      "execution_count": null,
      "metadata": {
        "id": "RNCocyW1X6uu",
        "outputId": "d8eb7800-ad5e-4871-a4b1-f23336c7e5f4"
      },
      "outputs": [
        {
          "data": {
            "text/plain": [
              "<AxesSubplot:xlabel='month'>"
            ]
          },
          "execution_count": 50,
          "metadata": {},
          "output_type": "execute_result"
        },
        {
          "data": {
            "image/png": "[encoded data removed]",
            "text/plain": [
              "<Figure size 432x288 with 1 Axes>"
            ]
          },
          "metadata": {
            "needs_background": "light"
          },
          "output_type": "display_data"
        }
      ],
      "source": [
        "# Compara el número de minutos que los usuarios de cada plan requieren cada mes. Traza un histograma.\n",
        "minutos_pivot = combi_total_copy.pivot_table(index='month', columns='plan', values='monthly_minutes_usd_extra')\n",
        "minutos_pivot.plot(kind='bar', grid=True)"
      ]
    },
    {
      "cell_type": "code",
      "execution_count": null,
      "metadata": {
        "id": "LKuiEkGqX6uu",
        "outputId": "9cb10b97-7477-474c-ec59-990cc01af431"
      },
      "outputs": [
        {
          "name": "stdout",
          "output_type": "stream",
          "text": [
            "La media de la duración mensual de llamadas es: 427.419452887538\n",
            "La varianza de la duración mensual de llamadas es: 56401.63979518273\n"
          ]
        }
      ],
      "source": [
        "# Calcula la media y la varianza de la duración mensual de llamadas.\n",
        "media_llamadas = combi_total_copy['minutes_x_month'].mean()\n",
        "var_llamadas = combi_total_copy['minutes_x_month'].var()\n",
        "print(f'La media de la duración mensual de llamadas es: {media_llamadas}')\n",
        "print(f'La varianza de la duración mensual de llamadas es: {var_llamadas}')"
      ]
    },
    {
      "cell_type": "code",
      "execution_count": null,
      "metadata": {
        "id": "MYWDZ5WFX6uv",
        "outputId": "b7499dde-4646-476f-f957-c22eb252a374"
      },
      "outputs": [
        {
          "data": {
            "text/plain": [
              "<AxesSubplot:>"
            ]
          },
          "execution_count": 52,
          "metadata": {},
          "output_type": "execute_result"
        },
        {
          "data": {
            "image/png": "[encoded data removed]",
            "text/plain": [
              "<Figure size 432x288 with 1 Axes>"
            ]
          },
          "metadata": {
            "needs_background": "light"
          },
          "output_type": "display_data"
        }
      ],
      "source": [
        "# Traza un diagrama de caja para visualizar la distribución de la duración mensual de llamadas.\n",
        "llamadas_pivot.plot(kind='box')"
      ]
    },
    {
      "cell_type": "code",
      "execution_count": null,
      "metadata": {
        "id": "wwKXW83JX6uv",
        "outputId": "e6e8abfd-1fb1-4d09-8565-fdaa0b17f188"
      },
      "outputs": [
        {
          "data": {
            "text/plain": [
              "<AxesSubplot:>"
            ]
          },
          "execution_count": 53,
          "metadata": {},
          "output_type": "execute_result"
        },
        {
          "data": {
            "image/png": "[encoded data removed]",
            "text/plain": [
              "<Figure size 432x288 with 1 Axes>"
            ]
          },
          "metadata": {
            "needs_background": "light"
          },
          "output_type": "display_data"
        }
      ],
      "source": [
        "# Traza un diagrama de caja para visualizar la distribución de la cantidad de llamadas extra.\n",
        "minutos_pivot.plot(kind='box')"
      ]
    },
    {
      "cell_type": "markdown",
      "metadata": {
        "id": "NO4nC4NPX6uw"
      },
      "source": [
        "- Con estos graficos podemos observar que existen diferencias claras entre ambos planes, habiendo mas usuarios para el plan surf nos da una muestra de lo que representan. De igual manera ambas medias estan bastante parecidas en cuanto a la cantidad de minutos usados dentro de su plan, podriamos concluir que ambos planes tienen sus pros y contras ya que tras un analisis los usuarios del plan 'ultimate' casi no fueron cobrados por minutos extra debido a que no utilizaron todos los incluidos dentro de su plan, de igual manera el plan 'surf' fueron cargados muchos con extras por la cantidad de minutos fuera de su plan que utilizaron, en conclusion si quisieran decantarse por un plan considero que el plan ultimate es mejor en cuanto a llamadas/minutos por llamada se refiere."
      ]
    },
    {
      "cell_type": "code",
      "execution_count": null,
      "metadata": {
        "id": "O1df4tZDX6ux",
        "outputId": "247ecd49-d7ca-4d4d-deaf-5f77f9897b98"
      },
      "outputs": [
        {
          "data": {
            "text/plain": [
              "<AxesSubplot:xlabel='month'>"
            ]
          },
          "execution_count": 54,
          "metadata": {},
          "output_type": "execute_result"
        },
        {
          "data": {
            "image/png": "[encoded data removed]",
            "text/plain": [
              "<Figure size 432x288 with 1 Axes>"
            ]
          },
          "metadata": {
            "needs_background": "light"
          },
          "output_type": "display_data"
        }
      ],
      "source": [
        "# Comprara el número de mensajes que tienden a enviar cada mes los usuarios de cada plan\n",
        "sms_pivot = combi_total_copy.pivot_table(index='month', columns='plan', values='mensajes_x_mes')\n",
        "sms_pivot.plot(kind='bar', grid=True)"
      ]
    },
    {
      "cell_type": "code",
      "execution_count": null,
      "metadata": {
        "id": "rxPRmJn2X6ux",
        "outputId": "b10f300b-454e-43d1-9574-f4701289bd6c"
      },
      "outputs": [
        {
          "data": {
            "text/plain": [
              "<AxesSubplot:xlabel='month'>"
            ]
          },
          "execution_count": 55,
          "metadata": {},
          "output_type": "execute_result"
        },
        {
          "data": {
            "image/png": "[encoded data removed]",
            "text/plain": [
              "<Figure size 432x288 with 1 Axes>"
            ]
          },
          "metadata": {
            "needs_background": "light"
          },
          "output_type": "display_data"
        }
      ],
      "source": [
        "# Compara la cantidad de mensajes extras consumidos por usuarios por plan\n",
        "sms_pivot_extra = combi_total_copy.pivot_table(index='month', columns='plan', values='monthly_sms_usd_extra')\n",
        "sms_pivot.plot(kind='bar', grid=True)"
      ]
    },
    {
      "cell_type": "code",
      "execution_count": null,
      "metadata": {
        "id": "GCp-Ubw7X6uy",
        "outputId": "71d89e78-441c-4f43-8ed3-1fb5c743810c"
      },
      "outputs": [
        {
          "name": "stdout",
          "output_type": "stream",
          "text": [
            "La media de la cantidad de mensajes es: 33.02257924446374\n",
            "La varianza de la cantidad de mensajes es: 1160.4860234054247\n"
          ]
        }
      ],
      "source": [
        "# Calcula la media y la varianza de la cantidad de mensajes por usuario por mes.\n",
        "media_sms = combi_total_copy['mensajes_x_mes'].mean()\n",
        "var_sms = combi_total_copy['mensajes_x_mes'].var()\n",
        "print(f'La media de la cantidad de mensajes es: {media_sms}')\n",
        "print(f'La varianza de la cantidad de mensajes es: {var_sms}')"
      ]
    },
    {
      "cell_type": "code",
      "execution_count": null,
      "metadata": {
        "id": "KqKkUajSX6uy",
        "outputId": "51932e87-38e0-4f7d-82b6-54a1c105a3a2"
      },
      "outputs": [
        {
          "data": {
            "text/plain": [
              "<AxesSubplot:>"
            ]
          },
          "execution_count": 57,
          "metadata": {},
          "output_type": "execute_result"
        },
        {
          "data": {
            "image/png": "[encoded data removed]",
            "text/plain": [
              "<Figure size 432x288 with 1 Axes>"
            ]
          },
          "metadata": {
            "needs_background": "light"
          },
          "output_type": "display_data"
        }
      ],
      "source": [
        "# Traza un diagrama de caja para visualizar la distribución de la cantidad de mensajes.\n",
        "sms_pivot.plot(kind='box')"
      ]
    },
    {
      "cell_type": "code",
      "execution_count": null,
      "metadata": {
        "id": "9BYXuxA5X6uy",
        "outputId": "3f52b56f-3969-484b-c1cf-227b3926c7cf"
      },
      "outputs": [
        {
          "data": {
            "text/plain": [
              "<AxesSubplot:>"
            ]
          },
          "execution_count": 58,
          "metadata": {},
          "output_type": "execute_result"
        },
        {
          "data": {
            "image/png": "[encoded data removed]",
            "text/plain": [
              "<Figure size 432x288 with 1 Axes>"
            ]
          },
          "metadata": {
            "needs_background": "light"
          },
          "output_type": "display_data"
        }
      ],
      "source": [
        "# Traza un diagrama de caja para visualizar la distribución de la cantidad de mensajes extra.\n",
        "sms_pivot_extra.plot(kind='box')"
      ]
    },
    {
      "cell_type": "markdown",
      "metadata": {
        "id": "FKKlyOmbX6uz"
      },
      "source": [
        "- Al igual que con las graficas de la cantidad de llamadas/minutos podemos observar que existen diferencias entre los planes cuando se refiere a la cantidad de mensajes enviados por usuario por mes, las medias son similares pero en esta ocasion se observa un cambio para el plan ultimate, podriamos decir que los usuarios que pagan el plan ultimate sacan provecho de su plan mandando mas mensajes contrastados contra el plan surf, de igual manera para el plan ultimate no se realizo cobros extras por mensaje debido a que casi ningun usuario excedio su plan y por otro lado el plan surf si tuvo varios cobros extra. Por consiguiente podemos concluir que el plan ultimate vale mas la pena debido a que aunque sea mas caro que el plan surf no estan pagando casi nada de extras ni por mensajes ni por llamadas."
      ]
    },
    {
      "cell_type": "code",
      "execution_count": null,
      "metadata": {
        "id": "tSqOV_XJX6uz",
        "outputId": "0206fcab-eca1-4133-9153-aae052732c89"
      },
      "outputs": [
        {
          "data": {
            "text/plain": [
              "<AxesSubplot:xlabel='month'>"
            ]
          },
          "execution_count": 59,
          "metadata": {},
          "output_type": "execute_result"
        },
        {
          "data": {
            "image/png": "[encoded data removed]",
            "text/plain": [
              "<Figure size 432x288 with 1 Axes>"
            ]
          },
          "metadata": {
            "needs_background": "light"
          },
          "output_type": "display_data"
        }
      ],
      "source": [
        "# Compara la cantidad de tráfico de internet consumido por usuarios por plan\n",
        "internet_pivot = combi_total_copy.pivot_table(index='month', columns='plan', values='monthly_gb_used')\n",
        "internet_pivot.plot(kind='bar', grid=True)"
      ]
    },
    {
      "cell_type": "code",
      "execution_count": null,
      "metadata": {
        "id": "Ylod1k4zX6uz",
        "outputId": "23cbfed4-bf28-4956-9d10-0a8a49ec7b6b"
      },
      "outputs": [
        {
          "data": {
            "text/plain": [
              "<AxesSubplot:xlabel='month'>"
            ]
          },
          "execution_count": 60,
          "metadata": {},
          "output_type": "execute_result"
        },
        {
          "data": {
            "image/png": "[encoded data removed]",
            "text/plain": [
              "<Figure size 432x288 with 1 Axes>"
            ]
          },
          "metadata": {
            "needs_background": "light"
          },
          "output_type": "display_data"
        }
      ],
      "source": [
        "# Compara la cantidad de gb extras consumidos por usuarios por plan\n",
        "internet_pivot_extra = combi_total_copy.pivot_table(index='month', columns='plan', values='monthly_gb_usd_extra')\n",
        "internet_pivot_extra.plot(kind='bar', grid=True)"
      ]
    },
    {
      "cell_type": "code",
      "execution_count": null,
      "metadata": {
        "id": "9mgUigJBX6u0",
        "outputId": "95fabea0-e985-4b3d-b8a3-ac284fee50fe"
      },
      "outputs": [
        {
          "name": "stdout",
          "output_type": "stream",
          "text": [
            "La media de la cantidad de gb es: 16.794615718627877\n",
            "La varianza de la cantidad de gb es: 61.75058785182927\n"
          ]
        }
      ],
      "source": [
        "# Calcula la media y la varianza de la cantidad de gb usados por usuario por mes.\n",
        "media_internet = combi_total_copy['monthly_gb_used'].mean()\n",
        "var_internet = combi_total_copy['monthly_gb_used'].var()\n",
        "print(f'La media de la cantidad de gb es: {media_internet}')\n",
        "print(f'La varianza de la cantidad de gb es: {var_internet}')"
      ]
    },
    {
      "cell_type": "code",
      "execution_count": null,
      "metadata": {
        "id": "MApa3_i7X6u0",
        "outputId": "28a01c18-6c4c-4af8-9b13-ade694d7e89e"
      },
      "outputs": [
        {
          "data": {
            "text/plain": [
              "<AxesSubplot:>"
            ]
          },
          "execution_count": 62,
          "metadata": {},
          "output_type": "execute_result"
        },
        {
          "data": {
            "image/png": "[encoded data removed]",
            "text/plain": [
              "<Figure size 432x288 with 1 Axes>"
            ]
          },
          "metadata": {
            "needs_background": "light"
          },
          "output_type": "display_data"
        }
      ],
      "source": [
        "# Traza un diagrama de caja para visualizar la distribución de la cantidad de gb.\n",
        "internet_pivot.plot(kind='box')"
      ]
    },
    {
      "cell_type": "code",
      "execution_count": null,
      "metadata": {
        "scrolled": true,
        "id": "sVxIiL2kX6u0",
        "outputId": "2cd65919-5ddd-4e17-c966-54d7b5e0409e"
      },
      "outputs": [
        {
          "data": {
            "text/plain": [
              "<AxesSubplot:>"
            ]
          },
          "execution_count": 63,
          "metadata": {},
          "output_type": "execute_result"
        },
        {
          "data": {
            "image/png": "[encoded data removed]",
            "text/plain": [
              "<Figure size 432x288 with 1 Axes>"
            ]
          },
          "metadata": {
            "needs_background": "light"
          },
          "output_type": "display_data"
        }
      ],
      "source": [
        "# Traza un diagrama de caja para visualizar la distribución de la cantidad de gb extra.\n",
        "internet_pivot_extra.plot(kind='box')"
      ]
    },
    {
      "cell_type": "markdown",
      "metadata": {
        "id": "TEt-5LXuX6u1"
      },
      "source": [
        "- En estos graficos al igual que en los graficos de llamadas y mensajes podemos observar claras diferencias entre cada plan, de igual manera como lo habia comentado anteriormente cada plan tiene sus pros y contras y aqui es donde observamos mas dispersion en la cantidad de extras debido a que los usuarios del plan ultimate si consumieron datos extras fuera de su plan, pero de igual manera es una muestra pequeña en comparacion con los usuarios del plan surf, dicho de otra manera los usuarios del plan ultimate tienen la mayor cantidad de gb usados pero de igual manera tambien tienen usuarios que no pagaron un extra por dichos gb, por consiguiente la conclusion es que el plan ultimate es mas rentable."
      ]
    },
    {
      "cell_type": "code",
      "execution_count": null,
      "metadata": {
        "id": "wY3XwfXEX6u1",
        "outputId": "a6d84d2a-0b35-4211-aa5d-ab0089c9926e"
      },
      "outputs": [
        {
          "data": {
            "text/plain": [
              "<AxesSubplot:xlabel='month'>"
            ]
          },
          "execution_count": 64,
          "metadata": {},
          "output_type": "execute_result"
        },
        {
          "data": {
            "image/png": "[encoded data removed]",
            "text/plain": [
              "<Figure size 432x288 with 1 Axes>"
            ]
          },
          "metadata": {
            "needs_background": "light"
          },
          "output_type": "display_data"
        }
      ],
      "source": [
        "# Compara la cantidad de tráfico de internet consumido por usuarios por plan\n",
        "usd_total_pivot = combi_total_copy.pivot_table(index='month', columns='plan', values='ingreso_total_mensual')\n",
        "usd_total_pivot.plot(kind='bar', grid=True)"
      ]
    },
    {
      "cell_type": "code",
      "execution_count": null,
      "metadata": {
        "id": "zWuIO4O2X6u2",
        "outputId": "b0c9a459-7699-4e7a-ead5-b4d3f714b8a0"
      },
      "outputs": [
        {
          "data": {
            "text/plain": [
              "<AxesSubplot:xlabel='month'>"
            ]
          },
          "execution_count": 65,
          "metadata": {},
          "output_type": "execute_result"
        },
        {
          "data": {
            "image/png": "[encoded data removed]",
            "text/plain": [
              "<Figure size 432x288 with 1 Axes>"
            ]
          },
          "metadata": {
            "needs_background": "light"
          },
          "output_type": "display_data"
        }
      ],
      "source": [
        "# Compara la cantidad de usd extras pagados por usuarios por plan\n",
        "usd_extra_pivot = combi_total_copy.pivot_table(index='month', columns='plan', values='ingreso_extras_mensual')\n",
        "usd_extra_pivot.plot(kind='bar', grid=True)"
      ]
    },
    {
      "cell_type": "code",
      "execution_count": null,
      "metadata": {
        "id": "fSqq4AWFX6u2",
        "outputId": "abafbbb4-98a3-4aec-b260-67d4c1bd09d8"
      },
      "outputs": [
        {
          "name": "stdout",
          "output_type": "stream",
          "text": [
            "La media de la cantidad de usd es: 76.85966131133304\n",
            "La varianza de la cantidad de usd es: 3743.109054098967\n"
          ]
        }
      ],
      "source": [
        "# Calcula la media y la varianza de la cantidad de usd extra por usuario por mes.\n",
        "media_usd = combi_total_copy['ingreso_total_mensual'].mean()\n",
        "var_usd = combi_total_copy['ingreso_total_mensual'].var()\n",
        "print(f'La media de la cantidad de usd es: {media_usd}')\n",
        "print(f'La varianza de la cantidad de usd es: {var_usd}')"
      ]
    },
    {
      "cell_type": "code",
      "execution_count": null,
      "metadata": {
        "id": "IgterMpdX6u2",
        "outputId": "c795ea5f-34f5-4b9f-867b-435ed30e12c6"
      },
      "outputs": [
        {
          "data": {
            "text/plain": [
              "<AxesSubplot:>"
            ]
          },
          "execution_count": 67,
          "metadata": {},
          "output_type": "execute_result"
        },
        {
          "data": {
            "image/png": "[encoded data removed]",
            "text/plain": [
              "<Figure size 432x288 with 1 Axes>"
            ]
          },
          "metadata": {
            "needs_background": "light"
          },
          "output_type": "display_data"
        }
      ],
      "source": [
        "# Traza un diagrama de caja para visualizar la distribución de la cantidad de usd.\n",
        "usd_total_pivot.plot(kind='box')"
      ]
    },
    {
      "cell_type": "code",
      "execution_count": null,
      "metadata": {
        "id": "ItkGC-GIX6u2",
        "outputId": "1cafb123-938e-44c9-e949-b27d18364250"
      },
      "outputs": [
        {
          "data": {
            "text/plain": [
              "<AxesSubplot:>"
            ]
          },
          "execution_count": 68,
          "metadata": {},
          "output_type": "execute_result"
        },
        {
          "data": {
            "image/png": "[encoded data removed]",
            "text/plain": [
              "<Figure size 432x288 with 1 Axes>"
            ]
          },
          "metadata": {
            "needs_background": "light"
          },
          "output_type": "display_data"
        }
      ],
      "source": [
        "# Traza un diagrama de caja para visualizar la distribución de la cantidad de usd extra.\n",
        "usd_extra_pivot.plot(kind='box')"
      ]
    },
    {
      "cell_type": "markdown",
      "metadata": {
        "id": "pNGmkqqVX6u3"
      },
      "source": [
        "- Tras observar ambas distribuciones y los graficos para ambos planes de cuanto paga cada uno de solo extras y del extra mas el costo del plan podemos observar que para el usuario es mejor pagar por el plan ultimate debido a que en esencia pagan menos total y de igual manera pagan menos extras debido a que su plan incluye mas cosas, pero para la empresa y sus ingresos es mejor ponerle promocion al plan surf debido a que los usuarios pagan mas en total debido a la cantidad de mensajes, llamadas y gb extras que usan."
      ]
    },
    {
      "cell_type": "markdown",
      "metadata": {
        "id": "O5at2be-X6u3"
      },
      "source": [
        "- H₀ = La media de ingresos es igual para ambos planes.\n",
        "- H₁ = La media de ingresos NO es igual para ambos planes."
      ]
    },
    {
      "cell_type": "code",
      "execution_count": null,
      "metadata": {
        "id": "e2ndAZrOX6u4"
      },
      "outputs": [],
      "source": [
        "plan_ultimate = combi_total_copy[combi_total_copy['plan']=='ultimate']\n",
        "ingreso_ultimate = plan_ultimate['ingreso_total_mensual']\n",
        "plan_surf = combi_total_copy[combi_total_copy['plan']=='surf']\n",
        "ingreso_surf = plan_surf['ingreso_total_mensual']"
      ]
    },
    {
      "cell_type": "code",
      "execution_count": null,
      "metadata": {
        "id": "5rex7gT1X6u4",
        "outputId": "f7a17557-0b45-4a49-8643-1548585d4027"
      },
      "outputs": [
        {
          "name": "stdout",
          "output_type": "stream",
          "text": [
            "p-value:  0.00046139227110704906\n",
            "Rechazamos la hipótesis nula\n"
          ]
        }
      ],
      "source": [
        "# Prueba las hipótesis\n",
        "alpha = 0.05\n",
        "results = st.ttest_ind(ingreso_ultimate, ingreso_surf, equal_var=False)\n",
        "print('p-value: ', results.pvalue)\n",
        "\n",
        "if results.pvalue < alpha:\n",
        "    print('Rechazamos la hipótesis nula')\n",
        "else:\n",
        "    print(\"No rechazamos la hipótesis nula\")"
      ]
    },
    {
      "cell_type": "markdown",
      "metadata": {
        "id": "iK5tUg4XX6u5"
      },
      "source": [
        "- Como podemos observar tras realizar un analisis estadistico de los ingresos para ambos planes y declarar nuestras hipotesis nos encontramos con que tenemos suficiente evidencia para rechazar la hipotesis nula, lo que quiere decir que aceptamos la hipotesis alternativa que en este caso implica que la media no es igual para ambos planes."
      ]
    },
    {
      "cell_type": "markdown",
      "metadata": {
        "id": "53BVc0bjX6u5"
      },
      "source": [
        "- H₀ = El ingreso es igual para ambas ciudades.\n",
        "- H₁ = El ingreso NO es igual para ambas ciudades."
      ]
    },
    {
      "cell_type": "code",
      "execution_count": null,
      "metadata": {
        "id": "okItKZ5MX6u6"
      },
      "outputs": [],
      "source": [
        "ciudad_ny = combi_total_copy[combi_total_copy['city'] == 'New York-Newark-Jersey City, NY-NJ-PA MSA']\n",
        "ingreso_ny = combi_total_copy['ingreso_total_mensual']\n",
        "ciudad_others = combi_total_copy[combi_total_copy['city'] != 'New York-Newark-Jersey City, NY-NJ-PA MSA']\n",
        "ingreso_others = combi_total_copy['ingreso_total_mensual']"
      ]
    },
    {
      "cell_type": "code",
      "execution_count": null,
      "metadata": {
        "id": "yAKV-uuoX6u6",
        "outputId": "b9062efd-d4e8-450c-f4f6-81a58a3b2943"
      },
      "outputs": [
        {
          "name": "stdout",
          "output_type": "stream",
          "text": [
            "p-value:  1.0\n",
            "No rechazamos la hipótesis nula\n"
          ]
        }
      ],
      "source": [
        "# Prueba la hipótesis de que el ingreso promedio de los usuarios del área NY-NJ es diferente al de los usuarios de otras regiones.\n",
        "alpha = 0.05\n",
        "results = st.ttest_ind(ingreso_ny, ingreso_others, equal_var=False)\n",
        "print('p-value: ', results.pvalue)\n",
        "\n",
        "if results.pvalue < alpha:\n",
        "    print('Rechazamos la hipótesis nula')\n",
        "else:\n",
        "    print(\"No rechazamos la hipótesis nula\")"
      ]
    },
    {
      "cell_type": "markdown",
      "metadata": {
        "id": "lB9l8uODX6u6"
      },
      "source": [
        "- El caso contrario al anterior analisis, aqui no rechazariamos la hipotesis nula pero esto no quiere decir que aceptamos la hipotesis nula sino que no existe suficiente evidencia para rechazarlo, dicho de otra manera esto requeriria un analisis mas profundo para poder rechazar o aceptar dichas hipotesis. Tambien podemos ver que nos da un valor de p de 1.0."
      ]
    },
    {
      "cell_type": "markdown",
      "metadata": {
        "id": "H7vpPCR5X6u7"
      },
      "source": [
        "# Conclusión general\n",
        "\n",
        "- Como conclusion general podemos observar que a la hora de analizar ambas hipotesis respecto a si el ingreso es igual para ambas ciudades no se puede rechazar la hipotesis nula lo cual nos da a entender que tanto ingresos para diferentes ciudades entonces no tenemos evidencia suficiente para poder rechazar la hipotesis nula, a su vez para el analisis estadistico de si los ingresos para ambos planes eran diferentes se logro rechazar la hipotesis nula dando como resultado que la media no es igual para ambos planes. A lo largo de este proyecto se analizaron diferentes bases de datos las cuales se preprocesaron, se enriquecieron y se corrigieron los problemas que pudieran tener, tras tener las bases de datos procesadas se realizaron diferentes analisis estadisticos y graficos para poder encontrarnos con los motivos o problemas que pudieran tener dichas muestras poblacionales, de igual manera se realizaron analisis estadisticos de medias diferentes a ambas estipulando diferentes hipotesis nulas y alternativas para finalmente dar una conclusion respecto al estudio realizado, dicha conclusion esta escrita en este punto al inicio. Nos dimos cuenta tras realizar el analisis de los servicios utilizados por el usuario que habia personas que no tenian ni un consumo para ellos, dicho de otra manera, no usaban dichos servicios y solo estaban pagando por el plan sin realizar ni una llamada, mandar ni un mensaje, ni utilizar ni un MB/GB de internet. Finalmente como conclusion personal tras el profundo analisis realizado puedo decir que el plan 'ultimate' es mas rentable debido a que la cantidad de usuarios de dicho plan no realizo casi ningun cargo extra por excederse de lo incluido dentro del mismo."
      ]
    }
  ],
  "metadata": {
    "ExecuteTimeLog": [
      {
        "duration": 828,
        "start_time": "2021-11-16T09:21:11.304Z"
      },
      {
        "duration": 893,
        "start_time": "2021-11-16T09:21:17.728Z"
      },
      {
        "duration": 1150,
        "start_time": "2021-11-16T09:21:29.568Z"
      },
      {
        "duration": 3,
        "start_time": "2021-11-16T09:24:14.495Z"
      },
      {
        "duration": 120,
        "start_time": "2021-11-16T09:24:46.630Z"
      },
      {
        "duration": 3,
        "start_time": "2021-11-16T09:28:27.882Z"
      },
      {
        "duration": 4,
        "start_time": "2021-11-16T09:29:54.281Z"
      },
      {
        "duration": 3,
        "start_time": "2021-11-16T09:30:45.936Z"
      },
      {
        "duration": 4,
        "start_time": "2021-11-16T09:31:06.300Z"
      },
      {
        "duration": 113,
        "start_time": "2021-11-16T09:31:37.208Z"
      },
      {
        "duration": 143,
        "start_time": "2021-11-16T09:31:48.656Z"
      },
      {
        "duration": 98,
        "start_time": "2021-11-16T09:31:55.678Z"
      },
      {
        "duration": 3,
        "start_time": "2021-11-16T09:32:08.535Z"
      },
      {
        "duration": 111,
        "start_time": "2021-11-16T09:32:10.120Z"
      },
      {
        "duration": 3,
        "start_time": "2021-11-16T09:32:15.732Z"
      },
      {
        "duration": 4,
        "start_time": "2021-11-16T09:32:29.423Z"
      },
      {
        "duration": 3,
        "start_time": "2021-11-16T10:03:03.074Z"
      },
      {
        "duration": 3,
        "start_time": "2021-11-16T10:10:01.288Z"
      },
      {
        "duration": 3,
        "start_time": "2021-11-16T10:10:46.923Z"
      },
      {
        "duration": 121,
        "start_time": "2021-11-16T10:37:46.494Z"
      },
      {
        "duration": 125,
        "start_time": "2021-11-16T10:38:20.632Z"
      },
      {
        "duration": 112,
        "start_time": "2021-11-16T10:46:53.001Z"
      },
      {
        "duration": 110,
        "start_time": "2021-11-16T10:48:25.775Z"
      },
      {
        "duration": 3,
        "start_time": "2021-11-16T10:50:18.720Z"
      },
      {
        "duration": 4,
        "start_time": "2021-11-16T10:50:37.649Z"
      },
      {
        "duration": 2,
        "start_time": "2021-11-16T10:50:51.884Z"
      },
      {
        "duration": 3,
        "start_time": "2021-11-16T10:51:56.237Z"
      },
      {
        "duration": 101,
        "start_time": "2021-11-16T10:53:13.791Z"
      },
      {
        "duration": 3,
        "start_time": "2021-11-16T10:55:59.186Z"
      },
      {
        "duration": 3,
        "start_time": "2021-11-16T10:56:10.751Z"
      },
      {
        "duration": 3,
        "start_time": "2021-11-16T10:56:49.038Z"
      },
      {
        "duration": 3,
        "start_time": "2021-11-16T10:56:49.174Z"
      },
      {
        "duration": 4,
        "start_time": "2021-11-16T10:56:49.414Z"
      },
      {
        "duration": 3,
        "start_time": "2021-11-16T10:56:49.680Z"
      },
      {
        "duration": 3,
        "start_time": "2021-11-16T10:56:50.370Z"
      },
      {
        "duration": 114,
        "start_time": "2021-11-16T10:59:34.518Z"
      },
      {
        "duration": 3,
        "start_time": "2021-11-16T11:01:41.201Z"
      },
      {
        "duration": 116,
        "start_time": "2021-11-16T11:01:48.754Z"
      },
      {
        "duration": 3,
        "start_time": "2021-11-16T11:02:16.685Z"
      },
      {
        "duration": 3,
        "start_time": "2021-11-16T11:02:19.479Z"
      },
      {
        "duration": 3,
        "start_time": "2021-11-16T11:02:47.067Z"
      },
      {
        "duration": 3,
        "start_time": "2021-11-16T11:02:49.353Z"
      },
      {
        "duration": 3,
        "start_time": "2021-11-16T11:03:07.835Z"
      },
      {
        "duration": 3,
        "start_time": "2021-11-16T11:03:07.953Z"
      },
      {
        "duration": 112,
        "start_time": "2021-11-16T11:07:52.072Z"
      },
      {
        "duration": 187,
        "start_time": "2021-11-16T11:09:23.468Z"
      },
      {
        "duration": 4,
        "start_time": "2021-11-16T11:10:01.455Z"
      },
      {
        "duration": 3,
        "start_time": "2021-11-16T11:10:05.069Z"
      },
      {
        "duration": 4,
        "start_time": "2021-11-16T11:10:13.376Z"
      },
      {
        "duration": 3,
        "start_time": "2021-11-16T11:10:14.434Z"
      },
      {
        "duration": 3,
        "start_time": "2021-11-16T11:10:22.853Z"
      },
      {
        "duration": 4,
        "start_time": "2021-11-16T11:27:29.279Z"
      },
      {
        "duration": 4,
        "start_time": "2021-11-16T11:29:08.919Z"
      },
      {
        "duration": 118,
        "start_time": "2021-11-16T11:29:46.703Z"
      },
      {
        "duration": 437,
        "start_time": "2021-11-16T11:36:02.181Z"
      },
      {
        "duration": 157,
        "start_time": "2021-11-16T11:36:14.388Z"
      },
      {
        "duration": 207,
        "start_time": "2021-11-16T11:47:15.898Z"
      },
      {
        "duration": 3,
        "start_time": "2021-11-16T11:53:52.092Z"
      },
      {
        "duration": 3,
        "start_time": "2021-11-16T11:53:52.236Z"
      },
      {
        "duration": 3,
        "start_time": "2021-11-16T11:59:12.005Z"
      },
      {
        "duration": 112,
        "start_time": "2021-11-16T12:00:33.446Z"
      },
      {
        "duration": 3,
        "start_time": "2021-11-16T12:02:14.453Z"
      },
      {
        "duration": 3,
        "start_time": "2021-11-16T12:02:39.512Z"
      },
      {
        "duration": 106,
        "start_time": "2021-11-16T12:03:03.460Z"
      },
      {
        "duration": 3,
        "start_time": "2021-11-17T20:37:21.139Z"
      },
      {
        "duration": 3,
        "start_time": "2021-11-17T20:37:22.229Z"
      },
      {
        "duration": 3,
        "start_time": "2021-11-17T20:38:38.806Z"
      },
      {
        "duration": 3,
        "start_time": "2021-11-17T20:38:41.958Z"
      },
      {
        "duration": 3,
        "start_time": "2021-11-17T20:43:46.551Z"
      },
      {
        "duration": 4,
        "start_time": "2021-11-17T20:58:21.835Z"
      },
      {
        "duration": 3,
        "start_time": "2021-11-17T20:59:21.872Z"
      },
      {
        "duration": 4,
        "start_time": "2021-11-17T20:59:45.352Z"
      },
      {
        "duration": 4,
        "start_time": "2021-11-17T20:59:49.646Z"
      },
      {
        "duration": 159,
        "start_time": "2021-11-17T21:02:26.949Z"
      },
      {
        "duration": 3,
        "start_time": "2021-11-17T21:03:53.461Z"
      },
      {
        "duration": 3,
        "start_time": "2021-11-17T21:03:53.694Z"
      },
      {
        "duration": 3,
        "start_time": "2021-11-17T21:05:28.145Z"
      },
      {
        "duration": 116,
        "start_time": "2021-11-17T21:05:57.787Z"
      },
      {
        "duration": 3,
        "start_time": "2021-11-17T21:06:37.993Z"
      },
      {
        "duration": 3,
        "start_time": "2021-11-17T21:06:38.261Z"
      },
      {
        "duration": 3,
        "start_time": "2021-11-17T21:11:54.358Z"
      },
      {
        "duration": 3,
        "start_time": "2021-11-17T21:12:43.846Z"
      },
      {
        "duration": 4,
        "start_time": "2021-11-17T21:13:08.773Z"
      },
      {
        "duration": 3,
        "start_time": "2021-11-17T21:14:44.441Z"
      },
      {
        "duration": 3,
        "start_time": "2021-11-17T21:15:42.059Z"
      },
      {
        "duration": 4,
        "start_time": "2021-11-17T21:15:51.995Z"
      },
      {
        "duration": 3,
        "start_time": "2021-11-17T21:15:53.923Z"
      },
      {
        "duration": 3,
        "start_time": "2021-11-17T21:15:55.282Z"
      },
      {
        "duration": 3,
        "start_time": "2021-11-17T21:16:28.492Z"
      },
      {
        "duration": 3,
        "start_time": "2021-11-17T21:16:32.603Z"
      },
      {
        "duration": 3,
        "start_time": "2021-11-17T21:17:06.941Z"
      },
      {
        "duration": 98,
        "start_time": "2021-11-17T21:18:05.733Z"
      },
      {
        "duration": 4,
        "start_time": "2021-11-17T21:21:35.255Z"
      },
      {
        "duration": 3,
        "start_time": "2021-11-17T21:21:37.804Z"
      },
      {
        "duration": 4,
        "start_time": "2021-11-17T21:23:06.071Z"
      },
      {
        "duration": 3,
        "start_time": "2021-11-17T21:23:24.799Z"
      },
      {
        "duration": 3,
        "start_time": "2021-11-17T21:23:32.591Z"
      },
      {
        "duration": 98,
        "start_time": "2021-11-17T21:28:31.559Z"
      },
      {
        "duration": 3,
        "start_time": "2021-11-17T21:28:45.448Z"
      },
      {
        "duration": 3,
        "start_time": "2021-11-17T21:29:17.303Z"
      },
      {
        "duration": 3,
        "start_time": "2021-11-17T21:29:29.617Z"
      },
      {
        "duration": 3,
        "start_time": "2021-11-17T21:29:32.681Z"
      },
      {
        "duration": 3,
        "start_time": "2021-11-17T21:36:11.474Z"
      },
      {
        "duration": 3,
        "start_time": "2021-11-17T21:36:14.791Z"
      },
      {
        "duration": 3,
        "start_time": "2021-11-17T21:36:53.943Z"
      },
      {
        "duration": 3,
        "start_time": "2021-11-17T21:36:56.165Z"
      },
      {
        "duration": 4,
        "start_time": "2021-11-17T21:37:16.590Z"
      },
      {
        "duration": 3,
        "start_time": "2021-11-17T21:37:22.702Z"
      },
      {
        "duration": 4,
        "start_time": "2021-11-17T21:38:03.479Z"
      },
      {
        "duration": 3,
        "start_time": "2021-11-17T21:38:08.601Z"
      },
      {
        "duration": 3,
        "start_time": "2021-11-17T21:38:12.928Z"
      },
      {
        "duration": 3,
        "start_time": "2021-11-17T21:38:48.896Z"
      },
      {
        "duration": 2,
        "start_time": "2021-11-17T21:38:49.171Z"
      },
      {
        "duration": 4,
        "start_time": "2021-11-17T21:39:57.889Z"
      },
      {
        "duration": 3,
        "start_time": "2021-11-17T21:39:58.057Z"
      },
      {
        "duration": 3,
        "start_time": "2021-11-17T21:41:20.108Z"
      },
      {
        "duration": 3,
        "start_time": "2021-11-17T21:41:20.629Z"
      },
      {
        "duration": 3,
        "start_time": "2021-11-17T21:42:49.136Z"
      },
      {
        "duration": 3,
        "start_time": "2021-11-17T21:43:15.137Z"
      },
      {
        "duration": 4,
        "start_time": "2021-11-17T21:43:16.766Z"
      },
      {
        "duration": 4,
        "start_time": "2021-11-17T21:43:31.711Z"
      },
      {
        "duration": 3,
        "start_time": "2021-11-17T21:43:36.312Z"
      },
      {
        "duration": 4,
        "start_time": "2021-11-17T21:45:08.825Z"
      },
      {
        "duration": 4,
        "start_time": "2021-11-17T21:45:10.119Z"
      },
      {
        "duration": 4,
        "start_time": "2021-11-17T21:45:13.748Z"
      },
      {
        "duration": 3,
        "start_time": "2021-11-17T21:45:22.219Z"
      },
      {
        "duration": 3,
        "start_time": "2021-11-17T21:45:33.412Z"
      },
      {
        "duration": 2,
        "start_time": "2021-11-17T21:46:01.885Z"
      },
      {
        "duration": 3,
        "start_time": "2021-11-17T21:46:03.628Z"
      },
      {
        "duration": 107,
        "start_time": "2021-11-17T21:47:32.512Z"
      },
      {
        "duration": 103,
        "start_time": "2021-11-17T21:50:36.243Z"
      },
      {
        "duration": 3,
        "start_time": "2021-11-18T06:28:31.440Z"
      },
      {
        "duration": 3,
        "start_time": "2021-11-18T06:29:00.168Z"
      },
      {
        "duration": 3,
        "start_time": "2021-11-18T06:31:27.008Z"
      },
      {
        "duration": 2,
        "start_time": "2021-11-18T06:35:34.288Z"
      },
      {
        "duration": 2,
        "start_time": "2021-11-18T06:38:04.527Z"
      }
    ],
    "kernelspec": {
      "display_name": "Python 3 (ipykernel)",
      "language": "python",
      "name": "python3"
    },
    "language_info": {
      "codemirror_mode": {
        "name": "ipython",
        "version": 3
      },
      "file_extension": ".py",
      "mimetype": "text/x-python",
      "name": "python",
      "nbconvert_exporter": "python",
      "pygments_lexer": "ipython3",
      "version": "3.9.5"
    },
    "toc": {
      "base_numbering": 1,
      "nav_menu": {},
      "number_sections": true,
      "sideBar": true,
      "skip_h1_title": false,
      "title_cell": "Table of Contents",
      "title_sidebar": "Contents",
      "toc_cell": false,
      "toc_position": {
        "height": "calc(100% - 180px)",
        "left": "10px",
        "top": "150px",
        "width": "273.797px"
      },
      "toc_section_display": true,
      "toc_window_display": true
    },
    "colab": {
      "provenance": []
    }
  },
  "nbformat": 4,
  "nbformat_minor": 0
}