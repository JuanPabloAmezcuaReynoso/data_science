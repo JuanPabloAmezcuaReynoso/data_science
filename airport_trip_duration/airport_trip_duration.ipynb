{
  "cells": [
    {
      "cell_type": "markdown",
      "metadata": {
        "id": "ma2uG9D0qXww"
      },
      "source": [
        "# Inicialización"
      ]
    },
    {
      "cell_type": "markdown",
      "metadata": {
        "id": "EwyABTLiqXwx"
      },
      "source": [
        "## Cargar librerias"
      ]
    },
    {
      "cell_type": "code",
      "execution_count": null,
      "metadata": {
        "id": "KWckyGDdqXwy"
      },
      "outputs": [],
      "source": [
        "# Cargar todas las librerías\n",
        "import pandas as pd\n",
        "import numpy as np\n",
        "import matplotlib.pyplot as plt\n",
        "import math as mt\n",
        "from math import factorial\n",
        "from scipy import stats as st\n",
        "from datetime import timedelta as td\n",
        "from datetime import datetime"
      ]
    },
    {
      "cell_type": "markdown",
      "metadata": {
        "id": "kuGMiLeiqXw1"
      },
      "source": [
        "## Cargar los datos"
      ]
    },
    {
      "cell_type": "code",
      "execution_count": null,
      "metadata": {
        "id": "NIdpuFwqqXw2"
      },
      "outputs": [],
      "source": [
        "data1 = pd.read_csv('/datasets/project_sql_result_01.csv')\n",
        "data2 = pd.read_csv('/datasets/project_sql_result_04.csv')\n",
        "data3 = pd.read_csv('/datasets/project_sql_result_07.csv', parse_dates=['start_ts'])"
      ]
    },
    {
      "cell_type": "code",
      "execution_count": null,
      "metadata": {
        "id": "3dHemvQnqXw2",
        "outputId": "8af0c953-a7e7-4f04-ea9b-9e1e14e0aec6"
      },
      "outputs": [
        {
          "name": "stdout",
          "output_type": "stream",
          "text": [
            "<class 'pandas.core.frame.DataFrame'>\n",
            "RangeIndex: 64 entries, 0 to 63\n",
            "Data columns (total 2 columns):\n",
            " #   Column        Non-Null Count  Dtype \n",
            "---  ------        --------------  ----- \n",
            " 0   company_name  64 non-null     object\n",
            " 1   trips_amount  64 non-null     int64 \n",
            "dtypes: int64(1), object(1)\n",
            "memory usage: 1.1+ KB\n"
          ]
        }
      ],
      "source": [
        "data1.info()"
      ]
    },
    {
      "cell_type": "code",
      "execution_count": null,
      "metadata": {
        "id": "v1iFL3M1qXw3",
        "outputId": "2a76700f-fdd7-4232-a334-96a6e228ef93"
      },
      "outputs": [
        {
          "data": {
            "text/html": [
              "<div>\n",
              "<style scoped>\n",
              "    .dataframe tbody tr th:only-of-type {\n",
              "        vertical-align: middle;\n",
              "    }\n",
              "\n",
              "    .dataframe tbody tr th {\n",
              "        vertical-align: top;\n",
              "    }\n",
              "\n",
              "    .dataframe thead th {\n",
              "        text-align: right;\n",
              "    }\n",
              "</style>\n",
              "<table border=\"1\" class=\"dataframe\">\n",
              "  <thead>\n",
              "    <tr style=\"text-align: right;\">\n",
              "      <th></th>\n",
              "      <th>company_name</th>\n",
              "      <th>trips_amount</th>\n",
              "    </tr>\n",
              "  </thead>\n",
              "  <tbody>\n",
              "    <tr>\n",
              "      <th>0</th>\n",
              "      <td>Flash Cab</td>\n",
              "      <td>19558</td>\n",
              "    </tr>\n",
              "    <tr>\n",
              "      <th>1</th>\n",
              "      <td>Taxi Affiliation Services</td>\n",
              "      <td>11422</td>\n",
              "    </tr>\n",
              "    <tr>\n",
              "      <th>2</th>\n",
              "      <td>Medallion Leasing</td>\n",
              "      <td>10367</td>\n",
              "    </tr>\n",
              "    <tr>\n",
              "      <th>3</th>\n",
              "      <td>Yellow Cab</td>\n",
              "      <td>9888</td>\n",
              "    </tr>\n",
              "    <tr>\n",
              "      <th>4</th>\n",
              "      <td>Taxi Affiliation Service Yellow</td>\n",
              "      <td>9299</td>\n",
              "    </tr>\n",
              "  </tbody>\n",
              "</table>\n",
              "</div>"
            ],
            "text/plain": [
              "                      company_name  trips_amount\n",
              "0                        Flash Cab         19558\n",
              "1        Taxi Affiliation Services         11422\n",
              "2                Medallion Leasing         10367\n",
              "3                       Yellow Cab          9888\n",
              "4  Taxi Affiliation Service Yellow          9299"
            ]
          },
          "execution_count": 50,
          "metadata": {},
          "output_type": "execute_result"
        }
      ],
      "source": [
        "data1.head()"
      ]
    },
    {
      "cell_type": "code",
      "execution_count": null,
      "metadata": {
        "id": "0wIOTJjqqXw4",
        "outputId": "254b4699-89db-4c33-9cc1-72b12514b6f7"
      },
      "outputs": [
        {
          "name": "stdout",
          "output_type": "stream",
          "text": [
            "<class 'pandas.core.frame.DataFrame'>\n",
            "RangeIndex: 94 entries, 0 to 93\n",
            "Data columns (total 2 columns):\n",
            " #   Column                 Non-Null Count  Dtype  \n",
            "---  ------                 --------------  -----  \n",
            " 0   dropoff_location_name  94 non-null     object \n",
            " 1   average_trips          94 non-null     float64\n",
            "dtypes: float64(1), object(1)\n",
            "memory usage: 1.6+ KB\n"
          ]
        }
      ],
      "source": [
        "data2.info()"
      ]
    },
    {
      "cell_type": "code",
      "execution_count": null,
      "metadata": {
        "id": "hsKXtuk1qXw4",
        "outputId": "5acf39c6-3286-4601-cdf0-eed489526eda"
      },
      "outputs": [
        {
          "data": {
            "text/html": [
              "<div>\n",
              "<style scoped>\n",
              "    .dataframe tbody tr th:only-of-type {\n",
              "        vertical-align: middle;\n",
              "    }\n",
              "\n",
              "    .dataframe tbody tr th {\n",
              "        vertical-align: top;\n",
              "    }\n",
              "\n",
              "    .dataframe thead th {\n",
              "        text-align: right;\n",
              "    }\n",
              "</style>\n",
              "<table border=\"1\" class=\"dataframe\">\n",
              "  <thead>\n",
              "    <tr style=\"text-align: right;\">\n",
              "      <th></th>\n",
              "      <th>dropoff_location_name</th>\n",
              "      <th>average_trips</th>\n",
              "    </tr>\n",
              "  </thead>\n",
              "  <tbody>\n",
              "    <tr>\n",
              "      <th>0</th>\n",
              "      <td>Loop</td>\n",
              "      <td>10727.466667</td>\n",
              "    </tr>\n",
              "    <tr>\n",
              "      <th>1</th>\n",
              "      <td>River North</td>\n",
              "      <td>9523.666667</td>\n",
              "    </tr>\n",
              "    <tr>\n",
              "      <th>2</th>\n",
              "      <td>Streeterville</td>\n",
              "      <td>6664.666667</td>\n",
              "    </tr>\n",
              "    <tr>\n",
              "      <th>3</th>\n",
              "      <td>West Loop</td>\n",
              "      <td>5163.666667</td>\n",
              "    </tr>\n",
              "    <tr>\n",
              "      <th>4</th>\n",
              "      <td>O'Hare</td>\n",
              "      <td>2546.900000</td>\n",
              "    </tr>\n",
              "  </tbody>\n",
              "</table>\n",
              "</div>"
            ],
            "text/plain": [
              "  dropoff_location_name  average_trips\n",
              "0                  Loop   10727.466667\n",
              "1           River North    9523.666667\n",
              "2         Streeterville    6664.666667\n",
              "3             West Loop    5163.666667\n",
              "4                O'Hare    2546.900000"
            ]
          },
          "execution_count": 52,
          "metadata": {},
          "output_type": "execute_result"
        }
      ],
      "source": [
        "data2.head()"
      ]
    },
    {
      "cell_type": "code",
      "execution_count": null,
      "metadata": {
        "id": "xAHNywRUqXw4",
        "outputId": "9728a7f8-5ab9-4721-d1d3-79abe370e8c1"
      },
      "outputs": [
        {
          "name": "stdout",
          "output_type": "stream",
          "text": [
            "<class 'pandas.core.frame.DataFrame'>\n",
            "RangeIndex: 1068 entries, 0 to 1067\n",
            "Data columns (total 4 columns):\n",
            " #   Column              Non-Null Count  Dtype         \n",
            "---  ------              --------------  -----         \n",
            " 0   start_ts            1068 non-null   datetime64[ns]\n",
            " 1   weather_conditions  1068 non-null   object        \n",
            " 2   duration_seconds    1068 non-null   int64         \n",
            " 3   duration_minutes    1068 non-null   int64         \n",
            "dtypes: datetime64[ns](1), int64(2), object(1)\n",
            "memory usage: 33.5+ KB\n"
          ]
        }
      ],
      "source": [
        "data3.info()"
      ]
    },
    {
      "cell_type": "code",
      "execution_count": null,
      "metadata": {
        "id": "Lhg_7j-gqXw5",
        "outputId": "fcb8b6c8-8408-4819-ba4f-afcc0657d035"
      },
      "outputs": [
        {
          "data": {
            "text/html": [
              "<div>\n",
              "<style scoped>\n",
              "    .dataframe tbody tr th:only-of-type {\n",
              "        vertical-align: middle;\n",
              "    }\n",
              "\n",
              "    .dataframe tbody tr th {\n",
              "        vertical-align: top;\n",
              "    }\n",
              "\n",
              "    .dataframe thead th {\n",
              "        text-align: right;\n",
              "    }\n",
              "</style>\n",
              "<table border=\"1\" class=\"dataframe\">\n",
              "  <thead>\n",
              "    <tr style=\"text-align: right;\">\n",
              "      <th></th>\n",
              "      <th>start_ts</th>\n",
              "      <th>weather_conditions</th>\n",
              "      <th>duration_seconds</th>\n",
              "      <th>duration_minutes</th>\n",
              "    </tr>\n",
              "  </thead>\n",
              "  <tbody>\n",
              "    <tr>\n",
              "      <th>0</th>\n",
              "      <td>2017-11-25 16:00:00</td>\n",
              "      <td>Good</td>\n",
              "      <td>2410</td>\n",
              "      <td>40</td>\n",
              "    </tr>\n",
              "    <tr>\n",
              "      <th>1</th>\n",
              "      <td>2017-11-25 14:00:00</td>\n",
              "      <td>Good</td>\n",
              "      <td>1920</td>\n",
              "      <td>32</td>\n",
              "    </tr>\n",
              "    <tr>\n",
              "      <th>2</th>\n",
              "      <td>2017-11-25 12:00:00</td>\n",
              "      <td>Good</td>\n",
              "      <td>1543</td>\n",
              "      <td>26</td>\n",
              "    </tr>\n",
              "    <tr>\n",
              "      <th>3</th>\n",
              "      <td>2017-11-04 10:00:00</td>\n",
              "      <td>Good</td>\n",
              "      <td>2512</td>\n",
              "      <td>42</td>\n",
              "    </tr>\n",
              "    <tr>\n",
              "      <th>4</th>\n",
              "      <td>2017-11-11 07:00:00</td>\n",
              "      <td>Good</td>\n",
              "      <td>1440</td>\n",
              "      <td>24</td>\n",
              "    </tr>\n",
              "  </tbody>\n",
              "</table>\n",
              "</div>"
            ],
            "text/plain": [
              "             start_ts weather_conditions  duration_seconds  duration_minutes\n",
              "0 2017-11-25 16:00:00               Good              2410                40\n",
              "1 2017-11-25 14:00:00               Good              1920                32\n",
              "2 2017-11-25 12:00:00               Good              1543                26\n",
              "3 2017-11-04 10:00:00               Good              2512                42\n",
              "4 2017-11-11 07:00:00               Good              1440                24"
            ]
          },
          "execution_count": 83,
          "metadata": {},
          "output_type": "execute_result"
        }
      ],
      "source": [
        "data3.head()"
      ]
    },
    {
      "cell_type": "markdown",
      "metadata": {
        "id": "CT0pSRYLqXw5"
      },
      "source": [
        "## Corregir tipos de datos"
      ]
    },
    {
      "cell_type": "code",
      "execution_count": null,
      "metadata": {
        "id": "B78cTVWqqXw5"
      },
      "outputs": [],
      "source": [
        "data2['average_trips'] = data2['average_trips'].astype('int64').round()"
      ]
    },
    {
      "cell_type": "code",
      "execution_count": null,
      "metadata": {
        "id": "nnK7foI7qXw6"
      },
      "outputs": [],
      "source": [
        "data3['duration_minutes'] = (data3['duration_seconds'].astype('int64') / 60).round().astype('int64')"
      ]
    },
    {
      "cell_type": "markdown",
      "metadata": {
        "id": "jBYB1L0SqXw6"
      },
      "source": [
        "- Aqui se corrige el tipo de datos de float a int64 y tambien se añade una columna de minutos para tener mas observable la cantidad de minutos promedio que dura un viaje."
      ]
    },
    {
      "cell_type": "markdown",
      "metadata": {
        "id": "MChBGP_RqXw7"
      },
      "source": [
        "# Analisis de datos"
      ]
    },
    {
      "cell_type": "code",
      "execution_count": null,
      "metadata": {
        "id": "kvsUs4NaqXw7"
      },
      "outputs": [],
      "source": [
        "data1_sorted = data1.sort_values(ascending=False, by='trips_amount').head(10)"
      ]
    },
    {
      "cell_type": "code",
      "execution_count": null,
      "metadata": {
        "id": "WWw1LGzdqXw7"
      },
      "outputs": [],
      "source": [
        "data2_sorted = data2.sort_values(ascending=False, by='average_trips').head(10)"
      ]
    },
    {
      "cell_type": "markdown",
      "metadata": {
        "id": "pPsLKIP3qXw8"
      },
      "source": [
        "- Aqui creamos dos variables con los dataframes ordenados de mayor a menor por sus respectivos campos cuantificables y dividimos la muestra en los primeros 10 valores"
      ]
    },
    {
      "cell_type": "markdown",
      "metadata": {
        "id": "f9wWvjN9qXw8"
      },
      "source": [
        "# Graficos"
      ]
    },
    {
      "cell_type": "code",
      "execution_count": null,
      "metadata": {
        "id": "S5MoAI79qXw9",
        "outputId": "9c53ff31-e83f-463b-d600-ce0df1183210"
      },
      "outputs": [
        {
          "data": {
            "text/plain": [
              "Text(0.5, 1.0, 'Viajes totales por compañia')"
            ]
          },
          "execution_count": 89,
          "metadata": {},
          "output_type": "execute_result"
        },
        {
          "data": {
            "image/png": "[encoded data removed]",
            "text/plain": [
              "<Figure size 1080x360 with 1 Axes>"
            ]
          },
          "metadata": {
            "needs_background": "light"
          },
          "output_type": "display_data"
        }
      ],
      "source": [
        "# Se hace un grafico de barras para observar el total de viajes por compañia de taxi.\n",
        "data1_sorted.plot(kind='bar', x='company_name', figsize=(15,5))\n",
        "plt.ylabel('Total de Viajes')\n",
        "plt.xlabel('Nombre de la compañia')\n",
        "plt.title('Viajes totales por compañia')"
      ]
    },
    {
      "cell_type": "markdown",
      "metadata": {
        "id": "1wsg9zpcqXw9"
      },
      "source": [
        "- Tras analizar los datos podemos observar que las compañias con mas viajes completados serian Flash Cab con mucha diferencia de los demas, fuera de esa compañia las demas estan relativamente igualadas."
      ]
    },
    {
      "cell_type": "code",
      "execution_count": null,
      "metadata": {
        "id": "D_pcKRE1qXw9",
        "outputId": "289f5c15-7950-4e37-bad8-bfb6103dad09"
      },
      "outputs": [
        {
          "data": {
            "text/plain": [
              "Text(0.5, 1.0, 'Viajes totales por compañia')"
            ]
          },
          "execution_count": 88,
          "metadata": {},
          "output_type": "execute_result"
        },
        {
          "data": {
            "image/png": "[encoded data removed]",
            "text/plain": [
              "<Figure size 1080x360 with 1 Axes>"
            ]
          },
          "metadata": {
            "needs_background": "light"
          },
          "output_type": "display_data"
        }
      ],
      "source": [
        "# Se hace un grafico de barras para el promedio de los viajes y para el barrio destino.\n",
        "data2_sorted.plot(kind='bar', x='dropoff_location_name', figsize=(15,5))\n",
        "plt.ylabel('Promedio de Viajes')\n",
        "plt.xlabel('Nombre del barrio')\n",
        "plt.title('Viajes totales por compañia')"
      ]
    },
    {
      "cell_type": "markdown",
      "metadata": {
        "id": "cX2yr6bWqXw-"
      },
      "source": [
        "- Tras analizar los datos podemos observar que el barrio con mas promedio de viajes es Loop, seguido por River North muy cerca y los demas van disminuyendo bastante."
      ]
    },
    {
      "cell_type": "markdown",
      "metadata": {
        "id": "XCv0APJuqXw-"
      },
      "source": [
        "# Pruebas de hipotesis"
      ]
    },
    {
      "cell_type": "markdown",
      "metadata": {
        "id": "nF26Ho0GqXw-"
      },
      "source": [
        "- H₀ = La duración promedio de los viajes es igual desde el Loop hasta el Aeropuerto Internacional O'Hare cambia los sábados lluviosos.\n",
        "- H₁ = La duración promedio de los viajes NO es igual desde el Loop hasta el Aeropuerto Internacional O'Hare cambia los sábados lluviosos."
      ]
    },
    {
      "cell_type": "markdown",
      "metadata": {
        "id": "MODjVmtMqXw_"
      },
      "source": [
        "- Se plantean las hipotesis alternativa y nula basandonos en si la duracion promedio de los viajes es igual o no dependiendo de si el clima es lluvioso."
      ]
    },
    {
      "cell_type": "code",
      "execution_count": null,
      "metadata": {
        "id": "utOAnMxfqXw_"
      },
      "outputs": [],
      "source": [
        "con_lluvia = data3[data3['weather_conditions']=='Bad']\n",
        "duracion_lluvia = con_lluvia['duration_minutes']\n",
        "sin_lluvia = data3[data3['weather_conditions']=='Good']\n",
        "duracion_sin_lluvia = sin_lluvia['duration_minutes']"
      ]
    },
    {
      "cell_type": "code",
      "execution_count": null,
      "metadata": {
        "id": "FThFDeGHqXxA",
        "outputId": "b9320fe5-169f-4ddb-c872-934dcd591258"
      },
      "outputs": [
        {
          "data": {
            "text/plain": [
              "LeveneResult(statistic=0.8141493041819283, pvalue=0.3671001719543241)"
            ]
          },
          "execution_count": 87,
          "metadata": {},
          "output_type": "execute_result"
        }
      ],
      "source": [
        "# Realizamos prueba de levene para comprobar que las varianzas no son iguales.\n",
        "st.levene(duracion_lluvia, duracion_sin_lluvia, center='mean')"
      ]
    },
    {
      "cell_type": "markdown",
      "metadata": {
        "id": "7X2GDUTmqXxA"
      },
      "source": [
        "- Al realizar la prueba de levene y obtener un pvalue menor a 0 podemos concluir que las varianzas son iguales."
      ]
    },
    {
      "cell_type": "code",
      "execution_count": null,
      "metadata": {
        "id": "B-t9spbzqXxB",
        "outputId": "a6c3e49d-f9ff-4187-8833-657620b406a5"
      },
      "outputs": [
        {
          "name": "stdout",
          "output_type": "stream",
          "text": [
            "p-value:  6.718708782388204e-12\n",
            "Rechazamos la hipótesis nula\n"
          ]
        }
      ],
      "source": [
        "# Prueba las hipótesis\n",
        "alpha = 0.05\n",
        "results = st.ttest_ind(duracion_lluvia, duracion_sin_lluvia, equal_var=True)\n",
        "print('p-value: ', results.pvalue)\n",
        "\n",
        "if results.pvalue < alpha:\n",
        "    print('Rechazamos la hipótesis nula')\n",
        "else:\n",
        "    print(\"No rechazamos la hipótesis nula\")"
      ]
    },
    {
      "cell_type": "markdown",
      "metadata": {
        "id": "dpMouM_qqXxL"
      },
      "source": [
        "- Como podemos observar tras realizar un analisis estadistico de las duraciones en mimutos de los usuarios para climas con lluvia y sin lluvia nos encontramos con que tenemos suficiente evidencia para rechazar la hipotesis nula, lo que quiere decir que aceptamos la hipotesis alternativa que en este caso implica que la media no es igual para ambos escenarios."
      ]
    }
  ],
  "metadata": {
    "kernelspec": {
      "display_name": "Python 3 (ipykernel)",
      "language": "python",
      "name": "python3"
    },
    "language_info": {
      "codemirror_mode": {
        "name": "ipython",
        "version": 3
      },
      "file_extension": ".py",
      "mimetype": "text/x-python",
      "name": "python",
      "nbconvert_exporter": "python",
      "pygments_lexer": "ipython3",
      "version": "3.9.5"
    },
    "toc": {
      "base_numbering": 1,
      "nav_menu": {},
      "number_sections": true,
      "sideBar": true,
      "skip_h1_title": false,
      "title_cell": "Table of Contents",
      "title_sidebar": "Contents",
      "toc_cell": false,
      "toc_position": {},
      "toc_section_display": true,
      "toc_window_display": true
    },
    "colab": {
      "provenance": []
    }
  },
  "nbformat": 4,
  "nbformat_minor": 0
}