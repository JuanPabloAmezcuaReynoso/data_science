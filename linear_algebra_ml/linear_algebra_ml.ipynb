{
  "cells": [
    {
      "cell_type": "markdown",
      "metadata": {
        "id": "2Hd_D_SyDm9s"
      },
      "source": [
        "# Descripción"
      ]
    },
    {
      "cell_type": "markdown",
      "metadata": {
        "id": "3Jo3ITaODm9t"
      },
      "source": [
        "La compañía de seguros quiere resolver varias tareas con la ayuda de machine learning y te pide que evalúes esa posibilidad.\n",
        "- Tarea 1: encontrar clientes que sean similares a un cliente determinado. Esto ayudará a los agentes de la compañía con el marketing.\n",
        "- Tarea 2: predecir la probabilidad de que un nuevo cliente reciba una prestación del seguro. ¿Puede un modelo de predictivo funcionar mejor que un modelo dummy?\n",
        "- Tarea 3: predecir el número de prestaciones de seguro que un nuevo cliente pueda recibir utilizando un modelo de regresión lineal.\n",
        "- Tarea 4: proteger los datos personales de los clientes sin afectar al modelo del ejercicio anterior. Es necesario desarrollar un algoritmo de transformación de datos que dificulte la recuperación de la información personal si los datos caen en manos equivocadas. Esto se denomina enmascaramiento u ofuscación de datos. Pero los datos deben protegerse de tal manera que no se vea afectada la calidad de los modelos de machine learning. No es necesario elegir el mejor modelo, basta con demostrar que el algoritmo funciona correctamente.\n"
      ]
    },
    {
      "cell_type": "markdown",
      "metadata": {
        "id": "v2zJw2cDDm9u"
      },
      "source": [
        "# Preprocesamiento y exploración de datos\n",
        "\n",
        "## Inicialización"
      ]
    },
    {
      "cell_type": "code",
      "execution_count": null,
      "metadata": {
        "id": "j25CJuTEDm9v",
        "outputId": "70feea5d-4093-4baf-a929-41c9f490e79e"
      },
      "outputs": [
        {
          "name": "stdout",
          "output_type": "stream",
          "text": [
            "\u001b[33mWARNING: Ignoring invalid distribution -oblib (/opt/conda/lib/python3.9/site-packages)\u001b[0m\n",
            "\u001b[33mWARNING: Ignoring invalid distribution - (/opt/conda/lib/python3.9/site-packages)\u001b[0m\n",
            "\u001b[33mWARNING: Ignoring invalid distribution -oblib (/opt/conda/lib/python3.9/site-packages)\u001b[0m\n",
            "\u001b[33mWARNING: Ignoring invalid distribution - (/opt/conda/lib/python3.9/site-packages)\u001b[0m\n",
            "Requirement already satisfied: scikit-learn in /opt/conda/lib/python3.9/site-packages (0.24.1)\n",
            "Collecting scikit-learn\n",
            "  Using cached scikit_learn-1.2.2-cp39-cp39-manylinux_2_17_x86_64.manylinux2014_x86_64.whl (9.6 MB)\n",
            "Requirement already satisfied: numpy>=1.17.3 in /opt/conda/lib/python3.9/site-packages (from scikit-learn) (1.21.1)\n",
            "Requirement already satisfied: threadpoolctl>=2.0.0 in /opt/conda/lib/python3.9/site-packages (from scikit-learn) (3.1.0)\n",
            "Requirement already satisfied: scipy>=1.3.2 in /opt/conda/lib/python3.9/site-packages (from scikit-learn) (1.8.0)\n",
            "Collecting joblib>=1.1.1\n",
            "  Using cached joblib-1.2.0-py3-none-any.whl (297 kB)\n",
            "\u001b[33mWARNING: Ignoring invalid distribution -oblib (/opt/conda/lib/python3.9/site-packages)\u001b[0m\n",
            "\u001b[33mWARNING: Ignoring invalid distribution - (/opt/conda/lib/python3.9/site-packages)\u001b[0m\n",
            "Installing collected packages: joblib, scikit-learn\n",
            "  Attempting uninstall: joblib\n",
            "\u001b[33m    WARNING: Ignoring invalid distribution -oblib (/opt/conda/lib/python3.9/site-packages)\u001b[0m\n",
            "\u001b[33m    WARNING: Ignoring invalid distribution - (/opt/conda/lib/python3.9/site-packages)\u001b[0m\n",
            "    Found existing installation: joblib 1.1.0\n",
            "    Uninstalling joblib-1.1.0:\n",
            "\u001b[31mERROR: Could not install packages due to an OSError: [Errno 13] Permission denied: 'INSTALLER'\n",
            "Consider using the `--user` option or check the permissions.\n",
            "\u001b[0m\n",
            "\u001b[33mWARNING: Ignoring invalid distribution -oblib (/opt/conda/lib/python3.9/site-packages)\u001b[0m\n",
            "\u001b[33mWARNING: Ignoring invalid distribution - (/opt/conda/lib/python3.9/site-packages)\u001b[0m\n",
            "\u001b[33mWARNING: Ignoring invalid distribution -oblib (/opt/conda/lib/python3.9/site-packages)\u001b[0m\n",
            "\u001b[33mWARNING: Ignoring invalid distribution - (/opt/conda/lib/python3.9/site-packages)\u001b[0m\n",
            "\u001b[33mWARNING: Ignoring invalid distribution -oblib (/opt/conda/lib/python3.9/site-packages)\u001b[0m\n",
            "\u001b[33mWARNING: Ignoring invalid distribution - (/opt/conda/lib/python3.9/site-packages)\u001b[0m\n",
            "Note: you may need to restart the kernel to use updated packages.\n"
          ]
        }
      ],
      "source": [
        "pip install scikit-learn --upgrade"
      ]
    },
    {
      "cell_type": "code",
      "execution_count": null,
      "metadata": {
        "id": "e89m9WL3Dm9y"
      },
      "outputs": [],
      "source": [
        "import numpy as np\n",
        "import pandas as pd\n",
        "import seaborn as sns\n",
        "import sklearn.linear_model\n",
        "import sklearn.metrics\n",
        "import sklearn.neighbors\n",
        "import sklearn.preprocessing\n",
        "import math\n",
        "from sklearn.neighbors import NearestNeighbors, KNeighborsClassifier\n",
        "from sklearn.linear_model import LinearRegression\n",
        "from sklearn.preprocessing import MaxAbsScaler, StandardScaler\n",
        "from sklearn.model_selection import train_test_split\n",
        "from sklearn.metrics import mean_squared_error, r2_score\n",
        "from IPython.display import display"
      ]
    },
    {
      "cell_type": "markdown",
      "metadata": {
        "id": "GBd3I3ngDm9z"
      },
      "source": [
        "## Carga de datos"
      ]
    },
    {
      "cell_type": "markdown",
      "metadata": {
        "id": "TZptNbV9Dm91"
      },
      "source": [
        "Carga los datos y haz una revisión básica para comprobar que no hay problemas obvios."
      ]
    },
    {
      "cell_type": "code",
      "execution_count": null,
      "metadata": {
        "id": "QzTytECQDm92"
      },
      "outputs": [],
      "source": [
        "df = pd.read_csv('/datasets/insurance_us.csv')"
      ]
    },
    {
      "cell_type": "markdown",
      "metadata": {
        "id": "NMrcIPgMDm93"
      },
      "source": [
        "Renombramos las columnas para que el código se vea más coherente con su estilo."
      ]
    },
    {
      "cell_type": "code",
      "execution_count": null,
      "metadata": {
        "id": "TdrLcXW3Dm95"
      },
      "outputs": [],
      "source": [
        "df = df.rename(columns={'Gender': 'gender', 'Age': 'age', 'Salary': 'income', 'Family members': 'family_members', 'Insurance benefits': 'insurance_benefits'})"
      ]
    },
    {
      "cell_type": "code",
      "execution_count": null,
      "metadata": {
        "id": "7aruNjplDm96",
        "outputId": "668f6ebd-3a55-4b9e-9710-fe5c24fa8360"
      },
      "outputs": [
        {
          "data": {
            "text/html": [
              "<div>\n",
              "<style scoped>\n",
              "    .dataframe tbody tr th:only-of-type {\n",
              "        vertical-align: middle;\n",
              "    }\n",
              "\n",
              "    .dataframe tbody tr th {\n",
              "        vertical-align: top;\n",
              "    }\n",
              "\n",
              "    .dataframe thead th {\n",
              "        text-align: right;\n",
              "    }\n",
              "</style>\n",
              "<table border=\"1\" class=\"dataframe\">\n",
              "  <thead>\n",
              "    <tr style=\"text-align: right;\">\n",
              "      <th></th>\n",
              "      <th>gender</th>\n",
              "      <th>age</th>\n",
              "      <th>income</th>\n",
              "      <th>family_members</th>\n",
              "      <th>insurance_benefits</th>\n",
              "    </tr>\n",
              "  </thead>\n",
              "  <tbody>\n",
              "    <tr>\n",
              "      <th>4427</th>\n",
              "      <td>1</td>\n",
              "      <td>48.0</td>\n",
              "      <td>14100.0</td>\n",
              "      <td>1</td>\n",
              "      <td>1</td>\n",
              "    </tr>\n",
              "    <tr>\n",
              "      <th>1449</th>\n",
              "      <td>1</td>\n",
              "      <td>21.0</td>\n",
              "      <td>45800.0</td>\n",
              "      <td>1</td>\n",
              "      <td>0</td>\n",
              "    </tr>\n",
              "    <tr>\n",
              "      <th>3280</th>\n",
              "      <td>0</td>\n",
              "      <td>34.0</td>\n",
              "      <td>41500.0</td>\n",
              "      <td>1</td>\n",
              "      <td>0</td>\n",
              "    </tr>\n",
              "    <tr>\n",
              "      <th>3236</th>\n",
              "      <td>1</td>\n",
              "      <td>37.0</td>\n",
              "      <td>23700.0</td>\n",
              "      <td>1</td>\n",
              "      <td>0</td>\n",
              "    </tr>\n",
              "    <tr>\n",
              "      <th>3889</th>\n",
              "      <td>1</td>\n",
              "      <td>20.0</td>\n",
              "      <td>46600.0</td>\n",
              "      <td>3</td>\n",
              "      <td>0</td>\n",
              "    </tr>\n",
              "    <tr>\n",
              "      <th>4271</th>\n",
              "      <td>0</td>\n",
              "      <td>20.0</td>\n",
              "      <td>35700.0</td>\n",
              "      <td>1</td>\n",
              "      <td>0</td>\n",
              "    </tr>\n",
              "    <tr>\n",
              "      <th>1216</th>\n",
              "      <td>0</td>\n",
              "      <td>27.0</td>\n",
              "      <td>41800.0</td>\n",
              "      <td>1</td>\n",
              "      <td>0</td>\n",
              "    </tr>\n",
              "    <tr>\n",
              "      <th>842</th>\n",
              "      <td>0</td>\n",
              "      <td>20.0</td>\n",
              "      <td>45000.0</td>\n",
              "      <td>1</td>\n",
              "      <td>0</td>\n",
              "    </tr>\n",
              "    <tr>\n",
              "      <th>4925</th>\n",
              "      <td>1</td>\n",
              "      <td>44.0</td>\n",
              "      <td>32000.0</td>\n",
              "      <td>1</td>\n",
              "      <td>1</td>\n",
              "    </tr>\n",
              "    <tr>\n",
              "      <th>4615</th>\n",
              "      <td>1</td>\n",
              "      <td>28.0</td>\n",
              "      <td>16300.0</td>\n",
              "      <td>1</td>\n",
              "      <td>0</td>\n",
              "    </tr>\n",
              "  </tbody>\n",
              "</table>\n",
              "</div>"
            ],
            "text/plain": [
              "      gender   age   income  family_members  insurance_benefits\n",
              "4427       1  48.0  14100.0               1                   1\n",
              "1449       1  21.0  45800.0               1                   0\n",
              "3280       0  34.0  41500.0               1                   0\n",
              "3236       1  37.0  23700.0               1                   0\n",
              "3889       1  20.0  46600.0               3                   0\n",
              "4271       0  20.0  35700.0               1                   0\n",
              "1216       0  27.0  41800.0               1                   0\n",
              "842        0  20.0  45000.0               1                   0\n",
              "4925       1  44.0  32000.0               1                   1\n",
              "4615       1  28.0  16300.0               1                   0"
            ]
          },
          "execution_count": 45,
          "metadata": {},
          "output_type": "execute_result"
        }
      ],
      "source": [
        "df.sample(10)"
      ]
    },
    {
      "cell_type": "code",
      "execution_count": null,
      "metadata": {
        "id": "G5RAAttHDm97",
        "outputId": "47a23225-2bf0-4bb4-9573-2f22621c8890"
      },
      "outputs": [
        {
          "name": "stdout",
          "output_type": "stream",
          "text": [
            "<class 'pandas.core.frame.DataFrame'>\n",
            "RangeIndex: 5000 entries, 0 to 4999\n",
            "Data columns (total 5 columns):\n",
            " #   Column              Non-Null Count  Dtype  \n",
            "---  ------              --------------  -----  \n",
            " 0   gender              5000 non-null   int64  \n",
            " 1   age                 5000 non-null   float64\n",
            " 2   income              5000 non-null   float64\n",
            " 3   family_members      5000 non-null   int64  \n",
            " 4   insurance_benefits  5000 non-null   int64  \n",
            "dtypes: float64(2), int64(3)\n",
            "memory usage: 195.4 KB\n"
          ]
        }
      ],
      "source": [
        "df.info()"
      ]
    },
    {
      "cell_type": "code",
      "execution_count": null,
      "metadata": {
        "id": "EYzG_HU7Dm98"
      },
      "outputs": [],
      "source": [
        "# puede que queramos cambiar el tipo de edad (de float a int) aunque esto no es crucial\n",
        "\n",
        "# escribe tu conversión aquí si lo deseas:}\n",
        "df['age'] = df['age'].astype('int64')"
      ]
    },
    {
      "cell_type": "code",
      "execution_count": null,
      "metadata": {
        "id": "_56ypu4uDm99",
        "outputId": "799b03a5-7ade-4f39-ec08-33ca7a4d460c"
      },
      "outputs": [
        {
          "name": "stdout",
          "output_type": "stream",
          "text": [
            "<class 'pandas.core.frame.DataFrame'>\n",
            "RangeIndex: 5000 entries, 0 to 4999\n",
            "Data columns (total 5 columns):\n",
            " #   Column              Non-Null Count  Dtype  \n",
            "---  ------              --------------  -----  \n",
            " 0   gender              5000 non-null   int64  \n",
            " 1   age                 5000 non-null   int64  \n",
            " 2   income              5000 non-null   float64\n",
            " 3   family_members      5000 non-null   int64  \n",
            " 4   insurance_benefits  5000 non-null   int64  \n",
            "dtypes: float64(1), int64(4)\n",
            "memory usage: 195.4 KB\n"
          ]
        }
      ],
      "source": [
        "# comprueba que la conversión se haya realizado con éxito\n",
        "df.info()"
      ]
    },
    {
      "cell_type": "code",
      "execution_count": null,
      "metadata": {
        "id": "45tuksHRDm9-"
      },
      "outputs": [],
      "source": [
        "# ahora echa un vistazo a las estadísticas descriptivas de los datos.# ¿Se ve todo bien?"
      ]
    },
    {
      "cell_type": "code",
      "execution_count": null,
      "metadata": {
        "scrolled": true,
        "id": "PEwgTfRiDm9_",
        "outputId": "63a97780-a274-4b2b-d9cf-6ac54ae80de6"
      },
      "outputs": [
        {
          "data": {
            "text/html": [
              "<div>\n",
              "<style scoped>\n",
              "    .dataframe tbody tr th:only-of-type {\n",
              "        vertical-align: middle;\n",
              "    }\n",
              "\n",
              "    .dataframe tbody tr th {\n",
              "        vertical-align: top;\n",
              "    }\n",
              "\n",
              "    .dataframe thead th {\n",
              "        text-align: right;\n",
              "    }\n",
              "</style>\n",
              "<table border=\"1\" class=\"dataframe\">\n",
              "  <thead>\n",
              "    <tr style=\"text-align: right;\">\n",
              "      <th></th>\n",
              "      <th>gender</th>\n",
              "      <th>age</th>\n",
              "      <th>income</th>\n",
              "      <th>family_members</th>\n",
              "      <th>insurance_benefits</th>\n",
              "    </tr>\n",
              "  </thead>\n",
              "  <tbody>\n",
              "    <tr>\n",
              "      <th>count</th>\n",
              "      <td>5000.000000</td>\n",
              "      <td>5000.000000</td>\n",
              "      <td>5000.000000</td>\n",
              "      <td>5000.000000</td>\n",
              "      <td>5000.000000</td>\n",
              "    </tr>\n",
              "    <tr>\n",
              "      <th>mean</th>\n",
              "      <td>0.499000</td>\n",
              "      <td>30.952800</td>\n",
              "      <td>39916.360000</td>\n",
              "      <td>1.194200</td>\n",
              "      <td>0.148000</td>\n",
              "    </tr>\n",
              "    <tr>\n",
              "      <th>std</th>\n",
              "      <td>0.500049</td>\n",
              "      <td>8.440807</td>\n",
              "      <td>9900.083569</td>\n",
              "      <td>1.091387</td>\n",
              "      <td>0.463183</td>\n",
              "    </tr>\n",
              "    <tr>\n",
              "      <th>min</th>\n",
              "      <td>0.000000</td>\n",
              "      <td>18.000000</td>\n",
              "      <td>5300.000000</td>\n",
              "      <td>0.000000</td>\n",
              "      <td>0.000000</td>\n",
              "    </tr>\n",
              "    <tr>\n",
              "      <th>25%</th>\n",
              "      <td>0.000000</td>\n",
              "      <td>24.000000</td>\n",
              "      <td>33300.000000</td>\n",
              "      <td>0.000000</td>\n",
              "      <td>0.000000</td>\n",
              "    </tr>\n",
              "    <tr>\n",
              "      <th>50%</th>\n",
              "      <td>0.000000</td>\n",
              "      <td>30.000000</td>\n",
              "      <td>40200.000000</td>\n",
              "      <td>1.000000</td>\n",
              "      <td>0.000000</td>\n",
              "    </tr>\n",
              "    <tr>\n",
              "      <th>75%</th>\n",
              "      <td>1.000000</td>\n",
              "      <td>37.000000</td>\n",
              "      <td>46600.000000</td>\n",
              "      <td>2.000000</td>\n",
              "      <td>0.000000</td>\n",
              "    </tr>\n",
              "    <tr>\n",
              "      <th>max</th>\n",
              "      <td>1.000000</td>\n",
              "      <td>65.000000</td>\n",
              "      <td>79000.000000</td>\n",
              "      <td>6.000000</td>\n",
              "      <td>5.000000</td>\n",
              "    </tr>\n",
              "  </tbody>\n",
              "</table>\n",
              "</div>"
            ],
            "text/plain": [
              "            gender          age        income  family_members  \\\n",
              "count  5000.000000  5000.000000   5000.000000     5000.000000   \n",
              "mean      0.499000    30.952800  39916.360000        1.194200   \n",
              "std       0.500049     8.440807   9900.083569        1.091387   \n",
              "min       0.000000    18.000000   5300.000000        0.000000   \n",
              "25%       0.000000    24.000000  33300.000000        0.000000   \n",
              "50%       0.000000    30.000000  40200.000000        1.000000   \n",
              "75%       1.000000    37.000000  46600.000000        2.000000   \n",
              "max       1.000000    65.000000  79000.000000        6.000000   \n",
              "\n",
              "       insurance_benefits  \n",
              "count         5000.000000  \n",
              "mean             0.148000  \n",
              "std              0.463183  \n",
              "min              0.000000  \n",
              "25%              0.000000  \n",
              "50%              0.000000  \n",
              "75%              0.000000  \n",
              "max              5.000000  "
            ]
          },
          "execution_count": 50,
          "metadata": {},
          "output_type": "execute_result"
        }
      ],
      "source": [
        "df.describe()"
      ]
    },
    {
      "cell_type": "markdown",
      "metadata": {
        "id": "8nP7b9vEDm-A"
      },
      "source": [
        "- Como podemos observar todas las estadisticas se encuentran en valores normales, no se observan valores atipicos con este analisis."
      ]
    },
    {
      "cell_type": "markdown",
      "metadata": {
        "id": "95fraNbIDm-B"
      },
      "source": [
        "## Análisis exploratorio de datos"
      ]
    },
    {
      "cell_type": "markdown",
      "metadata": {
        "id": "Mzklzk5MDm-C"
      },
      "source": [
        "Vamos a comprobar rápidamente si existen determinados grupos de clientes observando el gráfico de pares."
      ]
    },
    {
      "cell_type": "code",
      "execution_count": null,
      "metadata": {
        "id": "rIMJTGYtDm-D",
        "outputId": "8fdfb348-721f-421c-f9ac-2d5d994aa083"
      },
      "outputs": [
        {
          "data": {
            "image/png": "[encoded data removed]",
            "text/plain": [
              "<Figure size 864x864 with 30 Axes>"
            ]
          },
          "metadata": {
            "needs_background": "light"
          },
          "output_type": "display_data"
        }
      ],
      "source": [
        "g = sns.pairplot(df, kind='hist')\n",
        "g.fig.set_size_inches(12, 12)"
      ]
    },
    {
      "cell_type": "markdown",
      "metadata": {
        "id": "pu1mFh6ZDm-E"
      },
      "source": [
        "De acuerdo, es un poco complicado detectar grupos obvios (clústeres) ya que es difícil combinar diversas variables simultáneamente (para analizar distribuciones multivariadas). Ahí es donde LA y ML pueden ser bastante útiles."
      ]
    },
    {
      "cell_type": "markdown",
      "metadata": {
        "id": "1xuDhOBMDm-F"
      },
      "source": [
        "# Tarea 1. Clientes similares"
      ]
    },
    {
      "cell_type": "markdown",
      "metadata": {
        "id": "WvXmvLO8Dm-F"
      },
      "source": [
        "En el lenguaje de ML, es necesario desarrollar un procedimiento que devuelva los k vecinos más cercanos (objetos) para un objeto dado basándose en la distancia entre los objetos.\n",
        "Es posible que quieras revisar las siguientes lecciones (capítulo -> lección)- Distancia entre vectores -> Distancia euclidiana\n",
        "- Distancia entre vectores -> Distancia Manhattan\n",
        "\n",
        "Para resolver la tarea, podemos probar diferentes métricas de distancia."
      ]
    },
    {
      "cell_type": "code",
      "execution_count": null,
      "metadata": {
        "id": "-tAOZzz3Dm-H"
      },
      "outputs": [],
      "source": [
        "feature_names = ['gender', 'age', 'income', 'family_members']"
      ]
    },
    {
      "cell_type": "code",
      "execution_count": null,
      "metadata": {
        "id": "97Us9X3GDm-H"
      },
      "outputs": [],
      "source": [
        "def get_knn(df, n, k, metric):\n",
        "\n",
        "    \"\"\"\n",
        "    Devuelve los k vecinos más cercanos\n",
        "\n",
        "    :param df: DataFrame de pandas utilizado para encontrar objetos similares dentro del mismo lugar\n",
        "    :param n: número de objetos para los que se buscan los vecinos más cercanos\n",
        "    :param k: número de vecinos más cercanos a devolver\n",
        "    :param métrica: nombre de la métrica de distancia    \"\"\"\n",
        "\n",
        "    nbrs = NearestNeighbors(n_neighbors=k, metric=metric)\n",
        "    nbrs.fit(df[feature_names])\n",
        "    nbrs_distances, nbrs_indices = nbrs.kneighbors([df.iloc[n][feature_names]], k, return_distance=True)\n",
        "\n",
        "    df_res = pd.concat([\n",
        "        df.iloc[nbrs_indices[0]],\n",
        "        pd.DataFrame(nbrs_distances.T, index=nbrs_indices[0], columns=['distance'])\n",
        "        ], axis=1)\n",
        "\n",
        "    return df_res"
      ]
    },
    {
      "cell_type": "markdown",
      "metadata": {
        "id": "M493EoLpDm-J"
      },
      "source": [
        "Escalar datos."
      ]
    },
    {
      "cell_type": "code",
      "execution_count": null,
      "metadata": {
        "id": "A8Q_VW27Dm-J"
      },
      "outputs": [],
      "source": [
        "feature_names = ['gender', 'age', 'income', 'family_members']\n",
        "\n",
        "transformer_mas = sklearn.preprocessing.MaxAbsScaler().fit(df[feature_names].to_numpy())\n",
        "\n",
        "df_scaled = df.copy()\n",
        "df_scaled.loc[:, feature_names] = transformer_mas.transform(df[feature_names].to_numpy())"
      ]
    },
    {
      "cell_type": "code",
      "execution_count": null,
      "metadata": {
        "id": "BwXvYL5LDm-K",
        "outputId": "4f501a0c-322e-499f-dcc0-24df515230a8"
      },
      "outputs": [
        {
          "data": {
            "text/html": [
              "<div>\n",
              "<style scoped>\n",
              "    .dataframe tbody tr th:only-of-type {\n",
              "        vertical-align: middle;\n",
              "    }\n",
              "\n",
              "    .dataframe tbody tr th {\n",
              "        vertical-align: top;\n",
              "    }\n",
              "\n",
              "    .dataframe thead th {\n",
              "        text-align: right;\n",
              "    }\n",
              "</style>\n",
              "<table border=\"1\" class=\"dataframe\">\n",
              "  <thead>\n",
              "    <tr style=\"text-align: right;\">\n",
              "      <th></th>\n",
              "      <th>gender</th>\n",
              "      <th>age</th>\n",
              "      <th>income</th>\n",
              "      <th>family_members</th>\n",
              "      <th>insurance_benefits</th>\n",
              "    </tr>\n",
              "  </thead>\n",
              "  <tbody>\n",
              "    <tr>\n",
              "      <th>82</th>\n",
              "      <td>0.0</td>\n",
              "      <td>0.476923</td>\n",
              "      <td>0.473418</td>\n",
              "      <td>0.333333</td>\n",
              "      <td>0</td>\n",
              "    </tr>\n",
              "    <tr>\n",
              "      <th>1347</th>\n",
              "      <td>0.0</td>\n",
              "      <td>0.292308</td>\n",
              "      <td>0.392405</td>\n",
              "      <td>0.333333</td>\n",
              "      <td>0</td>\n",
              "    </tr>\n",
              "    <tr>\n",
              "      <th>321</th>\n",
              "      <td>0.0</td>\n",
              "      <td>0.353846</td>\n",
              "      <td>0.445570</td>\n",
              "      <td>0.166667</td>\n",
              "      <td>0</td>\n",
              "    </tr>\n",
              "    <tr>\n",
              "      <th>1746</th>\n",
              "      <td>0.0</td>\n",
              "      <td>0.723077</td>\n",
              "      <td>0.540506</td>\n",
              "      <td>0.000000</td>\n",
              "      <td>1</td>\n",
              "    </tr>\n",
              "    <tr>\n",
              "      <th>2198</th>\n",
              "      <td>0.0</td>\n",
              "      <td>0.323077</td>\n",
              "      <td>0.511392</td>\n",
              "      <td>0.500000</td>\n",
              "      <td>0</td>\n",
              "    </tr>\n",
              "  </tbody>\n",
              "</table>\n",
              "</div>"
            ],
            "text/plain": [
              "      gender       age    income  family_members  insurance_benefits\n",
              "82       0.0  0.476923  0.473418        0.333333                   0\n",
              "1347     0.0  0.292308  0.392405        0.333333                   0\n",
              "321      0.0  0.353846  0.445570        0.166667                   0\n",
              "1746     0.0  0.723077  0.540506        0.000000                   1\n",
              "2198     0.0  0.323077  0.511392        0.500000                   0"
            ]
          },
          "execution_count": 55,
          "metadata": {},
          "output_type": "execute_result"
        }
      ],
      "source": [
        "df_scaled.sample(5)"
      ]
    },
    {
      "cell_type": "markdown",
      "metadata": {
        "id": "gCwBHL2pDm-M"
      },
      "source": [
        "Ahora, vamos a obtener registros similares para uno determinado, para cada combinación"
      ]
    },
    {
      "cell_type": "code",
      "execution_count": null,
      "metadata": {
        "scrolled": false,
        "id": "IuCTHvUSDm-M",
        "outputId": "1396a03c-2723-4fb5-fc1f-e8e63e27b4ad"
      },
      "outputs": [
        {
          "name": "stdout",
          "output_type": "stream",
          "text": [
            "      gender  age   income  family_members  insurance_benefits  distance\n",
            "0          1   41  49600.0               1                   0  0.000000\n",
            "2022       1   41  49600.0               0                   0  1.000000\n",
            "1225       0   42  49600.0               0                   1  1.732051\n",
            "4031       1   44  49600.0               2                   1  3.162278\n",
            "3424       0   38  49600.0               0                   0  3.316625\n"
          ]
        }
      ],
      "source": [
        "# Df no escalado con euclidiano\n",
        "knn_result = get_knn(df, n=0, k=5, metric='euclidean')\n",
        "print(knn_result)"
      ]
    },
    {
      "cell_type": "code",
      "execution_count": null,
      "metadata": {
        "scrolled": true,
        "id": "URXLY73FDm-N",
        "outputId": "bef3a56c-9c3c-41ec-9c8c-791947571b36"
      },
      "outputs": [
        {
          "name": "stdout",
          "output_type": "stream",
          "text": [
            "      gender  age   income  family_members  insurance_benefits  distance\n",
            "0          1   41  49600.0               1                   0       0.0\n",
            "2022       1   41  49600.0               0                   0       1.0\n",
            "1225       0   42  49600.0               0                   1       3.0\n",
            "4031       1   44  49600.0               2                   1       4.0\n",
            "3424       0   38  49600.0               0                   0       5.0\n"
          ]
        }
      ],
      "source": [
        "# Df no escalado con manhattan\n",
        "knn_result = get_knn(df, n=0, k=5, metric='manhattan')\n",
        "print(knn_result)"
      ]
    },
    {
      "cell_type": "code",
      "execution_count": null,
      "metadata": {
        "id": "1xBYrH1aDm-O",
        "outputId": "f6904c36-7c2f-4e54-ffd6-57db70181d76"
      },
      "outputs": [
        {
          "name": "stdout",
          "output_type": "stream",
          "text": [
            "      gender       age    income  family_members  insurance_benefits  distance\n",
            "0        1.0  0.630769  0.627848        0.166667                   0  0.000000\n",
            "2689     1.0  0.630769  0.634177        0.166667                   0  0.006329\n",
            "133      1.0  0.615385  0.636709        0.166667                   0  0.017754\n",
            "4869     1.0  0.646154  0.637975        0.166667                   1  0.018418\n",
            "3275     1.0  0.646154  0.651899        0.166667                   1  0.028550\n"
          ]
        }
      ],
      "source": [
        "# Df escalado con eucilidano\n",
        "knn_result = get_knn(df_scaled, n=0, k=5, metric='euclidean')\n",
        "print(knn_result)"
      ]
    },
    {
      "cell_type": "code",
      "execution_count": null,
      "metadata": {
        "id": "iUI72TnUDm-e",
        "outputId": "645f5f84-912f-4e46-dd58-0708097b3b75"
      },
      "outputs": [
        {
          "name": "stdout",
          "output_type": "stream",
          "text": [
            "      gender       age    income  family_members  insurance_benefits  distance\n",
            "0        1.0  0.630769  0.627848        0.166667                   0  0.000000\n",
            "2689     1.0  0.630769  0.634177        0.166667                   0  0.006329\n",
            "133      1.0  0.615385  0.636709        0.166667                   0  0.024245\n",
            "4869     1.0  0.646154  0.637975        0.166667                   1  0.025511\n",
            "3365     1.0  0.630769  0.596203        0.166667                   0  0.031646\n"
          ]
        }
      ],
      "source": [
        "# Df escalado con manhattan\n",
        "knn_result = get_knn(df_scaled, n=0, k=5, metric='manhattan')\n",
        "print(knn_result)"
      ]
    },
    {
      "cell_type": "markdown",
      "metadata": {
        "id": "9loHqdVxDm-f"
      },
      "source": [
        "Respuestas a las preguntas"
      ]
    },
    {
      "cell_type": "markdown",
      "metadata": {
        "id": "Hzn4cY52Dm-g"
      },
      "source": [
        "**¿El hecho de que los datos no estén escalados afecta al algoritmo kNN? Si es así, ¿cómo se manifiesta?**\n",
        "\n",
        "La razón principal es que las diferencias de escala entre las características pueden llevar a que ciertas características dominen la medida de distancia en detrimento de otras. Esto puede afectar la capacidad del algoritmo para encontrar correctamente los vecinos más cercanos."
      ]
    },
    {
      "cell_type": "markdown",
      "metadata": {
        "id": "9arsa2w4Dm-g"
      },
      "source": [
        "**¿Qué tan similares son los resultados al utilizar la métrica de distancia Manhattan (independientemente del escalado)?**\n",
        "\n",
        "La diferencia principal entre ambas métricas radica en cómo se mide la distancia. La métrica de distancia Manhattan tiende a ser más adecuada cuando las características tienen diferentes escalas o cuando se desea enfatizar la diferencia en valores absolutos entre las características. Por otro lado, la métrica de distancia euclidiana es más adecuada cuando se desea considerar la relación de magnitud y dirección entre las características."
      ]
    },
    {
      "cell_type": "markdown",
      "metadata": {
        "id": "--cpCA6MDm-h"
      },
      "source": [
        "# Tarea 2. ¿Es probable que el cliente reciba una prestación del seguro?"
      ]
    },
    {
      "cell_type": "code",
      "execution_count": null,
      "metadata": {
        "id": "ih8CBH3LDm-m"
      },
      "outputs": [],
      "source": [
        "# сalcula el objetivo\n",
        "df['insurance_benefits_received'] = (df['insurance_benefits'] > 0).astype(int)"
      ]
    },
    {
      "cell_type": "code",
      "execution_count": null,
      "metadata": {
        "id": "d6RiU-TtDm-o",
        "outputId": "fa419097-3c64-400d-e89f-25cfb7bb9463"
      },
      "outputs": [
        {
          "name": "stdout",
          "output_type": "stream",
          "text": [
            "0    4436\n",
            "1     564\n",
            "Name: insurance_benefits_received, dtype: int64\n"
          ]
        }
      ],
      "source": [
        "# comprueba el desequilibrio de clases con value_counts()\n",
        "class_counts = df['insurance_benefits_received'].value_counts()\n",
        "print(class_counts)"
      ]
    },
    {
      "cell_type": "code",
      "execution_count": null,
      "metadata": {
        "id": "0QnDNOmmDm-p"
      },
      "outputs": [],
      "source": [
        "def eval_classifier(y_true, y_pred):\n",
        "    f1_score = sklearn.metrics.f1_score(y_true, y_pred)\n",
        "    print(f'F1: {f1_score:.2f}')\n",
        "\n",
        "# si tienes algún problema con la siguiente línea, reinicia el kernel y ejecuta el cuaderno de nuevo\n",
        "    cm = sklearn.metrics.confusion_matrix(y_true, y_pred, normalize='all')\n",
        "    print('Matriz de confusión')\n",
        "    print(cm)"
      ]
    },
    {
      "cell_type": "code",
      "execution_count": null,
      "metadata": {
        "id": "HwMU405kDm-p"
      },
      "outputs": [],
      "source": [
        "# generar la salida de un modelo aleatorio\n",
        "def rnd_model_predict(P, size, seed=42):\n",
        "\n",
        "    rng = np.random.default_rng(seed=seed)\n",
        "    return rng.binomial(n=1, p=P, size=size)"
      ]
    },
    {
      "cell_type": "code",
      "execution_count": null,
      "metadata": {
        "scrolled": false,
        "id": "CEbtBBiaDm-r",
        "outputId": "ee4243d7-64ae-420e-c948-7579fb1edf0d"
      },
      "outputs": [
        {
          "name": "stdout",
          "output_type": "stream",
          "text": [
            "La probabilidad: 0.00\n",
            "F1: 0.00\n",
            "Matriz de confusión\n",
            "[[0.8872 0.    ]\n",
            " [0.1128 0.    ]]\n",
            "\n",
            "La probabilidad: 0.11\n",
            "F1: 0.12\n",
            "Matriz de confusión\n",
            "[[0.7914 0.0958]\n",
            " [0.0994 0.0134]]\n",
            "\n",
            "La probabilidad: 0.50\n",
            "F1: 0.20\n",
            "Matriz de confusión\n",
            "[[0.456  0.4312]\n",
            " [0.053  0.0598]]\n",
            "\n",
            "La probabilidad: 1.00\n",
            "F1: 0.20\n",
            "Matriz de confusión\n",
            "[[0.     0.8872]\n",
            " [0.     0.1128]]\n",
            "\n"
          ]
        }
      ],
      "source": [
        "for P in [0, df['insurance_benefits_received'].sum() / len(df), 0.5, 1]:\n",
        "\n",
        "    print(f'La probabilidad: {P:.2f}')\n",
        "    y_pred_rnd = rnd_model_predict(P, len(df))\n",
        "\n",
        "    eval_classifier(df['insurance_benefits_received'], y_pred_rnd)\n",
        "\n",
        "    print()"
      ]
    },
    {
      "cell_type": "code",
      "execution_count": null,
      "metadata": {
        "id": "8dkBWXyLDm-s",
        "outputId": "c6607a07-3435-42b1-8b7d-9d9fd50cfe8b"
      },
      "outputs": [
        {
          "name": "stdout",
          "output_type": "stream",
          "text": [
            "K = 1\n",
            "F1 (escalado): 0.96\n",
            "F1 (no escalado): 0.61\n",
            "\n",
            "K = 2\n",
            "F1 (escalado): 0.93\n",
            "F1 (no escalado): 0.41\n",
            "\n",
            "K = 3\n",
            "F1 (escalado): 0.94\n",
            "F1 (no escalado): 0.41\n",
            "\n",
            "K = 4\n",
            "F1 (escalado): 0.90\n",
            "F1 (no escalado): 0.28\n",
            "\n",
            "K = 5\n",
            "F1 (escalado): 0.92\n",
            "F1 (no escalado): 0.27\n",
            "\n",
            "K = 6\n",
            "F1 (escalado): 0.91\n",
            "F1 (no escalado): 0.11\n",
            "\n",
            "K = 7\n",
            "F1 (escalado): 0.93\n",
            "F1 (no escalado): 0.11\n",
            "\n",
            "K = 8\n",
            "F1 (escalado): 0.91\n",
            "F1 (no escalado): 0.07\n",
            "\n",
            "K = 9\n",
            "F1 (escalado): 0.92\n",
            "F1 (no escalado): 0.08\n",
            "\n",
            "K = 10\n",
            "F1 (escalado): 0.89\n",
            "F1 (no escalado): 0.00\n",
            "\n"
          ]
        }
      ],
      "source": [
        "def evaluate_knn(X_train, y_train, X_test, y_test, k):\n",
        "    scaler = StandardScaler()\n",
        "    X_train_scaled = scaler.fit_transform(X_train)\n",
        "    X_test_scaled = scaler.transform(X_test)\n",
        "\n",
        "    knn = KNeighborsClassifier(n_neighbors=k)\n",
        "    knn.fit(X_train_scaled, y_train)\n",
        "    y_pred_scaled = knn.predict(X_test_scaled)\n",
        "    f1_scaled = sklearn.metrics.f1_score(y_test, y_pred_scaled)\n",
        "\n",
        "    knn = KNeighborsClassifier(n_neighbors=k)\n",
        "    knn.fit(X_train, y_train)\n",
        "    y_pred = knn.predict(X_test)\n",
        "    f1 = sklearn.metrics.f1_score(y_test, y_pred)\n",
        "\n",
        "    print(f'K = {k}')\n",
        "    print(f'F1 (escalado): {f1_scaled:.2f}')\n",
        "    print(f'F1 (no escalado): {f1:.2f}')\n",
        "    print()\n",
        "\n",
        "X = df[['age', 'gender', 'income', 'family_members']].to_numpy()\n",
        "y = df['insurance_benefits_received'].to_numpy()\n",
        "\n",
        "X_train, X_test, y_train, y_test = train_test_split(X, y, test_size=0.3, random_state=12345)\n",
        "\n",
        "for k in range(1, 11):\n",
        "    evaluate_knn(X_train, y_train, X_test, y_test, k)"
      ]
    },
    {
      "cell_type": "markdown",
      "metadata": {
        "id": "tgv6VOQUDm-v"
      },
      "source": [
        "- El mejor modelo es el K=1"
      ]
    },
    {
      "cell_type": "markdown",
      "metadata": {
        "id": "OASEFCyRDm-v"
      },
      "source": [
        "# Tarea 3. Regresión (con regresión lineal)"
      ]
    },
    {
      "cell_type": "code",
      "execution_count": null,
      "metadata": {
        "id": "BoYP3lQpDm-y"
      },
      "outputs": [],
      "source": [
        "class MyLinearRegression:\n",
        "\n",
        "    def __init__(self):\n",
        "\n",
        "        self.weights = None\n",
        "\n",
        "    def fit(self, X, y):\n",
        "\n",
        "        # añadir las unidades\n",
        "        X2 = np.append(np.ones([len(X), 1]), X, axis=1)\n",
        "        self.weights = np.linalg.inv(X2.T.dot(X2)).dot(X2.T).dot(y)\n",
        "\n",
        "    def predict(self, X):\n",
        "\n",
        "        # añadir las unidades\n",
        "        X2 = np.append(np.ones([len(X), 1]), X, axis=1)\n",
        "        y_pred = X2.dot(self.weights)\n",
        "\n",
        "        return y_pred"
      ]
    },
    {
      "cell_type": "code",
      "execution_count": null,
      "metadata": {
        "id": "Nacsa2WiDm-z"
      },
      "outputs": [],
      "source": [
        "def eval_regressor(y_true, y_pred):\n",
        "\n",
        "    rmse = math.sqrt(sklearn.metrics.mean_squared_error(y_true, y_pred))\n",
        "    print(f'RMSE: {rmse:.2f}')\n",
        "\n",
        "    r2_score = math.sqrt(sklearn.metrics.r2_score(y_true, y_pred))\n",
        "    print(f'R2: {r2_score:.2f}')"
      ]
    },
    {
      "cell_type": "code",
      "execution_count": null,
      "metadata": {
        "id": "0WE3W2YnDm-z",
        "outputId": "ea8c0282-dde8-4cda-c4e9-3ca79e0c27d8"
      },
      "outputs": [
        {
          "name": "stdout",
          "output_type": "stream",
          "text": [
            "[-9.43539012e-01  3.57495491e-02  1.64272726e-02 -2.60743659e-07\n",
            " -1.16902127e-02]\n",
            "RMSE: 0.34\n",
            "R2: 0.66\n"
          ]
        }
      ],
      "source": [
        "X = df[['age', 'gender', 'income', 'family_members']].to_numpy()\n",
        "y = df['insurance_benefits'].to_numpy()\n",
        "\n",
        "X_train, X_test, y_train, y_test = train_test_split(X, y, test_size=0.3, random_state=12345)\n",
        "\n",
        "lr = MyLinearRegression()\n",
        "\n",
        "lr.fit(X_train, y_train)\n",
        "print(lr.weights)\n",
        "\n",
        "y_test_pred = lr.predict(X_test)\n",
        "eval_regressor(y_test, y_test_pred)"
      ]
    },
    {
      "cell_type": "code",
      "execution_count": null,
      "metadata": {
        "id": "S8FyE8YwDm-2",
        "outputId": "efb60b8f-f853-4767-90ab-0057964dce14"
      },
      "outputs": [
        {
          "name": "stdout",
          "output_type": "stream",
          "text": [
            "Pesos (escalado): [ 0.14971429  0.30292778  0.0082117  -0.00258294 -0.01271039]\n",
            "RMSE: 0.34\n",
            "R2: 0.66\n"
          ]
        }
      ],
      "source": [
        "# Crear una instancia del escalador\n",
        "scaler = StandardScaler()\n",
        "\n",
        "# Escalar los datos de entrenamiento y prueba\n",
        "X_train_scaled = scaler.fit_transform(X_train)\n",
        "X_test_scaled = scaler.transform(X_test)\n",
        "\n",
        "# Instanciar y ajustar el modelo de regresión lineal con datos escalados\n",
        "lr_scaled = MyLinearRegression()\n",
        "lr_scaled.fit(X_train_scaled, y_train)\n",
        "\n",
        "# Obtener los pesos del modelo escalado\n",
        "weights_scaled = lr_scaled.weights\n",
        "print(\"Pesos (escalado):\", weights_scaled)\n",
        "\n",
        "# Predecir con los datos de prueba escalados\n",
        "y_test_pred_scaled = lr_scaled.predict(X_test_scaled)\n",
        "\n",
        "# Evaluar el rendimiento del modelo escalado\n",
        "eval_regressor(y_test, y_test_pred_scaled)"
      ]
    },
    {
      "cell_type": "markdown",
      "metadata": {
        "id": "dguVqIQLDm-3"
      },
      "source": [
        "# Tarea 4. Ofuscar datos"
      ]
    },
    {
      "cell_type": "code",
      "execution_count": null,
      "metadata": {
        "id": "OQFAyvt3Dm-5"
      },
      "outputs": [],
      "source": [
        "personal_info_column_list = ['gender', 'age', 'income', 'family_members']\n",
        "df_pn = df[personal_info_column_list]"
      ]
    },
    {
      "cell_type": "code",
      "execution_count": null,
      "metadata": {
        "id": "z4XQm5yRDm-5"
      },
      "outputs": [],
      "source": [
        "X = df_pn.to_numpy()"
      ]
    },
    {
      "cell_type": "code",
      "execution_count": null,
      "metadata": {
        "scrolled": true,
        "id": "o815srVfDm-7",
        "outputId": "81d44ba3-da28-4d04-81e5-1d60fe521378"
      },
      "outputs": [
        {
          "name": "stdout",
          "output_type": "stream",
          "text": [
            "[[  70568.57281805   79604.99119644 -101939.13289401  -76185.47202401]\n",
            " [  54048.80979419   60995.09355036  -78096.66144703  -58351.52617008]\n",
            " [  29865.34326964   33709.76115145  -43159.17256788  -32242.59233885]\n",
            " ...\n",
            " [  48239.42485765   54404.01248325  -69671.30089712  -52080.7475985 ]\n",
            " [  46529.25691386   52477.26160405  -67202.19828898  -50232.96089551]\n",
            " [  57769.74628414   65157.69802103  -83442.42062486  -62367.89488412]]\n"
          ]
        }
      ],
      "source": [
        "rng = np.random.default_rng(seed=42)\n",
        "P = rng.random(size=(X.shape[1], X.shape[1]))\n",
        "P_inv = np.linalg.inv(P)\n",
        "\n",
        "# Recuperar los datos originales de X'\n",
        "X_original = X.dot(P_inv)\n",
        "\n",
        "# Mostrar los datos originales\n",
        "print(X_original)"
      ]
    },
    {
      "cell_type": "code",
      "execution_count": null,
      "metadata": {
        "scrolled": true,
        "id": "5pW6POvgDm-9",
        "outputId": "6fb88146-7a55-4b8f-af5d-faa0dead0e77"
      },
      "outputs": [
        {
          "name": "stdout",
          "output_type": "stream",
          "text": [
            "La matriz P es invertible.\n"
          ]
        }
      ],
      "source": [
        "det = np.linalg.det(P)\n",
        "if det != 0:\n",
        "    print(\"La matriz P es invertible.\")\n",
        "else:\n",
        "    print(\"La matriz P no es invertible. Genera otra matriz aleatoria.\")"
      ]
    },
    {
      "cell_type": "markdown",
      "metadata": {
        "id": "itz-bSKNDm-_"
      },
      "source": [
        "¿Puedes adivinar la edad o los ingresos de los clientes después de la transformación?"
      ]
    },
    {
      "cell_type": "markdown",
      "metadata": {
        "id": "XLy62mgUDm-_"
      },
      "source": [
        "- Sin conocer los valores verdaderos de la matriz P es imposible adivinar la edad o ingresos de los clientes despues de la transformacion."
      ]
    },
    {
      "cell_type": "markdown",
      "metadata": {
        "id": "-xrK7KXsDm-_"
      },
      "source": [
        "¿Puedes recuperar los datos originales de $X'$ si conoces $P$? Intenta comprobarlo a través de los cálculos moviendo $P$ del lado derecho de la fórmula anterior al izquierdo. En este caso las reglas de la multiplicación matricial son realmente útiles"
      ]
    },
    {
      "cell_type": "code",
      "execution_count": null,
      "metadata": {
        "id": "b_UcXtlyDm_A",
        "outputId": "83a6f468-7a3b-4f57-efef-332881837dc4"
      },
      "outputs": [
        {
          "name": "stdout",
          "output_type": "stream",
          "text": [
            "[[  70568.57281805   79604.99119644 -101939.13289401  -76185.47202401]\n",
            " [  54048.80979419   60995.09355036  -78096.66144703  -58351.52617008]\n",
            " [  29865.34326964   33709.76115145  -43159.17256788  -32242.59233885]\n",
            " ...\n",
            " [  48239.42485765   54404.01248325  -69671.30089712  -52080.7475985 ]\n",
            " [  46529.25691386   52477.26160405  -67202.19828898  -50232.96089551]\n",
            " [  57769.74628414   65157.69802103  -83442.42062486  -62367.89488412]]\n"
          ]
        }
      ],
      "source": [
        "# Calcular la inversa de P\n",
        "P_inv = np.linalg.inv(P)\n",
        "\n",
        "# Recuperar los datos originales de X'\n",
        "X_original = X.dot(P_inv)\n",
        "\n",
        "# Mostrar los datos originales\n",
        "print(X_original)"
      ]
    },
    {
      "cell_type": "markdown",
      "metadata": {
        "id": "u04Tf8TLDm_B"
      },
      "source": [
        "Muestra los tres casos para algunos clientes\n",
        "- Datos originales\n",
        "- El que está transformado\n",
        "- El que está invertido (recuperado)"
      ]
    },
    {
      "cell_type": "code",
      "execution_count": null,
      "metadata": {
        "id": "RTPpIFLHDm_B",
        "outputId": "3d997fe4-933e-4c8d-8f80-c6b182e44a8c"
      },
      "outputs": [
        {
          "name": "stdout",
          "output_type": "stream",
          "text": [
            "Datos originales:\n",
            "[[1.00e+00 4.10e+01 4.96e+04 1.00e+00]\n",
            " [0.00e+00 4.60e+01 3.80e+04 1.00e+00]\n",
            " [0.00e+00 2.90e+01 2.10e+04 0.00e+00]\n",
            " ...\n",
            " [0.00e+00 2.00e+01 3.39e+04 2.00e+00]\n",
            " [1.00e+00 2.20e+01 3.27e+04 3.00e+00]\n",
            " [1.00e+00 2.80e+01 4.06e+04 1.00e+00]]\n"
          ]
        }
      ],
      "source": [
        "# Datos originales\n",
        "print(\"Datos originales:\")\n",
        "print(X)"
      ]
    },
    {
      "cell_type": "code",
      "execution_count": null,
      "metadata": {
        "id": "qACH1i3oDm_C",
        "outputId": "16b6a3fd-29c3-46cb-9769-541d2e21f7e8"
      },
      "outputs": [
        {
          "name": "stdout",
          "output_type": "stream",
          "text": [
            "Datos transformados:\n",
            "[[ 1.00000000e+00  4.10000000e+01  4.96000000e+04  1.00000000e+00]\n",
            " [ 5.43312754e-13  4.60000000e+01  3.80000000e+04  1.00000000e+00]\n",
            " [-7.55839661e-12  2.90000000e+01  2.10000000e+04 -1.01417265e-11]\n",
            " ...\n",
            " [-3.92051001e-12  2.00000000e+01  3.39000000e+04  2.00000000e+00]\n",
            " [ 1.00000000e+00  2.20000000e+01  3.27000000e+04  3.00000000e+00]\n",
            " [ 1.00000000e+00  2.80000000e+01  4.06000000e+04  1.00000000e+00]]\n"
          ]
        }
      ],
      "source": [
        "# El que está transformado\n",
        "X_transformed = X_original.dot(P)\n",
        "print(\"Datos transformados:\")\n",
        "print(X_transformed)"
      ]
    },
    {
      "cell_type": "code",
      "execution_count": null,
      "metadata": {
        "id": "r_s_jYlwDm_D",
        "outputId": "784a0bff-9308-4528-9333-930c22e11856"
      },
      "outputs": [
        {
          "name": "stdout",
          "output_type": "stream",
          "text": [
            "Datos recuperados:\n",
            "[[  70568.57281805   79604.99119644 -101939.13289401  -76185.47202401]\n",
            " [  54048.80979419   60995.09355036  -78096.66144703  -58351.52617008]\n",
            " [  29865.34326964   33709.76115145  -43159.17256788  -32242.59233885]\n",
            " ...\n",
            " [  48239.42485765   54404.01248325  -69671.30089712  -52080.7475985 ]\n",
            " [  46529.25691386   52477.26160405  -67202.19828898  -50232.96089551]\n",
            " [  57769.74628414   65157.69802103  -83442.42062486  -62367.89488412]]\n"
          ]
        }
      ],
      "source": [
        "# El que esta invertido\n",
        "X_recovered = X_transformed.dot(P_inv)\n",
        "print(\"Datos recuperados:\")\n",
        "print(X_recovered)"
      ]
    },
    {
      "cell_type": "markdown",
      "metadata": {
        "id": "AFXaG9gIDm_F"
      },
      "source": [
        "- Las operaciones matemáticas, como la multiplicación de matrices y la inversión de matrices, pueden introducir errores de redondeo y pérdida de precisión."
      ]
    },
    {
      "cell_type": "markdown",
      "metadata": {
        "id": "M38roYjgDm_G"
      },
      "source": [
        "## Prueba de que la ofuscación de datos puede funcionar con regresión lineal"
      ]
    },
    {
      "cell_type": "markdown",
      "metadata": {
        "id": "sp-Fo1NKDm_I"
      },
      "source": [
        "**Respuesta**"
      ]
    },
    {
      "cell_type": "markdown",
      "metadata": {
        "id": "xDannsZ7Dm_J"
      },
      "source": [
        "Ahora podemos observar que 𝑤𝑃 es equivalente a 𝑤, por lo que los valores predichos con 𝑤𝑃 serían los mismos que con 𝑤. Esto significa que la calidad de la regresión lineal, medida mediante la RECM, no se verá afectada por la ofuscación de los datos."
      ]
    },
    {
      "cell_type": "markdown",
      "metadata": {
        "id": "iGkTCbaYDm_J"
      },
      "source": [
        "**Prueba analítica**"
      ]
    },
    {
      "cell_type": "markdown",
      "metadata": {
        "id": "2U16kJzgDm_K"
      },
      "source": [
        "La demostración analítica muestra que, al ofuscar los datos multiplicándolos por una matriz invertible, los valores predichos con regresión lineal seguirán siendo los mismos y la calidad de la regresión medida mediante la RECM.\n",
        "$(P^T X^T X P)^{-1} = P^{-1} (X^T X)^{-1} P^{-T}$\n",
        "\n",
        "Se utiliza la propiedad $(AB)^{-1} = B^{-1}A^{-1}$\n",
        "Aplicando la propiedad, se obtiene $(P^T X^T X P)^{-1} = P^{-1} (X^T X)^{-1} P^{-T}$\n",
        "$P^{-T} = (P^{-1})^T$\n",
        "\n",
        "Se utiliza la propiedad $(A^{-1})^T = (A^T)^{-1}$\n",
        "Aplicando la propiedad, se obtiene $P^{-T} = (P^{-1})^T$\n",
        "$(X^T X)^{-1} X^T y = w$\n",
        "\n",
        "Esta es la fórmula original de la regresión lineal sin ofuscación\n",
        "El término $(X^T X)^{-1} X^T y$ es equivalente a los pesos $w$\n",
        "$P^{-1} (X^T X)^{-1} P^{-T} = P^{-1} w$\n",
        "\n",
        "Sustituyendo los resultados de las propiedades anteriores, se llega a $P^{-1} (X^T X)^{-1} P^{-T} = P^{-1} w$"
      ]
    },
    {
      "cell_type": "markdown",
      "metadata": {
        "id": "jByVdRy1Dm_L"
      },
      "source": [
        "## Prueba de regresión lineal con ofuscación de datos"
      ]
    },
    {
      "cell_type": "code",
      "execution_count": null,
      "metadata": {
        "id": "gXs-UENoDm_N"
      },
      "outputs": [],
      "source": [
        "class LinearRegressionWithObfuscation:\n",
        "\n",
        "    def __init__(self):\n",
        "        self.P = None\n",
        "        self.P_inv = None\n",
        "        self.X_obfuscated = None\n",
        "        self.regressor = None\n",
        "\n",
        "    def obfuscate_data(self, X):\n",
        "        self.P = np.random.rand(X.shape[1], X.shape[1])\n",
        "        while np.linalg.det(self.P) == 0:\n",
        "            self.P = np.random.rand(X.shape[1], X.shape[1])\n",
        "        self.P_inv = np.linalg.inv(self.P)\n",
        "        self.X_obfuscated = X.dot(self.P)\n",
        "\n",
        "    def train(self, X_train, y_train, obfuscation=False):\n",
        "        if obfuscation:\n",
        "            self.obfuscate_data(X_train)\n",
        "            X_train = self.X_obfuscated\n",
        "        self.regressor = LinearRegression()\n",
        "        self.regressor.fit(X_train, y_train)\n",
        "\n",
        "    def predict(self, X_test, obfuscation=False):\n",
        "        if obfuscation:\n",
        "            X_test = X_test.dot(self.P)\n",
        "        return self.regressor.predict(X_test)\n",
        "\n",
        "    def evaluate(self, X_test, y_test, obfuscation=False):\n",
        "        y_pred = self.predict(X_test, obfuscation)\n",
        "        rmse = np.sqrt(mean_squared_error(y_test, y_pred))\n",
        "        r2 = r2_score(y_test, y_pred)\n",
        "        return rmse, r2"
      ]
    },
    {
      "cell_type": "code",
      "execution_count": null,
      "metadata": {
        "scrolled": true,
        "id": "ukiHCav0Dm_O",
        "outputId": "e766c229-7323-4d99-f8dc-35078cc734fb"
      },
      "outputs": [
        {
          "name": "stdout",
          "output_type": "stream",
          "text": [
            "Valores predichos sin ofuscación: [13825.82286899 15267.05346018 14921.4779194  ... 15075.34868129\n",
            " 15142.21329189 13642.47413156]\n",
            "Valores predichos con ofuscación: [ 0.17926625  0.80931996  0.45614337 ... -0.00870507  0.1068024\n",
            "  0.44539183]\n",
            "RMSE sin ofuscación: 0.34355650891379724\n",
            "RMSE con ofuscación: 0.3435565089138637\n",
            "R^2 sin ofuscación: 0.4305278542485137\n",
            "R^2 con ofuscación: 0.43052785424829343\n"
          ]
        }
      ],
      "source": [
        "# Crear instancia de la clase\n",
        "lr_obfuscation = LinearRegressionWithObfuscation()\n",
        "\n",
        "# Entrenar y evaluar regresión lineal sin ofuscación\n",
        "lr_obfuscation.train(X_train, y_train, obfuscation=False)\n",
        "rmse_orig, r2_orig = lr_obfuscation.evaluate(X_test, y_test, obfuscation=False)\n",
        "\n",
        "# Entrenar y evaluar regresión lineal con ofuscación\n",
        "lr_obfuscation.train(X_train, y_train, obfuscation=True)\n",
        "rmse_obf, r2_obf = lr_obfuscation.evaluate(X_test, y_test, obfuscation=True)\n",
        "\n",
        "# Comparar valores predichos y métricas\n",
        "y_pred_orig = lr_obfuscation.predict(X_test, obfuscation=False)\n",
        "y_pred_obf = lr_obfuscation.predict(X_test, obfuscation=True)\n",
        "\n",
        "print(\"Valores predichos sin ofuscación:\", y_pred_orig)\n",
        "print(\"Valores predichos con ofuscación:\", y_pred_obf)\n",
        "print(\"RMSE sin ofuscación:\", rmse_orig)\n",
        "print(\"RMSE con ofuscación:\", rmse_obf)\n",
        "print(\"R^2 sin ofuscación:\", r2_orig)\n",
        "print(\"R^2 con ofuscación:\", r2_obf)"
      ]
    },
    {
      "cell_type": "code",
      "execution_count": null,
      "metadata": {
        "id": "tpcmtdVqDm_P",
        "outputId": "ab31e68c-35c7-40e0-9165-c15323aa88af"
      },
      "outputs": [
        {
          "name": "stdout",
          "output_type": "stream",
          "text": [
            "RMSE: 0.94\n",
            "R2: -3.27\n",
            "RMSE: 0.94\n",
            "R2: -3.27\n",
            "Valores predichos sin ofuscación: [-0.73758771 -0.57641103 -0.60058118 ... -0.70368468 -0.75406862\n",
            " -0.61353655]\n",
            "Valores predichos con ofuscación: [-0.737569   -0.57638204 -0.60055854 ... -0.70366968 -0.75405097\n",
            " -0.6135141 ]\n",
            "RMSE sin ofuscación: 0.9410391709459062\n",
            "RMSE con ofuscación: 0.9410221205406291\n",
            "R^2 sin ofuscación: -3.2725930275135022\n",
            "R^2 con ofuscación: -3.272438201264003\n"
          ]
        }
      ],
      "source": [
        "def eval_regressor(y_true, y_pred):\n",
        "    rmse = np.sqrt(mean_squared_error(y_true, y_pred))\n",
        "    r2 = r2_score(y_true, y_pred)\n",
        "    print(f'RMSE: {rmse:.2f}')\n",
        "    print(f'R2: {r2:.2f}')\n",
        "    return rmse, r2\n",
        "\n",
        "# Generar matriz de ofuscación P\n",
        "P = np.random.rand(X.shape[1], X.shape[1])\n",
        "while np.linalg.det(P) == 0:\n",
        "    P = np.random.rand(X.shape[1], X.shape[1])\n",
        "\n",
        "# Ofuscar matriz X\n",
        "X_obfuscated = X.dot(P)\n",
        "\n",
        "# Entrenar y evaluar regresión lineal sin ofuscación\n",
        "lr = MyLinearRegression()\n",
        "lr.fit(X, y)\n",
        "y_pred_orig = lr.predict(X_test)\n",
        "rmse_orig, r2_orig = eval_regressor(y_test, y_pred_orig)\n",
        "\n",
        "# Entrenar y evaluar regresión lineal con ofuscación\n",
        "lr_obfuscated = MyLinearRegression()\n",
        "lr_obfuscated.fit(X_obfuscated, y)\n",
        "y_pred_obf = lr_obfuscated.predict(X_test.dot(P))\n",
        "rmse_obf, r2_obf = eval_regressor(y_test, y_pred_obf)\n",
        "\n",
        "# Comparar valores predichos y métricas\n",
        "print(\"Valores predichos sin ofuscación:\", y_pred_orig)\n",
        "print(\"Valores predichos con ofuscación:\", y_pred_obf)\n",
        "print(\"RMSE sin ofuscación:\", rmse_orig)\n",
        "print(\"RMSE con ofuscación:\", rmse_obf)\n",
        "print(\"R^2 sin ofuscación:\", r2_orig)\n",
        "print(\"R^2 con ofuscación:\", r2_obf)"
      ]
    },
    {
      "cell_type": "markdown",
      "metadata": {
        "id": "NAEY7bxXDm_Q"
      },
      "source": [
        "# Conclusiones"
      ]
    },
    {
      "cell_type": "markdown",
      "metadata": {
        "id": "gvtpgQeIDm_R"
      },
      "source": [
        "- En el ultimo punto se puede observar que los resultados para r2 y RMSE con y sin ofuscación varían por muy pocos decimales concluyendo que sus diferencias no son significativas para decidir que son diferentes. En esencia causan el mismo efecto sean ofuscadas o no."
      ]
    },
    {
      "cell_type": "markdown",
      "metadata": {
        "id": "kh2ck73FDm_S"
      },
      "source": [
        "Durante este proyecto, hemos explorado la aplicación de técnicas de regresión lineal en datos ofuscados. Estos son los principales hallazgos y observaciones:\n",
        "\n",
        "1. Ofuscación de datos: Implementamos una transformación de ofuscación multiplicando la matriz de características original (X) por una matriz aleatoria invertible (P). Esto nos permitió ocultar los datos originales y trabajar con una versión ofuscada de ellos (XP).\n",
        "\n",
        "2. Regresión lineal con datos ofuscados: Utilizamos la regresión lineal para realizar predicciones tanto en los datos originales como en los ofuscados. Implementamos una clase LinearRegressionWithObfuscation que permite entrenar y evaluar la regresión lineal con y sin ofuscación.\n",
        "\n",
        "3. Comparación de resultados: Comparamos los valores predichos y las métricas RMSE y R^2 entre los modelos de regresión lineal con y sin ofuscación. Encontramos que, en general, los valores predichos no mostraron diferencias significativas entre los dos casos. Además, las métricas RMSE y R^2 también fueron similares en ambos modelos.\n",
        "\n",
        "4. Importancia de la matriz de ofuscación: Observamos que la matriz de ofuscación (P) es crucial para garantizar la inversibilidad y preservación de los resultados en la regresión lineal. Se verificó la invertibilidad de P para asegurar su uso adecuado en la transformación de los datos.\n",
        "\n",
        "En resumen, encontramos que la aplicación de la ofuscación de datos no afectó significativamente los resultados de la regresión lineal en términos de valores predichos y métricas de evaluación. Esto sugiere que la regresión lineal puede funcionar de manera similar tanto en datos originales como en datos ofuscados, lo cual puede ser útil para preservar la privacidad de los datos en ciertos escenarios. Sin embargo, es importante tener en cuenta que los resultados pueden variar dependiendo de los datos y la calidad de la matriz de ofuscación utilizada."
      ]
    }
  ],
  "metadata": {
    "kernelspec": {
      "display_name": "Python 3 (ipykernel)",
      "language": "python",
      "name": "python3"
    },
    "language_info": {
      "codemirror_mode": {
        "name": "ipython",
        "version": 3
      },
      "file_extension": ".py",
      "mimetype": "text/x-python",
      "name": "python",
      "nbconvert_exporter": "python",
      "pygments_lexer": "ipython3",
      "version": "3.9.5"
    },
    "toc": {
      "base_numbering": 1,
      "nav_menu": {},
      "number_sections": true,
      "sideBar": true,
      "skip_h1_title": true,
      "title_cell": "Table of Contents",
      "title_sidebar": "Contents",
      "toc_cell": false,
      "toc_position": {
        "height": "calc(100% - 180px)",
        "left": "10px",
        "top": "150px",
        "width": "165px"
      },
      "toc_section_display": true,
      "toc_window_display": true
    },
    "colab": {
      "provenance": []
    }
  },
  "nbformat": 4,
  "nbformat_minor": 0
}