{
  "cells": [
    {
      "cell_type": "markdown",
      "metadata": {
        "id": "mVcKOBDXlTni"
      },
      "source": [
        "# Inicialización"
      ]
    },
    {
      "cell_type": "markdown",
      "metadata": {
        "id": "6vivCM4ilTnj"
      },
      "source": [
        "## Cargar las librerias"
      ]
    },
    {
      "cell_type": "code",
      "execution_count": null,
      "metadata": {
        "id": "LdLiFENDlTnk"
      },
      "outputs": [],
      "source": [
        "# Cargar todas las librerías\n",
        "import pandas as pd\n",
        "import numpy as np\n",
        "import matplotlib.pyplot as plt\n",
        "import math as mt\n",
        "from math import factorial\n",
        "from scipy import stats as st\n",
        "from datetime import timedelta as td\n",
        "from datetime import datetime"
      ]
    },
    {
      "cell_type": "markdown",
      "metadata": {
        "id": "Z6FJUR7LlTnm"
      },
      "source": [
        "## Cargar los datos"
      ]
    },
    {
      "cell_type": "code",
      "execution_count": null,
      "metadata": {
        "id": "bvAZZZq2lTnn"
      },
      "outputs": [],
      "source": [
        "# Carga los archivos de datos en diferentes DataFrames\n",
        "data = pd.read_csv('/datasets/games.csv')"
      ]
    },
    {
      "cell_type": "code",
      "execution_count": null,
      "metadata": {
        "id": "xTsBKbFylTno",
        "outputId": "c46e3f04-b5c7-4e08-e996-1316e6f8da63"
      },
      "outputs": [
        {
          "name": "stdout",
          "output_type": "stream",
          "text": [
            "<class 'pandas.core.frame.DataFrame'>\n",
            "RangeIndex: 16715 entries, 0 to 16714\n",
            "Data columns (total 11 columns):\n",
            " #   Column           Non-Null Count  Dtype  \n",
            "---  ------           --------------  -----  \n",
            " 0   Name             16713 non-null  object \n",
            " 1   Platform         16715 non-null  object \n",
            " 2   Year_of_Release  16446 non-null  float64\n",
            " 3   Genre            16713 non-null  object \n",
            " 4   NA_sales         16715 non-null  float64\n",
            " 5   EU_sales         16715 non-null  float64\n",
            " 6   JP_sales         16715 non-null  float64\n",
            " 7   Other_sales      16715 non-null  float64\n",
            " 8   Critic_Score     8137 non-null   float64\n",
            " 9   User_Score       10014 non-null  object \n",
            " 10  Rating           9949 non-null   object \n",
            "dtypes: float64(6), object(5)\n",
            "memory usage: 1.4+ MB\n"
          ]
        }
      ],
      "source": [
        "# Imprimir la información general/resumen sobre el DataFrame\n",
        "data.info()"
      ]
    },
    {
      "cell_type": "code",
      "execution_count": null,
      "metadata": {
        "id": "NoqDJffDlTnq",
        "outputId": "ee41feaf-2ccb-48fa-a376-e6f436587585"
      },
      "outputs": [
        {
          "data": {
            "text/html": [
              "<div>\n",
              "<style scoped>\n",
              "    .dataframe tbody tr th:only-of-type {\n",
              "        vertical-align: middle;\n",
              "    }\n",
              "\n",
              "    .dataframe tbody tr th {\n",
              "        vertical-align: top;\n",
              "    }\n",
              "\n",
              "    .dataframe thead th {\n",
              "        text-align: right;\n",
              "    }\n",
              "</style>\n",
              "<table border=\"1\" class=\"dataframe\">\n",
              "  <thead>\n",
              "    <tr style=\"text-align: right;\">\n",
              "      <th></th>\n",
              "      <th>Name</th>\n",
              "      <th>Platform</th>\n",
              "      <th>Year_of_Release</th>\n",
              "      <th>Genre</th>\n",
              "      <th>NA_sales</th>\n",
              "      <th>EU_sales</th>\n",
              "      <th>JP_sales</th>\n",
              "      <th>Other_sales</th>\n",
              "      <th>Critic_Score</th>\n",
              "      <th>User_Score</th>\n",
              "      <th>Rating</th>\n",
              "    </tr>\n",
              "  </thead>\n",
              "  <tbody>\n",
              "    <tr>\n",
              "      <th>0</th>\n",
              "      <td>Wii Sports</td>\n",
              "      <td>Wii</td>\n",
              "      <td>2006.0</td>\n",
              "      <td>Sports</td>\n",
              "      <td>41.36</td>\n",
              "      <td>28.96</td>\n",
              "      <td>3.77</td>\n",
              "      <td>8.45</td>\n",
              "      <td>76.0</td>\n",
              "      <td>8</td>\n",
              "      <td>E</td>\n",
              "    </tr>\n",
              "    <tr>\n",
              "      <th>1</th>\n",
              "      <td>Super Mario Bros.</td>\n",
              "      <td>NES</td>\n",
              "      <td>1985.0</td>\n",
              "      <td>Platform</td>\n",
              "      <td>29.08</td>\n",
              "      <td>3.58</td>\n",
              "      <td>6.81</td>\n",
              "      <td>0.77</td>\n",
              "      <td>NaN</td>\n",
              "      <td>NaN</td>\n",
              "      <td>NaN</td>\n",
              "    </tr>\n",
              "    <tr>\n",
              "      <th>2</th>\n",
              "      <td>Mario Kart Wii</td>\n",
              "      <td>Wii</td>\n",
              "      <td>2008.0</td>\n",
              "      <td>Racing</td>\n",
              "      <td>15.68</td>\n",
              "      <td>12.76</td>\n",
              "      <td>3.79</td>\n",
              "      <td>3.29</td>\n",
              "      <td>82.0</td>\n",
              "      <td>8.3</td>\n",
              "      <td>E</td>\n",
              "    </tr>\n",
              "    <tr>\n",
              "      <th>3</th>\n",
              "      <td>Wii Sports Resort</td>\n",
              "      <td>Wii</td>\n",
              "      <td>2009.0</td>\n",
              "      <td>Sports</td>\n",
              "      <td>15.61</td>\n",
              "      <td>10.93</td>\n",
              "      <td>3.28</td>\n",
              "      <td>2.95</td>\n",
              "      <td>80.0</td>\n",
              "      <td>8</td>\n",
              "      <td>E</td>\n",
              "    </tr>\n",
              "    <tr>\n",
              "      <th>4</th>\n",
              "      <td>Pokemon Red/Pokemon Blue</td>\n",
              "      <td>GB</td>\n",
              "      <td>1996.0</td>\n",
              "      <td>Role-Playing</td>\n",
              "      <td>11.27</td>\n",
              "      <td>8.89</td>\n",
              "      <td>10.22</td>\n",
              "      <td>1.00</td>\n",
              "      <td>NaN</td>\n",
              "      <td>NaN</td>\n",
              "      <td>NaN</td>\n",
              "    </tr>\n",
              "    <tr>\n",
              "      <th>5</th>\n",
              "      <td>Tetris</td>\n",
              "      <td>GB</td>\n",
              "      <td>1989.0</td>\n",
              "      <td>Puzzle</td>\n",
              "      <td>23.20</td>\n",
              "      <td>2.26</td>\n",
              "      <td>4.22</td>\n",
              "      <td>0.58</td>\n",
              "      <td>NaN</td>\n",
              "      <td>NaN</td>\n",
              "      <td>NaN</td>\n",
              "    </tr>\n",
              "    <tr>\n",
              "      <th>6</th>\n",
              "      <td>New Super Mario Bros.</td>\n",
              "      <td>DS</td>\n",
              "      <td>2006.0</td>\n",
              "      <td>Platform</td>\n",
              "      <td>11.28</td>\n",
              "      <td>9.14</td>\n",
              "      <td>6.50</td>\n",
              "      <td>2.88</td>\n",
              "      <td>89.0</td>\n",
              "      <td>8.5</td>\n",
              "      <td>E</td>\n",
              "    </tr>\n",
              "    <tr>\n",
              "      <th>7</th>\n",
              "      <td>Wii Play</td>\n",
              "      <td>Wii</td>\n",
              "      <td>2006.0</td>\n",
              "      <td>Misc</td>\n",
              "      <td>13.96</td>\n",
              "      <td>9.18</td>\n",
              "      <td>2.93</td>\n",
              "      <td>2.84</td>\n",
              "      <td>58.0</td>\n",
              "      <td>6.6</td>\n",
              "      <td>E</td>\n",
              "    </tr>\n",
              "    <tr>\n",
              "      <th>8</th>\n",
              "      <td>New Super Mario Bros. Wii</td>\n",
              "      <td>Wii</td>\n",
              "      <td>2009.0</td>\n",
              "      <td>Platform</td>\n",
              "      <td>14.44</td>\n",
              "      <td>6.94</td>\n",
              "      <td>4.70</td>\n",
              "      <td>2.24</td>\n",
              "      <td>87.0</td>\n",
              "      <td>8.4</td>\n",
              "      <td>E</td>\n",
              "    </tr>\n",
              "    <tr>\n",
              "      <th>9</th>\n",
              "      <td>Duck Hunt</td>\n",
              "      <td>NES</td>\n",
              "      <td>1984.0</td>\n",
              "      <td>Shooter</td>\n",
              "      <td>26.93</td>\n",
              "      <td>0.63</td>\n",
              "      <td>0.28</td>\n",
              "      <td>0.47</td>\n",
              "      <td>NaN</td>\n",
              "      <td>NaN</td>\n",
              "      <td>NaN</td>\n",
              "    </tr>\n",
              "  </tbody>\n",
              "</table>\n",
              "</div>"
            ],
            "text/plain": [
              "                        Name Platform  Year_of_Release         Genre  \\\n",
              "0                 Wii Sports      Wii           2006.0        Sports   \n",
              "1          Super Mario Bros.      NES           1985.0      Platform   \n",
              "2             Mario Kart Wii      Wii           2008.0        Racing   \n",
              "3          Wii Sports Resort      Wii           2009.0        Sports   \n",
              "4   Pokemon Red/Pokemon Blue       GB           1996.0  Role-Playing   \n",
              "5                     Tetris       GB           1989.0        Puzzle   \n",
              "6      New Super Mario Bros.       DS           2006.0      Platform   \n",
              "7                   Wii Play      Wii           2006.0          Misc   \n",
              "8  New Super Mario Bros. Wii      Wii           2009.0      Platform   \n",
              "9                  Duck Hunt      NES           1984.0       Shooter   \n",
              "\n",
              "   NA_sales  EU_sales  JP_sales  Other_sales  Critic_Score User_Score Rating  \n",
              "0     41.36     28.96      3.77         8.45          76.0          8      E  \n",
              "1     29.08      3.58      6.81         0.77           NaN        NaN    NaN  \n",
              "2     15.68     12.76      3.79         3.29          82.0        8.3      E  \n",
              "3     15.61     10.93      3.28         2.95          80.0          8      E  \n",
              "4     11.27      8.89     10.22         1.00           NaN        NaN    NaN  \n",
              "5     23.20      2.26      4.22         0.58           NaN        NaN    NaN  \n",
              "6     11.28      9.14      6.50         2.88          89.0        8.5      E  \n",
              "7     13.96      9.18      2.93         2.84          58.0        6.6      E  \n",
              "8     14.44      6.94      4.70         2.24          87.0        8.4      E  \n",
              "9     26.93      0.63      0.28         0.47           NaN        NaN    NaN  "
            ]
          },
          "execution_count": 82,
          "metadata": {},
          "output_type": "execute_result"
        }
      ],
      "source": [
        "# Imprime una muestra de los datos\n",
        "data.head(10)"
      ]
    },
    {
      "cell_type": "code",
      "execution_count": null,
      "metadata": {
        "id": "-q7vczZMlTnq",
        "outputId": "d5b1e1c9-21f2-41b7-869d-a9b04097cc71"
      },
      "outputs": [
        {
          "data": {
            "text/plain": [
              "Name                  2\n",
              "Platform              0\n",
              "Year_of_Release     269\n",
              "Genre                 2\n",
              "NA_sales              0\n",
              "EU_sales              0\n",
              "JP_sales              0\n",
              "Other_sales           0\n",
              "Critic_Score       8578\n",
              "User_Score         6701\n",
              "Rating             6766\n",
              "dtype: int64"
            ]
          },
          "execution_count": 83,
          "metadata": {},
          "output_type": "execute_result"
        }
      ],
      "source": [
        "# Aqui podemos observar la cantidad de valores ausentes dentro del dataframe\n",
        "data.isna().sum()"
      ]
    },
    {
      "cell_type": "markdown",
      "metadata": {
        "id": "qCSLfqAelTnr"
      },
      "source": [
        "- Tras analizar la informacion de los datos y los valores ausentes se tendra que emplear una manera de imputar los valores ausentes. De igual manera se observo que hay algunos duplicados dentro de los nombres de juegos para poder imputar alguno de los valores ausentes con los valores existentes duplicados."
      ]
    },
    {
      "cell_type": "markdown",
      "metadata": {
        "id": "E94zFQcclTnr"
      },
      "source": [
        "## Analizar datos faltantes y arreglarlos"
      ]
    },
    {
      "cell_type": "code",
      "execution_count": null,
      "metadata": {
        "id": "lDnkc6ixlTns"
      },
      "outputs": [],
      "source": [
        "# Se cambia a minusculas el nombre de las columnas para hacerlas mas manipulables\n",
        "data.columns = ['name', 'platform', 'year_of_release', 'genre', 'na_sales', 'eu_sales', 'jp_sales', 'other_sales', 'critic_score', 'user_score', 'rating']"
      ]
    },
    {
      "cell_type": "code",
      "execution_count": null,
      "metadata": {
        "id": "v2vHfk8tlTns"
      },
      "outputs": [],
      "source": [
        "# Aqui añadiremos una columna con la sumatoria de las ventas totales\n",
        "data['total_sales'] = data['na_sales'] + data['eu_sales'] + data['jp_sales'] + data['other_sales']"
      ]
    },
    {
      "cell_type": "code",
      "execution_count": null,
      "metadata": {
        "id": "ubXeUXvIlTns"
      },
      "outputs": [],
      "source": [
        "# Crear un diccionario que una a los juegos por nombre y calificacion, para poder imputar por los duplicados.\n",
        "games_dict = {}\n",
        "for name, group in data.groupby('name'):\n",
        "    ratings = group['rating'].dropna().tolist()\n",
        "    if ratings:\n",
        "        games_dict[name] = ratings[0]\n",
        "# Definimos una funcion que llene los valores ausentes.\n",
        "def fill_dup_rating(row):\n",
        "    name = row['name']\n",
        "    rating = row['rating']\n",
        "    if pd.isna(rating) and name in games_dict:\n",
        "        return games_dict[name]\n",
        "    else:\n",
        "        return rating\n",
        "# Ahora aplicamos la funcion.\n",
        "data['rating'] = data.apply(fill_dup_rating, axis=1)"
      ]
    },
    {
      "cell_type": "code",
      "execution_count": null,
      "metadata": {
        "id": "XyQjmhTSlTnt"
      },
      "outputs": [],
      "source": [
        "# Aqui se imputa en la columna rating con 'RP' porque aun no tienen una clasificación.\n",
        "data['rating'].fillna('RP', inplace=True)"
      ]
    },
    {
      "cell_type": "code",
      "execution_count": null,
      "metadata": {
        "id": "LatCfFRjlTnt"
      },
      "outputs": [],
      "source": [
        "# Aqui se remplaza K-A por E debido a que K-A es otra manera de que sea para todo publico que se dejo de utilizar.\n",
        "data['rating'] = data['rating'].replace('K-A', 'E')"
      ]
    },
    {
      "cell_type": "code",
      "execution_count": null,
      "metadata": {
        "id": "hCCV6oGzlTnt"
      },
      "outputs": [],
      "source": [
        "# Aqui se eliminan los datos ausentes de genre y name debido a que son 2 datos los que faltaban y no hay correlacion suficiente entre otras variables para poder imputarlo.\n",
        "data['name'] = data['name'].fillna('not specified')\n",
        "data['genre'] = data['genre'].fillna('not specified')"
      ]
    },
    {
      "cell_type": "code",
      "execution_count": null,
      "metadata": {
        "id": "ypsBmnZBlTnu",
        "outputId": "7d671316-030f-4bc2-efa7-ec7499806a81"
      },
      "outputs": [
        {
          "data": {
            "text/plain": [
              "name                  0\n",
              "platform              0\n",
              "year_of_release     269\n",
              "genre                 0\n",
              "na_sales              0\n",
              "eu_sales              0\n",
              "jp_sales              0\n",
              "other_sales           0\n",
              "critic_score       8578\n",
              "user_score         6701\n",
              "rating                0\n",
              "total_sales           0\n",
              "dtype: int64"
            ]
          },
          "execution_count": 90,
          "metadata": {},
          "output_type": "execute_result"
        }
      ],
      "source": [
        "# Comprobamos que no existan valores ausentes\n",
        "data.isna().sum()"
      ]
    },
    {
      "cell_type": "markdown",
      "metadata": {
        "id": "61_N5UD-lTnu"
      },
      "source": [
        "- Debido a que no existe informacion suficiente para imputar critic score se opto por dejar los valores ausentes como estan, sucede lo mismo para la columna de user_score. De igual manera para la columan de year_of_release y rating se buscaron duplicados en los nombres para de esta manera se imputara sobre los juegos cuyos nombres fueran los mismos pero tuvieran el año o el rating faltante, el resto de datos se dejo como tal en valores ausentes."
      ]
    },
    {
      "cell_type": "markdown",
      "metadata": {
        "id": "dStVpLwMlTnu"
      },
      "source": [
        "## Corregir los tipos de datos"
      ]
    },
    {
      "cell_type": "code",
      "execution_count": null,
      "metadata": {
        "id": "w98QpqzclTnv"
      },
      "outputs": [],
      "source": [
        "# Aqui se cambiaran los datos de las columnas a los tipos de datos que les corresponden.\n",
        "# data['year_of_release'] = data['year_of_release'].astype('int64')\n",
        "data['year_of_release'] = pd.to_numeric(data['year_of_release'], errors='coerce').astype(float)\n",
        "# data['critic_score'] = data['critic_score'].astype('int64')\n",
        "data['critic_score'] = pd.to_numeric(data['critic_score'], errors='coerce').astype(float)\n",
        "data['user_score'] = pd.to_numeric(data['user_score'], errors='coerce').astype(float)"
      ]
    },
    {
      "cell_type": "code",
      "execution_count": null,
      "metadata": {
        "id": "QtXgbolxlTnv",
        "outputId": "0891b7e3-cdf0-4624-e2f1-acb4e86b538e"
      },
      "outputs": [
        {
          "name": "stdout",
          "output_type": "stream",
          "text": [
            "<class 'pandas.core.frame.DataFrame'>\n",
            "RangeIndex: 16715 entries, 0 to 16714\n",
            "Data columns (total 12 columns):\n",
            " #   Column           Non-Null Count  Dtype  \n",
            "---  ------           --------------  -----  \n",
            " 0   name             16715 non-null  object \n",
            " 1   platform         16715 non-null  object \n",
            " 2   year_of_release  16446 non-null  float64\n",
            " 3   genre            16715 non-null  object \n",
            " 4   na_sales         16715 non-null  float64\n",
            " 5   eu_sales         16715 non-null  float64\n",
            " 6   jp_sales         16715 non-null  float64\n",
            " 7   other_sales      16715 non-null  float64\n",
            " 8   critic_score     8137 non-null   float64\n",
            " 9   user_score       7590 non-null   float64\n",
            " 10  rating           16715 non-null  object \n",
            " 11  total_sales      16715 non-null  float64\n",
            "dtypes: float64(8), object(4)\n",
            "memory usage: 1.5+ MB\n"
          ]
        }
      ],
      "source": [
        "data.info()"
      ]
    },
    {
      "cell_type": "code",
      "execution_count": null,
      "metadata": {
        "id": "qa57T2KSlTnv",
        "outputId": "88ca84fa-4be6-4304-fe0a-21966ec2e08f"
      },
      "outputs": [
        {
          "data": {
            "text/html": [
              "<div>\n",
              "<style scoped>\n",
              "    .dataframe tbody tr th:only-of-type {\n",
              "        vertical-align: middle;\n",
              "    }\n",
              "\n",
              "    .dataframe tbody tr th {\n",
              "        vertical-align: top;\n",
              "    }\n",
              "\n",
              "    .dataframe thead th {\n",
              "        text-align: right;\n",
              "    }\n",
              "</style>\n",
              "<table border=\"1\" class=\"dataframe\">\n",
              "  <thead>\n",
              "    <tr style=\"text-align: right;\">\n",
              "      <th></th>\n",
              "      <th>name</th>\n",
              "      <th>platform</th>\n",
              "      <th>year_of_release</th>\n",
              "      <th>genre</th>\n",
              "      <th>na_sales</th>\n",
              "      <th>eu_sales</th>\n",
              "      <th>jp_sales</th>\n",
              "      <th>other_sales</th>\n",
              "      <th>critic_score</th>\n",
              "      <th>user_score</th>\n",
              "      <th>rating</th>\n",
              "      <th>total_sales</th>\n",
              "    </tr>\n",
              "  </thead>\n",
              "  <tbody>\n",
              "    <tr>\n",
              "      <th>0</th>\n",
              "      <td>Wii Sports</td>\n",
              "      <td>Wii</td>\n",
              "      <td>2006.0</td>\n",
              "      <td>Sports</td>\n",
              "      <td>41.36</td>\n",
              "      <td>28.96</td>\n",
              "      <td>3.77</td>\n",
              "      <td>8.45</td>\n",
              "      <td>76.0</td>\n",
              "      <td>8.0</td>\n",
              "      <td>E</td>\n",
              "      <td>82.54</td>\n",
              "    </tr>\n",
              "    <tr>\n",
              "      <th>1</th>\n",
              "      <td>Super Mario Bros.</td>\n",
              "      <td>NES</td>\n",
              "      <td>1985.0</td>\n",
              "      <td>Platform</td>\n",
              "      <td>29.08</td>\n",
              "      <td>3.58</td>\n",
              "      <td>6.81</td>\n",
              "      <td>0.77</td>\n",
              "      <td>NaN</td>\n",
              "      <td>NaN</td>\n",
              "      <td>RP</td>\n",
              "      <td>40.24</td>\n",
              "    </tr>\n",
              "    <tr>\n",
              "      <th>2</th>\n",
              "      <td>Mario Kart Wii</td>\n",
              "      <td>Wii</td>\n",
              "      <td>2008.0</td>\n",
              "      <td>Racing</td>\n",
              "      <td>15.68</td>\n",
              "      <td>12.76</td>\n",
              "      <td>3.79</td>\n",
              "      <td>3.29</td>\n",
              "      <td>82.0</td>\n",
              "      <td>8.3</td>\n",
              "      <td>E</td>\n",
              "      <td>35.52</td>\n",
              "    </tr>\n",
              "    <tr>\n",
              "      <th>3</th>\n",
              "      <td>Wii Sports Resort</td>\n",
              "      <td>Wii</td>\n",
              "      <td>2009.0</td>\n",
              "      <td>Sports</td>\n",
              "      <td>15.61</td>\n",
              "      <td>10.93</td>\n",
              "      <td>3.28</td>\n",
              "      <td>2.95</td>\n",
              "      <td>80.0</td>\n",
              "      <td>8.0</td>\n",
              "      <td>E</td>\n",
              "      <td>32.77</td>\n",
              "    </tr>\n",
              "    <tr>\n",
              "      <th>4</th>\n",
              "      <td>Pokemon Red/Pokemon Blue</td>\n",
              "      <td>GB</td>\n",
              "      <td>1996.0</td>\n",
              "      <td>Role-Playing</td>\n",
              "      <td>11.27</td>\n",
              "      <td>8.89</td>\n",
              "      <td>10.22</td>\n",
              "      <td>1.00</td>\n",
              "      <td>NaN</td>\n",
              "      <td>NaN</td>\n",
              "      <td>RP</td>\n",
              "      <td>31.38</td>\n",
              "    </tr>\n",
              "    <tr>\n",
              "      <th>...</th>\n",
              "      <td>...</td>\n",
              "      <td>...</td>\n",
              "      <td>...</td>\n",
              "      <td>...</td>\n",
              "      <td>...</td>\n",
              "      <td>...</td>\n",
              "      <td>...</td>\n",
              "      <td>...</td>\n",
              "      <td>...</td>\n",
              "      <td>...</td>\n",
              "      <td>...</td>\n",
              "      <td>...</td>\n",
              "    </tr>\n",
              "    <tr>\n",
              "      <th>16710</th>\n",
              "      <td>Samurai Warriors: Sanada Maru</td>\n",
              "      <td>PS3</td>\n",
              "      <td>2016.0</td>\n",
              "      <td>Action</td>\n",
              "      <td>0.00</td>\n",
              "      <td>0.00</td>\n",
              "      <td>0.01</td>\n",
              "      <td>0.00</td>\n",
              "      <td>NaN</td>\n",
              "      <td>NaN</td>\n",
              "      <td>RP</td>\n",
              "      <td>0.01</td>\n",
              "    </tr>\n",
              "    <tr>\n",
              "      <th>16711</th>\n",
              "      <td>LMA Manager 2007</td>\n",
              "      <td>X360</td>\n",
              "      <td>2006.0</td>\n",
              "      <td>Sports</td>\n",
              "      <td>0.00</td>\n",
              "      <td>0.01</td>\n",
              "      <td>0.00</td>\n",
              "      <td>0.00</td>\n",
              "      <td>NaN</td>\n",
              "      <td>NaN</td>\n",
              "      <td>RP</td>\n",
              "      <td>0.01</td>\n",
              "    </tr>\n",
              "    <tr>\n",
              "      <th>16712</th>\n",
              "      <td>Haitaka no Psychedelica</td>\n",
              "      <td>PSV</td>\n",
              "      <td>2016.0</td>\n",
              "      <td>Adventure</td>\n",
              "      <td>0.00</td>\n",
              "      <td>0.00</td>\n",
              "      <td>0.01</td>\n",
              "      <td>0.00</td>\n",
              "      <td>NaN</td>\n",
              "      <td>NaN</td>\n",
              "      <td>RP</td>\n",
              "      <td>0.01</td>\n",
              "    </tr>\n",
              "    <tr>\n",
              "      <th>16713</th>\n",
              "      <td>Spirits &amp; Spells</td>\n",
              "      <td>GBA</td>\n",
              "      <td>2003.0</td>\n",
              "      <td>Platform</td>\n",
              "      <td>0.01</td>\n",
              "      <td>0.00</td>\n",
              "      <td>0.00</td>\n",
              "      <td>0.00</td>\n",
              "      <td>NaN</td>\n",
              "      <td>NaN</td>\n",
              "      <td>RP</td>\n",
              "      <td>0.01</td>\n",
              "    </tr>\n",
              "    <tr>\n",
              "      <th>16714</th>\n",
              "      <td>Winning Post 8 2016</td>\n",
              "      <td>PSV</td>\n",
              "      <td>2016.0</td>\n",
              "      <td>Simulation</td>\n",
              "      <td>0.00</td>\n",
              "      <td>0.00</td>\n",
              "      <td>0.01</td>\n",
              "      <td>0.00</td>\n",
              "      <td>NaN</td>\n",
              "      <td>NaN</td>\n",
              "      <td>RP</td>\n",
              "      <td>0.01</td>\n",
              "    </tr>\n",
              "  </tbody>\n",
              "</table>\n",
              "<p>16715 rows × 12 columns</p>\n",
              "</div>"
            ],
            "text/plain": [
              "                                name platform  year_of_release         genre  \\\n",
              "0                         Wii Sports      Wii           2006.0        Sports   \n",
              "1                  Super Mario Bros.      NES           1985.0      Platform   \n",
              "2                     Mario Kart Wii      Wii           2008.0        Racing   \n",
              "3                  Wii Sports Resort      Wii           2009.0        Sports   \n",
              "4           Pokemon Red/Pokemon Blue       GB           1996.0  Role-Playing   \n",
              "...                              ...      ...              ...           ...   \n",
              "16710  Samurai Warriors: Sanada Maru      PS3           2016.0        Action   \n",
              "16711               LMA Manager 2007     X360           2006.0        Sports   \n",
              "16712        Haitaka no Psychedelica      PSV           2016.0     Adventure   \n",
              "16713               Spirits & Spells      GBA           2003.0      Platform   \n",
              "16714            Winning Post 8 2016      PSV           2016.0    Simulation   \n",
              "\n",
              "       na_sales  eu_sales  jp_sales  other_sales  critic_score  user_score  \\\n",
              "0         41.36     28.96      3.77         8.45          76.0         8.0   \n",
              "1         29.08      3.58      6.81         0.77           NaN         NaN   \n",
              "2         15.68     12.76      3.79         3.29          82.0         8.3   \n",
              "3         15.61     10.93      3.28         2.95          80.0         8.0   \n",
              "4         11.27      8.89     10.22         1.00           NaN         NaN   \n",
              "...         ...       ...       ...          ...           ...         ...   \n",
              "16710      0.00      0.00      0.01         0.00           NaN         NaN   \n",
              "16711      0.00      0.01      0.00         0.00           NaN         NaN   \n",
              "16712      0.00      0.00      0.01         0.00           NaN         NaN   \n",
              "16713      0.01      0.00      0.00         0.00           NaN         NaN   \n",
              "16714      0.00      0.00      0.01         0.00           NaN         NaN   \n",
              "\n",
              "      rating  total_sales  \n",
              "0          E        82.54  \n",
              "1         RP        40.24  \n",
              "2          E        35.52  \n",
              "3          E        32.77  \n",
              "4         RP        31.38  \n",
              "...      ...          ...  \n",
              "16710     RP         0.01  \n",
              "16711     RP         0.01  \n",
              "16712     RP         0.01  \n",
              "16713     RP         0.01  \n",
              "16714     RP         0.01  \n",
              "\n",
              "[16715 rows x 12 columns]"
            ]
          },
          "execution_count": 93,
          "metadata": {},
          "output_type": "execute_result"
        }
      ],
      "source": [
        "data"
      ]
    },
    {
      "cell_type": "markdown",
      "metadata": {
        "id": "Y2bT7GjYlTnw"
      },
      "source": [
        "# Analisis de datos"
      ]
    },
    {
      "cell_type": "markdown",
      "metadata": {
        "id": "gsl39_pClTnw"
      },
      "source": [
        "## Comprobamos por año de salida"
      ]
    },
    {
      "cell_type": "code",
      "execution_count": null,
      "metadata": {
        "id": "i9oPkA3NlTnw",
        "outputId": "728c667b-7d02-4a6b-b6d8-eff858527868"
      },
      "outputs": [
        {
          "data": {
            "text/html": [
              "<div>\n",
              "<style scoped>\n",
              "    .dataframe tbody tr th:only-of-type {\n",
              "        vertical-align: middle;\n",
              "    }\n",
              "\n",
              "    .dataframe tbody tr th {\n",
              "        vertical-align: top;\n",
              "    }\n",
              "\n",
              "    .dataframe thead th {\n",
              "        text-align: right;\n",
              "    }\n",
              "</style>\n",
              "<table border=\"1\" class=\"dataframe\">\n",
              "  <thead>\n",
              "    <tr style=\"text-align: right;\">\n",
              "      <th></th>\n",
              "      <th>plataforma</th>\n",
              "      <th>año</th>\n",
              "      <th>total_per_year</th>\n",
              "    </tr>\n",
              "  </thead>\n",
              "  <tbody>\n",
              "    <tr>\n",
              "      <th>180</th>\n",
              "      <td>SAT</td>\n",
              "      <td>1999.0</td>\n",
              "      <td>1</td>\n",
              "    </tr>\n",
              "    <tr>\n",
              "      <th>49</th>\n",
              "      <td>GBA</td>\n",
              "      <td>2000.0</td>\n",
              "      <td>1</td>\n",
              "    </tr>\n",
              "    <tr>\n",
              "      <th>207</th>\n",
              "      <td>Wii</td>\n",
              "      <td>2016.0</td>\n",
              "      <td>1</td>\n",
              "    </tr>\n",
              "    <tr>\n",
              "      <th>181</th>\n",
              "      <td>SCD</td>\n",
              "      <td>1993.0</td>\n",
              "      <td>1</td>\n",
              "    </tr>\n",
              "    <tr>\n",
              "      <th>64</th>\n",
              "      <td>GEN</td>\n",
              "      <td>1990.0</td>\n",
              "      <td>1</td>\n",
              "    </tr>\n",
              "    <tr>\n",
              "      <th>...</th>\n",
              "      <td>...</td>\n",
              "      <td>...</td>\n",
              "      <td>...</td>\n",
              "    </tr>\n",
              "    <tr>\n",
              "      <th>32</th>\n",
              "      <td>DS</td>\n",
              "      <td>2010.0</td>\n",
              "      <td>323</td>\n",
              "    </tr>\n",
              "    <tr>\n",
              "      <th>200</th>\n",
              "      <td>Wii</td>\n",
              "      <td>2009.0</td>\n",
              "      <td>325</td>\n",
              "    </tr>\n",
              "    <tr>\n",
              "      <th>29</th>\n",
              "      <td>DS</td>\n",
              "      <td>2007.0</td>\n",
              "      <td>376</td>\n",
              "    </tr>\n",
              "    <tr>\n",
              "      <th>31</th>\n",
              "      <td>DS</td>\n",
              "      <td>2009.0</td>\n",
              "      <td>403</td>\n",
              "    </tr>\n",
              "    <tr>\n",
              "      <th>30</th>\n",
              "      <td>DS</td>\n",
              "      <td>2008.0</td>\n",
              "      <td>492</td>\n",
              "    </tr>\n",
              "  </tbody>\n",
              "</table>\n",
              "<p>238 rows × 3 columns</p>\n",
              "</div>"
            ],
            "text/plain": [
              "    plataforma     año  total_per_year\n",
              "180        SAT  1999.0               1\n",
              "49         GBA  2000.0               1\n",
              "207        Wii  2016.0               1\n",
              "181        SCD  1993.0               1\n",
              "64         GEN  1990.0               1\n",
              "..         ...     ...             ...\n",
              "32          DS  2010.0             323\n",
              "200        Wii  2009.0             325\n",
              "29          DS  2007.0             376\n",
              "31          DS  2009.0             403\n",
              "30          DS  2008.0             492\n",
              "\n",
              "[238 rows x 3 columns]"
            ]
          },
          "execution_count": 94,
          "metadata": {},
          "output_type": "execute_result"
        }
      ],
      "source": [
        "# Agrupamos por plataforma y año.\n",
        "año_y_plataforma = data.groupby(['platform', 'year_of_release']).agg({'year_of_release': ['count']}).reset_index()\n",
        "año_y_plataforma.columns = ['plataforma', 'año', 'total_per_year']\n",
        "año_y_plataforma.sort_values(by='total_per_year')"
      ]
    },
    {
      "cell_type": "markdown",
      "metadata": {
        "id": "CemxqD2flTnw"
      },
      "source": [
        "- Aqui podemos observar que se agruparon la cantidad de juegos por año y las plataformas con mas ventas."
      ]
    },
    {
      "cell_type": "code",
      "execution_count": null,
      "metadata": {
        "id": "eKgUdRmKlTnx",
        "outputId": "8d30ab49-4bec-4e34-c9e6-717d87b4f08e"
      },
      "outputs": [
        {
          "data": {
            "text/plain": [
              "<AxesSubplot:xlabel='platform'>"
            ]
          },
          "execution_count": 95,
          "metadata": {},
          "output_type": "execute_result"
        },
        {
          "data": {
            "image/png": "[encoded data removed]",
            "text/plain": [
              "<Figure size 432x288 with 1 Axes>"
            ]
          },
          "metadata": {
            "needs_background": "light"
          },
          "output_type": "display_data"
        }
      ],
      "source": [
        "# Aqui agrupamos por plataforma y ventas totales para identificar la plataforma con mas ventas por año.\n",
        "total_sales_grouped = data.groupby('platform')['total_sales'].sum().sort_values(ascending=False).plot(kind='bar',y='platform')\n",
        "total_sales_grouped"
      ]
    },
    {
      "cell_type": "markdown",
      "metadata": {
        "id": "jT3NIBOJlTnx"
      },
      "source": [
        "- Podemos observar que PS2 y X360 son las plataformas con mas ventas."
      ]
    },
    {
      "cell_type": "code",
      "execution_count": null,
      "metadata": {
        "id": "EqQ6r87klTnx"
      },
      "outputs": [],
      "source": [
        "# Aqui dividimos el dataframe por las dos plataformas mas vendidas.\n",
        "ps2 = data.query('platform == \"PS2\"')\n",
        "x360 = data.query('platform == \"X360\"')\n",
        "ps3 = data.query('platform == \"PS3\"')\n",
        "wii = data.query('platform == \"Wii\"')\n",
        "ds = data.query('platform == \"DS\"')"
      ]
    },
    {
      "cell_type": "code",
      "execution_count": null,
      "metadata": {
        "id": "I0h-CiadlTnx",
        "outputId": "32fe8b7e-2a8d-4524-9407-0118b8c6dad4"
      },
      "outputs": [
        {
          "data": {
            "text/plain": [
              "Text(0.5, 1.0, 'Ventas totales por año PS2')"
            ]
          },
          "execution_count": 97,
          "metadata": {},
          "output_type": "execute_result"
        },
        {
          "data": {
            "image/png": "[encoded data removed]",
            "text/plain": [
              "<Figure size 432x288 with 1 Axes>"
            ]
          },
          "metadata": {
            "needs_background": "light"
          },
          "output_type": "display_data"
        }
      ],
      "source": [
        "ps2.groupby('year_of_release')['total_sales'].sum().plot(kind='bar',y='total_sales')\n",
        "plt.ylabel('Ventas Totales')\n",
        "plt.xlabel('Año de salida')\n",
        "plt.title('Ventas totales por año PS2')"
      ]
    },
    {
      "cell_type": "markdown",
      "metadata": {
        "id": "HS9X2sqTlTny"
      },
      "source": [
        "- En este diagrama de barras podemos observar que para la plataforma 'PS2' tuvo la mayor cantidad de ventas el año 2004."
      ]
    },
    {
      "cell_type": "code",
      "execution_count": null,
      "metadata": {
        "id": "RJwgjiZ2lTny",
        "outputId": "03205941-849c-4fe5-b3eb-01c1816b365d"
      },
      "outputs": [
        {
          "data": {
            "text/plain": [
              "Text(0.5, 1.0, 'Ventas totales por año X360')"
            ]
          },
          "execution_count": 98,
          "metadata": {},
          "output_type": "execute_result"
        },
        {
          "data": {
            "image/png": "[encoded data removed]",
            "text/plain": [
              "<Figure size 432x288 with 1 Axes>"
            ]
          },
          "metadata": {
            "needs_background": "light"
          },
          "output_type": "display_data"
        }
      ],
      "source": [
        "x360.groupby('year_of_release')['total_sales'].sum().plot(kind='bar',y='total_sales')\n",
        "plt.ylabel('Ventas Totales')\n",
        "plt.xlabel('Año de salida')\n",
        "plt.title('Ventas totales por año X360')"
      ]
    },
    {
      "cell_type": "markdown",
      "metadata": {
        "id": "P3jvuFhclTny"
      },
      "source": [
        "- En este diagrama de barras podemos observar que para la plataforma 'X360' tuvo la mayor cantidad de ventas el año 2010."
      ]
    },
    {
      "cell_type": "code",
      "execution_count": null,
      "metadata": {
        "id": "PxpwTU1vlTnz",
        "outputId": "ed755388-7c81-4c2f-f945-9120e1e52f3c"
      },
      "outputs": [
        {
          "data": {
            "text/plain": [
              "Text(0.5, 1.0, 'Ventas totales por año PS3')"
            ]
          },
          "execution_count": 99,
          "metadata": {},
          "output_type": "execute_result"
        },
        {
          "data": {
            "image/png": "[encoded data removed]",
            "text/plain": [
              "<Figure size 432x288 with 1 Axes>"
            ]
          },
          "metadata": {
            "needs_background": "light"
          },
          "output_type": "display_data"
        }
      ],
      "source": [
        "ps3.groupby('year_of_release')['total_sales'].sum().plot(kind='bar',y='total_sales')\n",
        "plt.ylabel('Ventas Totales')\n",
        "plt.xlabel('Año de salida')\n",
        "plt.title('Ventas totales por año PS3')"
      ]
    },
    {
      "cell_type": "markdown",
      "metadata": {
        "id": "jF6DWPeHlTnz"
      },
      "source": [
        "- En este diagrama de barras podemos observar que para la plataforma 'PS3' tuvo la mayor cantidad de ventas el año 2011."
      ]
    },
    {
      "cell_type": "code",
      "execution_count": null,
      "metadata": {
        "id": "fZUjmhJClTn5",
        "outputId": "f428b4be-4173-42bc-eae0-91d984ef44d4"
      },
      "outputs": [
        {
          "data": {
            "text/plain": [
              "Text(0.5, 1.0, 'Ventas totales por año Wii')"
            ]
          },
          "execution_count": 100,
          "metadata": {},
          "output_type": "execute_result"
        },
        {
          "data": {
            "image/png": "[encoded data removed]",
            "text/plain": [
              "<Figure size 432x288 with 1 Axes>"
            ]
          },
          "metadata": {
            "needs_background": "light"
          },
          "output_type": "display_data"
        }
      ],
      "source": [
        "wii.groupby('year_of_release')['total_sales'].sum().plot(kind='bar',y='total_sales')\n",
        "plt.ylabel('Ventas Totales')\n",
        "plt.xlabel('Año de salida')\n",
        "plt.title('Ventas totales por año Wii')"
      ]
    },
    {
      "cell_type": "markdown",
      "metadata": {
        "id": "3u3BPjaClTn6"
      },
      "source": [
        "- En este diagrama de barras podemos observar que para la plataforma 'Wii' tuvo la mayor cantidad de ventas el año 2009."
      ]
    },
    {
      "cell_type": "code",
      "execution_count": null,
      "metadata": {
        "id": "oGR5lI5ulTn6",
        "outputId": "b83f10c4-f838-427c-d61f-df541946d310"
      },
      "outputs": [
        {
          "data": {
            "text/plain": [
              "Text(0.5, 1.0, 'Ventas totales por año DS')"
            ]
          },
          "execution_count": 101,
          "metadata": {},
          "output_type": "execute_result"
        },
        {
          "data": {
            "image/png": "[encoded data removed]",
            "text/plain": [
              "<Figure size 432x288 with 1 Axes>"
            ]
          },
          "metadata": {
            "needs_background": "light"
          },
          "output_type": "display_data"
        }
      ],
      "source": [
        "ds.groupby('year_of_release')['total_sales'].sum().plot(kind='bar',y='total_sales')\n",
        "plt.ylabel('Ventas Totales')\n",
        "plt.xlabel('Año de salida')\n",
        "plt.title('Ventas totales por año DS')"
      ]
    },
    {
      "cell_type": "markdown",
      "metadata": {
        "id": "ijTNFuJBlTn7"
      },
      "source": [
        "- En este diagrama de barras podemos observar que para la plataforma 'DS' tuvo la mayor cantidad de ventas el año 2007."
      ]
    },
    {
      "cell_type": "code",
      "execution_count": null,
      "metadata": {
        "id": "FF7Ei51vlTn7",
        "outputId": "36dd6325-2377-4aab-cf32-a5d52b49af8a"
      },
      "outputs": [
        {
          "data": {
            "text/plain": [
              "Text(0.5, 0, 'Año de salida')"
            ]
          },
          "execution_count": 102,
          "metadata": {},
          "output_type": "execute_result"
        },
        {
          "data": {
            "image/png": "[encoded data removed]",
            "text/plain": [
              "<Figure size 1080x720 with 1 Axes>"
            ]
          },
          "metadata": {
            "needs_background": "light"
          },
          "output_type": "display_data"
        }
      ],
      "source": [
        "# Con este grafico podemos observar las plataformas para ver cuanto tiempo sacan juegos para las diferentes plataformas\n",
        "data.sort_values(by=['year_of_release', 'platform']).plot(kind='scatter', x='year_of_release', y='platform', figsize=(15,10), grid=True)\n",
        "plt.ylabel('Plataforma')\n",
        "plt.xlabel('Año de salida')"
      ]
    },
    {
      "cell_type": "code",
      "execution_count": null,
      "metadata": {
        "id": "QpXXWpELlTn7",
        "outputId": "e6174ce3-2e69-420b-e7ff-391a332c43c6"
      },
      "outputs": [
        {
          "data": {
            "text/plain": [
              "<AxesSubplot:xlabel='plataforma', ylabel='ventas_totales'>"
            ]
          },
          "execution_count": 103,
          "metadata": {},
          "output_type": "execute_result"
        },
        {
          "data": {
            "image/png": "[encoded data removed]",
            "text/plain": [
              "<Figure size 1080x720 with 1 Axes>"
            ]
          },
          "metadata": {
            "needs_background": "light"
          },
          "output_type": "display_data"
        }
      ],
      "source": [
        "# Agrupo por año, plataforma y el conteo de ventas por año, luego muestro un scatter plot para ver la dispersion del total de ventas.\n",
        "grouped = data.groupby(['year_of_release', 'platform']).agg({'total_sales': ['count']}).reset_index()\n",
        "grouped.columns = ['año', 'plataforma', 'ventas_totales']\n",
        "grouped.sort_values(by='ventas_totales', ascending=False).plot(kind='scatter', x='plataforma', y='ventas_totales', figsize=(15,10), grid=True)"
      ]
    },
    {
      "cell_type": "code",
      "execution_count": null,
      "metadata": {
        "id": "QyAqoZPblTn8",
        "outputId": "4f3bcb02-0ca5-464f-aefd-7b7bee553729"
      },
      "outputs": [
        {
          "data": {
            "text/html": [
              "<div>\n",
              "<style scoped>\n",
              "    .dataframe tbody tr th:only-of-type {\n",
              "        vertical-align: middle;\n",
              "    }\n",
              "\n",
              "    .dataframe tbody tr th {\n",
              "        vertical-align: top;\n",
              "    }\n",
              "\n",
              "    .dataframe thead th {\n",
              "        text-align: right;\n",
              "    }\n",
              "</style>\n",
              "<table border=\"1\" class=\"dataframe\">\n",
              "  <thead>\n",
              "    <tr style=\"text-align: right;\">\n",
              "      <th></th>\n",
              "      <th>max_duration</th>\n",
              "      <th>min_duration</th>\n",
              "      <th>avg_time_platform</th>\n",
              "    </tr>\n",
              "    <tr>\n",
              "      <th>platform</th>\n",
              "      <th></th>\n",
              "      <th></th>\n",
              "      <th></th>\n",
              "    </tr>\n",
              "  </thead>\n",
              "  <tbody>\n",
              "    <tr>\n",
              "      <th>PC</th>\n",
              "      <td>2016.0</td>\n",
              "      <td>1985.0</td>\n",
              "      <td>31.0</td>\n",
              "    </tr>\n",
              "    <tr>\n",
              "      <th>DS</th>\n",
              "      <td>2013.0</td>\n",
              "      <td>1985.0</td>\n",
              "      <td>28.0</td>\n",
              "    </tr>\n",
              "    <tr>\n",
              "      <th>GB</th>\n",
              "      <td>2001.0</td>\n",
              "      <td>1988.0</td>\n",
              "      <td>13.0</td>\n",
              "    </tr>\n",
              "    <tr>\n",
              "      <th>X360</th>\n",
              "      <td>2016.0</td>\n",
              "      <td>2005.0</td>\n",
              "      <td>11.0</td>\n",
              "    </tr>\n",
              "    <tr>\n",
              "      <th>PSP</th>\n",
              "      <td>2015.0</td>\n",
              "      <td>2004.0</td>\n",
              "      <td>11.0</td>\n",
              "    </tr>\n",
              "    <tr>\n",
              "      <th>PS2</th>\n",
              "      <td>2011.0</td>\n",
              "      <td>2000.0</td>\n",
              "      <td>11.0</td>\n",
              "    </tr>\n",
              "    <tr>\n",
              "      <th>NES</th>\n",
              "      <td>1994.0</td>\n",
              "      <td>1983.0</td>\n",
              "      <td>11.0</td>\n",
              "    </tr>\n",
              "    <tr>\n",
              "      <th>DC</th>\n",
              "      <td>2008.0</td>\n",
              "      <td>1998.0</td>\n",
              "      <td>10.0</td>\n",
              "    </tr>\n",
              "    <tr>\n",
              "      <th>Wii</th>\n",
              "      <td>2016.0</td>\n",
              "      <td>2006.0</td>\n",
              "      <td>10.0</td>\n",
              "    </tr>\n",
              "    <tr>\n",
              "      <th>PS3</th>\n",
              "      <td>2016.0</td>\n",
              "      <td>2006.0</td>\n",
              "      <td>10.0</td>\n",
              "    </tr>\n",
              "    <tr>\n",
              "      <th>2600</th>\n",
              "      <td>1989.0</td>\n",
              "      <td>1980.0</td>\n",
              "      <td>9.0</td>\n",
              "    </tr>\n",
              "    <tr>\n",
              "      <th>SNES</th>\n",
              "      <td>1999.0</td>\n",
              "      <td>1990.0</td>\n",
              "      <td>9.0</td>\n",
              "    </tr>\n",
              "    <tr>\n",
              "      <th>PS</th>\n",
              "      <td>2003.0</td>\n",
              "      <td>1994.0</td>\n",
              "      <td>9.0</td>\n",
              "    </tr>\n",
              "    <tr>\n",
              "      <th>XB</th>\n",
              "      <td>2008.0</td>\n",
              "      <td>2000.0</td>\n",
              "      <td>8.0</td>\n",
              "    </tr>\n",
              "    <tr>\n",
              "      <th>GBA</th>\n",
              "      <td>2007.0</td>\n",
              "      <td>2000.0</td>\n",
              "      <td>7.0</td>\n",
              "    </tr>\n",
              "    <tr>\n",
              "      <th>GC</th>\n",
              "      <td>2007.0</td>\n",
              "      <td>2001.0</td>\n",
              "      <td>6.0</td>\n",
              "    </tr>\n",
              "    <tr>\n",
              "      <th>N64</th>\n",
              "      <td>2002.0</td>\n",
              "      <td>1996.0</td>\n",
              "      <td>6.0</td>\n",
              "    </tr>\n",
              "    <tr>\n",
              "      <th>3DS</th>\n",
              "      <td>2016.0</td>\n",
              "      <td>2011.0</td>\n",
              "      <td>5.0</td>\n",
              "    </tr>\n",
              "    <tr>\n",
              "      <th>PSV</th>\n",
              "      <td>2016.0</td>\n",
              "      <td>2011.0</td>\n",
              "      <td>5.0</td>\n",
              "    </tr>\n",
              "    <tr>\n",
              "      <th>SAT</th>\n",
              "      <td>1999.0</td>\n",
              "      <td>1994.0</td>\n",
              "      <td>5.0</td>\n",
              "    </tr>\n",
              "    <tr>\n",
              "      <th>WiiU</th>\n",
              "      <td>2016.0</td>\n",
              "      <td>2012.0</td>\n",
              "      <td>4.0</td>\n",
              "    </tr>\n",
              "    <tr>\n",
              "      <th>GEN</th>\n",
              "      <td>1994.0</td>\n",
              "      <td>1990.0</td>\n",
              "      <td>4.0</td>\n",
              "    </tr>\n",
              "    <tr>\n",
              "      <th>NG</th>\n",
              "      <td>1996.0</td>\n",
              "      <td>1993.0</td>\n",
              "      <td>3.0</td>\n",
              "    </tr>\n",
              "    <tr>\n",
              "      <th>XOne</th>\n",
              "      <td>2016.0</td>\n",
              "      <td>2013.0</td>\n",
              "      <td>3.0</td>\n",
              "    </tr>\n",
              "    <tr>\n",
              "      <th>PS4</th>\n",
              "      <td>2016.0</td>\n",
              "      <td>2013.0</td>\n",
              "      <td>3.0</td>\n",
              "    </tr>\n",
              "    <tr>\n",
              "      <th>WS</th>\n",
              "      <td>2001.0</td>\n",
              "      <td>1999.0</td>\n",
              "      <td>2.0</td>\n",
              "    </tr>\n",
              "    <tr>\n",
              "      <th>3DO</th>\n",
              "      <td>1995.0</td>\n",
              "      <td>1994.0</td>\n",
              "      <td>1.0</td>\n",
              "    </tr>\n",
              "    <tr>\n",
              "      <th>SCD</th>\n",
              "      <td>1994.0</td>\n",
              "      <td>1993.0</td>\n",
              "      <td>1.0</td>\n",
              "    </tr>\n",
              "    <tr>\n",
              "      <th>TG16</th>\n",
              "      <td>1995.0</td>\n",
              "      <td>1995.0</td>\n",
              "      <td>0.0</td>\n",
              "    </tr>\n",
              "    <tr>\n",
              "      <th>PCFX</th>\n",
              "      <td>1996.0</td>\n",
              "      <td>1996.0</td>\n",
              "      <td>0.0</td>\n",
              "    </tr>\n",
              "    <tr>\n",
              "      <th>GG</th>\n",
              "      <td>1992.0</td>\n",
              "      <td>1992.0</td>\n",
              "      <td>0.0</td>\n",
              "    </tr>\n",
              "  </tbody>\n",
              "</table>\n",
              "</div>"
            ],
            "text/plain": [
              "          max_duration  min_duration  avg_time_platform\n",
              "platform                                               \n",
              "PC              2016.0        1985.0               31.0\n",
              "DS              2013.0        1985.0               28.0\n",
              "GB              2001.0        1988.0               13.0\n",
              "X360            2016.0        2005.0               11.0\n",
              "PSP             2015.0        2004.0               11.0\n",
              "PS2             2011.0        2000.0               11.0\n",
              "NES             1994.0        1983.0               11.0\n",
              "DC              2008.0        1998.0               10.0\n",
              "Wii             2016.0        2006.0               10.0\n",
              "PS3             2016.0        2006.0               10.0\n",
              "2600            1989.0        1980.0                9.0\n",
              "SNES            1999.0        1990.0                9.0\n",
              "PS              2003.0        1994.0                9.0\n",
              "XB              2008.0        2000.0                8.0\n",
              "GBA             2007.0        2000.0                7.0\n",
              "GC              2007.0        2001.0                6.0\n",
              "N64             2002.0        1996.0                6.0\n",
              "3DS             2016.0        2011.0                5.0\n",
              "PSV             2016.0        2011.0                5.0\n",
              "SAT             1999.0        1994.0                5.0\n",
              "WiiU            2016.0        2012.0                4.0\n",
              "GEN             1994.0        1990.0                4.0\n",
              "NG              1996.0        1993.0                3.0\n",
              "XOne            2016.0        2013.0                3.0\n",
              "PS4             2016.0        2013.0                3.0\n",
              "WS              2001.0        1999.0                2.0\n",
              "3DO             1995.0        1994.0                1.0\n",
              "SCD             1994.0        1993.0                1.0\n",
              "TG16            1995.0        1995.0                0.0\n",
              "PCFX            1996.0        1996.0                0.0\n",
              "GG              1992.0        1992.0                0.0"
            ]
          },
          "execution_count": 104,
          "metadata": {},
          "output_type": "execute_result"
        }
      ],
      "source": [
        "# Aqui creamos una pivot_table para observar el tiempo promedio que dura una plataforma siendo popular\n",
        "avg_platform = data.pivot_table(index='platform', values='year_of_release', aggfunc=('max', 'min'))\n",
        "avg_platform.columns = ['max_duration', 'min_duration']\n",
        "avg_platform['avg_time_platform'] = avg_platform['max_duration'] - avg_platform['min_duration']\n",
        "avg_platform.sort_values(by='avg_time_platform', ascending=False)"
      ]
    },
    {
      "cell_type": "markdown",
      "metadata": {
        "id": "N2obAc5blTn8"
      },
      "source": [
        "- En esta tabla hicimos sobre la columna de cuanto tiempo duran las plataformas desde su salida hasta el ultimo juego que sacaron, es decir, cuanto tiempo fueron populares y/o cuanto tiempo tardaron en desaparecer aproximadamente. Podemos observar que encabezando la lista con 31 años está PC e inmediatamente debajo esta DS con 28 años."
      ]
    },
    {
      "cell_type": "code",
      "execution_count": null,
      "metadata": {
        "id": "ZD-JcAeglTn8"
      },
      "outputs": [],
      "source": [
        "# Separamos por los 3 años mas relevantes\n",
        "data_limpio = data.query('year_of_release >= 2013')"
      ]
    },
    {
      "cell_type": "code",
      "execution_count": null,
      "metadata": {
        "id": "qJmDFUSVlTn9",
        "outputId": "41484aee-9d39-43ed-f7b0-fd68aca00e28"
      },
      "outputs": [
        {
          "data": {
            "text/plain": [
              "platform\n",
              "PS4     314.14\n",
              "PS3     181.43\n",
              "XOne    159.32\n",
              "3DS     143.25\n",
              "X360    136.80\n",
              "WiiU     64.63\n",
              "PC       39.43\n",
              "PSV      32.99\n",
              "Wii      13.66\n",
              "PSP       3.50\n",
              "DS        1.54\n",
              "Name: total_sales, dtype: float64"
            ]
          },
          "execution_count": 106,
          "metadata": {},
          "output_type": "execute_result"
        }
      ],
      "source": [
        "# Agrupamos por plataforma y ventas totales, luego ordenamos de mayor a menor.\n",
        "data_limpio.groupby('platform')['total_sales'].sum().sort_values(ascending=False)"
      ]
    },
    {
      "cell_type": "markdown",
      "metadata": {
        "id": "_6TXQYKIlTn9"
      },
      "source": [
        "## Boxplots y analisis"
      ]
    },
    {
      "cell_type": "code",
      "execution_count": null,
      "metadata": {
        "id": "SjIMLGn8lTn9"
      },
      "outputs": [],
      "source": [
        "good_data_limpio = data_limpio.query('platform == \"PS4\" or platform == \"PS3\" or platform == \"XOne\" or platform == \"3DS\" or platform == \"X360\"')"
      ]
    },
    {
      "cell_type": "code",
      "execution_count": null,
      "metadata": {
        "scrolled": true,
        "id": "SlVISR5clTn-",
        "outputId": "346a52f6-254e-41c8-ed37-900550176187"
      },
      "outputs": [
        {
          "data": {
            "text/plain": [
              "<AxesSubplot:title={'center':'total_sales'}, xlabel='platform'>"
            ]
          },
          "execution_count": 108,
          "metadata": {},
          "output_type": "execute_result"
        },
        {
          "data": {
            "image/png": "[encoded data removed]",
            "text/plain": [
              "<Figure size 1440x864 with 1 Axes>"
            ]
          },
          "metadata": {
            "needs_background": "light"
          },
          "output_type": "display_data"
        }
      ],
      "source": [
        "# Aqui se crea un diagrama de caja para las ventas globales de los juegos por plataforma.\n",
        "good_data_limpio.boxplot(by='platform', column='total_sales', figsize=(20,12))"
      ]
    },
    {
      "cell_type": "markdown",
      "metadata": {
        "id": "YyyZDzyhlTn-"
      },
      "source": [
        "- Como podemos observar en estos diagramas de caja vemos que existen muchos datos atipicos que pudieramos eliminar para tener una nocion mas clara de las medias y medianas de cada plataforma por juegos."
      ]
    },
    {
      "cell_type": "code",
      "execution_count": null,
      "metadata": {
        "id": "9XUlDchSlTn_"
      },
      "outputs": [],
      "source": [
        "filtered_data = good_data_limpio.copy()\n",
        "def remove_outliers(filtered_data, nombre_col):\n",
        "    q1 = filtered_data[nombre_col].quantile(0.25)\n",
        "    q3 = filtered_data[nombre_col].quantile(0.75)\n",
        "    iqr = q3 - q1\n",
        "    lower = int(q1 - (1.5*iqr))\n",
        "    upper = int(q3 + (1.5*iqr))\n",
        "    return data.query(f'@lower <= {nombre_col} <= @upper')\n",
        "good_data = remove_outliers(filtered_data, 'total_sales')"
      ]
    },
    {
      "cell_type": "code",
      "execution_count": null,
      "metadata": {
        "id": "b6qJ3S8ZlTn_",
        "outputId": "d288c37f-ece6-499c-f698-a77dfb6bc6a4"
      },
      "outputs": [
        {
          "data": {
            "text/html": [
              "<div>\n",
              "<style scoped>\n",
              "    .dataframe tbody tr th:only-of-type {\n",
              "        vertical-align: middle;\n",
              "    }\n",
              "\n",
              "    .dataframe tbody tr th {\n",
              "        vertical-align: top;\n",
              "    }\n",
              "\n",
              "    .dataframe thead th {\n",
              "        text-align: right;\n",
              "    }\n",
              "</style>\n",
              "<table border=\"1\" class=\"dataframe\">\n",
              "  <thead>\n",
              "    <tr style=\"text-align: right;\">\n",
              "      <th></th>\n",
              "      <th>name</th>\n",
              "      <th>platform</th>\n",
              "      <th>year_of_release</th>\n",
              "      <th>genre</th>\n",
              "      <th>na_sales</th>\n",
              "      <th>eu_sales</th>\n",
              "      <th>jp_sales</th>\n",
              "      <th>other_sales</th>\n",
              "      <th>critic_score</th>\n",
              "      <th>user_score</th>\n",
              "      <th>rating</th>\n",
              "      <th>total_sales</th>\n",
              "    </tr>\n",
              "  </thead>\n",
              "  <tbody>\n",
              "    <tr>\n",
              "      <th>0</th>\n",
              "      <td>Just Dance 2014</td>\n",
              "      <td>X360</td>\n",
              "      <td>2013.0</td>\n",
              "      <td>Misc</td>\n",
              "      <td>0.72</td>\n",
              "      <td>0.17</td>\n",
              "      <td>0.00</td>\n",
              "      <td>0.10</td>\n",
              "      <td>79.0</td>\n",
              "      <td>7.8</td>\n",
              "      <td>E10+</td>\n",
              "      <td>0.99</td>\n",
              "    </tr>\n",
              "    <tr>\n",
              "      <th>1</th>\n",
              "      <td>Final Fantasy Type-0</td>\n",
              "      <td>PS4</td>\n",
              "      <td>2015.0</td>\n",
              "      <td>Role-Playing</td>\n",
              "      <td>0.37</td>\n",
              "      <td>0.32</td>\n",
              "      <td>0.15</td>\n",
              "      <td>0.14</td>\n",
              "      <td>NaN</td>\n",
              "      <td>NaN</td>\n",
              "      <td>RP</td>\n",
              "      <td>0.98</td>\n",
              "    </tr>\n",
              "    <tr>\n",
              "      <th>2</th>\n",
              "      <td>Dead Space 3</td>\n",
              "      <td>X360</td>\n",
              "      <td>2013.0</td>\n",
              "      <td>Action</td>\n",
              "      <td>0.64</td>\n",
              "      <td>0.26</td>\n",
              "      <td>0.00</td>\n",
              "      <td>0.08</td>\n",
              "      <td>78.0</td>\n",
              "      <td>6.4</td>\n",
              "      <td>M</td>\n",
              "      <td>0.98</td>\n",
              "    </tr>\n",
              "    <tr>\n",
              "      <th>3</th>\n",
              "      <td>Rocksmith 2014</td>\n",
              "      <td>PS3</td>\n",
              "      <td>2013.0</td>\n",
              "      <td>Misc</td>\n",
              "      <td>0.53</td>\n",
              "      <td>0.24</td>\n",
              "      <td>0.05</td>\n",
              "      <td>0.16</td>\n",
              "      <td>NaN</td>\n",
              "      <td>NaN</td>\n",
              "      <td>RP</td>\n",
              "      <td>0.98</td>\n",
              "    </tr>\n",
              "    <tr>\n",
              "      <th>4</th>\n",
              "      <td>Tom Clancy's Splinter Cell: Blacklist</td>\n",
              "      <td>X360</td>\n",
              "      <td>2013.0</td>\n",
              "      <td>Action</td>\n",
              "      <td>0.57</td>\n",
              "      <td>0.32</td>\n",
              "      <td>0.01</td>\n",
              "      <td>0.08</td>\n",
              "      <td>82.0</td>\n",
              "      <td>7.5</td>\n",
              "      <td>M</td>\n",
              "      <td>0.98</td>\n",
              "    </tr>\n",
              "    <tr>\n",
              "      <th>...</th>\n",
              "      <td>...</td>\n",
              "      <td>...</td>\n",
              "      <td>...</td>\n",
              "      <td>...</td>\n",
              "      <td>...</td>\n",
              "      <td>...</td>\n",
              "      <td>...</td>\n",
              "      <td>...</td>\n",
              "      <td>...</td>\n",
              "      <td>...</td>\n",
              "      <td>...</td>\n",
              "      <td>...</td>\n",
              "    </tr>\n",
              "    <tr>\n",
              "      <th>1239</th>\n",
              "      <td>Metal Gear Solid V: The Definitive Experience</td>\n",
              "      <td>XOne</td>\n",
              "      <td>2016.0</td>\n",
              "      <td>Action</td>\n",
              "      <td>0.01</td>\n",
              "      <td>0.00</td>\n",
              "      <td>0.00</td>\n",
              "      <td>0.00</td>\n",
              "      <td>NaN</td>\n",
              "      <td>NaN</td>\n",
              "      <td>M</td>\n",
              "      <td>0.01</td>\n",
              "    </tr>\n",
              "    <tr>\n",
              "      <th>1240</th>\n",
              "      <td>Tsukigime Ranko's Longest Day</td>\n",
              "      <td>PS3</td>\n",
              "      <td>2014.0</td>\n",
              "      <td>Action</td>\n",
              "      <td>0.00</td>\n",
              "      <td>0.01</td>\n",
              "      <td>0.00</td>\n",
              "      <td>0.00</td>\n",
              "      <td>NaN</td>\n",
              "      <td>NaN</td>\n",
              "      <td>RP</td>\n",
              "      <td>0.01</td>\n",
              "    </tr>\n",
              "    <tr>\n",
              "      <th>1241</th>\n",
              "      <td>Aikatsu Stars! My Special Appeal</td>\n",
              "      <td>3DS</td>\n",
              "      <td>2016.0</td>\n",
              "      <td>Action</td>\n",
              "      <td>0.00</td>\n",
              "      <td>0.00</td>\n",
              "      <td>0.01</td>\n",
              "      <td>0.00</td>\n",
              "      <td>NaN</td>\n",
              "      <td>NaN</td>\n",
              "      <td>RP</td>\n",
              "      <td>0.01</td>\n",
              "    </tr>\n",
              "    <tr>\n",
              "      <th>1242</th>\n",
              "      <td>Dynasty Warriors: Eiketsuden</td>\n",
              "      <td>PS3</td>\n",
              "      <td>2016.0</td>\n",
              "      <td>Action</td>\n",
              "      <td>0.00</td>\n",
              "      <td>0.00</td>\n",
              "      <td>0.01</td>\n",
              "      <td>0.00</td>\n",
              "      <td>NaN</td>\n",
              "      <td>NaN</td>\n",
              "      <td>RP</td>\n",
              "      <td>0.01</td>\n",
              "    </tr>\n",
              "    <tr>\n",
              "      <th>1243</th>\n",
              "      <td>Samurai Warriors: Sanada Maru</td>\n",
              "      <td>PS3</td>\n",
              "      <td>2016.0</td>\n",
              "      <td>Action</td>\n",
              "      <td>0.00</td>\n",
              "      <td>0.00</td>\n",
              "      <td>0.01</td>\n",
              "      <td>0.00</td>\n",
              "      <td>NaN</td>\n",
              "      <td>NaN</td>\n",
              "      <td>RP</td>\n",
              "      <td>0.01</td>\n",
              "    </tr>\n",
              "  </tbody>\n",
              "</table>\n",
              "<p>1244 rows × 12 columns</p>\n",
              "</div>"
            ],
            "text/plain": [
              "                                               name platform  year_of_release  \\\n",
              "0                                   Just Dance 2014     X360           2013.0   \n",
              "1                              Final Fantasy Type-0      PS4           2015.0   \n",
              "2                                      Dead Space 3     X360           2013.0   \n",
              "3                                    Rocksmith 2014      PS3           2013.0   \n",
              "4             Tom Clancy's Splinter Cell: Blacklist     X360           2013.0   \n",
              "...                                             ...      ...              ...   \n",
              "1239  Metal Gear Solid V: The Definitive Experience     XOne           2016.0   \n",
              "1240                  Tsukigime Ranko's Longest Day      PS3           2014.0   \n",
              "1241               Aikatsu Stars! My Special Appeal      3DS           2016.0   \n",
              "1242                   Dynasty Warriors: Eiketsuden      PS3           2016.0   \n",
              "1243                  Samurai Warriors: Sanada Maru      PS3           2016.0   \n",
              "\n",
              "             genre  na_sales  eu_sales  jp_sales  other_sales  critic_score  \\\n",
              "0             Misc      0.72      0.17      0.00         0.10          79.0   \n",
              "1     Role-Playing      0.37      0.32      0.15         0.14           NaN   \n",
              "2           Action      0.64      0.26      0.00         0.08          78.0   \n",
              "3             Misc      0.53      0.24      0.05         0.16           NaN   \n",
              "4           Action      0.57      0.32      0.01         0.08          82.0   \n",
              "...            ...       ...       ...       ...          ...           ...   \n",
              "1239        Action      0.01      0.00      0.00         0.00           NaN   \n",
              "1240        Action      0.00      0.01      0.00         0.00           NaN   \n",
              "1241        Action      0.00      0.00      0.01         0.00           NaN   \n",
              "1242        Action      0.00      0.00      0.01         0.00           NaN   \n",
              "1243        Action      0.00      0.00      0.01         0.00           NaN   \n",
              "\n",
              "      user_score rating  total_sales  \n",
              "0            7.8   E10+         0.99  \n",
              "1            NaN     RP         0.98  \n",
              "2            6.4      M         0.98  \n",
              "3            NaN     RP         0.98  \n",
              "4            7.5      M         0.98  \n",
              "...          ...    ...          ...  \n",
              "1239         NaN      M         0.01  \n",
              "1240         NaN     RP         0.01  \n",
              "1241         NaN     RP         0.01  \n",
              "1242         NaN     RP         0.01  \n",
              "1243         NaN     RP         0.01  \n",
              "\n",
              "[1244 rows x 12 columns]"
            ]
          },
          "execution_count": 110,
          "metadata": {},
          "output_type": "execute_result"
        }
      ],
      "source": [
        "datos_limpios = good_data.merge(good_data_limpio)\n",
        "datos_limpios"
      ]
    },
    {
      "cell_type": "code",
      "execution_count": null,
      "metadata": {
        "id": "rSFg_IlclToA",
        "outputId": "710c54d4-b9af-432a-ea26-71d97b9d95fb"
      },
      "outputs": [
        {
          "data": {
            "text/plain": [
              "<AxesSubplot:title={'center':'total_sales'}, xlabel='platform'>"
            ]
          },
          "execution_count": 111,
          "metadata": {},
          "output_type": "execute_result"
        },
        {
          "data": {
            "image/png": "[encoded data removed]",
            "text/plain": [
              "<Figure size 1440x864 with 1 Axes>"
            ]
          },
          "metadata": {
            "needs_background": "light"
          },
          "output_type": "display_data"
        }
      ],
      "source": [
        "datos_limpios.boxplot(by='platform', column='total_sales', figsize=(20,12))"
      ]
    },
    {
      "cell_type": "markdown",
      "metadata": {
        "id": "xfc1WixblToB"
      },
      "source": [
        "- Aqui realizamos un boxplot con los datos sin datos atipicos para observar mejor los cuartiles de las plataformas y sus juegos con respecto a ventas totales."
      ]
    },
    {
      "cell_type": "code",
      "execution_count": null,
      "metadata": {
        "id": "mt9nF2mtlToB",
        "outputId": "7078a128-4dc0-466b-a92d-486e9386ddd2"
      },
      "outputs": [
        {
          "data": {
            "text/plain": [
              "<AxesSubplot:xlabel='user_score', ylabel='total_sales'>"
            ]
          },
          "execution_count": 112,
          "metadata": {},
          "output_type": "execute_result"
        },
        {
          "data": {
            "image/png": "[encoded data removed]",
            "text/plain": [
              "<Figure size 1440x864 with 1 Axes>"
            ]
          },
          "metadata": {
            "needs_background": "light"
          },
          "output_type": "display_data"
        }
      ],
      "source": [
        "# Aqui observamos un diagrama de dispersion con respecto a la plataforma X360 y user_score\n",
        "good_data_x360 = datos_limpios.query('platform == \"X360\"').sort_values(by='user_score')\n",
        "good_data_x360.plot(kind='scatter', y='total_sales', x='user_score', figsize=(20,12))"
      ]
    },
    {
      "cell_type": "markdown",
      "metadata": {
        "id": "7CTQEKfClToC"
      },
      "source": [
        "- Segun este grafico de dispersion observamos que para la plataforma x360 observamos que tras eliminar valores atipicos los datos no se conglomeran lo cual nos indica que la mayoria de ventas no tienen relacion con la calificacion de los usuarios."
      ]
    },
    {
      "cell_type": "code",
      "execution_count": null,
      "metadata": {
        "id": "u9ViXktrlToD",
        "outputId": "9c6a1691-5637-44ff-a813-31e761011903"
      },
      "outputs": [
        {
          "data": {
            "text/plain": [
              "0.10209052181585158"
            ]
          },
          "execution_count": 113,
          "metadata": {},
          "output_type": "execute_result"
        }
      ],
      "source": [
        "good_data_x360['total_sales'].corr(good_data_x360['user_score'])"
      ]
    },
    {
      "cell_type": "markdown",
      "metadata": {
        "id": "cJ6iuDoslToE"
      },
      "source": [
        "- Aqui calculamos el factor de correlacion entre las ventas totales y las criticas de los usuarios y observamos que no existe correlacion entre ambos."
      ]
    },
    {
      "cell_type": "code",
      "execution_count": null,
      "metadata": {
        "id": "IBM5ZgDAlToE",
        "outputId": "4544a2ac-b795-4dd6-b6f0-9cf96de71454"
      },
      "outputs": [
        {
          "data": {
            "text/plain": [
              "<AxesSubplot:xlabel='critic_score', ylabel='total_sales'>"
            ]
          },
          "execution_count": 114,
          "metadata": {},
          "output_type": "execute_result"
        },
        {
          "data": {
            "image/png": "[encoded data removed]",
            "text/plain": [
              "<Figure size 1440x864 with 1 Axes>"
            ]
          },
          "metadata": {
            "needs_background": "light"
          },
          "output_type": "display_data"
        }
      ],
      "source": [
        "# Aqui observamos un diagrama de dispersion con respecto a la plataforma X360 y critic_score\n",
        "good_data_x360_1 = datos_limpios.query('platform == \"X360\"').sort_values(by='critic_score')\n",
        "good_data_x360_1.plot(kind='scatter', y='total_sales', x='critic_score', figsize=(20,12))"
      ]
    },
    {
      "cell_type": "markdown",
      "metadata": {
        "id": "DwGLvVIglToF"
      },
      "source": [
        "- Segun este grafico de dispersion observamos que para la plataforma x360 observamos que tras eliminar valores atipicos los datos no se conglomeran en ningun lugar, lo cual nos indica que la mayoria de ventas no tienen relacion con la calificacion de los criticos."
      ]
    },
    {
      "cell_type": "code",
      "execution_count": null,
      "metadata": {
        "id": "1pq2ldKDlToF",
        "outputId": "679809fd-57ba-4929-d432-193d8f44c947"
      },
      "outputs": [
        {
          "data": {
            "text/plain": [
              "0.3947978947637919"
            ]
          },
          "execution_count": 115,
          "metadata": {},
          "output_type": "execute_result"
        }
      ],
      "source": [
        "good_data_x360['total_sales'].corr(good_data_x360['critic_score'])"
      ]
    },
    {
      "cell_type": "markdown",
      "metadata": {
        "id": "kR2lli2_lToG"
      },
      "source": [
        "- Aqui calculamos el factor de correlacion entre las ventas totales y las criticas de los criticos, valga la redundancia, y observamos que no existe correlacion entre ambos."
      ]
    },
    {
      "cell_type": "markdown",
      "metadata": {
        "id": "ktBLnfsFlToG"
      },
      "source": [
        "## Comparar mismos juegos en otras plataformas"
      ]
    },
    {
      "cell_type": "code",
      "execution_count": null,
      "metadata": {
        "id": "wAfHKjhilToH"
      },
      "outputs": [],
      "source": [
        "lego_jw = datos_limpios.query('name == \"LEGO Jurassic World\"')\n",
        "lego_jw_pivot = datos_limpios.pivot_table(values='total_sales', columns='platform')\n",
        "total_sales = datos_limpios['total_sales']"
      ]
    },
    {
      "cell_type": "code",
      "execution_count": null,
      "metadata": {
        "id": "5cDs00kjlToH",
        "outputId": "672be191-b88b-4ffa-c2e4-ddfbd1bbeebc"
      },
      "outputs": [
        {
          "data": {
            "text/plain": [
              "<AxesSubplot:>"
            ]
          },
          "execution_count": 117,
          "metadata": {},
          "output_type": "execute_result"
        },
        {
          "data": {
            "image/png": "[encoded data removed]",
            "text/plain": [
              "<Figure size 1440x864 with 1 Axes>"
            ]
          },
          "metadata": {
            "needs_background": "light"
          },
          "output_type": "display_data"
        }
      ],
      "source": [
        "lego_jw_pivot.plot(kind='bar', figsize=(20,12), grid=True)"
      ]
    },
    {
      "cell_type": "code",
      "execution_count": null,
      "metadata": {
        "id": "IwTnz3XMlToJ",
        "outputId": "acb54831-13e7-4c45-e773-4a8a3318df41"
      },
      "outputs": [
        {
          "data": {
            "text/plain": [
              "<AxesSubplot:xlabel='genre'>"
            ]
          },
          "execution_count": 118,
          "metadata": {},
          "output_type": "execute_result"
        },
        {
          "data": {
            "image/png": "[encoded data removed]",
            "text/plain": [
              "<Figure size 432x288 with 1 Axes>"
            ]
          },
          "metadata": {
            "needs_background": "light"
          },
          "output_type": "display_data"
        }
      ],
      "source": [
        "generos = datos_limpios.groupby('genre')['total_sales'].sum().sort_values(ascending=False).plot(kind='bar',y='genre')\n",
        "generos"
      ]
    },
    {
      "cell_type": "markdown",
      "metadata": {
        "id": "QejmtlIBlToK"
      },
      "source": [
        "- El genero con mas ventas son los juegos de accion, se puede observar una tendencia con respecto a a que los juegos mas estrategicos o de resolver acertijos son menos atractivos que los de accion."
      ]
    },
    {
      "cell_type": "markdown",
      "metadata": {
        "id": "r56w5aIblToL"
      },
      "source": [
        "# Se crea un perfil de usuario para cada región"
      ]
    },
    {
      "cell_type": "markdown",
      "metadata": {
        "id": "qtsoF4e2lToL"
      },
      "source": [
        "## Perfil NA"
      ]
    },
    {
      "cell_type": "code",
      "execution_count": null,
      "metadata": {
        "id": "M6oQAvHNlToM"
      },
      "outputs": [],
      "source": [
        "# Aqui se revisan las cinco plataformas principales\n",
        "na_data = datos_limpios.drop(columns=['eu_sales', 'jp_sales', 'other_sales'])"
      ]
    },
    {
      "cell_type": "code",
      "execution_count": null,
      "metadata": {
        "id": "J9IKaA9flToM",
        "outputId": "6c05058d-727e-4ea2-c7e2-2df6a80e3d2c"
      },
      "outputs": [
        {
          "data": {
            "text/plain": [
              "<AxesSubplot:xlabel='platform'>"
            ]
          },
          "execution_count": 120,
          "metadata": {},
          "output_type": "execute_result"
        },
        {
          "data": {
            "image/png": "[encoded data removed]",
            "text/plain": [
              "<Figure size 432x288 with 1 Axes>"
            ]
          },
          "metadata": {
            "needs_background": "light"
          },
          "output_type": "display_data"
        }
      ],
      "source": [
        "na_data.groupby('platform')['na_sales'].sum().sort_values(ascending=False).plot(kind='bar',y='platform')"
      ]
    },
    {
      "cell_type": "code",
      "execution_count": null,
      "metadata": {
        "id": "Qkcfnd7xlToM",
        "outputId": "6e466248-13f9-4904-eafa-397b01302f4c"
      },
      "outputs": [
        {
          "data": {
            "text/plain": [
              "0.016702228768829937"
            ]
          },
          "execution_count": 121,
          "metadata": {},
          "output_type": "execute_result"
        }
      ],
      "source": [
        "# Aqui se calcula la varianza para las cuotas de mercado en NA.\n",
        "np.var(na_data['na_sales'])"
      ]
    },
    {
      "cell_type": "code",
      "execution_count": null,
      "metadata": {
        "id": "UnBYVQMilToN",
        "outputId": "e1d5848a-ab6a-40f1-cf91-e10d64918fc5"
      },
      "outputs": [
        {
          "data": {
            "text/plain": [
              "<AxesSubplot:xlabel='genre'>"
            ]
          },
          "execution_count": 122,
          "metadata": {},
          "output_type": "execute_result"
        },
        {
          "data": {
            "image/png": "[encoded data removed]",
            "text/plain": [
              "<Figure size 432x288 with 1 Axes>"
            ]
          },
          "metadata": {
            "needs_background": "light"
          },
          "output_type": "display_data"
        }
      ],
      "source": [
        "# Aqui se agrupan los datos por ventas dependiendo del genero del juego para la region.\n",
        "na_data.groupby('genre')['na_sales'].sum().sort_values(ascending=False).plot(kind='bar')"
      ]
    },
    {
      "cell_type": "markdown",
      "metadata": {
        "id": "MD5jEs6YlToN"
      },
      "source": [
        "- Los 5 generos mas populares son action, sports, shooter, Role-playing y misc para la region de NA."
      ]
    },
    {
      "cell_type": "code",
      "execution_count": null,
      "metadata": {
        "id": "5GXo_paMlToN",
        "outputId": "add4f2a1-d9fc-4e56-969e-d581e84a1bb6"
      },
      "outputs": [
        {
          "data": {
            "text/plain": [
              "<AxesSubplot:xlabel='rating'>"
            ]
          },
          "execution_count": 123,
          "metadata": {},
          "output_type": "execute_result"
        },
        {
          "data": {
            "image/png": "[encoded data removed]",
            "text/plain": [
              "<Figure size 432x288 with 1 Axes>"
            ]
          },
          "metadata": {
            "needs_background": "light"
          },
          "output_type": "display_data"
        }
      ],
      "source": [
        "# Aqui se agrupan los datos de ventas por calficiacion de ESRB.\n",
        "na_data.groupby('rating')['na_sales'].sum().sort_values(ascending=False).plot(kind='bar')"
      ]
    },
    {
      "cell_type": "markdown",
      "metadata": {
        "id": "xi3NCW2rlToO"
      },
      "source": [
        "- En este grafico de barras podemos osbervar que la calificacion mas popular es M que significa mature seguida por E10+ que significa Everybody above 10 years old."
      ]
    },
    {
      "cell_type": "markdown",
      "metadata": {
        "id": "olvFsRjplToO"
      },
      "source": [
        "## Perfil EU"
      ]
    },
    {
      "cell_type": "code",
      "execution_count": null,
      "metadata": {
        "id": "EhiT5NKolToO"
      },
      "outputs": [],
      "source": [
        "eu_data = datos_limpios.drop(columns=['na_sales', 'jp_sales', 'other_sales'])"
      ]
    },
    {
      "cell_type": "code",
      "execution_count": null,
      "metadata": {
        "id": "knQ5uGmWlToO",
        "outputId": "ff6d0475-7689-4af7-c063-a9afb40994a3"
      },
      "outputs": [
        {
          "data": {
            "text/plain": [
              "<AxesSubplot:xlabel='platform'>"
            ]
          },
          "execution_count": 125,
          "metadata": {},
          "output_type": "execute_result"
        },
        {
          "data": {
            "image/png": "[encoded data removed]",
            "text/plain": [
              "<Figure size 432x288 with 1 Axes>"
            ]
          },
          "metadata": {
            "needs_background": "light"
          },
          "output_type": "display_data"
        }
      ],
      "source": [
        "eu_data.groupby('platform')['eu_sales'].sum().sort_values(ascending=False).plot(kind='bar',y='platform')"
      ]
    },
    {
      "cell_type": "code",
      "execution_count": null,
      "metadata": {
        "id": "yYy3VRH8lToP",
        "outputId": "5d0014b2-b4f3-44bb-aba4-7d758e35d02c"
      },
      "outputs": [
        {
          "data": {
            "text/plain": [
              "0.009920023766813826"
            ]
          },
          "execution_count": 126,
          "metadata": {},
          "output_type": "execute_result"
        }
      ],
      "source": [
        "# Aqui se calcula la varianza para las cuotas de mercado en EU.\n",
        "np.var(eu_data['eu_sales'])"
      ]
    },
    {
      "cell_type": "code",
      "execution_count": null,
      "metadata": {
        "id": "JYBfJp9plToP",
        "outputId": "b42ada15-5ef8-4f99-a637-fbac78fd32bc"
      },
      "outputs": [
        {
          "data": {
            "text/plain": [
              "<AxesSubplot:xlabel='genre'>"
            ]
          },
          "execution_count": 127,
          "metadata": {},
          "output_type": "execute_result"
        },
        {
          "data": {
            "image/png": "[encoded data removed]",
            "text/plain": [
              "<Figure size 432x288 with 1 Axes>"
            ]
          },
          "metadata": {
            "needs_background": "light"
          },
          "output_type": "display_data"
        }
      ],
      "source": [
        "# Aqui se agrupan los datos por ventas dependiendo del genero del juego para la region.\n",
        "eu_data.groupby('genre')['eu_sales'].sum().sort_values(ascending=False).plot(kind='bar')"
      ]
    },
    {
      "cell_type": "markdown",
      "metadata": {
        "id": "ot6XBVUflToQ"
      },
      "source": [
        "- Los 5 generos mas populares son action, shooter, sports, role-playing y racing para la region de EU."
      ]
    },
    {
      "cell_type": "code",
      "execution_count": null,
      "metadata": {
        "id": "GpRWL5NzlToQ",
        "outputId": "20f5f4b4-93cb-4922-93ec-172dc2d1477e"
      },
      "outputs": [
        {
          "data": {
            "text/plain": [
              "<AxesSubplot:xlabel='rating'>"
            ]
          },
          "execution_count": 128,
          "metadata": {},
          "output_type": "execute_result"
        },
        {
          "data": {
            "image/png": "[encoded data removed]",
            "text/plain": [
              "<Figure size 432x288 with 1 Axes>"
            ]
          },
          "metadata": {
            "needs_background": "light"
          },
          "output_type": "display_data"
        }
      ],
      "source": [
        "# Aqui se agrupan los datos de ventas por calficiacion de ESRB.\n",
        "eu_data.groupby('rating')['eu_sales'].sum().sort_values(ascending=False).plot(kind='bar')"
      ]
    },
    {
      "cell_type": "markdown",
      "metadata": {
        "id": "5pa1chHTlToQ"
      },
      "source": [
        "- En este grafico de barras podemos osbervar que la calificacion mas popular es E que significa everybody seguida por RP que significa rating pending."
      ]
    },
    {
      "cell_type": "markdown",
      "metadata": {
        "id": "Dd3mttWQlToR"
      },
      "source": [
        "## Perfil JP"
      ]
    },
    {
      "cell_type": "code",
      "execution_count": null,
      "metadata": {
        "id": "vrvLfS_UlToR"
      },
      "outputs": [],
      "source": [
        "jp_data = datos_limpios.drop(columns=['eu_sales', 'na_sales', 'other_sales'])"
      ]
    },
    {
      "cell_type": "code",
      "execution_count": null,
      "metadata": {
        "id": "zt9qeKV2lToS",
        "outputId": "ea0e2822-4ad0-49af-b66d-31ffef4cdf95"
      },
      "outputs": [
        {
          "data": {
            "text/plain": [
              "<AxesSubplot:xlabel='platform'>"
            ]
          },
          "execution_count": 130,
          "metadata": {},
          "output_type": "execute_result"
        },
        {
          "data": {
            "image/png": "[encoded data removed]",
            "text/plain": [
              "<Figure size 432x288 with 1 Axes>"
            ]
          },
          "metadata": {
            "needs_background": "light"
          },
          "output_type": "display_data"
        }
      ],
      "source": [
        "jp_data.groupby('platform')['jp_sales'].sum().sort_values(ascending=False).plot(kind='bar',y='platform')"
      ]
    },
    {
      "cell_type": "code",
      "execution_count": null,
      "metadata": {
        "id": "bBObEkG_lToS",
        "outputId": "64cd3fb9-39dc-4d97-fcb2-c7bfda3a59e9"
      },
      "outputs": [
        {
          "data": {
            "text/plain": [
              "0.007456144994365237"
            ]
          },
          "execution_count": 131,
          "metadata": {},
          "output_type": "execute_result"
        }
      ],
      "source": [
        "# Aqui se calcula la varianza para las cuotas de mercado en JP.\n",
        "np.var(jp_data['jp_sales'])"
      ]
    },
    {
      "cell_type": "code",
      "execution_count": null,
      "metadata": {
        "id": "p1_VofMglToS",
        "outputId": "5dd97119-7c9f-4a8c-98c2-6a3a425958f2"
      },
      "outputs": [
        {
          "data": {
            "text/plain": [
              "<AxesSubplot:xlabel='genre'>"
            ]
          },
          "execution_count": 132,
          "metadata": {},
          "output_type": "execute_result"
        },
        {
          "data": {
            "image/png": "[encoded data removed]",
            "text/plain": [
              "<Figure size 432x288 with 1 Axes>"
            ]
          },
          "metadata": {
            "needs_background": "light"
          },
          "output_type": "display_data"
        }
      ],
      "source": [
        "# Aqui se agrupan los datos por ventas dependiendo del genero del juego para la region.\n",
        "jp_data.groupby('genre')['jp_sales'].sum().sort_values(ascending=False).plot(kind='bar')"
      ]
    },
    {
      "cell_type": "markdown",
      "metadata": {
        "id": "rvK-Sjv7lToT"
      },
      "source": [
        "- Los 5 generos mas populares son Action, Role-playing, fighting, sports y misc para la region de JP."
      ]
    },
    {
      "cell_type": "code",
      "execution_count": null,
      "metadata": {
        "id": "gw8U0I_klToT",
        "outputId": "78db8f9d-4a93-41d5-9b43-39cf9ef83416"
      },
      "outputs": [
        {
          "data": {
            "text/plain": [
              "<AxesSubplot:xlabel='rating'>"
            ]
          },
          "execution_count": 133,
          "metadata": {},
          "output_type": "execute_result"
        },
        {
          "data": {
            "image/png": "[encoded data removed]",
            "text/plain": [
              "<Figure size 432x288 with 1 Axes>"
            ]
          },
          "metadata": {
            "needs_background": "light"
          },
          "output_type": "display_data"
        }
      ],
      "source": [
        "# Aqui se agrupan los datos de ventas por calficiacion de ESRB.\n",
        "jp_data.groupby('rating')['jp_sales'].sum().sort_values(ascending=False).plot(kind='bar')"
      ]
    },
    {
      "cell_type": "markdown",
      "metadata": {
        "id": "qkv89ylLlToT"
      },
      "source": [
        "- En este grafico de barras podemos osbervar que la calificacion mas popular es RP que significa rating pending con la mayoria de datos, seguido están T que es teens solo para adolescentes."
      ]
    },
    {
      "cell_type": "markdown",
      "metadata": {
        "id": "gpmTVTublToU"
      },
      "source": [
        "## Conclusiones de la seccion"
      ]
    },
    {
      "cell_type": "markdown",
      "metadata": {
        "id": "7s1cRMqdlToU"
      },
      "source": [
        "- Como podemos observar en esta seccion se comparo la varianza de las diferentes zonas de nuestra base de datos, todas se aproximan a cero lo que indica que las puntuaciones son casi iguales. De igual manera podemos observar en los generos mas populares de todas las regiones son action, sports y misc que se repiten en el top 5 entre todas las regiones. Asi como tambien prevalece la calificacion de E para las regiones de NA y EU siendo diferentes solo JP con la mayoria de sus clasificaciones en RP."
      ]
    },
    {
      "cell_type": "markdown",
      "metadata": {
        "id": "xJsuAIPZlToU"
      },
      "source": [
        "# Prueba las hipotesis"
      ]
    },
    {
      "cell_type": "markdown",
      "metadata": {
        "id": "nGD_TcnNlToU"
      },
      "source": [
        "- H₀ = La media de calificaciones es igual para Xbox One y PC.\n",
        "- H₁ = La media de calificaciones NO es igual para Xbox One y PC."
      ]
    },
    {
      "cell_type": "code",
      "execution_count": null,
      "metadata": {
        "id": "4hncjr18lToV"
      },
      "outputs": [],
      "source": [
        "consola_xone = data[data['platform']=='XOne']\n",
        "calificacion_xone = consola_xone['user_score']\n",
        "consola_pc = data[data['platform']=='PC']\n",
        "calificacion_pc = consola_pc['user_score']"
      ]
    },
    {
      "cell_type": "code",
      "execution_count": null,
      "metadata": {
        "id": "Kf3NLGUclToV",
        "outputId": "9c7c71f7-393b-4212-850e-6623fa0388ed"
      },
      "outputs": [
        {
          "data": {
            "text/plain": [
              "LeveneResult(statistic=3.166249609271464, pvalue=0.07549452472407711)"
            ]
          },
          "execution_count": 135,
          "metadata": {},
          "output_type": "execute_result"
        }
      ],
      "source": [
        "# Realizamos prueba de levene para comprobar que las varianzas no son iguales.\n",
        "calificacion_xone_sinna = calificacion_xone.dropna()\n",
        "calificacion_pc_sinna = calificacion_pc.dropna()\n",
        "st.levene(calificacion_xone_sinna, calificacion_pc_sinna, center='mean')"
      ]
    },
    {
      "cell_type": "code",
      "execution_count": null,
      "metadata": {
        "id": "zZ4aqHnFlToV",
        "outputId": "b473f79f-0c56-4ef7-de9f-a0282bcf60c4"
      },
      "outputs": [
        {
          "name": "stdout",
          "output_type": "stream",
          "text": [
            "p-value:  1.3896435533548819e-05\n",
            "Rechazamos la hipótesis nula\n"
          ]
        }
      ],
      "source": [
        "# Prueba las hipótesis\n",
        "alpha = 0.05\n",
        "results = st.ttest_ind(calificacion_xone, calificacion_pc, equal_var=True, nan_policy='omit')\n",
        "print('p-value: ', results.pvalue)\n",
        "\n",
        "if results.pvalue < alpha:\n",
        "    print('Rechazamos la hipótesis nula')\n",
        "else:\n",
        "    print(\"No rechazamos la hipótesis nula\")"
      ]
    },
    {
      "cell_type": "markdown",
      "metadata": {
        "id": "4NFxMAKdlToW"
      },
      "source": [
        "- Como podemos observar tras realizar un analisis estadistico de las calificaciones de los usuarios para ambas consolas y declarar nuestras hipotesis nos encontramos con que tenemos suficiente evidencia para rechazar la hipotesis nula, lo que quiere decir que aceptamos la hipotesis alternativa que en este caso implica que la media no es igual para ambos planes."
      ]
    },
    {
      "cell_type": "markdown",
      "metadata": {
        "id": "B34QUzsRlToW"
      },
      "source": [
        "- H₀ = La media de calificaciones es igual para los generos de Accion y Deportes.\n",
        "- H₁ = La media de calificaciones NO es igual para los generos de Accion y Deportes."
      ]
    },
    {
      "cell_type": "code",
      "execution_count": null,
      "metadata": {
        "id": "jsLB1nzMlToW"
      },
      "outputs": [],
      "source": [
        "genre_action = data[data['genre']=='Action']\n",
        "calificacion_action = genre_action['user_score']\n",
        "genre_sports = data[data['genre']=='Sports']\n",
        "calificacion_sports = genre_sports['user_score']"
      ]
    },
    {
      "cell_type": "code",
      "execution_count": null,
      "metadata": {
        "id": "jDZi-0JnlToW",
        "outputId": "2bae6b98-f42c-4095-e426-817fcdd4a951"
      },
      "outputs": [
        {
          "data": {
            "text/plain": [
              "LeveneResult(statistic=20.782708914183328, pvalue=5.355232768512743e-06)"
            ]
          },
          "execution_count": 138,
          "metadata": {},
          "output_type": "execute_result"
        }
      ],
      "source": [
        "# Realizamos prueba de levene para comprobar que las varianzas no son iguales.\n",
        "calificacion_action_sinna = calificacion_action.dropna()\n",
        "calificacion_sports_sinna = calificacion_sports.dropna()\n",
        "st.levene(calificacion_action_sinna, calificacion_sports_sinna, center='mean')"
      ]
    },
    {
      "cell_type": "code",
      "execution_count": null,
      "metadata": {
        "id": "ks0avDcElToX",
        "outputId": "43738d3e-7b90-4512-f545-7acb119ba1c3"
      },
      "outputs": [
        {
          "name": "stdout",
          "output_type": "stream",
          "text": [
            "p-value:  0.11483818791498648\n",
            "No rechazamos la hipótesis nula\n"
          ]
        }
      ],
      "source": [
        "# Prueba las hipótesis\n",
        "alpha = 0.05\n",
        "results = st.ttest_ind(calificacion_action, calificacion_sports, equal_var=False, nan_policy='omit')\n",
        "print('p-value: ', results.pvalue)\n",
        "\n",
        "if results.pvalue < alpha:\n",
        "    print('Rechazamos la hipótesis nula')\n",
        "else:\n",
        "    print(\"No rechazamos la hipótesis nula\")"
      ]
    },
    {
      "cell_type": "markdown",
      "metadata": {
        "id": "OYF8FxZjlToX"
      },
      "source": [
        "- El caso contrario al anterior analisis, aqui no rechazariamos la hipotesis nula pero esto no quiere decir que aceptamos la hipotesis nula sino que no existe suficiente evidencia para rechazarlo, dicho de otra manera esto requeriria un analisis mas profundo para poder rechazar o aceptar dichas hipotesis."
      ]
    },
    {
      "cell_type": "markdown",
      "metadata": {
        "id": "LCMBHJ8TlToX"
      },
      "source": [
        "# Conclusiones generales\n",
        "- Como conclusion general podemos observar que a la hora de analizar ambas hipotesis respecto a si la califiacion de los usuarios para las consolas y para los generos es igual para diferentes consolas asi como si es igual para diferentes generos no se puede rechazar la hipotesis nula lo cual nos da a entender que no tenemos evidencia suficiente para rechazar la hipotesis nula de si la media es igual para los dos generos, a su vez para el analisis estadistico de si las calificaciones para las distintas consolas diferentes se logro rechazar la hipotesis nula dando como resultado que la media no es igual para ambas consolas. A lo largo de este proyecto se analizo una base de datos las cuales se preprocesaron, se enriquecieron y se corrigieron los problemas que pudieran tener, tras tener las bases de datos procesadas se realizaron diferentes analisis estadisticos y graficos para poder encontrarnos con los motivos o problemas que pudieran tener dichas muestras poblacionales, de igual manera se realizaron analisis estadisticos de medias diferentes a ambas estipulando diferentes hipotesis nulas y alternativas para finalmente dar una conclusion respecto al estudio realizado, dicha conclusion esta escrita en este punto al inicio. Nos dimos cuenta tras realizar el analisis de las calificaciones de los usuarios se decidieron dejar como valores ausentes debido a que imputarlos sin conocimiento solo nos causaria problemas. Finalmente como conclusion personal tras el profundo analisis realizado puedo decir que la consola PS2 es la mas popular en torno a ventas, de igual manera el genero mas comprado es el genero de accion."
      ]
    }
  ],
  "metadata": {
    "kernelspec": {
      "display_name": "Python 3 (ipykernel)",
      "language": "python",
      "name": "python3"
    },
    "language_info": {
      "codemirror_mode": {
        "name": "ipython",
        "version": 3
      },
      "file_extension": ".py",
      "mimetype": "text/x-python",
      "name": "python",
      "nbconvert_exporter": "python",
      "pygments_lexer": "ipython3",
      "version": "3.9.5"
    },
    "toc": {
      "base_numbering": 1,
      "nav_menu": {},
      "number_sections": true,
      "sideBar": true,
      "skip_h1_title": false,
      "title_cell": "Table of Contents",
      "title_sidebar": "Contents",
      "toc_cell": false,
      "toc_position": {
        "height": "calc(100% - 180px)",
        "left": "10px",
        "top": "150px",
        "width": "210px"
      },
      "toc_section_display": true,
      "toc_window_display": true
    },
    "colab": {
      "provenance": []
    }
  },
  "nbformat": 4,
  "nbformat_minor": 0
}