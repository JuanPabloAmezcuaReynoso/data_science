{
  "cells": [
    {
      "cell_type": "markdown",
      "metadata": {
        "id": "XBqzhsiO5NsT"
      },
      "source": [
        "# Introduccion"
      ]
    },
    {
      "cell_type": "markdown",
      "metadata": {
        "id": "DR9FAVEJ5NsU"
      },
      "source": [
        "- Trabajas para la compañía minera OilyGiant. Tu tarea es encontrar el mejor lugar para un nuevo pozo. Pasos para elegir la ubicación:\n",
        "1. Recolecta los parámetros del pozo de petróleo en la región seleccionada: calidad del petróleo y volumen de reservas;\n",
        "2. Construye un modelo para predecir el volumen de reservas en los nuevos pozos;\n",
        "3. Selecciona los pozos de petróleo con los valores estimados más altos;\n",
        "4. Elige la región con el mayor beneficio total para los pozos de petróleo seleccionados.\n",
        "- Tienes datos sobre muestras de crudo de tres regiones. Ya se conocen los parámetros de cada pozo petrolero de la región. Crea un modelo que ayude a elegir la región con el mayor margen de beneficio. Analiza los beneficios y riesgos potenciales utilizando la técnica bootstrapping."
      ]
    },
    {
      "cell_type": "markdown",
      "metadata": {
        "id": "u031ToFU5NsW"
      },
      "source": [
        "# Contenido\n",
        "* [1. Introducción]\n",
        "* [2. Contenidos]\n",
        "* [3. Inicialización]\n",
        "    * [3.1 Cargar las librerias]\n",
        "    * [3.2 Cargar los datos]\n",
        "* [4. Generacion de modelos]\n",
        "    * [4.1 Segmentacion de datos]\n",
        "    * [4.2 Entrenamiento de modelos]\n",
        "    * [4.3 Guardar las predicciones]\n",
        "    * [4.4 Mostrar RECM y Volumen promedio]\n",
        "    * [4.5 Analisis del mejor modelo]\n",
        "* [5. Calculo de ganancias]"
      ]
    },
    {
      "cell_type": "markdown",
      "metadata": {
        "id": "98zgzC-45NsX"
      },
      "source": [
        "# Inicializacion"
      ]
    },
    {
      "cell_type": "markdown",
      "metadata": {
        "id": "X2OM0uuL5NsY"
      },
      "source": [
        "## Cargar las librerias"
      ]
    },
    {
      "cell_type": "code",
      "execution_count": null,
      "metadata": {
        "id": "cD9dsiWz5NsZ"
      },
      "outputs": [],
      "source": [
        "# Cargar todas las librerías\n",
        "import pandas as pd\n",
        "import numpy as np\n",
        "from sklearn.metrics import mean_squared_error, accuracy_score, confusion_matrix, recall_score, precision_score, f1_score, r2_score, roc_auc_score, mean_absolute_error\n",
        "from sklearn.tree import DecisionTreeRegressor, DecisionTreeClassifier\n",
        "from sklearn.model_selection import train_test_split, GridSearchCV, StratifiedKFold\n",
        "from sklearn.ensemble import RandomForestRegressor, RandomForestClassifier\n",
        "from sklearn.linear_model import LinearRegression, LogisticRegression\n",
        "from sklearn.preprocessing import OrdinalEncoder, StandardScaler\n",
        "from sklearn.utils import shuffle\n",
        "import matplotlib.pyplot as plt"
      ]
    },
    {
      "cell_type": "markdown",
      "metadata": {
        "id": "GTSrqlQd5Nsb"
      },
      "source": [
        "## Cargar los datos"
      ]
    },
    {
      "cell_type": "code",
      "execution_count": null,
      "metadata": {
        "id": "QO-3FWJ05Nsc"
      },
      "outputs": [],
      "source": [
        "region1_data = pd.read_csv('/datasets/geo_data_0.csv')\n",
        "region2_data = pd.read_csv('/datasets/geo_data_1.csv')\n",
        "region3_data = pd.read_csv('/datasets/geo_data_2.csv')"
      ]
    },
    {
      "cell_type": "code",
      "execution_count": null,
      "metadata": {
        "id": "o2E3_bLm5Nsd",
        "outputId": "af7fb175-c15c-48cb-86a5-505c2e103f43"
      },
      "outputs": [
        {
          "data": {
            "text/plain": [
              "(100000, 5)"
            ]
          },
          "metadata": {},
          "output_type": "display_data"
        },
        {
          "data": {
            "text/plain": [
              "(100000, 5)"
            ]
          },
          "metadata": {},
          "output_type": "display_data"
        },
        {
          "data": {
            "text/plain": [
              "(100000, 5)"
            ]
          },
          "metadata": {},
          "output_type": "display_data"
        }
      ],
      "source": [
        "display(region1_data.shape)\n",
        "display(region2_data.shape)\n",
        "display(region3_data.shape)"
      ]
    },
    {
      "cell_type": "code",
      "execution_count": null,
      "metadata": {
        "id": "bmyY97SK5Nsf",
        "outputId": "965bc1ef-e6a5-4d33-fc01-d23a8898b9d2"
      },
      "outputs": [
        {
          "name": "stdout",
          "output_type": "stream",
          "text": [
            "<class 'pandas.core.frame.DataFrame'>\n",
            "RangeIndex: 100000 entries, 0 to 99999\n",
            "Data columns (total 5 columns):\n",
            " #   Column   Non-Null Count   Dtype  \n",
            "---  ------   --------------   -----  \n",
            " 0   id       100000 non-null  object \n",
            " 1   f0       100000 non-null  float64\n",
            " 2   f1       100000 non-null  float64\n",
            " 3   f2       100000 non-null  float64\n",
            " 4   product  100000 non-null  float64\n",
            "dtypes: float64(4), object(1)\n",
            "memory usage: 3.8+ MB\n"
          ]
        },
        {
          "data": {
            "text/plain": [
              "None"
            ]
          },
          "metadata": {},
          "output_type": "display_data"
        },
        {
          "name": "stdout",
          "output_type": "stream",
          "text": [
            "<class 'pandas.core.frame.DataFrame'>\n",
            "RangeIndex: 100000 entries, 0 to 99999\n",
            "Data columns (total 5 columns):\n",
            " #   Column   Non-Null Count   Dtype  \n",
            "---  ------   --------------   -----  \n",
            " 0   id       100000 non-null  object \n",
            " 1   f0       100000 non-null  float64\n",
            " 2   f1       100000 non-null  float64\n",
            " 3   f2       100000 non-null  float64\n",
            " 4   product  100000 non-null  float64\n",
            "dtypes: float64(4), object(1)\n",
            "memory usage: 3.8+ MB\n"
          ]
        },
        {
          "data": {
            "text/plain": [
              "None"
            ]
          },
          "metadata": {},
          "output_type": "display_data"
        },
        {
          "name": "stdout",
          "output_type": "stream",
          "text": [
            "<class 'pandas.core.frame.DataFrame'>\n",
            "RangeIndex: 100000 entries, 0 to 99999\n",
            "Data columns (total 5 columns):\n",
            " #   Column   Non-Null Count   Dtype  \n",
            "---  ------   --------------   -----  \n",
            " 0   id       100000 non-null  object \n",
            " 1   f0       100000 non-null  float64\n",
            " 2   f1       100000 non-null  float64\n",
            " 3   f2       100000 non-null  float64\n",
            " 4   product  100000 non-null  float64\n",
            "dtypes: float64(4), object(1)\n",
            "memory usage: 3.8+ MB\n"
          ]
        },
        {
          "data": {
            "text/plain": [
              "None"
            ]
          },
          "metadata": {},
          "output_type": "display_data"
        }
      ],
      "source": [
        "display(region1_data.info())\n",
        "display(region2_data.info())\n",
        "display(region3_data.info())"
      ]
    },
    {
      "cell_type": "code",
      "execution_count": null,
      "metadata": {
        "id": "6QE2hcZt5Nsf",
        "outputId": "4b49e36e-c0ef-4b8a-be5b-04deae12e040"
      },
      "outputs": [
        {
          "data": {
            "text/html": [
              "<div>\n",
              "<style scoped>\n",
              "    .dataframe tbody tr th:only-of-type {\n",
              "        vertical-align: middle;\n",
              "    }\n",
              "\n",
              "    .dataframe tbody tr th {\n",
              "        vertical-align: top;\n",
              "    }\n",
              "\n",
              "    .dataframe thead th {\n",
              "        text-align: right;\n",
              "    }\n",
              "</style>\n",
              "<table border=\"1\" class=\"dataframe\">\n",
              "  <thead>\n",
              "    <tr style=\"text-align: right;\">\n",
              "      <th></th>\n",
              "      <th>id</th>\n",
              "      <th>f0</th>\n",
              "      <th>f1</th>\n",
              "      <th>f2</th>\n",
              "      <th>product</th>\n",
              "    </tr>\n",
              "  </thead>\n",
              "  <tbody>\n",
              "    <tr>\n",
              "      <th>0</th>\n",
              "      <td>txEyH</td>\n",
              "      <td>0.705745</td>\n",
              "      <td>-0.497823</td>\n",
              "      <td>1.221170</td>\n",
              "      <td>105.280062</td>\n",
              "    </tr>\n",
              "    <tr>\n",
              "      <th>1</th>\n",
              "      <td>2acmU</td>\n",
              "      <td>1.334711</td>\n",
              "      <td>-0.340164</td>\n",
              "      <td>4.365080</td>\n",
              "      <td>73.037750</td>\n",
              "    </tr>\n",
              "    <tr>\n",
              "      <th>2</th>\n",
              "      <td>409Wp</td>\n",
              "      <td>1.022732</td>\n",
              "      <td>0.151990</td>\n",
              "      <td>1.419926</td>\n",
              "      <td>85.265647</td>\n",
              "    </tr>\n",
              "    <tr>\n",
              "      <th>3</th>\n",
              "      <td>iJLyR</td>\n",
              "      <td>-0.032172</td>\n",
              "      <td>0.139033</td>\n",
              "      <td>2.978566</td>\n",
              "      <td>168.620776</td>\n",
              "    </tr>\n",
              "    <tr>\n",
              "      <th>4</th>\n",
              "      <td>Xdl7t</td>\n",
              "      <td>1.988431</td>\n",
              "      <td>0.155413</td>\n",
              "      <td>4.751769</td>\n",
              "      <td>154.036647</td>\n",
              "    </tr>\n",
              "  </tbody>\n",
              "</table>\n",
              "</div>"
            ],
            "text/plain": [
              "      id        f0        f1        f2     product\n",
              "0  txEyH  0.705745 -0.497823  1.221170  105.280062\n",
              "1  2acmU  1.334711 -0.340164  4.365080   73.037750\n",
              "2  409Wp  1.022732  0.151990  1.419926   85.265647\n",
              "3  iJLyR -0.032172  0.139033  2.978566  168.620776\n",
              "4  Xdl7t  1.988431  0.155413  4.751769  154.036647"
            ]
          },
          "execution_count": 6,
          "metadata": {},
          "output_type": "execute_result"
        }
      ],
      "source": [
        "# Muestra de la region 1\n",
        "region1_data.head()"
      ]
    },
    {
      "cell_type": "code",
      "execution_count": null,
      "metadata": {
        "id": "Gg2AcmkR5Nsg",
        "outputId": "6b80915c-3ec0-4415-96fe-c0cfdd0bf9d5"
      },
      "outputs": [
        {
          "data": {
            "text/html": [
              "<div>\n",
              "<style scoped>\n",
              "    .dataframe tbody tr th:only-of-type {\n",
              "        vertical-align: middle;\n",
              "    }\n",
              "\n",
              "    .dataframe tbody tr th {\n",
              "        vertical-align: top;\n",
              "    }\n",
              "\n",
              "    .dataframe thead th {\n",
              "        text-align: right;\n",
              "    }\n",
              "</style>\n",
              "<table border=\"1\" class=\"dataframe\">\n",
              "  <thead>\n",
              "    <tr style=\"text-align: right;\">\n",
              "      <th></th>\n",
              "      <th>id</th>\n",
              "      <th>f0</th>\n",
              "      <th>f1</th>\n",
              "      <th>f2</th>\n",
              "      <th>product</th>\n",
              "    </tr>\n",
              "  </thead>\n",
              "  <tbody>\n",
              "    <tr>\n",
              "      <th>0</th>\n",
              "      <td>kBEdx</td>\n",
              "      <td>-15.001348</td>\n",
              "      <td>-8.276000</td>\n",
              "      <td>-0.005876</td>\n",
              "      <td>3.179103</td>\n",
              "    </tr>\n",
              "    <tr>\n",
              "      <th>1</th>\n",
              "      <td>62mP7</td>\n",
              "      <td>14.272088</td>\n",
              "      <td>-3.475083</td>\n",
              "      <td>0.999183</td>\n",
              "      <td>26.953261</td>\n",
              "    </tr>\n",
              "    <tr>\n",
              "      <th>2</th>\n",
              "      <td>vyE1P</td>\n",
              "      <td>6.263187</td>\n",
              "      <td>-5.948386</td>\n",
              "      <td>5.001160</td>\n",
              "      <td>134.766305</td>\n",
              "    </tr>\n",
              "    <tr>\n",
              "      <th>3</th>\n",
              "      <td>KcrkZ</td>\n",
              "      <td>-13.081196</td>\n",
              "      <td>-11.506057</td>\n",
              "      <td>4.999415</td>\n",
              "      <td>137.945408</td>\n",
              "    </tr>\n",
              "    <tr>\n",
              "      <th>4</th>\n",
              "      <td>AHL4O</td>\n",
              "      <td>12.702195</td>\n",
              "      <td>-8.147433</td>\n",
              "      <td>5.004363</td>\n",
              "      <td>134.766305</td>\n",
              "    </tr>\n",
              "  </tbody>\n",
              "</table>\n",
              "</div>"
            ],
            "text/plain": [
              "      id         f0         f1        f2     product\n",
              "0  kBEdx -15.001348  -8.276000 -0.005876    3.179103\n",
              "1  62mP7  14.272088  -3.475083  0.999183   26.953261\n",
              "2  vyE1P   6.263187  -5.948386  5.001160  134.766305\n",
              "3  KcrkZ -13.081196 -11.506057  4.999415  137.945408\n",
              "4  AHL4O  12.702195  -8.147433  5.004363  134.766305"
            ]
          },
          "execution_count": 7,
          "metadata": {},
          "output_type": "execute_result"
        }
      ],
      "source": [
        "# Muestra de la region 2\n",
        "region2_data.head()"
      ]
    },
    {
      "cell_type": "code",
      "execution_count": null,
      "metadata": {
        "id": "Oi0_XqY45Nsg",
        "outputId": "44c1b718-5642-4baf-d393-79b4726720e3"
      },
      "outputs": [
        {
          "data": {
            "text/html": [
              "<div>\n",
              "<style scoped>\n",
              "    .dataframe tbody tr th:only-of-type {\n",
              "        vertical-align: middle;\n",
              "    }\n",
              "\n",
              "    .dataframe tbody tr th {\n",
              "        vertical-align: top;\n",
              "    }\n",
              "\n",
              "    .dataframe thead th {\n",
              "        text-align: right;\n",
              "    }\n",
              "</style>\n",
              "<table border=\"1\" class=\"dataframe\">\n",
              "  <thead>\n",
              "    <tr style=\"text-align: right;\">\n",
              "      <th></th>\n",
              "      <th>id</th>\n",
              "      <th>f0</th>\n",
              "      <th>f1</th>\n",
              "      <th>f2</th>\n",
              "      <th>product</th>\n",
              "    </tr>\n",
              "  </thead>\n",
              "  <tbody>\n",
              "    <tr>\n",
              "      <th>0</th>\n",
              "      <td>fwXo0</td>\n",
              "      <td>-1.146987</td>\n",
              "      <td>0.963328</td>\n",
              "      <td>-0.828965</td>\n",
              "      <td>27.758673</td>\n",
              "    </tr>\n",
              "    <tr>\n",
              "      <th>1</th>\n",
              "      <td>WJtFt</td>\n",
              "      <td>0.262778</td>\n",
              "      <td>0.269839</td>\n",
              "      <td>-2.530187</td>\n",
              "      <td>56.069697</td>\n",
              "    </tr>\n",
              "    <tr>\n",
              "      <th>2</th>\n",
              "      <td>ovLUW</td>\n",
              "      <td>0.194587</td>\n",
              "      <td>0.289035</td>\n",
              "      <td>-5.586433</td>\n",
              "      <td>62.871910</td>\n",
              "    </tr>\n",
              "    <tr>\n",
              "      <th>3</th>\n",
              "      <td>q6cA6</td>\n",
              "      <td>2.236060</td>\n",
              "      <td>-0.553760</td>\n",
              "      <td>0.930038</td>\n",
              "      <td>114.572842</td>\n",
              "    </tr>\n",
              "    <tr>\n",
              "      <th>4</th>\n",
              "      <td>WPMUX</td>\n",
              "      <td>-0.515993</td>\n",
              "      <td>1.716266</td>\n",
              "      <td>5.899011</td>\n",
              "      <td>149.600746</td>\n",
              "    </tr>\n",
              "  </tbody>\n",
              "</table>\n",
              "</div>"
            ],
            "text/plain": [
              "      id        f0        f1        f2     product\n",
              "0  fwXo0 -1.146987  0.963328 -0.828965   27.758673\n",
              "1  WJtFt  0.262778  0.269839 -2.530187   56.069697\n",
              "2  ovLUW  0.194587  0.289035 -5.586433   62.871910\n",
              "3  q6cA6  2.236060 -0.553760  0.930038  114.572842\n",
              "4  WPMUX -0.515993  1.716266  5.899011  149.600746"
            ]
          },
          "execution_count": 8,
          "metadata": {},
          "output_type": "execute_result"
        }
      ],
      "source": [
        "# Muestra de la region 3\n",
        "region3_data.head()"
      ]
    },
    {
      "cell_type": "markdown",
      "metadata": {
        "id": "y_6tJ-hb5Nsh"
      },
      "source": [
        "## Correccion de datos"
      ]
    },
    {
      "cell_type": "code",
      "execution_count": null,
      "metadata": {
        "id": "3D3o2Z415Nsh"
      },
      "outputs": [],
      "source": [
        "region1_data = region1_data.drop(['id'], axis=1)\n",
        "region2_data = region2_data.drop(['id'], axis=1)\n",
        "region3_data = region3_data.drop(['id'], axis=1)"
      ]
    },
    {
      "cell_type": "markdown",
      "metadata": {
        "id": "LXNaXJp_5Nsh"
      },
      "source": [
        "# Generacion de modelos"
      ]
    },
    {
      "cell_type": "markdown",
      "metadata": {
        "id": "QBVIZkmc5Nsh"
      },
      "source": [
        "## Segmentacion de datos"
      ]
    },
    {
      "cell_type": "code",
      "execution_count": null,
      "metadata": {
        "id": "CIy_uilD5Nsi"
      },
      "outputs": [],
      "source": [
        "# Segmentamos los dataframes en conjunto de entrenamiento y de validacion.\n",
        "region1_train, region1_val, region1_target_train, region1_target_val = train_test_split(region1_data.drop('product', axis=1),\n",
        "                                                          region1_data['product'],\n",
        "                                                          test_size=0.25, random_state=12345)\n",
        "\n",
        "region2_train, region2_val, region2_target_train, region2_target_val = train_test_split(region2_data.drop('product', axis=1),\n",
        "                                                          region2_data['product'],\n",
        "                                                          test_size=0.25, random_state=12345)\n",
        "\n",
        "region3_train, region3_val, region3_target_train, region3_target_val = train_test_split(region3_data.drop('product', axis=1),\n",
        "                                                          region3_data['product'],\n",
        "                                                          test_size=0.25, random_state=12345)"
      ]
    },
    {
      "cell_type": "markdown",
      "metadata": {
        "id": "agw6Rxde5Nsi"
      },
      "source": [
        "## Entrenamiento de modelos"
      ]
    },
    {
      "cell_type": "code",
      "execution_count": null,
      "metadata": {
        "id": "yx78Y2pC5Nsj"
      },
      "outputs": [],
      "source": [
        "# Se entrena un modelo de regresion lineal para las tres regiones\n",
        "model1 = LinearRegression()\n",
        "model1.fit(region1_train, region1_target_train)\n",
        "region1_predictions = model1.predict(region1_val)\n",
        "\n",
        "model2 = LinearRegression()\n",
        "model2.fit(region2_train, region2_target_train)\n",
        "region2_predictions = model2.predict(region2_val)\n",
        "\n",
        "model3 = LinearRegression()\n",
        "model3.fit(region3_train, region3_target_train)\n",
        "region3_predictions = model3.predict(region3_val)"
      ]
    },
    {
      "cell_type": "markdown",
      "metadata": {
        "id": "R9Z8TUbD5Nsj"
      },
      "source": [
        "## Guardar las predicciones"
      ]
    },
    {
      "cell_type": "code",
      "execution_count": null,
      "metadata": {
        "id": "ats6N6o-5Nsj"
      },
      "outputs": [],
      "source": [
        "# Se crean 3 dataframes con las predicciones de las tres regiones con los modelos entrenados anteriormente\n",
        "region1_predictions_df = pd.DataFrame({'predictions': region1_predictions, 'target': region1_target_val})\n",
        "region2_predictions_df = pd.DataFrame({'predictions': region2_predictions, 'target': region2_target_val})\n",
        "region3_predictions_df = pd.DataFrame({'predictions': region3_predictions, 'target': region3_target_val})"
      ]
    },
    {
      "cell_type": "code",
      "execution_count": null,
      "metadata": {
        "id": "nm4qPD1G5Nsk"
      },
      "outputs": [],
      "source": [
        "# Se separan los dataframes con 500 muestras aleatorias\n",
        "region1_predictions_500 = region1_predictions_df.sample(n=500, random_state=12345)\n",
        "region2_predictions_500 = region2_predictions_df.sample(n=500, random_state=12345)\n",
        "region3_predictions_500 = region3_predictions_df.sample(n=500, random_state=12345)"
      ]
    },
    {
      "cell_type": "code",
      "execution_count": null,
      "metadata": {
        "id": "JGuXe4Ad5Nsk"
      },
      "outputs": [],
      "source": [
        "# Se separan los dataframes con los 200 numeros mas grandes\n",
        "top_wells_region1 = region1_predictions_500.nlargest(200, \"predictions\")\n",
        "top_wells_region2 = region2_predictions_500.nlargest(200, \"predictions\")\n",
        "top_wells_region3 = region3_predictions_500.nlargest(200, \"predictions\")"
      ]
    },
    {
      "cell_type": "markdown",
      "metadata": {
        "id": "poQj1kmx5Nsk"
      },
      "source": [
        "## Mostrar RECM y Volumen promedio"
      ]
    },
    {
      "cell_type": "code",
      "execution_count": null,
      "metadata": {
        "id": "-yTe-HXN5Nsl",
        "outputId": "cc530612-87c1-49e7-c42d-ed3448162f2e"
      },
      "outputs": [
        {
          "name": "stdout",
          "output_type": "stream",
          "text": [
            "Volumen promedio de las reservas previstas: 92.93\n",
            "RECM del modelo: 37.58\n"
          ]
        }
      ],
      "source": [
        "# Volumen promedio y RECM del modelo para la región 1:\n",
        "mean_volume_region1 = region1_predictions_df['predictions'].mean()\n",
        "rmse_region1 = mean_squared_error(region1_predictions_500['target'], region1_predictions_500['predictions'], squared=False)\n",
        "print(\"Volumen promedio de las reservas previstas: {:.2f}\".format(region1_predictions_500['predictions'].mean()))\n",
        "print(f'RECM del modelo: {rmse_region1:.2f}')"
      ]
    },
    {
      "cell_type": "code",
      "execution_count": null,
      "metadata": {
        "id": "kWjbnnxZ5Nsl",
        "outputId": "56bb5de8-d1ec-4606-cdaf-d578b5e7f4a0"
      },
      "outputs": [
        {
          "name": "stdout",
          "output_type": "stream",
          "text": [
            "Volumen promedio de las reservas previstas: 71.84\n",
            "RECM del modelo: 0.90\n"
          ]
        }
      ],
      "source": [
        "# Volumen promedio y RECM del modelo para la región 2:\n",
        "mean_volume_region2 = region2_predictions_df['predictions'].mean()\n",
        "rmse_region2 = mean_squared_error(region2_predictions_500['target'], region2_predictions_500['predictions'], squared=False)\n",
        "print(\"Volumen promedio de las reservas previstas: {:.2f}\".format(region2_predictions_500['predictions'].mean()))\n",
        "print(f'RECM del modelo: {rmse_region2:.2f}')"
      ]
    },
    {
      "cell_type": "code",
      "execution_count": null,
      "metadata": {
        "id": "AhsipLy-5Nsl",
        "outputId": "0ad057d0-f50e-4af1-a294-4ae055892ae4"
      },
      "outputs": [
        {
          "name": "stdout",
          "output_type": "stream",
          "text": [
            "Volumen promedio de las reservas previstas: 94.73\n",
            "RECM del modelo: 40.61\n"
          ]
        }
      ],
      "source": [
        "# Volumen promedio y RECM del modelo para la región 3:\n",
        "mean_volume_region3 = region3_predictions_df['predictions'].mean()\n",
        "rmse_region3 = mean_squared_error(region3_predictions_500['target'], region3_predictions_500['predictions'], squared=False)\n",
        "print(\"Volumen promedio de las reservas previstas: {:.2f}\".format(region3_predictions_500['predictions'].mean()))\n",
        "print(f'RECM del modelo: {rmse_region3:.2f}')"
      ]
    },
    {
      "cell_type": "markdown",
      "metadata": {
        "id": "npL61h2J5Nsm"
      },
      "source": [
        "## Analisis del mejor modelo"
      ]
    },
    {
      "cell_type": "markdown",
      "metadata": {
        "id": "jyBaLr_g5Nsm"
      },
      "source": [
        "- Como podemos observar la mejor region es la region 3 debido a que su volumen promedio de las reservas es el mas alto con un valor de 94.73, aunque no por mucho ya que la region 1 cuenta con un valor de 92.93. Esta decision se toma basada en maximizar la cantidad total de petroleo que se extraera por ende el mejor pozo debera ser en la region 3."
      ]
    },
    {
      "cell_type": "markdown",
      "metadata": {
        "id": "R-1hwIf85Nss"
      },
      "source": [
        "# Calculo de ganancias"
      ]
    },
    {
      "cell_type": "code",
      "execution_count": null,
      "metadata": {
        "id": "IPAZh8zC5Nst"
      },
      "outputs": [],
      "source": [
        "# Se almacenan todos los valores clave para los cálculos en variables separadas.\n",
        "budget = 100000000\n",
        "price_per_barrel = 4.5\n",
        "max_risk = 0.025\n",
        "n_wells = 200\n",
        "revenue = 4500\n",
        "cost_per_well = budget / n_wells\n",
        "revenue_per_well1 = price_per_barrel * (mean_volume_region1 / 1000)\n",
        "revenue_per_well2 = price_per_barrel * (mean_volume_region2 / 1000)\n",
        "revenue_per_well3 = price_per_barrel * (mean_volume_region3 / 1000)"
      ]
    },
    {
      "cell_type": "code",
      "execution_count": null,
      "metadata": {
        "id": "S8ooiUo85Nsu",
        "outputId": "7ab6bc08-22ab-487c-8924-887630dba1e5"
      },
      "outputs": [
        {
          "name": "stdout",
          "output_type": "stream",
          "text": [
            "El minimo de pozos por region para no obtener perdidas es de: 111.11 miles de barriles\n"
          ]
        }
      ],
      "source": [
        "# Volumen minimo de pozos\n",
        "min_volume = cost_per_well / revenue\n",
        "print(f'El minimo de pozos por region para no obtener perdidas es de: {min_volume:.2f} miles de barriles')"
      ]
    },
    {
      "cell_type": "code",
      "execution_count": null,
      "metadata": {
        "id": "F5HEya9Q5Nsv",
        "outputId": "d6192d40-fbeb-4232-a08d-d4e96d2cc9d7"
      },
      "outputs": [
        {
          "name": "stdout",
          "output_type": "stream",
          "text": [
            "La región 1 no tiene suficientes reservas para desarrollar un nuevo pozo sin pérdidas.\n",
            "La región 2 no tiene suficientes reservas para desarrollar un nuevo pozo sin pérdidas.\n",
            "La región 3 no tiene suficientes reservas para desarrollar un nuevo pozo sin pérdidas.\n"
          ]
        }
      ],
      "source": [
        "# Se pone un condicional para cada region para determinar si tiene suficientes reservas para desarrollar un pozo sin perdidas\n",
        "if mean_volume_region1 >= min_volume:\n",
        "    print(\"La región 1 tiene suficientes reservas para desarrollar un nuevo pozo sin pérdidas.\")\n",
        "else:\n",
        "    print(\"La región 1 no tiene suficientes reservas para desarrollar un nuevo pozo sin pérdidas.\")\n",
        "\n",
        "if mean_volume_region2 >= min_volume:\n",
        "    print(\"La región 2 tiene suficientes reservas para desarrollar un nuevo pozo sin pérdidas.\")\n",
        "else:\n",
        "    print(\"La región 2 no tiene suficientes reservas para desarrollar un nuevo pozo sin pérdidas.\")\n",
        "\n",
        "if mean_volume_region3 >= min_volume:\n",
        "    print(\"La región 3 tiene suficientes reservas para desarrollar un nuevo pozo sin pérdidas.\")\n",
        "else:\n",
        "    print(\"La región 3 no tiene suficientes reservas para desarrollar un nuevo pozo sin pérdidas.\")"
      ]
    },
    {
      "cell_type": "markdown",
      "metadata": {
        "id": "7DTj-AsG5Nsv"
      },
      "source": [
        "# Funcion para calcular la ganancia"
      ]
    },
    {
      "cell_type": "code",
      "execution_count": null,
      "metadata": {
        "id": "6KADr6i85Nsw"
      },
      "outputs": [],
      "source": [
        "# Se define una funcion para calcular el beneficio de cada region.\n",
        "def calculate_profit1(total_wells, cost_per_well, revenue_per_well, predicted_volume):\n",
        "    total_revenue = revenue_per_well * predicted_volume.sum() * 1000\n",
        "    total_cost = cost_per_well * total_wells\n",
        "    profit =  total_revenue - total_cost\n",
        "    return profit"
      ]
    },
    {
      "cell_type": "code",
      "execution_count": null,
      "metadata": {
        "id": "q6skzUmb5Nsw"
      },
      "outputs": [],
      "source": [
        "profit_region1 = calculate_profit1(top_wells_region1.shape[0], cost_per_well, revenue_per_well1, top_wells_region1[\"predictions\"])\n",
        "profit_region2 = calculate_profit1(top_wells_region2.shape[0], cost_per_well, revenue_per_well2, top_wells_region2[\"predictions\"])\n",
        "profit_region3 = calculate_profit1(top_wells_region3.shape[0], cost_per_well, revenue_per_well3, top_wells_region3[\"predictions\"])"
      ]
    },
    {
      "cell_type": "code",
      "execution_count": null,
      "metadata": {
        "id": "qNUW6eg35Nsx",
        "outputId": "6d49ef20-185a-409d-d5c4-43dd4f052a8d"
      },
      "outputs": [
        {
          "name": "stdout",
          "output_type": "stream",
          "text": [
            "El beneficio para la region 1 es de: -90272829.56 miles de dolares\n"
          ]
        }
      ],
      "source": [
        "# Beneficio para la region 1\n",
        "print(f'El beneficio para la region 1 es de: {profit_region1:.2f} miles de dolares')"
      ]
    },
    {
      "cell_type": "code",
      "execution_count": null,
      "metadata": {
        "id": "nTeHDX5d5Nsx",
        "outputId": "e14735ee-2f39-479d-da4c-a0481a5093f5"
      },
      "outputs": [
        {
          "name": "stdout",
          "output_type": "stream",
          "text": [
            "El beneficio para la region 2 es de: -92591599.28 miles de dolares\n"
          ]
        }
      ],
      "source": [
        "# Beneficio para la region 2\n",
        "print(f'El beneficio para la region 2 es de: {profit_region2:.2f} miles de dolares')"
      ]
    },
    {
      "cell_type": "code",
      "execution_count": null,
      "metadata": {
        "id": "xzbHVP4I5Nsy",
        "outputId": "957ac122-32d6-4e17-b164-d0078867b8b9"
      },
      "outputs": [
        {
          "name": "stdout",
          "output_type": "stream",
          "text": [
            "El beneficio para la region 3 es de: -90180424.62 miles de dolares\n"
          ]
        }
      ],
      "source": [
        "# Beneficio para la region 3\n",
        "print(f'El beneficio para la region 3 es de: {profit_region3:.2f} miles de dolares')"
      ]
    },
    {
      "cell_type": "markdown",
      "metadata": {
        "id": "7i2jLhSc5Nsy"
      },
      "source": [
        "- Como podemos observar el beneficio mas alto es el de la region 2 seguido por el de la region 1. Entonces si tuviera que escoger una region basandome exclusivamente en el beneficio total escogeria la region 2."
      ]
    },
    {
      "cell_type": "markdown",
      "metadata": {
        "id": "WDSNtIbu5Ns0"
      },
      "source": [
        "# Bootstrap"
      ]
    },
    {
      "cell_type": "code",
      "execution_count": null,
      "metadata": {
        "id": "m2MaJe-p5Ns1"
      },
      "outputs": [],
      "source": [
        "# Se define la funcion para realizar bootstrap a 1000 muestras\n",
        "def bootstrap_profit(region_predictions_df, revenue_per_well, cost_per_well, n_wells, n_simulations=1000, alpha=0.05):\n",
        "    profits = []\n",
        "    for i in range(n_simulations):\n",
        "\n",
        "        # es importante no colocar semilla para que en cada iteración aparezca una muestra distinta\n",
        "\n",
        "        top_500 = region_predictions_df.sample(n=500, replace=True)\n",
        "\n",
        "        # tomamos los 200 mejores en predicción\n",
        "\n",
        "        top_200_pred = top_500.nlargest(200, \"predictions\")\n",
        "\n",
        "        predicted_volume = top_200_pred['predictions']\n",
        "        total_revenue = 4.5 * predicted_volume.sum() * 1000\n",
        "        total_cost = budget\n",
        "        profit = total_revenue - total_cost\n",
        "\n",
        "        profits.append(profit)\n",
        "         # Calculate mean and confidence interval\n",
        "        mean_profit = np.mean(profits)\n",
        "        lower_ci = np.percentile(profits, (alpha/2)*100)\n",
        "        upper_ci = np.percentile(profits, (1-alpha/2)*100)\n",
        "\n",
        "        # Calculate loss probability\n",
        "        loss_probability = sum([1 for profit in profits if profit < 0]) / len(profits)\n",
        "        loss_percentage = loss_probability * 100\n",
        "\n",
        "    return mean_profit, lower_ci, upper_ci, loss_percentage"
      ]
    },
    {
      "cell_type": "code",
      "execution_count": null,
      "metadata": {
        "id": "zJiUOyCh5Ns3"
      },
      "outputs": [],
      "source": [
        "# Se define la funcion para realizar bootstrap a 1000 muestras\n",
        "def bootstrap_profit(region_predictions_df, n_simulations=1000, alpha=0.05):\n",
        "    profits = []\n",
        "    for i in range(n_simulations):\n",
        "\n",
        "        # es importante no colocar semilla para que en cada iteración aparezca una muestra distinta\n",
        "\n",
        "        top_500 = region_predictions_df.sample(n=500, replace=True)\n",
        "\n",
        "        # tomamos los 200 mejores en predicción\n",
        "\n",
        "        top_200_pred = top_500.nlargest(200, \"predictions\")\n",
        "\n",
        "        predicted_volume = top_200_pred['target']\n",
        "        total_revenue = 4.5 * predicted_volume.sum() * 1000\n",
        "        total_cost = budget\n",
        "        profit = total_revenue - total_cost\n",
        "\n",
        "        profits.append(profit)\n",
        "         # Calculate mean and confidence interval\n",
        "        mean_profit = np.mean(profits)\n",
        "        lower_ci = np.percentile(profits, (alpha/2)*100)\n",
        "        upper_ci = np.percentile(profits, (1-alpha/2)*100)\n",
        "\n",
        "        # Calculate loss probability\n",
        "        loss_probability = sum([1 for profit in profits if profit < 0]) / len(profits)\n",
        "        loss_percentage = loss_probability * 100\n",
        "\n",
        "    return mean_profit, lower_ci, upper_ci, loss_percentage"
      ]
    },
    {
      "cell_type": "code",
      "execution_count": null,
      "metadata": {
        "id": "MG2dv9hL5Ns4",
        "outputId": "09ae61ce-77b6-4403-831f-2fe31bf6d13d"
      },
      "outputs": [
        {
          "data": {
            "text/plain": [
              "(3969756.4334402536, -1190995.9659775821, 9142530.09961154, 6.6000000000000005)"
            ]
          },
          "execution_count": 28,
          "metadata": {},
          "output_type": "execute_result"
        }
      ],
      "source": [
        "# Region 1\n",
        "bootstrap_profit(region1_predictions_df)"
      ]
    },
    {
      "cell_type": "code",
      "execution_count": null,
      "metadata": {
        "id": "ZA3VDkBL5Ns5",
        "outputId": "9f56bea9-703b-4059-8798-d48fed48ea50"
      },
      "outputs": [
        {
          "data": {
            "text/plain": [
              "(4561332.429502339, 702245.1674567886, 8451193.680997044, 1.0999999999999999)"
            ]
          },
          "execution_count": 30,
          "metadata": {},
          "output_type": "execute_result"
        }
      ],
      "source": [
        "# Region 2\n",
        "bootstrap_profit(region2_predictions_df)"
      ]
    },
    {
      "cell_type": "code",
      "execution_count": null,
      "metadata": {
        "id": "s0UgSKOS5Ns5",
        "outputId": "7be8a1a0-71a0-47eb-d18a-2224d0ba2fc9"
      },
      "outputs": [
        {
          "data": {
            "text/plain": [
              "(3923835.0497809616, -1278518.6999147288, 9055778.57150573, 8.3)"
            ]
          },
          "execution_count": 31,
          "metadata": {},
          "output_type": "execute_result"
        }
      ],
      "source": [
        "# Region 3\n",
        "bootstrap_profit(region3_predictions_df)"
      ]
    },
    {
      "cell_type": "markdown",
      "metadata": {
        "id": "O0ub87cR5Ns6"
      },
      "source": [
        "# Conclusion"
      ]
    },
    {
      "cell_type": "markdown",
      "metadata": {
        "id": "3bS51Y_D5Ns7"
      },
      "source": [
        "- Finalmente con la tecnica boostrapping podemos ver que el beneficio promedio mas alto es para la region 2 y con nuestros analisis anteriores la region 3 fue la mejor con el volumen promedio esperado. Entonces si tuviera que escoger una region para la creacion de pozos seria la region 2 debido a que tras realizar bootstrapping nos da que el beneficio promedio mas alto es para la region 2."
      ]
    }
  ],
  "metadata": {
    "kernelspec": {
      "display_name": "Python 3 (ipykernel)",
      "language": "python",
      "name": "python3"
    },
    "language_info": {
      "codemirror_mode": {
        "name": "ipython",
        "version": 3
      },
      "file_extension": ".py",
      "mimetype": "text/x-python",
      "name": "python",
      "nbconvert_exporter": "python",
      "pygments_lexer": "ipython3",
      "version": "3.9.5"
    },
    "toc": {
      "base_numbering": 1,
      "nav_menu": {},
      "number_sections": true,
      "sideBar": true,
      "skip_h1_title": false,
      "title_cell": "Table of Contents",
      "title_sidebar": "Contents",
      "toc_cell": false,
      "toc_position": {
        "height": "calc(100% - 180px)",
        "left": "10px",
        "top": "150px",
        "width": "261px"
      },
      "toc_section_display": true,
      "toc_window_display": true
    },
    "colab": {
      "provenance": []
    }
  },
  "nbformat": 4,
  "nbformat_minor": 0
}