{
  "cells": [
    {
      "cell_type": "markdown",
      "metadata": {
        "id": "857Plp51wILz"
      },
      "source": [
        "# Introduccion"
      ]
    },
    {
      "cell_type": "markdown",
      "metadata": {
        "id": "f9pcMWjVwIL0"
      },
      "source": [
        "- En este proyecto necesitamos predecir si un cliente dejará el banco pronto. Tú tienes los datos sobre el comportamiento pasado de los clientes y la terminación de contratos con el banco.\n",
        "\n",
        "1. Crea un modelo con el máximo valor F1 posible. Para aprobar la revisión, necesitas un valor F1 de al menos 0.59. Verifica F1 para el conjunto de prueba.\n",
        "2. Además, debes medir la métrica AUC-ROC y compararla con el valor F1.\n",
        "3. Examina el equilibrio de clases. Entrena el modelo sin tener en cuenta el desequilibrio. Describe brevemente tus hallazgos.\n",
        "4. Mejora la calidad del modelo. Asegúrate de utilizar al menos dos enfoques para corregir el desequilibrio de clases. Utiliza conjuntos de entrenamiento y validación para encontrar el mejor modelo y el mejor conjunto de parámetros. Entrena diferentes modelos en los conjuntos de entrenamiento y validación. Encuentra el mejor. Describe brevemente tus hallazgos.\n",
        "5. Realiza la prueba final."
      ]
    },
    {
      "cell_type": "markdown",
      "metadata": {
        "id": "w63feDzmwIL1"
      },
      "source": [
        "# Contenido\n",
        "* [1. Introducción]\n",
        "* [2. Contenidos]\n",
        "* [3. Inicialización]\n",
        "    * [3.1 Cargar las librerias]\n",
        "    * [3.2 Cargar los datos]\n",
        "* [4. Segmentación de datos]\n",
        "    * [4.1 Generacion del modelo]\n",
        "    * [4.2 Creacion del arbol de decision]\n",
        "* [5. Conclusiones]"
      ]
    },
    {
      "cell_type": "markdown",
      "metadata": {
        "id": "f6f3u4SDwIL2"
      },
      "source": [
        "# Inicializacion"
      ]
    },
    {
      "cell_type": "markdown",
      "metadata": {
        "id": "abKsxHUAwIL2"
      },
      "source": [
        "## Cargar las librerias"
      ]
    },
    {
      "cell_type": "code",
      "execution_count": null,
      "metadata": {
        "id": "M5vCgqk4wIL3"
      },
      "outputs": [],
      "source": [
        "# Cargar todas las librerías\n",
        "import pandas as pd\n",
        "import numpy as np\n",
        "from sklearn.metrics import mean_squared_error, accuracy_score, confusion_matrix, recall_score, precision_score, f1_score, r2_score, roc_auc_score, mean_absolute_error\n",
        "from sklearn.tree import DecisionTreeRegressor, DecisionTreeClassifier\n",
        "from sklearn.model_selection import train_test_split, GridSearchCV, StratifiedKFold\n",
        "from sklearn.ensemble import RandomForestRegressor, RandomForestClassifier\n",
        "from sklearn.linear_model import LinearRegression, LogisticRegression\n",
        "from sklearn.preprocessing import OrdinalEncoder, StandardScaler\n",
        "from sklearn.utils import shuffle\n",
        "import matplotlib.pyplot as plt"
      ]
    },
    {
      "cell_type": "markdown",
      "metadata": {
        "id": "wHzNPJlxwIL4"
      },
      "source": [
        "## Cargar los datos"
      ]
    },
    {
      "cell_type": "code",
      "execution_count": null,
      "metadata": {
        "id": "jDGXXhgpwIL5"
      },
      "outputs": [],
      "source": [
        "data = pd.read_csv('/datasets/Churn.csv')"
      ]
    },
    {
      "cell_type": "code",
      "execution_count": null,
      "metadata": {
        "id": "BiHbQDdKwIL7",
        "outputId": "33212dff-6503-48c2-e076-da72069fcbfd"
      },
      "outputs": [
        {
          "data": {
            "text/plain": [
              "(10000, 14)"
            ]
          },
          "metadata": {},
          "output_type": "display_data"
        },
        {
          "name": "stdout",
          "output_type": "stream",
          "text": [
            "<class 'pandas.core.frame.DataFrame'>\n",
            "RangeIndex: 10000 entries, 0 to 9999\n",
            "Data columns (total 14 columns):\n",
            " #   Column           Non-Null Count  Dtype  \n",
            "---  ------           --------------  -----  \n",
            " 0   RowNumber        10000 non-null  int64  \n",
            " 1   CustomerId       10000 non-null  int64  \n",
            " 2   Surname          10000 non-null  object \n",
            " 3   CreditScore      10000 non-null  int64  \n",
            " 4   Geography        10000 non-null  object \n",
            " 5   Gender           10000 non-null  object \n",
            " 6   Age              10000 non-null  int64  \n",
            " 7   Tenure           9091 non-null   float64\n",
            " 8   Balance          10000 non-null  float64\n",
            " 9   NumOfProducts    10000 non-null  int64  \n",
            " 10  HasCrCard        10000 non-null  int64  \n",
            " 11  IsActiveMember   10000 non-null  int64  \n",
            " 12  EstimatedSalary  10000 non-null  float64\n",
            " 13  Exited           10000 non-null  int64  \n",
            "dtypes: float64(3), int64(8), object(3)\n",
            "memory usage: 1.1+ MB\n"
          ]
        },
        {
          "data": {
            "text/plain": [
              "None"
            ]
          },
          "metadata": {},
          "output_type": "display_data"
        },
        {
          "data": {
            "text/html": [
              "<div>\n",
              "<style scoped>\n",
              "    .dataframe tbody tr th:only-of-type {\n",
              "        vertical-align: middle;\n",
              "    }\n",
              "\n",
              "    .dataframe tbody tr th {\n",
              "        vertical-align: top;\n",
              "    }\n",
              "\n",
              "    .dataframe thead th {\n",
              "        text-align: right;\n",
              "    }\n",
              "</style>\n",
              "<table border=\"1\" class=\"dataframe\">\n",
              "  <thead>\n",
              "    <tr style=\"text-align: right;\">\n",
              "      <th></th>\n",
              "      <th>RowNumber</th>\n",
              "      <th>CustomerId</th>\n",
              "      <th>Surname</th>\n",
              "      <th>CreditScore</th>\n",
              "      <th>Geography</th>\n",
              "      <th>Gender</th>\n",
              "      <th>Age</th>\n",
              "      <th>Tenure</th>\n",
              "      <th>Balance</th>\n",
              "      <th>NumOfProducts</th>\n",
              "      <th>HasCrCard</th>\n",
              "      <th>IsActiveMember</th>\n",
              "      <th>EstimatedSalary</th>\n",
              "      <th>Exited</th>\n",
              "    </tr>\n",
              "  </thead>\n",
              "  <tbody>\n",
              "    <tr>\n",
              "      <th>0</th>\n",
              "      <td>1</td>\n",
              "      <td>15634602</td>\n",
              "      <td>Hargrave</td>\n",
              "      <td>619</td>\n",
              "      <td>France</td>\n",
              "      <td>Female</td>\n",
              "      <td>42</td>\n",
              "      <td>2.0</td>\n",
              "      <td>0.00</td>\n",
              "      <td>1</td>\n",
              "      <td>1</td>\n",
              "      <td>1</td>\n",
              "      <td>101348.88</td>\n",
              "      <td>1</td>\n",
              "    </tr>\n",
              "    <tr>\n",
              "      <th>1</th>\n",
              "      <td>2</td>\n",
              "      <td>15647311</td>\n",
              "      <td>Hill</td>\n",
              "      <td>608</td>\n",
              "      <td>Spain</td>\n",
              "      <td>Female</td>\n",
              "      <td>41</td>\n",
              "      <td>1.0</td>\n",
              "      <td>83807.86</td>\n",
              "      <td>1</td>\n",
              "      <td>0</td>\n",
              "      <td>1</td>\n",
              "      <td>112542.58</td>\n",
              "      <td>0</td>\n",
              "    </tr>\n",
              "    <tr>\n",
              "      <th>2</th>\n",
              "      <td>3</td>\n",
              "      <td>15619304</td>\n",
              "      <td>Onio</td>\n",
              "      <td>502</td>\n",
              "      <td>France</td>\n",
              "      <td>Female</td>\n",
              "      <td>42</td>\n",
              "      <td>8.0</td>\n",
              "      <td>159660.80</td>\n",
              "      <td>3</td>\n",
              "      <td>1</td>\n",
              "      <td>0</td>\n",
              "      <td>113931.57</td>\n",
              "      <td>1</td>\n",
              "    </tr>\n",
              "    <tr>\n",
              "      <th>3</th>\n",
              "      <td>4</td>\n",
              "      <td>15701354</td>\n",
              "      <td>Boni</td>\n",
              "      <td>699</td>\n",
              "      <td>France</td>\n",
              "      <td>Female</td>\n",
              "      <td>39</td>\n",
              "      <td>1.0</td>\n",
              "      <td>0.00</td>\n",
              "      <td>2</td>\n",
              "      <td>0</td>\n",
              "      <td>0</td>\n",
              "      <td>93826.63</td>\n",
              "      <td>0</td>\n",
              "    </tr>\n",
              "    <tr>\n",
              "      <th>4</th>\n",
              "      <td>5</td>\n",
              "      <td>15737888</td>\n",
              "      <td>Mitchell</td>\n",
              "      <td>850</td>\n",
              "      <td>Spain</td>\n",
              "      <td>Female</td>\n",
              "      <td>43</td>\n",
              "      <td>2.0</td>\n",
              "      <td>125510.82</td>\n",
              "      <td>1</td>\n",
              "      <td>1</td>\n",
              "      <td>1</td>\n",
              "      <td>79084.10</td>\n",
              "      <td>0</td>\n",
              "    </tr>\n",
              "  </tbody>\n",
              "</table>\n",
              "</div>"
            ],
            "text/plain": [
              "   RowNumber  CustomerId   Surname  CreditScore Geography  Gender  Age  \\\n",
              "0          1    15634602  Hargrave          619    France  Female   42   \n",
              "1          2    15647311      Hill          608     Spain  Female   41   \n",
              "2          3    15619304      Onio          502    France  Female   42   \n",
              "3          4    15701354      Boni          699    France  Female   39   \n",
              "4          5    15737888  Mitchell          850     Spain  Female   43   \n",
              "\n",
              "   Tenure    Balance  NumOfProducts  HasCrCard  IsActiveMember  \\\n",
              "0     2.0       0.00              1          1               1   \n",
              "1     1.0   83807.86              1          0               1   \n",
              "2     8.0  159660.80              3          1               0   \n",
              "3     1.0       0.00              2          0               0   \n",
              "4     2.0  125510.82              1          1               1   \n",
              "\n",
              "   EstimatedSalary  Exited  \n",
              "0        101348.88       1  \n",
              "1        112542.58       0  \n",
              "2        113931.57       1  \n",
              "3         93826.63       0  \n",
              "4         79084.10       0  "
            ]
          },
          "metadata": {},
          "output_type": "display_data"
        }
      ],
      "source": [
        "display(data.shape)\n",
        "display(data.info())\n",
        "display(data.head())"
      ]
    },
    {
      "cell_type": "markdown",
      "metadata": {
        "id": "d2TNKpnrwIL8"
      },
      "source": [
        "- Podemos observar que nos encontramos con algunos valores faltantes en la columna Tenure en la cual decidí imputar con el promedio general de la columna, en un escenario real preguntaria a mis superiores para saber la causa raiz de los valores faltantes."
      ]
    },
    {
      "cell_type": "markdown",
      "metadata": {
        "id": "Pp55SZelwIL9"
      },
      "source": [
        "## Imputar datos faltantes"
      ]
    },
    {
      "cell_type": "code",
      "execution_count": null,
      "metadata": {
        "id": "AyMp3SW2wIL-"
      },
      "outputs": [],
      "source": [
        "# Imputar con la media y cambiar la columna a int\n",
        "mean = np.ceil(data['Tenure'].mean())\n",
        "data['Tenure'] = data['Tenure'].fillna(mean)"
      ]
    },
    {
      "cell_type": "code",
      "execution_count": null,
      "metadata": {
        "id": "uPETrd0TwIL_"
      },
      "outputs": [],
      "source": [
        "data['Tenure'] = data['Tenure'].astype('int64')"
      ]
    },
    {
      "cell_type": "markdown",
      "metadata": {
        "id": "-7_3KKAGwIMA"
      },
      "source": [
        "# Segmentacion y generacion de modelos"
      ]
    },
    {
      "cell_type": "code",
      "execution_count": null,
      "metadata": {
        "id": "LUK1iT65wIMB",
        "outputId": "319b2503-602a-4d5d-a92b-a27313213f93"
      },
      "outputs": [
        {
          "name": "stdout",
          "output_type": "stream",
          "text": [
            "<class 'pandas.core.frame.DataFrame'>\n",
            "RangeIndex: 10000 entries, 0 to 9999\n",
            "Data columns (total 11 columns):\n",
            " #   Column           Non-Null Count  Dtype  \n",
            "---  ------           --------------  -----  \n",
            " 0   CreditScore      10000 non-null  int64  \n",
            " 1   Geography        10000 non-null  object \n",
            " 2   Gender           10000 non-null  object \n",
            " 3   Age              10000 non-null  int64  \n",
            " 4   Tenure           10000 non-null  int64  \n",
            " 5   Balance          10000 non-null  float64\n",
            " 6   NumOfProducts    10000 non-null  int64  \n",
            " 7   HasCrCard        10000 non-null  int64  \n",
            " 8   IsActiveMember   10000 non-null  int64  \n",
            " 9   EstimatedSalary  10000 non-null  float64\n",
            " 10  Exited           10000 non-null  int64  \n",
            "dtypes: float64(2), int64(7), object(2)\n",
            "memory usage: 859.5+ KB\n"
          ]
        },
        {
          "data": {
            "text/plain": [
              "None"
            ]
          },
          "metadata": {},
          "output_type": "display_data"
        }
      ],
      "source": [
        "data = data.drop(['Surname', 'RowNumber', 'CustomerId'], axis=1)\n",
        "display(data.info())"
      ]
    },
    {
      "cell_type": "code",
      "execution_count": null,
      "metadata": {
        "id": "GEVk_diowIMC",
        "outputId": "f69a9868-93b0-4d86-9498-e85e1dc209d0"
      },
      "outputs": [
        {
          "data": {
            "image/png": "[encoded data removed]",
            "text/plain": [
              "<Figure size 432x288 with 1 Axes>"
            ]
          },
          "metadata": {
            "needs_background": "light"
          },
          "output_type": "display_data"
        }
      ],
      "source": [
        "# Examina el equilibrio de clases. Entrena el modelo sin tener en cuenta el desequilibrio\n",
        "data['Exited'].value_counts().plot(kind='bar')\n",
        "plt.title('Distribución de la variable objetivo \"Exited\"')\n",
        "plt.xlabel('Exited')\n",
        "plt.ylabel('Frecuencia')\n",
        "plt.show()"
      ]
    },
    {
      "cell_type": "markdown",
      "metadata": {
        "id": "4LeBt-2GwIMD"
      },
      "source": [
        "- Con este diagrama de barras podemos examinar el equilibrio de clases para la variable objetivo \"Exited\" la cual nos indica que la probabilidad de que un cliente salga del banco sin tomar en cuenta el desequilibrio, con estos datos se procedera a entrenar un modelo de regresion logistica."
      ]
    },
    {
      "cell_type": "code",
      "execution_count": null,
      "metadata": {
        "id": "31DcgkEhwIMD"
      },
      "outputs": [],
      "source": [
        "# Se aplica OHE a las columnas \"Geography\" y \"Gender\" y se elimina la columna original Geography\n",
        "data = pd.get_dummies(data, columns=['Gender'], drop_first=True)\n",
        "geo_dummies = pd.get_dummies(data['Geography'], prefix='geo')\n",
        "data = pd.concat([data, geo_dummies], axis=1)\n",
        "data.drop('Geography', axis=1, inplace=True)"
      ]
    },
    {
      "cell_type": "code",
      "execution_count": null,
      "metadata": {
        "id": "ijNYt-J5wIME"
      },
      "outputs": [],
      "source": [
        "# Segmentamos el dataframe en 3 partes, el conjunto de entrenamiento corresponde al 60% de los datos, el de prueba al 20% y el de validación al 20%\n",
        "data_train, data_test = train_test_split(data, test_size=0.20, random_state=54321)\n",
        "data_train, data_valid = train_test_split(data_train, test_size=0.25, random_state=54321)"
      ]
    },
    {
      "cell_type": "code",
      "execution_count": null,
      "metadata": {
        "id": "vIbKDeAVwIMF"
      },
      "outputs": [],
      "source": [
        "# Se declaran caracteristicas y objetivos para los diferentes conjuntos de datos\n",
        "features_train = data_train.drop(['Exited'], axis=1)\n",
        "target_train = data_train['Exited']\n",
        "features_valid = data_valid.drop(['Exited'], axis=1)\n",
        "target_valid = data_valid['Exited']\n",
        "features_test = data_test.drop(['Exited'], axis=1)\n",
        "target_test = data_test['Exited']"
      ]
    },
    {
      "cell_type": "markdown",
      "metadata": {
        "id": "alp8eTuswIMF"
      },
      "source": [
        "## Regresion logistica"
      ]
    },
    {
      "cell_type": "code",
      "execution_count": null,
      "metadata": {
        "scrolled": true,
        "id": "9diDzAZOwIMG",
        "outputId": "9b9d4203-0234-4803-dbbc-1b8336aa0d58"
      },
      "outputs": [
        {
          "name": "stdout",
          "output_type": "stream",
          "text": [
            "Accuracy del modelo de regresión logística en el conjunto de entrenamiento: 0.7956666666666666\n"
          ]
        }
      ],
      "source": [
        "# Crear un modelo de regresión logística\n",
        "model = LogisticRegression(random_state = 54321, solver='liblinear')\n",
        "model.fit(features_train, target_train)\n",
        "target_prediction = model.predict(features_test)\n",
        "\n",
        "# Calcular la precisión del modelo\n",
        "score_train = model.score(features_train, target_train)\n",
        "\n",
        "print(\"Accuracy del modelo de regresión logística en el conjunto de entrenamiento:\", score_train)"
      ]
    },
    {
      "cell_type": "markdown",
      "metadata": {
        "id": "MjYmVPB1wIMG"
      },
      "source": [
        "- Aqui podemos observar que el modelo sin ajustar con una regresion logistcia tiene un 79% de precision."
      ]
    },
    {
      "cell_type": "markdown",
      "metadata": {
        "id": "0u8Pj6NEwIMG"
      },
      "source": [
        "## Bosque aleatorio"
      ]
    },
    {
      "cell_type": "code",
      "execution_count": null,
      "metadata": {
        "id": "yxYfRo8SwIMH",
        "outputId": "188725ef-97d5-4e10-c4e3-d05b8a2ebf08"
      },
      "outputs": [
        {
          "name": "stdout",
          "output_type": "stream",
          "text": [
            "Accuracy del mejor modelo en el conjunto de validacion (n_estimators = 41): 0.8445\n"
          ]
        }
      ],
      "source": [
        "# Bosque aleatorio de decisión conjunto de entrenamiento\n",
        "best_score = 0\n",
        "best_est = 0\n",
        "for est in range(1, 51, 10): # selecciona el rango del hiperparámetro\n",
        "    model = RandomForestClassifier(random_state=54321, n_estimators=est, min_samples_split=2)\n",
        "    model.fit(features_train, target_train)\n",
        "    score = model.score(features_valid, target_valid)\n",
        "    if score > best_score:\n",
        "        best_score = score\n",
        "        best_est = est\n",
        "\n",
        "print(\"Accuracy del mejor modelo en el conjunto de validacion (n_estimators = {}): {}\".format(best_est, best_score))"
      ]
    },
    {
      "cell_type": "markdown",
      "metadata": {
        "id": "i3CebRs4wIMI"
      },
      "source": [
        "- Aqui con este modelo de bosque aleatorio dimos con una exactitud del 84% para el conjunto de entrenamiento en el estimador 41."
      ]
    },
    {
      "cell_type": "markdown",
      "metadata": {
        "id": "KPzlwXWMwIMI"
      },
      "source": [
        "## Arbol de decision"
      ]
    },
    {
      "cell_type": "code",
      "execution_count": null,
      "metadata": {
        "id": "nAu93Wm4wIMI",
        "outputId": "a77b5b6b-79ba-4e0c-f08d-5d4898b0b304"
      },
      "outputs": [
        {
          "name": "stdout",
          "output_type": "stream",
          "text": [
            "Accuracy del mejor modelo en el conjunto de validación (depth = 6): 0.8495\n"
          ]
        }
      ],
      "source": [
        "# Arbol de decisión conjunto de entrenamiento\n",
        "best_tree = 0\n",
        "best_depth = 0\n",
        "score_one = 0\n",
        "for depth in range(1, 51): # selecciona el rango del hiperparámetro\n",
        "    tree = DecisionTreeClassifier(random_state=54321, max_depth = depth,  min_samples_leaf=1)\n",
        "    tree.fit(features_train, target_train)\n",
        "    score_one = tree.score(features_valid, target_valid)\n",
        "    if score_one > best_tree:\n",
        "        best_tree = score_one\n",
        "        best_depth = depth\n",
        "\n",
        "print(\"Accuracy del mejor modelo en el conjunto de validación (depth = {}): {}\".format(best_depth, best_tree))"
      ]
    },
    {
      "cell_type": "markdown",
      "metadata": {
        "id": "1UOlrCIlwIMY"
      },
      "source": [
        "- Para este arbol de decision el mejor modelo es con una profundidad de 6 y nos da una exactitud del 85%."
      ]
    },
    {
      "cell_type": "markdown",
      "metadata": {
        "id": "1H9S6nQFwIMY"
      },
      "source": [
        "# Sobremuestreo"
      ]
    },
    {
      "cell_type": "markdown",
      "metadata": {
        "id": "ewGTAY9QwIMY"
      },
      "source": [
        "## Conjunto de validacion"
      ]
    },
    {
      "cell_type": "code",
      "execution_count": null,
      "metadata": {
        "id": "AKFOwvu_wIMZ",
        "outputId": "ffca7672-1200-45b7-d84a-725849bdc943"
      },
      "outputs": [
        {
          "name": "stdout",
          "output_type": "stream",
          "text": [
            "F1 con sobremuestreo para el conjunto de validacion: 0.38120805369127514\n",
            "AUC-ROC con sobremuestreo para el conjunto de validacion: 0.73956052254021\n"
          ]
        }
      ],
      "source": [
        "# Se define la funcion upsample para corregir el sobremuestreo para el conjunto de validacion con regresion logistica\n",
        "def upsample(features, target, repeat):\n",
        "    features_zeros = features[target == 0]\n",
        "    features_ones = features[target == 1]\n",
        "    target_zeros = target[target == 0]\n",
        "    target_ones = target[target == 1]\n",
        "\n",
        "    features_upsampled = pd.concat([features_zeros] + [features_ones] * repeat)\n",
        "    target_upsampled = pd.concat([target_zeros] + [target_ones] * repeat)\n",
        "\n",
        "    features_upsampled, target_upsampled = shuffle(\n",
        "        features_upsampled, target_upsampled, random_state=54321\n",
        "    )\n",
        "\n",
        "    return features_upsampled, target_upsampled\n",
        "\n",
        "\n",
        "features_upsampled, target_upsampled = upsample(\n",
        "    features_train, target_train, 10\n",
        ")\n",
        "\n",
        "model_one = LogisticRegression(random_state=54321, solver='liblinear')\n",
        "model_one.fit(features_upsampled, target_upsampled)\n",
        "predicted_valid = model_one.predict(features_valid)\n",
        "probabilities_valid = model_one.predict_proba(features_valid)[:, 1]\n",
        "\n",
        "print('F1 con sobremuestreo para el conjunto de validacion:', f1_score(target_valid, predicted_valid))\n",
        "print('AUC-ROC con sobremuestreo para el conjunto de validacion:', roc_auc_score(target_valid, probabilities_valid))"
      ]
    },
    {
      "cell_type": "code",
      "execution_count": null,
      "metadata": {
        "id": "SdggzgX2wIMa",
        "outputId": "9c5b653c-2bb4-44aa-f5a7-f0fff19d1b0d"
      },
      "outputs": [
        {
          "name": "stdout",
          "output_type": "stream",
          "text": [
            "Accuracy del mejor modelo en el conjunto de validacion (n_estimators = 41): 0.8445\n",
            "F1 con sobremuestreo para el conjunto de validacion: 0.5865030674846625\n",
            "AUC-ROC con sobremuestreo para el conjunto de validacion: 0.837069220894638\n"
          ]
        }
      ],
      "source": [
        "# Bosque aleatorio para el conjunto de validacion con sobremuestreo\n",
        "features_upsampled, target_upsampled = upsample(features_train, target_train, 10)\n",
        "\n",
        "for est in range(1, 51, 10): # selecciona el rango del hiperparámetro\n",
        "    model_two = RandomForestClassifier(random_state=54321, n_estimators=est)\n",
        "    model_two.fit(features_upsampled, target_upsampled)\n",
        "    score = model_two.score(features_valid, target_valid)\n",
        "    if score > best_score:\n",
        "        best_score = score\n",
        "        best_est = est\n",
        "\n",
        "predicted_valid_two = model_two.predict(features_valid)\n",
        "probabilities_valid_two = model_two.predict_proba(features_valid)[:, 1]\n",
        "\n",
        "print(\"Accuracy del mejor modelo en el conjunto de validacion (n_estimators = {}): {}\".format(best_est, best_score))\n",
        "print('F1 con sobremuestreo para el conjunto de validacion:', f1_score(target_valid, predicted_valid_two))\n",
        "print('AUC-ROC con sobremuestreo para el conjunto de validacion:', roc_auc_score(target_valid, probabilities_valid_two))"
      ]
    },
    {
      "cell_type": "code",
      "execution_count": null,
      "metadata": {
        "id": "l8foKIMawIMa",
        "outputId": "0909768a-5cef-4443-a04d-58eba1e85132"
      },
      "outputs": [
        {
          "name": "stdout",
          "output_type": "stream",
          "text": [
            "Accuracy del mejor modelo en el conjunto de validación (depth = 6): 0.8495\n",
            "F1 con sobremuestreo para el conjunto de validacion: 0.5214285714285715\n",
            "AUC-ROC con sobremuestreo para el conjunto de validacion: 0.6902921136856046\n"
          ]
        }
      ],
      "source": [
        "# Arbol de decision para el conjunto de validacion con sobremuestreo\n",
        "features_upsampled, target_upsampled = upsample(features_train, target_train, 10)\n",
        "\n",
        "for depth in range(1, 51): # selecciona el rango del hiperparámetro\n",
        "    model_three = DecisionTreeClassifier(random_state=54321, max_depth = depth,  min_samples_leaf=1)\n",
        "    model_three.fit(features_upsampled, target_upsampled)\n",
        "    score_one = model_three.score(features_valid, target_valid)\n",
        "    if score_one > best_tree:\n",
        "        best_tree = score_one\n",
        "        best_depth = depth\n",
        "\n",
        "predicted_valid_three = model_three.predict(features_valid)\n",
        "probabilities_valid_three = model_three.predict_proba(features_valid)[:, 1]\n",
        "\n",
        "print(\"Accuracy del mejor modelo en el conjunto de validación (depth = {}): {}\".format(best_depth, best_tree))\n",
        "print('F1 con sobremuestreo para el conjunto de validacion:', f1_score(target_valid, predicted_valid_three))\n",
        "print('AUC-ROC con sobremuestreo para el conjunto de validacion:', roc_auc_score(target_valid, probabilities_valid_three))"
      ]
    },
    {
      "cell_type": "markdown",
      "metadata": {
        "id": "QJ-tDeNKwIMb"
      },
      "source": [
        "- Tras haber realizado una prueba de f1 con sobremuestreo podemos observar que el mejor score para f1 es con un bosque aleatorio dandonos un f1 de 0.58 y un AUC-ROC de 0.83."
      ]
    },
    {
      "cell_type": "markdown",
      "metadata": {
        "id": "T48lkaRMwIMc"
      },
      "source": [
        "## Conjunto de entrenamiento"
      ]
    },
    {
      "cell_type": "code",
      "execution_count": null,
      "metadata": {
        "id": "x-5x1p3DwIMc",
        "outputId": "4d085389-c48d-4104-cfed-5af4cf66c20c"
      },
      "outputs": [
        {
          "name": "stdout",
          "output_type": "stream",
          "text": [
            "F1 con sobremuestreo para el conjunto de entrenamiento: 0.36005539313740575\n",
            "AUC-ROC con sobremuestreo para el conjunto de entrenamiento: 0.7159570610810881\n"
          ]
        }
      ],
      "source": [
        "# Se prueba con el sobremuestreo para el conjunto de entrenamiento con una regresion logistica\n",
        "features_upsampled, target_upsampled = upsample(features_train, target_train, 10)\n",
        "\n",
        "model_train = LogisticRegression(random_state=54321, solver='liblinear')\n",
        "model_train.fit(features_upsampled, target_upsampled)\n",
        "predicted_train = model_train.predict(features_train)\n",
        "probabilities_train = model_train.predict_proba(features_train)[:, 1]\n",
        "\n",
        "print('F1 con sobremuestreo para el conjunto de entrenamiento:', f1_score(target_train, predicted_train))\n",
        "print('AUC-ROC con sobremuestreo para el conjunto de entrenamiento:', roc_auc_score(target_train, probabilities_train))"
      ]
    },
    {
      "cell_type": "code",
      "execution_count": null,
      "metadata": {
        "id": "aF_yNZ8WwIMd",
        "outputId": "1c2e7c14-5b6b-4a1f-fb87-2be186046162"
      },
      "outputs": [
        {
          "name": "stdout",
          "output_type": "stream",
          "text": [
            "Accuracy del mejor modelo en el conjunto de entrenamiento (n_estimators = 41): 0.8445\n",
            "F1 con sobremuestreo para el conjunto de entrenamiento: 0.9995852343425965\n",
            "AUC-ROC con sobremuestreo para el conjunto de entrenamiento: 1.0\n"
          ]
        }
      ],
      "source": [
        "# Bosque aleatorio para el conjunto de entrenamiento\n",
        "features_upsampled, target_upsampled = upsample(features_train, target_train, 10)\n",
        "\n",
        "for est in range(1, 51, 10): # selecciona el rango del hiperparámetro\n",
        "    model_train_two = RandomForestClassifier(random_state=54321, n_estimators=est)\n",
        "    model_train_two.fit(features_upsampled, target_upsampled)\n",
        "    score = model_train_two.score(features_valid, target_valid)\n",
        "    if score > best_score:\n",
        "        best_score = score\n",
        "        best_est = est\n",
        "\n",
        "predicted_train_two = model_train_two.predict(features_train)\n",
        "probabilities_train_two = model_train_two.predict_proba(features_train)[:, 1]\n",
        "\n",
        "print(\"Accuracy del mejor modelo en el conjunto de entrenamiento (n_estimators = {}): {}\".format(best_est, best_score))\n",
        "print('F1 con sobremuestreo para el conjunto de entrenamiento:', f1_score(target_train, predicted_train_two))\n",
        "print('AUC-ROC con sobremuestreo para el conjunto de entrenamiento:', roc_auc_score(target_train, probabilities_train_two))"
      ]
    },
    {
      "cell_type": "code",
      "execution_count": null,
      "metadata": {
        "id": "0OgAo54ewIMe",
        "outputId": "fc8ef288-9a8d-4ea4-bc28-8b8e64be9602"
      },
      "outputs": [
        {
          "name": "stdout",
          "output_type": "stream",
          "text": [
            "Accuracy del mejor modelo en el conjunto de entrenamiento (depth = 6): 0.8495\n",
            "F1 con sobremuestreo para el conjunto de entrenamiento: 1.0\n",
            "AUC-ROC con sobremuestreo para el conjunto de entrenamiento: 1.0\n"
          ]
        }
      ],
      "source": [
        "# Arbol de decision para el conjunto de entrenamiento\n",
        "features_upsampled, target_upsampled = upsample(features_train, target_train, 10)\n",
        "\n",
        "for depth in range(1, 51): # selecciona el rango del hiperparámetro\n",
        "    model_train_three = DecisionTreeClassifier(random_state=54321, max_depth = depth,  min_samples_leaf=1)\n",
        "    model_train_three.fit(features_upsampled, target_upsampled)\n",
        "    score_one = model_train_three.score(features_valid, target_valid)\n",
        "    if score_one > best_tree:\n",
        "        best_tree = score_one\n",
        "        best_depth = depth\n",
        "\n",
        "predicted_train_three = model_train_three.predict(features_train)\n",
        "probabilities_train_three = model_train_three.predict_proba(features_train)[:, 1]\n",
        "\n",
        "print(\"Accuracy del mejor modelo en el conjunto de entrenamiento (depth = {}): {}\".format(best_depth, best_tree))\n",
        "print('F1 con sobremuestreo para el conjunto de entrenamiento:', f1_score(target_train, predicted_train_three))\n",
        "print('AUC-ROC con sobremuestreo para el conjunto de entrenamiento:', roc_auc_score(target_train, probabilities_train_three))"
      ]
    },
    {
      "cell_type": "markdown",
      "metadata": {
        "id": "vFcwMQWbwIMe"
      },
      "source": [
        "- De momento tras entrenar estos modelos con un sobreajuste podemos observar que el f1 para el conjunto de entrenamiento es de 33% y para el conjunto de validacion es de 36%. Y que el bosque aleatorio para el conjunto de validacion con sobreajuste nos da un f1 score de 0.5632. De igual manera podemos ver que para el bosque aleatorio para el conjunto de entrenamiento nos da un valor de 99.95% de f1."
      ]
    },
    {
      "cell_type": "markdown",
      "metadata": {
        "id": "AI63m-IrwIMf"
      },
      "source": [
        "# Submuestreo"
      ]
    },
    {
      "cell_type": "markdown",
      "metadata": {
        "id": "zdg-H-bQwIMg"
      },
      "source": [
        "## Conjunto de validacion"
      ]
    },
    {
      "cell_type": "code",
      "execution_count": null,
      "metadata": {
        "id": "6aDietoMwIMg",
        "outputId": "e21ad754-ca63-4bcb-81d5-66d86180239a"
      },
      "outputs": [
        {
          "name": "stdout",
          "output_type": "stream",
          "text": [
            "Accuracy del mejor modelo en el conjunto de validacion (n_estimators = 41): 0.8445\n",
            "F1 con submuestreo para el conjunto de validacion: 0.37775816416593117\n",
            "AUC-ROC con submuestreo para el conjunto de validacion: 0.7393470570809542\n"
          ]
        }
      ],
      "source": [
        "# Se define la funcion downsample para corregir el submuestreo para el conjunto de validacion\n",
        "def downsample(features, target, fraction):\n",
        "    features_zeros = features[target == 0]\n",
        "    features_ones = features[target == 1]\n",
        "    target_zeros = target[target == 0]\n",
        "    target_ones = target[target == 1]\n",
        "\n",
        "    features_downsampled = pd.concat(\n",
        "        [features_zeros.sample(frac=fraction, random_state=54321)]\n",
        "        + [features_ones]\n",
        "    )\n",
        "    target_downsampled = pd.concat(\n",
        "        [target_zeros.sample(frac=fraction, random_state=54321)]\n",
        "        + [target_ones]\n",
        "    )\n",
        "\n",
        "    features_downsampled, target_downsampled = shuffle(\n",
        "        features_downsampled, target_downsampled, random_state=54321\n",
        "    )\n",
        "\n",
        "    return features_downsampled, target_downsampled\n",
        "\n",
        "\n",
        "features_downsampled, target_downsampled = downsample(\n",
        "    features_train, target_train, 0.1\n",
        ")\n",
        "\n",
        "model_sub = LogisticRegression(random_state=54321, solver='liblinear')\n",
        "model_sub.fit(features_downsampled, target_downsampled)\n",
        "predicted_valid_sub = model_sub.predict(features_valid)\n",
        "probabilities_valid_sub = model_sub.predict_proba(features_valid)[:, 1]\n",
        "\n",
        "print(\"Accuracy del mejor modelo en el conjunto de validacion (n_estimators = {}): {}\".format(best_est, best_score))\n",
        "print('F1 con submuestreo para el conjunto de validacion:', f1_score(target_valid, predicted_valid_sub))\n",
        "print('AUC-ROC con submuestreo para el conjunto de validacion:', roc_auc_score(target_valid, probabilities_valid_sub))"
      ]
    },
    {
      "cell_type": "code",
      "execution_count": null,
      "metadata": {
        "id": "YpWBtZv5wIMj",
        "outputId": "c07d4fe0-85d4-4bd0-cc71-5f66e8df0b0b"
      },
      "outputs": [
        {
          "name": "stdout",
          "output_type": "stream",
          "text": [
            "Accuracy del mejor modelo en el conjunto de validacion (n_estimators = 41): 0.8445\n",
            "F1 con submuestreo para el conjunto de validacion: 0.5865030674846625\n",
            "AUC-ROC con submuestreo para el conjunto de validacion: 0.837069220894638\n"
          ]
        }
      ],
      "source": [
        "features_downsampled, target_downsampled = downsample(features_train, target_train, 0.1)\n",
        "\n",
        "for est in range(1, 51, 10): # selecciona el rango del hiperparámetro\n",
        "    model_sub_two = RandomForestClassifier(random_state=54321, n_estimators=est)\n",
        "    model_sub_two.fit(features_upsampled, target_upsampled)\n",
        "    score = model_sub_two.score(features_valid, target_valid)\n",
        "    if score > best_score:\n",
        "        best_score = score\n",
        "        best_est = est\n",
        "\n",
        "predicted_valid_sub_two = model_sub_two.predict(features_valid)\n",
        "probabilities_valid_sub_two = model_sub_two.predict_proba(features_valid)[:, 1]\n",
        "\n",
        "print(\"Accuracy del mejor modelo en el conjunto de validacion (n_estimators = {}): {}\".format(best_est, best_score))\n",
        "print('F1 con submuestreo para el conjunto de validacion:', f1_score(target_valid, predicted_valid_sub_two))\n",
        "print('AUC-ROC con submuestreo para el conjunto de validacion:', roc_auc_score(target_valid, probabilities_valid_sub_two))"
      ]
    },
    {
      "cell_type": "code",
      "execution_count": null,
      "metadata": {
        "id": "N6aNoJy4wIMk",
        "outputId": "b8d28a38-2b2f-417a-c21b-a1ec553ff44f"
      },
      "outputs": [
        {
          "name": "stdout",
          "output_type": "stream",
          "text": [
            "Accuracy del mejor modelo en el conjunto de validación (depth = 6): 0.8495\n",
            "F1 con submuestreo para el conjunto de validacion: 0.5214285714285715\n",
            "AUC-ROC con submuestreo para el conjunto de validacion: 0.6902921136856046\n"
          ]
        }
      ],
      "source": [
        "features_downsampled, target_downsampled = downsample(features_train, target_train, 0.1)\n",
        "\n",
        "for depth in range(1, 51): # selecciona el rango del hiperparámetro\n",
        "    model_sub_three = DecisionTreeClassifier(random_state=54321, max_depth = depth,  min_samples_leaf=1)\n",
        "    model_sub_three.fit(features_upsampled, target_upsampled)\n",
        "    score_one = model_sub_three.score(features_valid, target_valid)\n",
        "    if score_one > best_tree:\n",
        "        best_tree = score_one\n",
        "        best_depth = depth\n",
        "\n",
        "predicted_valid_sub_three = model_sub_three.predict(features_valid)\n",
        "probabilities_valid_sub_three = model_sub_three.predict_proba(features_valid)[:, 1]\n",
        "\n",
        "print(\"Accuracy del mejor modelo en el conjunto de validación (depth = {}): {}\".format(best_depth, best_tree))\n",
        "print('F1 con submuestreo para el conjunto de validacion:', f1_score(target_valid, predicted_valid_sub_three))\n",
        "print('AUC-ROC con submuestreo para el conjunto de validacion:', roc_auc_score(target_valid, probabilities_valid_sub_three))"
      ]
    },
    {
      "cell_type": "markdown",
      "metadata": {
        "id": "zAXITuyewIMl"
      },
      "source": [
        "- Para el submuestreo y el conjunto de validacion el mejor modelo fue bosque aleatorio que nos arroja un valor f1 de 0.58 y un valor de AUC-ROC de 0.83."
      ]
    },
    {
      "cell_type": "markdown",
      "metadata": {
        "id": "bukA4WXNwIMl"
      },
      "source": [
        "## Conjunto de entrenamiento"
      ]
    },
    {
      "cell_type": "code",
      "execution_count": null,
      "metadata": {
        "id": "xv17QHuTwIMm",
        "outputId": "c79b2d53-bbfd-40f1-f2ea-69b406221919"
      },
      "outputs": [
        {
          "name": "stdout",
          "output_type": "stream",
          "text": [
            "F1 con submuestreo para el conjunto de entrenamiento: 0.35644162513215527\n",
            "AUC-ROC con submuestreo para el conjunto de validacion: 0.7159560226549959\n"
          ]
        }
      ],
      "source": [
        "# Se define la funcion downsample para corregir el submuestreo para el conjunto de entrenamiento\n",
        "features_downsampled, target_downsampled = downsample(features_valid, target_valid, 0.1)\n",
        "\n",
        "model_sub_train = LogisticRegression(random_state=54321, solver='liblinear')\n",
        "model_sub_train.fit(features_downsampled, target_downsampled)\n",
        "predicted_train_sub = model_sub_train.predict(features_train)\n",
        "probabilities_train_sub = model_sub_train.predict_proba(features_train)[:, 1]\n",
        "\n",
        "print('F1 con submuestreo para el conjunto de entrenamiento:', f1_score(target_train, predicted_train_sub))\n",
        "print('AUC-ROC con submuestreo para el conjunto de validacion:', roc_auc_score(target_train, probabilities_train_sub))"
      ]
    },
    {
      "cell_type": "code",
      "execution_count": null,
      "metadata": {
        "id": "ODN3sKEEwIMm",
        "outputId": "33e6cf40-5421-4935-af12-ba968f93271f"
      },
      "outputs": [
        {
          "name": "stdout",
          "output_type": "stream",
          "text": [
            "Accuracy del mejor modelo en el conjunto de entrenamiento (n_estimators = 41): 0.8445\n",
            "F1 con submuestreo para el conjunto de entrenamiento: 0.9995852343425965\n",
            "AUC-ROC con submuestreo para el conjunto de entrenamiento: 1.0\n"
          ]
        }
      ],
      "source": [
        "features_downsampled, target_downsampled = downsample(features_valid, target_valid, 0.1)\n",
        "\n",
        "for est in range(1, 51, 10): # selecciona el rango del hiperparámetro\n",
        "    model_sub_train_two = RandomForestClassifier(random_state=54321, n_estimators=est)\n",
        "    model_sub_train_two.fit(features_upsampled, target_upsampled)\n",
        "    score = model_sub_train_two.score(features_valid, target_valid)\n",
        "    if score > best_score:\n",
        "        best_score = score\n",
        "        best_est = est\n",
        "\n",
        "predicted_train_sub_two = model_sub_train_two.predict(features_train)\n",
        "probabilities_train_sub_two = model_sub_train_two.predict_proba(features_train)[:, 1]\n",
        "\n",
        "print(\"Accuracy del mejor modelo en el conjunto de entrenamiento (n_estimators = {}): {}\".format(best_est, best_score))\n",
        "print('F1 con submuestreo para el conjunto de entrenamiento:', f1_score(target_train, predicted_train_sub_two))\n",
        "print('AUC-ROC con submuestreo para el conjunto de entrenamiento:', roc_auc_score(target_train, probabilities_train_sub_two))"
      ]
    },
    {
      "cell_type": "code",
      "execution_count": null,
      "metadata": {
        "id": "zneaFwDMwIMn",
        "outputId": "694143c3-485a-4347-a223-b46ba22193b7"
      },
      "outputs": [
        {
          "name": "stdout",
          "output_type": "stream",
          "text": [
            "Accuracy del mejor modelo en el conjunto de validación (depth = 6): 0.8495\n",
            "F1 con submuestreo para el conjunto de entrenamiento: 1.0\n",
            "AUC-ROC con submuestreo para el conjunto de entrenamiento: 1.0\n"
          ]
        }
      ],
      "source": [
        "features_downsampled, target_downsampled = downsample(features_valid, target_valid, 0.1)\n",
        "\n",
        "for depth in range(1, 51): # selecciona el rango del hiperparámetro\n",
        "    model_sub_train_three = DecisionTreeClassifier(random_state=54321, max_depth = depth,  min_samples_leaf=1)\n",
        "    model_sub_train_three.fit(features_upsampled, target_upsampled)\n",
        "    score_one = model_sub_train_three.score(features_valid, target_valid)\n",
        "    if score_one > best_tree:\n",
        "        best_tree = score_one\n",
        "        best_depth = depth\n",
        "\n",
        "predicted_train_sub_three = model_sub_train_three.predict(features_train)\n",
        "probabilities_train_sub_three = model_sub_train_three.predict_proba(features_train)[:, 1]\n",
        "\n",
        "print(\"Accuracy del mejor modelo en el conjunto de validación (depth = {}): {}\".format(best_depth, best_tree))\n",
        "print('F1 con submuestreo para el conjunto de entrenamiento:', f1_score(target_train, predicted_train_sub_three))\n",
        "print('AUC-ROC con submuestreo para el conjunto de entrenamiento:', roc_auc_score(target_train, probabilities_train_sub_three))"
      ]
    },
    {
      "cell_type": "markdown",
      "metadata": {
        "id": "TrlFQN5JwIMn"
      },
      "source": [
        "- Para el conjunto de entrenamiento el mejor modelo fue un arbol de decision que nos da un valor f1 de 0.43 y un AUC-ROC de 0.72."
      ]
    },
    {
      "cell_type": "markdown",
      "metadata": {
        "id": "sNcjv8J_wIMn"
      },
      "source": [
        "- En conclusion para la generacion de modelos podemos decir que el mejor modelo posible fue un bosque aleatorio para el conjunto de entrenamiento con sobremuestreo dandonos un valor f1 de 99.9% y un AUC-ROC de 0.57."
      ]
    },
    {
      "cell_type": "markdown",
      "metadata": {
        "id": "DGrVA9Q6wIMo"
      },
      "source": [
        "# Modelo final"
      ]
    },
    {
      "cell_type": "code",
      "execution_count": null,
      "metadata": {
        "id": "4yvQZTwhwIMo",
        "outputId": "20b776da-eab6-4354-bd5c-017af7a47bf5"
      },
      "outputs": [
        {
          "name": "stdout",
          "output_type": "stream",
          "text": [
            "F1 score en el conjunto de prueba: 0.5961538461538463\n",
            "AUC-ROC en el conjunto de prueba: 0.7235547061634018\n"
          ]
        }
      ],
      "source": [
        "model_final = RandomForestClassifier(random_state=54321, n_estimators=31)\n",
        "model_final.fit(features_train, target_train)\n",
        "test_predictions = model_final.predict(features_test)\n",
        "probabilities_test = model_final.predict_proba(features_train)[:, 1]\n",
        "\n",
        "# Evaluación de la precisión del modelo en el conjunto de prueba\n",
        "test_f1_score = f1_score(target_test, test_predictions)\n",
        "test_auc_roc = roc_auc_score(target_test, test_predictions)\n",
        "\n",
        "print(\"F1 score en el conjunto de prueba:\", test_f1_score)\n",
        "print(\"AUC-ROC en el conjunto de prueba:\", test_auc_roc)"
      ]
    },
    {
      "cell_type": "markdown",
      "metadata": {
        "id": "BzJ-mm2hwIMp"
      },
      "source": [
        "- Como conclusion final podemos observar que nos da un valor f1 de 0.59 y un AUC-ROC DE 0.72, siendo nuestro mejor modelo un bosque aleatorio con 31 estimadores. Esto nos demuestra que nuestro modelo es bastante bueno, prediciendo con exactitud muchas de las variables que teniamos dudas."
      ]
    }
  ],
  "metadata": {
    "kernelspec": {
      "display_name": "Python 3 (ipykernel)",
      "language": "python",
      "name": "python3"
    },
    "language_info": {
      "codemirror_mode": {
        "name": "ipython",
        "version": 3
      },
      "file_extension": ".py",
      "mimetype": "text/x-python",
      "name": "python",
      "nbconvert_exporter": "python",
      "pygments_lexer": "ipython3",
      "version": "3.9.5"
    },
    "toc": {
      "base_numbering": 1,
      "nav_menu": {},
      "number_sections": true,
      "sideBar": true,
      "skip_h1_title": false,
      "title_cell": "Table of Contents",
      "title_sidebar": "Contents",
      "toc_cell": false,
      "toc_position": {
        "height": "calc(100% - 180px)",
        "left": "10px",
        "top": "150px",
        "width": "261px"
      },
      "toc_section_display": true,
      "toc_window_display": true
    },
    "colab": {
      "provenance": []
    }
  },
  "nbformat": 4,
  "nbformat_minor": 0
}