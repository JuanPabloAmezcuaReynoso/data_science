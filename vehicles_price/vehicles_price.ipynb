{
  "cells": [
    {
      "cell_type": "markdown",
      "metadata": {
        "id": "V_yvg8WlWKtb"
      },
      "source": [
        "# Introducción"
      ]
    },
    {
      "cell_type": "code",
      "execution_count": null,
      "metadata": {
        "id": "bQ8s-km3WKtg"
      },
      "outputs": [],
      "source": [
        "# Cargar todas las librerías\n",
        "import pandas as pd\n",
        "import numpy as np\n",
        "import matplotlib.pyplot as plt"
      ]
    },
    {
      "cell_type": "code",
      "execution_count": null,
      "metadata": {
        "id": "ZwWXVOD-WKtj"
      },
      "outputs": [],
      "source": [
        "# Carga el archivo de datos en un DataFrame\n",
        "## Aqui especificamos que la columna date_posted debe de cambiarse a datetime.\n",
        "data = pd.read_csv('/datasets/vehicles_us.csv', parse_dates=['date_posted'])"
      ]
    },
    {
      "cell_type": "code",
      "execution_count": null,
      "metadata": {
        "id": "xcqTvB8EWKtl",
        "outputId": "dfa8878e-81e7-47b4-ec81-04f223a3941a"
      },
      "outputs": [
        {
          "name": "stdout",
          "output_type": "stream",
          "text": [
            "<class 'pandas.core.frame.DataFrame'>\n",
            "RangeIndex: 51525 entries, 0 to 51524\n",
            "Data columns (total 13 columns):\n",
            " #   Column        Non-Null Count  Dtype         \n",
            "---  ------        --------------  -----         \n",
            " 0   price         51525 non-null  int64         \n",
            " 1   model_year    47906 non-null  float64       \n",
            " 2   model         51525 non-null  object        \n",
            " 3   condition     51525 non-null  object        \n",
            " 4   cylinders     46265 non-null  float64       \n",
            " 5   fuel          51525 non-null  object        \n",
            " 6   odometer      43633 non-null  float64       \n",
            " 7   transmission  51525 non-null  object        \n",
            " 8   type          51525 non-null  object        \n",
            " 9   paint_color   42258 non-null  object        \n",
            " 10  is_4wd        25572 non-null  float64       \n",
            " 11  date_posted   51525 non-null  datetime64[ns]\n",
            " 12  days_listed   51525 non-null  int64         \n",
            "dtypes: datetime64[ns](1), float64(4), int64(2), object(6)\n",
            "memory usage: 5.1+ MB\n",
            "None\n"
          ]
        }
      ],
      "source": [
        "# imprime la información general/resumida sobre el DataFrame\n",
        "print(data.info())"
      ]
    },
    {
      "cell_type": "code",
      "execution_count": null,
      "metadata": {
        "id": "leDzqRRJWKtm",
        "outputId": "d2be1782-b78a-46a1-9bff-b92f6bfc35bb"
      },
      "outputs": [
        {
          "name": "stdout",
          "output_type": "stream",
          "text": [
            "   price  model_year           model  condition  cylinders fuel  odometer  \\\n",
            "0   9400      2011.0          bmw x5       good        6.0  gas  145000.0   \n",
            "1  25500         NaN      ford f-150       good        6.0  gas   88705.0   \n",
            "2   5500      2013.0  hyundai sonata   like new        4.0  gas  110000.0   \n",
            "3   1500      2003.0      ford f-150       fair        8.0  gas       NaN   \n",
            "4  14900      2017.0    chrysler 200  excellent        4.0  gas   80903.0   \n",
            "5  14990      2014.0    chrysler 300  excellent        6.0  gas   57954.0   \n",
            "6  12990      2015.0    toyota camry  excellent        4.0  gas   79212.0   \n",
            "7  15990      2013.0     honda pilot  excellent        6.0  gas  109473.0   \n",
            "8  11500      2012.0     kia sorento  excellent        4.0  gas  104174.0   \n",
            "9   9200      2008.0     honda pilot  excellent        NaN  gas  147191.0   \n",
            "\n",
            "  transmission    type paint_color  is_4wd date_posted  days_listed  \n",
            "0    automatic     SUV         NaN     1.0  2018-06-23           19  \n",
            "1    automatic  pickup       white     1.0  2018-10-19           50  \n",
            "2    automatic   sedan         red     NaN  2019-02-07           79  \n",
            "3    automatic  pickup         NaN     NaN  2019-03-22            9  \n",
            "4    automatic   sedan       black     NaN  2019-04-02           28  \n",
            "5    automatic   sedan       black     1.0  2018-06-20           15  \n",
            "6    automatic   sedan       white     NaN  2018-12-27           73  \n",
            "7    automatic     SUV       black     1.0  2019-01-07           68  \n",
            "8    automatic     SUV         NaN     1.0  2018-07-16           19  \n",
            "9    automatic     SUV        blue     1.0  2019-02-15           17  \n"
          ]
        }
      ],
      "source": [
        "# imprimir una muestra de datos\n",
        "print(data.head(10))"
      ]
    },
    {
      "cell_type": "markdown",
      "metadata": {
        "id": "5VavMm63WKtn"
      },
      "source": [
        "- Existen valores ausentes en varias columnas, de igual manera puedo intuir que habrá valores atípicos en los datos"
      ]
    },
    {
      "cell_type": "markdown",
      "metadata": {
        "id": "Mb0wee7DWKtn"
      },
      "source": [
        "- En algunas columnas podemos observar que sus valores podrian estar en datetime como date_posted o algunas podrian ser cambiadas a int64 como model_year y cylinders."
      ]
    },
    {
      "cell_type": "markdown",
      "metadata": {
        "id": "KqIQFewRWKtn"
      },
      "source": [
        "- No hay valores ausentes en todas las columnas pero si en bastantes. Donde mas hay es en 'is_4wd' y 'paint_color'"
      ]
    },
    {
      "cell_type": "code",
      "execution_count": null,
      "metadata": {
        "id": "32zFigAoWKtn",
        "outputId": "3acea2b5-358a-46a7-e3d5-fc490fc9c09b"
      },
      "outputs": [
        {
          "data": {
            "text/plain": [
              "price               0\n",
              "model_year       3619\n",
              "model               0\n",
              "condition           0\n",
              "cylinders        5260\n",
              "fuel                0\n",
              "odometer         7892\n",
              "transmission        0\n",
              "type                0\n",
              "paint_color      9267\n",
              "is_4wd          25953\n",
              "date_posted         0\n",
              "days_listed         0\n",
              "dtype: int64"
            ]
          },
          "execution_count": 8,
          "metadata": {},
          "output_type": "execute_result"
        }
      ],
      "source": [
        "data.isna().sum()"
      ]
    },
    {
      "cell_type": "code",
      "execution_count": null,
      "metadata": {
        "id": "va9uVHdCWKto",
        "outputId": "5ccab7b2-ac04-45d9-f320-d37cdc6fe7c6"
      },
      "outputs": [
        {
          "name": "stdout",
          "output_type": "stream",
          "text": [
            "[ 1. nan]\n"
          ]
        }
      ],
      "source": [
        "print(data['is_4wd'].unique())"
      ]
    },
    {
      "cell_type": "markdown",
      "metadata": {
        "id": "oIhnlMM1WKto"
      },
      "source": [
        "- Viendo los valores unicos de la columna 'is_4wd' podemos intuir que 1.0 representa un valor booleando True y 0.0 deberia representar False, entonces imputare dichos valores NaN con 0.0"
      ]
    },
    {
      "cell_type": "code",
      "execution_count": null,
      "metadata": {
        "id": "ek0byLmEWKtp"
      },
      "outputs": [],
      "source": [
        "data['is_4wd'] = data['is_4wd'].fillna(0)"
      ]
    },
    {
      "cell_type": "code",
      "execution_count": null,
      "metadata": {
        "id": "3PkCCowkWKtp",
        "outputId": "c54c1342-99c9-4727-b81f-8ecbf8ceb34e"
      },
      "outputs": [
        {
          "name": "stdout",
          "output_type": "stream",
          "text": [
            "0\n"
          ]
        }
      ],
      "source": [
        "print(data['is_4wd'].isna().sum())"
      ]
    },
    {
      "cell_type": "markdown",
      "metadata": {
        "id": "Psa52y9lWKtq"
      },
      "source": [
        "- Debido a que el color de la pintura de los autos puede ser cualquiera y no hay un indicio que nos diga con que valor imputar, decidi poner 'not specified' para reemplazar los valores ausentes con un valor medible a pesar de que no sea parte de los colores ya impuestos."
      ]
    },
    {
      "cell_type": "code",
      "execution_count": null,
      "metadata": {
        "id": "uEbrSDRaWKtq"
      },
      "outputs": [],
      "source": [
        "data['paint_color'] = data['paint_color'].fillna('not specified')"
      ]
    },
    {
      "cell_type": "code",
      "execution_count": null,
      "metadata": {
        "id": "49PW-H0bWKtr"
      },
      "outputs": [],
      "source": [
        "median_model_year = data.groupby('model')['model_year'].median()\n",
        "def fill_model_year(row):\n",
        "    model_year = row['model_year']\n",
        "    model = row['model']\n",
        "\n",
        "    if np.isnan(model_year):\n",
        "        return median_model_year[model]\n",
        "    else:\n",
        "        return model_year\n",
        "data['model_year'] = data.apply(fill_model_year, axis= 1)"
      ]
    },
    {
      "cell_type": "markdown",
      "metadata": {
        "id": "IZ3PCmCQWKts"
      },
      "source": [
        "- Aqui he decidido imputar los valores de model_year dependiendo de su mediana con respecto a model, dicho de otra manera, agrupando model y model_year y sacando su mediana con respecto a un modelo similar."
      ]
    },
    {
      "cell_type": "code",
      "execution_count": null,
      "metadata": {
        "id": "imYnD6FsWKts",
        "outputId": "dfa925b4-ef5d-46bf-fd57-2c2545a292ba"
      },
      "outputs": [
        {
          "data": {
            "text/plain": [
              "0"
            ]
          },
          "execution_count": 14,
          "metadata": {},
          "output_type": "execute_result"
        }
      ],
      "source": [
        "data['model_year'].isna().sum()"
      ]
    },
    {
      "cell_type": "code",
      "execution_count": null,
      "metadata": {
        "id": "CS-BfOi_WKts",
        "outputId": "f2002c07-1a0c-4d3d-ade7-f1038f87a665"
      },
      "outputs": [
        {
          "data": {
            "text/plain": [
              "price              0\n",
              "model_year         0\n",
              "model              0\n",
              "condition          0\n",
              "cylinders       5260\n",
              "fuel               0\n",
              "odometer        7892\n",
              "transmission       0\n",
              "type               0\n",
              "paint_color        0\n",
              "is_4wd             0\n",
              "date_posted        0\n",
              "days_listed        0\n",
              "dtype: int64"
            ]
          },
          "execution_count": 15,
          "metadata": {},
          "output_type": "execute_result"
        }
      ],
      "source": [
        "data.isna().sum()"
      ]
    },
    {
      "cell_type": "code",
      "execution_count": null,
      "metadata": {
        "id": "u1ZRWMU7WKtt",
        "outputId": "c4a40ffd-19d1-4697-af7a-78a8a8160de6"
      },
      "outputs": [
        {
          "data": {
            "text/html": [
              "<div>\n",
              "<style scoped>\n",
              "    .dataframe tbody tr th:only-of-type {\n",
              "        vertical-align: middle;\n",
              "    }\n",
              "\n",
              "    .dataframe tbody tr th {\n",
              "        vertical-align: top;\n",
              "    }\n",
              "\n",
              "    .dataframe thead th {\n",
              "        text-align: right;\n",
              "    }\n",
              "</style>\n",
              "<table border=\"1\" class=\"dataframe\">\n",
              "  <thead>\n",
              "    <tr style=\"text-align: right;\">\n",
              "      <th>model</th>\n",
              "      <th>acura tl</th>\n",
              "      <th>bmw x5</th>\n",
              "      <th>buick enclave</th>\n",
              "      <th>cadillac escalade</th>\n",
              "      <th>chevrolet camaro</th>\n",
              "      <th>chevrolet camaro lt coupe 2d</th>\n",
              "      <th>chevrolet colorado</th>\n",
              "      <th>chevrolet corvette</th>\n",
              "      <th>chevrolet cruze</th>\n",
              "      <th>chevrolet equinox</th>\n",
              "      <th>...</th>\n",
              "      <th>toyota camry le</th>\n",
              "      <th>toyota corolla</th>\n",
              "      <th>toyota highlander</th>\n",
              "      <th>toyota prius</th>\n",
              "      <th>toyota rav4</th>\n",
              "      <th>toyota sienna</th>\n",
              "      <th>toyota tacoma</th>\n",
              "      <th>toyota tundra</th>\n",
              "      <th>volkswagen jetta</th>\n",
              "      <th>volkswagen passat</th>\n",
              "    </tr>\n",
              "  </thead>\n",
              "  <tbody>\n",
              "    <tr>\n",
              "      <th>cylinders</th>\n",
              "      <td>211</td>\n",
              "      <td>251</td>\n",
              "      <td>247</td>\n",
              "      <td>294</td>\n",
              "      <td>372</td>\n",
              "      <td>281</td>\n",
              "      <td>264</td>\n",
              "      <td>461</td>\n",
              "      <td>408</td>\n",
              "      <td>535</td>\n",
              "      <td>...</td>\n",
              "      <td>284</td>\n",
              "      <td>573</td>\n",
              "      <td>299</td>\n",
              "      <td>432</td>\n",
              "      <td>413</td>\n",
              "      <td>294</td>\n",
              "      <td>730</td>\n",
              "      <td>547</td>\n",
              "      <td>466</td>\n",
              "      <td>316</td>\n",
              "    </tr>\n",
              "  </tbody>\n",
              "</table>\n",
              "<p>1 rows × 100 columns</p>\n",
              "</div>"
            ],
            "text/plain": [
              "model      acura tl  bmw x5  buick enclave  cadillac escalade  \\\n",
              "cylinders       211     251            247                294   \n",
              "\n",
              "model      chevrolet camaro  chevrolet camaro lt coupe 2d  chevrolet colorado  \\\n",
              "cylinders               372                           281                 264   \n",
              "\n",
              "model      chevrolet corvette  chevrolet cruze  chevrolet equinox  ...  \\\n",
              "cylinders                 461              408                535  ...   \n",
              "\n",
              "model      toyota camry le  toyota corolla  toyota highlander  toyota prius  \\\n",
              "cylinders              284             573                299           432   \n",
              "\n",
              "model      toyota rav4  toyota sienna  toyota tacoma  toyota tundra  \\\n",
              "cylinders          413            294            730            547   \n",
              "\n",
              "model      volkswagen jetta  volkswagen passat  \n",
              "cylinders               466                316  \n",
              "\n",
              "[1 rows x 100 columns]"
            ]
          },
          "execution_count": 16,
          "metadata": {},
          "output_type": "execute_result"
        }
      ],
      "source": [
        "number_cylinders = data.pivot_table(columns='model', values='cylinders', aggfunc='count')\n",
        "number_cylinders"
      ]
    },
    {
      "cell_type": "code",
      "execution_count": null,
      "metadata": {
        "id": "5JcZePg5WKtt"
      },
      "outputs": [],
      "source": [
        "median_cylinder = data.groupby('model')['cylinders'].median()\n",
        "def fill_cylinders(row):\n",
        "    cylinders = row['cylinders']\n",
        "    model = row['model']\n",
        "\n",
        "    if np.isnan(cylinders):\n",
        "        return median_cylinder[model]\n",
        "    else:\n",
        "        return cylinders\n",
        "data['cylinders'] = data.apply(fill_cylinders, axis= 1)"
      ]
    },
    {
      "cell_type": "code",
      "execution_count": null,
      "metadata": {
        "id": "y113QJ5_WKtt",
        "outputId": "d072c864-4733-4d74-e1ae-6c956f544afa"
      },
      "outputs": [
        {
          "data": {
            "text/plain": [
              "0"
            ]
          },
          "execution_count": 18,
          "metadata": {},
          "output_type": "execute_result"
        }
      ],
      "source": [
        "data['cylinders'].isna().sum()"
      ]
    },
    {
      "cell_type": "markdown",
      "metadata": {
        "id": "adPb5caiWKtu"
      },
      "source": [
        "- En esta función rellenamos el valor de cylinders cuando es NaN con la media dependiendo del modelo, es decir, si hay un modelo con el mismo nombre va a agarrar la media de sus cilindros y va a imputar el numero de cilindros para ese valor ausente"
      ]
    },
    {
      "cell_type": "code",
      "execution_count": null,
      "metadata": {
        "id": "SIdrdaxAWKtu"
      },
      "outputs": [],
      "source": [
        "median_odometer = data.groupby('model_year')['odometer'].median()\n",
        "def fill_odometer(row):\n",
        "    odometer = row['odometer']\n",
        "    model_year = row['model_year']\n",
        "\n",
        "    if np.isnan(odometer):\n",
        "        return median_odometer[model_year]\n",
        "    else:\n",
        "        return odometer\n",
        "data['odometer'] = data.apply(fill_odometer, axis= 1)"
      ]
    },
    {
      "cell_type": "code",
      "execution_count": null,
      "metadata": {
        "id": "5nq1bIzmWKtv",
        "outputId": "8942113e-0370-401c-e26a-0a090cc47e76"
      },
      "outputs": [
        {
          "data": {
            "text/plain": [
              "1"
            ]
          },
          "execution_count": 20,
          "metadata": {},
          "output_type": "execute_result"
        }
      ],
      "source": [
        "data['odometer'].isna().sum()"
      ]
    },
    {
      "cell_type": "code",
      "execution_count": null,
      "metadata": {
        "id": "mUGT7Jb2WKtv",
        "outputId": "04ac5b89-d814-46cd-f8d0-e2c7b83fa4ba"
      },
      "outputs": [
        {
          "name": "stdout",
          "output_type": "stream",
          "text": [
            "114074.0\n"
          ]
        }
      ],
      "source": [
        "print(data['odometer'].median())\n",
        "data['odometer'] = data['odometer'].fillna(114074.0)"
      ]
    },
    {
      "cell_type": "code",
      "execution_count": null,
      "metadata": {
        "id": "v3OUSDaEWKtw",
        "outputId": "8834aa6a-93c6-4926-a7ea-2f0b17deb745"
      },
      "outputs": [
        {
          "data": {
            "text/plain": [
              "0"
            ]
          },
          "execution_count": 22,
          "metadata": {},
          "output_type": "execute_result"
        }
      ],
      "source": [
        "data['odometer'].isna().sum()"
      ]
    },
    {
      "cell_type": "markdown",
      "metadata": {
        "id": "SZwhMtGzWKtw"
      },
      "source": [
        "- Aqui con esta función rellenamos los valores ausentes con la mediana de odometer respecto a su año de modelo, como podemos observar nos sobro 1 dato que seguía teniendo valor ausente pero como no demuestra un valor significativo lo eliminamos."
      ]
    },
    {
      "cell_type": "code",
      "execution_count": null,
      "metadata": {
        "id": "wTZU6S0GWKtx",
        "outputId": "d7a1c949-9a07-47aa-b31a-678382c8a0f6"
      },
      "outputs": [
        {
          "data": {
            "text/plain": [
              "price           0\n",
              "model_year      0\n",
              "model           0\n",
              "condition       0\n",
              "cylinders       0\n",
              "fuel            0\n",
              "odometer        0\n",
              "transmission    0\n",
              "type            0\n",
              "paint_color     0\n",
              "is_4wd          0\n",
              "date_posted     0\n",
              "days_listed     0\n",
              "dtype: int64"
            ]
          },
          "execution_count": 23,
          "metadata": {},
          "output_type": "execute_result"
        }
      ],
      "source": [
        "data.isna().sum()"
      ]
    },
    {
      "cell_type": "markdown",
      "metadata": {
        "id": "C3lNC3inWKtx"
      },
      "source": [
        "- Finalmente podemos observar que todos los valores ausentes han sido tratados de manera apropiada por lo cual podemos proceder a seguir depurando los datos y algún valor atípico que podamos encontrar."
      ]
    },
    {
      "cell_type": "code",
      "execution_count": null,
      "metadata": {
        "id": "DSyVqrSzWKuB",
        "outputId": "8df0b819-bddd-47b8-92cf-6699e80c6a22"
      },
      "outputs": [
        {
          "data": {
            "text/html": [
              "<div>\n",
              "<style scoped>\n",
              "    .dataframe tbody tr th:only-of-type {\n",
              "        vertical-align: middle;\n",
              "    }\n",
              "\n",
              "    .dataframe tbody tr th {\n",
              "        vertical-align: top;\n",
              "    }\n",
              "\n",
              "    .dataframe thead th {\n",
              "        text-align: right;\n",
              "    }\n",
              "</style>\n",
              "<table border=\"1\" class=\"dataframe\">\n",
              "  <thead>\n",
              "    <tr style=\"text-align: right;\">\n",
              "      <th></th>\n",
              "      <th>price</th>\n",
              "      <th>model_year</th>\n",
              "      <th>model</th>\n",
              "      <th>condition</th>\n",
              "      <th>cylinders</th>\n",
              "      <th>fuel</th>\n",
              "      <th>odometer</th>\n",
              "      <th>transmission</th>\n",
              "      <th>type</th>\n",
              "      <th>paint_color</th>\n",
              "      <th>is_4wd</th>\n",
              "      <th>date_posted</th>\n",
              "      <th>days_listed</th>\n",
              "    </tr>\n",
              "  </thead>\n",
              "  <tbody>\n",
              "    <tr>\n",
              "      <th>0</th>\n",
              "      <td>9400</td>\n",
              "      <td>2011</td>\n",
              "      <td>bmw x5</td>\n",
              "      <td>good</td>\n",
              "      <td>6.0</td>\n",
              "      <td>gas</td>\n",
              "      <td>145000.0</td>\n",
              "      <td>automatic</td>\n",
              "      <td>SUV</td>\n",
              "      <td>not specified</td>\n",
              "      <td>1.0</td>\n",
              "      <td>2018-06-23</td>\n",
              "      <td>19</td>\n",
              "    </tr>\n",
              "    <tr>\n",
              "      <th>1</th>\n",
              "      <td>25500</td>\n",
              "      <td>2011</td>\n",
              "      <td>ford f-150</td>\n",
              "      <td>good</td>\n",
              "      <td>6.0</td>\n",
              "      <td>gas</td>\n",
              "      <td>88705.0</td>\n",
              "      <td>automatic</td>\n",
              "      <td>pickup</td>\n",
              "      <td>white</td>\n",
              "      <td>1.0</td>\n",
              "      <td>2018-10-19</td>\n",
              "      <td>50</td>\n",
              "    </tr>\n",
              "    <tr>\n",
              "      <th>2</th>\n",
              "      <td>5500</td>\n",
              "      <td>2013</td>\n",
              "      <td>hyundai sonata</td>\n",
              "      <td>like new</td>\n",
              "      <td>4.0</td>\n",
              "      <td>gas</td>\n",
              "      <td>110000.0</td>\n",
              "      <td>automatic</td>\n",
              "      <td>sedan</td>\n",
              "      <td>red</td>\n",
              "      <td>0.0</td>\n",
              "      <td>2019-02-07</td>\n",
              "      <td>79</td>\n",
              "    </tr>\n",
              "    <tr>\n",
              "      <th>3</th>\n",
              "      <td>1500</td>\n",
              "      <td>2003</td>\n",
              "      <td>ford f-150</td>\n",
              "      <td>fair</td>\n",
              "      <td>8.0</td>\n",
              "      <td>gas</td>\n",
              "      <td>161397.0</td>\n",
              "      <td>automatic</td>\n",
              "      <td>pickup</td>\n",
              "      <td>not specified</td>\n",
              "      <td>0.0</td>\n",
              "      <td>2019-03-22</td>\n",
              "      <td>9</td>\n",
              "    </tr>\n",
              "    <tr>\n",
              "      <th>4</th>\n",
              "      <td>14900</td>\n",
              "      <td>2017</td>\n",
              "      <td>chrysler 200</td>\n",
              "      <td>excellent</td>\n",
              "      <td>4.0</td>\n",
              "      <td>gas</td>\n",
              "      <td>80903.0</td>\n",
              "      <td>automatic</td>\n",
              "      <td>sedan</td>\n",
              "      <td>black</td>\n",
              "      <td>0.0</td>\n",
              "      <td>2019-04-02</td>\n",
              "      <td>28</td>\n",
              "    </tr>\n",
              "  </tbody>\n",
              "</table>\n",
              "</div>"
            ],
            "text/plain": [
              "   price  model_year           model  condition  cylinders fuel  odometer  \\\n",
              "0   9400        2011          bmw x5       good        6.0  gas  145000.0   \n",
              "1  25500        2011      ford f-150       good        6.0  gas   88705.0   \n",
              "2   5500        2013  hyundai sonata   like new        4.0  gas  110000.0   \n",
              "3   1500        2003      ford f-150       fair        8.0  gas  161397.0   \n",
              "4  14900        2017    chrysler 200  excellent        4.0  gas   80903.0   \n",
              "\n",
              "  transmission    type    paint_color  is_4wd date_posted  days_listed  \n",
              "0    automatic     SUV  not specified     1.0  2018-06-23           19  \n",
              "1    automatic  pickup          white     1.0  2018-10-19           50  \n",
              "2    automatic   sedan            red     0.0  2019-02-07           79  \n",
              "3    automatic  pickup  not specified     0.0  2019-03-22            9  \n",
              "4    automatic   sedan          black     0.0  2019-04-02           28  "
            ]
          },
          "execution_count": 24,
          "metadata": {},
          "output_type": "execute_result"
        }
      ],
      "source": [
        "# Aqui cambiamos el tipo de dato de model_year de float a int debido a que al ser años no tiene congruencia que se deje como float.\n",
        "data['model_year'] = data['model_year'].astype('int64')\n",
        "data.head()"
      ]
    },
    {
      "cell_type": "code",
      "execution_count": null,
      "metadata": {
        "id": "ygmMyQaCWKuC",
        "outputId": "1159e90f-7762-4be0-db8f-c3ed8f3ebd8d"
      },
      "outputs": [
        {
          "data": {
            "text/html": [
              "<div>\n",
              "<style scoped>\n",
              "    .dataframe tbody tr th:only-of-type {\n",
              "        vertical-align: middle;\n",
              "    }\n",
              "\n",
              "    .dataframe tbody tr th {\n",
              "        vertical-align: top;\n",
              "    }\n",
              "\n",
              "    .dataframe thead th {\n",
              "        text-align: right;\n",
              "    }\n",
              "</style>\n",
              "<table border=\"1\" class=\"dataframe\">\n",
              "  <thead>\n",
              "    <tr style=\"text-align: right;\">\n",
              "      <th></th>\n",
              "      <th>price</th>\n",
              "      <th>model_year</th>\n",
              "      <th>model</th>\n",
              "      <th>condition</th>\n",
              "      <th>cylinders</th>\n",
              "      <th>fuel</th>\n",
              "      <th>odometer</th>\n",
              "      <th>transmission</th>\n",
              "      <th>type</th>\n",
              "      <th>paint_color</th>\n",
              "      <th>is_4wd</th>\n",
              "      <th>date_posted</th>\n",
              "      <th>days_listed</th>\n",
              "    </tr>\n",
              "  </thead>\n",
              "  <tbody>\n",
              "    <tr>\n",
              "      <th>0</th>\n",
              "      <td>9400</td>\n",
              "      <td>2011</td>\n",
              "      <td>bmw x5</td>\n",
              "      <td>good</td>\n",
              "      <td>6</td>\n",
              "      <td>gas</td>\n",
              "      <td>145000.0</td>\n",
              "      <td>automatic</td>\n",
              "      <td>SUV</td>\n",
              "      <td>not specified</td>\n",
              "      <td>1.0</td>\n",
              "      <td>2018-06-23</td>\n",
              "      <td>19</td>\n",
              "    </tr>\n",
              "    <tr>\n",
              "      <th>1</th>\n",
              "      <td>25500</td>\n",
              "      <td>2011</td>\n",
              "      <td>ford f-150</td>\n",
              "      <td>good</td>\n",
              "      <td>6</td>\n",
              "      <td>gas</td>\n",
              "      <td>88705.0</td>\n",
              "      <td>automatic</td>\n",
              "      <td>pickup</td>\n",
              "      <td>white</td>\n",
              "      <td>1.0</td>\n",
              "      <td>2018-10-19</td>\n",
              "      <td>50</td>\n",
              "    </tr>\n",
              "    <tr>\n",
              "      <th>2</th>\n",
              "      <td>5500</td>\n",
              "      <td>2013</td>\n",
              "      <td>hyundai sonata</td>\n",
              "      <td>like new</td>\n",
              "      <td>4</td>\n",
              "      <td>gas</td>\n",
              "      <td>110000.0</td>\n",
              "      <td>automatic</td>\n",
              "      <td>sedan</td>\n",
              "      <td>red</td>\n",
              "      <td>0.0</td>\n",
              "      <td>2019-02-07</td>\n",
              "      <td>79</td>\n",
              "    </tr>\n",
              "    <tr>\n",
              "      <th>3</th>\n",
              "      <td>1500</td>\n",
              "      <td>2003</td>\n",
              "      <td>ford f-150</td>\n",
              "      <td>fair</td>\n",
              "      <td>8</td>\n",
              "      <td>gas</td>\n",
              "      <td>161397.0</td>\n",
              "      <td>automatic</td>\n",
              "      <td>pickup</td>\n",
              "      <td>not specified</td>\n",
              "      <td>0.0</td>\n",
              "      <td>2019-03-22</td>\n",
              "      <td>9</td>\n",
              "    </tr>\n",
              "    <tr>\n",
              "      <th>4</th>\n",
              "      <td>14900</td>\n",
              "      <td>2017</td>\n",
              "      <td>chrysler 200</td>\n",
              "      <td>excellent</td>\n",
              "      <td>4</td>\n",
              "      <td>gas</td>\n",
              "      <td>80903.0</td>\n",
              "      <td>automatic</td>\n",
              "      <td>sedan</td>\n",
              "      <td>black</td>\n",
              "      <td>0.0</td>\n",
              "      <td>2019-04-02</td>\n",
              "      <td>28</td>\n",
              "    </tr>\n",
              "  </tbody>\n",
              "</table>\n",
              "</div>"
            ],
            "text/plain": [
              "   price  model_year           model  condition  cylinders fuel  odometer  \\\n",
              "0   9400        2011          bmw x5       good          6  gas  145000.0   \n",
              "1  25500        2011      ford f-150       good          6  gas   88705.0   \n",
              "2   5500        2013  hyundai sonata   like new          4  gas  110000.0   \n",
              "3   1500        2003      ford f-150       fair          8  gas  161397.0   \n",
              "4  14900        2017    chrysler 200  excellent          4  gas   80903.0   \n",
              "\n",
              "  transmission    type    paint_color  is_4wd date_posted  days_listed  \n",
              "0    automatic     SUV  not specified     1.0  2018-06-23           19  \n",
              "1    automatic  pickup          white     1.0  2018-10-19           50  \n",
              "2    automatic   sedan            red     0.0  2019-02-07           79  \n",
              "3    automatic  pickup  not specified     0.0  2019-03-22            9  \n",
              "4    automatic   sedan          black     0.0  2019-04-02           28  "
            ]
          },
          "execution_count": 25,
          "metadata": {},
          "output_type": "execute_result"
        }
      ],
      "source": [
        "# Aqui, al igual que en la columna pasada, cambiamos el tipo de dato de cylinders de float a int debido a que al un numero entero no tiene congruencia que se deje como float.\n",
        "data['cylinders'] = data['cylinders'].astype('int64')\n",
        "data.head()"
      ]
    },
    {
      "cell_type": "code",
      "execution_count": null,
      "metadata": {
        "id": "X5zXlrFSWKuD",
        "outputId": "166b7cd3-04a2-42a7-bc0b-74cbe542f793"
      },
      "outputs": [
        {
          "data": {
            "text/html": [
              "<div>\n",
              "<style scoped>\n",
              "    .dataframe tbody tr th:only-of-type {\n",
              "        vertical-align: middle;\n",
              "    }\n",
              "\n",
              "    .dataframe tbody tr th {\n",
              "        vertical-align: top;\n",
              "    }\n",
              "\n",
              "    .dataframe thead th {\n",
              "        text-align: right;\n",
              "    }\n",
              "</style>\n",
              "<table border=\"1\" class=\"dataframe\">\n",
              "  <thead>\n",
              "    <tr style=\"text-align: right;\">\n",
              "      <th></th>\n",
              "      <th>price</th>\n",
              "      <th>model_year</th>\n",
              "      <th>model</th>\n",
              "      <th>condition</th>\n",
              "      <th>cylinders</th>\n",
              "      <th>fuel</th>\n",
              "      <th>odometer</th>\n",
              "      <th>transmission</th>\n",
              "      <th>type</th>\n",
              "      <th>paint_color</th>\n",
              "      <th>is_4wd</th>\n",
              "      <th>date_posted</th>\n",
              "      <th>days_listed</th>\n",
              "    </tr>\n",
              "  </thead>\n",
              "  <tbody>\n",
              "    <tr>\n",
              "      <th>0</th>\n",
              "      <td>9400</td>\n",
              "      <td>2011</td>\n",
              "      <td>bmw x5</td>\n",
              "      <td>good</td>\n",
              "      <td>6</td>\n",
              "      <td>gas</td>\n",
              "      <td>145000.0</td>\n",
              "      <td>automatic</td>\n",
              "      <td>SUV</td>\n",
              "      <td>not specified</td>\n",
              "      <td>True</td>\n",
              "      <td>2018-06-23</td>\n",
              "      <td>19</td>\n",
              "    </tr>\n",
              "    <tr>\n",
              "      <th>1</th>\n",
              "      <td>25500</td>\n",
              "      <td>2011</td>\n",
              "      <td>ford f-150</td>\n",
              "      <td>good</td>\n",
              "      <td>6</td>\n",
              "      <td>gas</td>\n",
              "      <td>88705.0</td>\n",
              "      <td>automatic</td>\n",
              "      <td>pickup</td>\n",
              "      <td>white</td>\n",
              "      <td>True</td>\n",
              "      <td>2018-10-19</td>\n",
              "      <td>50</td>\n",
              "    </tr>\n",
              "    <tr>\n",
              "      <th>2</th>\n",
              "      <td>5500</td>\n",
              "      <td>2013</td>\n",
              "      <td>hyundai sonata</td>\n",
              "      <td>like new</td>\n",
              "      <td>4</td>\n",
              "      <td>gas</td>\n",
              "      <td>110000.0</td>\n",
              "      <td>automatic</td>\n",
              "      <td>sedan</td>\n",
              "      <td>red</td>\n",
              "      <td>False</td>\n",
              "      <td>2019-02-07</td>\n",
              "      <td>79</td>\n",
              "    </tr>\n",
              "    <tr>\n",
              "      <th>3</th>\n",
              "      <td>1500</td>\n",
              "      <td>2003</td>\n",
              "      <td>ford f-150</td>\n",
              "      <td>fair</td>\n",
              "      <td>8</td>\n",
              "      <td>gas</td>\n",
              "      <td>161397.0</td>\n",
              "      <td>automatic</td>\n",
              "      <td>pickup</td>\n",
              "      <td>not specified</td>\n",
              "      <td>False</td>\n",
              "      <td>2019-03-22</td>\n",
              "      <td>9</td>\n",
              "    </tr>\n",
              "    <tr>\n",
              "      <th>4</th>\n",
              "      <td>14900</td>\n",
              "      <td>2017</td>\n",
              "      <td>chrysler 200</td>\n",
              "      <td>excellent</td>\n",
              "      <td>4</td>\n",
              "      <td>gas</td>\n",
              "      <td>80903.0</td>\n",
              "      <td>automatic</td>\n",
              "      <td>sedan</td>\n",
              "      <td>black</td>\n",
              "      <td>False</td>\n",
              "      <td>2019-04-02</td>\n",
              "      <td>28</td>\n",
              "    </tr>\n",
              "  </tbody>\n",
              "</table>\n",
              "</div>"
            ],
            "text/plain": [
              "   price  model_year           model  condition  cylinders fuel  odometer  \\\n",
              "0   9400        2011          bmw x5       good          6  gas  145000.0   \n",
              "1  25500        2011      ford f-150       good          6  gas   88705.0   \n",
              "2   5500        2013  hyundai sonata   like new          4  gas  110000.0   \n",
              "3   1500        2003      ford f-150       fair          8  gas  161397.0   \n",
              "4  14900        2017    chrysler 200  excellent          4  gas   80903.0   \n",
              "\n",
              "  transmission    type    paint_color  is_4wd date_posted  days_listed  \n",
              "0    automatic     SUV  not specified    True  2018-06-23           19  \n",
              "1    automatic  pickup          white    True  2018-10-19           50  \n",
              "2    automatic   sedan            red   False  2019-02-07           79  \n",
              "3    automatic  pickup  not specified   False  2019-03-22            9  \n",
              "4    automatic   sedan          black   False  2019-04-02           28  "
            ]
          },
          "execution_count": 26,
          "metadata": {},
          "output_type": "execute_result"
        }
      ],
      "source": [
        "# Aqui, al igual que en la columna pasada, cambiamos el tipo de dato de is_4wd de float a bool debido a que al ser un valor 1 o 0 no tiene congruencia que se deje como float.\n",
        "data['is_4wd'] = data['is_4wd'].astype('bool')\n",
        "data.head()"
      ]
    },
    {
      "cell_type": "code",
      "execution_count": null,
      "metadata": {
        "id": "Os2QUzMIWKuD",
        "outputId": "90e8f7d8-2999-4c47-9e65-94ec77656cef"
      },
      "outputs": [
        {
          "data": {
            "text/html": [
              "<div>\n",
              "<style scoped>\n",
              "    .dataframe tbody tr th:only-of-type {\n",
              "        vertical-align: middle;\n",
              "    }\n",
              "\n",
              "    .dataframe tbody tr th {\n",
              "        vertical-align: top;\n",
              "    }\n",
              "\n",
              "    .dataframe thead th {\n",
              "        text-align: right;\n",
              "    }\n",
              "</style>\n",
              "<table border=\"1\" class=\"dataframe\">\n",
              "  <thead>\n",
              "    <tr style=\"text-align: right;\">\n",
              "      <th></th>\n",
              "      <th>price</th>\n",
              "      <th>model_year</th>\n",
              "      <th>model</th>\n",
              "      <th>condition</th>\n",
              "      <th>cylinders</th>\n",
              "      <th>fuel</th>\n",
              "      <th>odometer</th>\n",
              "      <th>transmission</th>\n",
              "      <th>type</th>\n",
              "      <th>paint_color</th>\n",
              "      <th>is_4wd</th>\n",
              "      <th>date_posted</th>\n",
              "      <th>days_listed</th>\n",
              "    </tr>\n",
              "  </thead>\n",
              "  <tbody>\n",
              "    <tr>\n",
              "      <th>0</th>\n",
              "      <td>9400</td>\n",
              "      <td>2011</td>\n",
              "      <td>bmw x5</td>\n",
              "      <td>good</td>\n",
              "      <td>6</td>\n",
              "      <td>gas</td>\n",
              "      <td>145000</td>\n",
              "      <td>automatic</td>\n",
              "      <td>SUV</td>\n",
              "      <td>not specified</td>\n",
              "      <td>True</td>\n",
              "      <td>2018-06-23</td>\n",
              "      <td>19</td>\n",
              "    </tr>\n",
              "    <tr>\n",
              "      <th>1</th>\n",
              "      <td>25500</td>\n",
              "      <td>2011</td>\n",
              "      <td>ford f-150</td>\n",
              "      <td>good</td>\n",
              "      <td>6</td>\n",
              "      <td>gas</td>\n",
              "      <td>88705</td>\n",
              "      <td>automatic</td>\n",
              "      <td>pickup</td>\n",
              "      <td>white</td>\n",
              "      <td>True</td>\n",
              "      <td>2018-10-19</td>\n",
              "      <td>50</td>\n",
              "    </tr>\n",
              "    <tr>\n",
              "      <th>2</th>\n",
              "      <td>5500</td>\n",
              "      <td>2013</td>\n",
              "      <td>hyundai sonata</td>\n",
              "      <td>like new</td>\n",
              "      <td>4</td>\n",
              "      <td>gas</td>\n",
              "      <td>110000</td>\n",
              "      <td>automatic</td>\n",
              "      <td>sedan</td>\n",
              "      <td>red</td>\n",
              "      <td>False</td>\n",
              "      <td>2019-02-07</td>\n",
              "      <td>79</td>\n",
              "    </tr>\n",
              "    <tr>\n",
              "      <th>3</th>\n",
              "      <td>1500</td>\n",
              "      <td>2003</td>\n",
              "      <td>ford f-150</td>\n",
              "      <td>fair</td>\n",
              "      <td>8</td>\n",
              "      <td>gas</td>\n",
              "      <td>161397</td>\n",
              "      <td>automatic</td>\n",
              "      <td>pickup</td>\n",
              "      <td>not specified</td>\n",
              "      <td>False</td>\n",
              "      <td>2019-03-22</td>\n",
              "      <td>9</td>\n",
              "    </tr>\n",
              "    <tr>\n",
              "      <th>4</th>\n",
              "      <td>14900</td>\n",
              "      <td>2017</td>\n",
              "      <td>chrysler 200</td>\n",
              "      <td>excellent</td>\n",
              "      <td>4</td>\n",
              "      <td>gas</td>\n",
              "      <td>80903</td>\n",
              "      <td>automatic</td>\n",
              "      <td>sedan</td>\n",
              "      <td>black</td>\n",
              "      <td>False</td>\n",
              "      <td>2019-04-02</td>\n",
              "      <td>28</td>\n",
              "    </tr>\n",
              "  </tbody>\n",
              "</table>\n",
              "</div>"
            ],
            "text/plain": [
              "   price  model_year           model  condition  cylinders fuel  odometer  \\\n",
              "0   9400        2011          bmw x5       good          6  gas    145000   \n",
              "1  25500        2011      ford f-150       good          6  gas     88705   \n",
              "2   5500        2013  hyundai sonata   like new          4  gas    110000   \n",
              "3   1500        2003      ford f-150       fair          8  gas    161397   \n",
              "4  14900        2017    chrysler 200  excellent          4  gas     80903   \n",
              "\n",
              "  transmission    type    paint_color  is_4wd date_posted  days_listed  \n",
              "0    automatic     SUV  not specified    True  2018-06-23           19  \n",
              "1    automatic  pickup          white    True  2018-10-19           50  \n",
              "2    automatic   sedan            red   False  2019-02-07           79  \n",
              "3    automatic  pickup  not specified   False  2019-03-22            9  \n",
              "4    automatic   sedan          black   False  2019-04-02           28  "
            ]
          },
          "execution_count": 27,
          "metadata": {},
          "output_type": "execute_result"
        }
      ],
      "source": [
        "# Aqui, al igual que en la columna pasada, cambiamos el tipo de dato de odometer de float a int64 debido a que al ser un numero entero no tiene congruencia que se deje como obj.\n",
        "data['odometer'] = data['odometer'].astype('int64')\n",
        "data.head()"
      ]
    },
    {
      "cell_type": "code",
      "execution_count": null,
      "metadata": {
        "id": "MhJqPjqPWKuE",
        "outputId": "f500df6d-cb20-4eda-d97a-cf640d0e86d0"
      },
      "outputs": [
        {
          "name": "stdout",
          "output_type": "stream",
          "text": [
            "<class 'pandas.core.frame.DataFrame'>\n",
            "RangeIndex: 51525 entries, 0 to 51524\n",
            "Data columns (total 13 columns):\n",
            " #   Column        Non-Null Count  Dtype         \n",
            "---  ------        --------------  -----         \n",
            " 0   price         51525 non-null  int64         \n",
            " 1   model_year    51525 non-null  int64         \n",
            " 2   model         51525 non-null  object        \n",
            " 3   condition     51525 non-null  object        \n",
            " 4   cylinders     51525 non-null  int64         \n",
            " 5   fuel          51525 non-null  object        \n",
            " 6   odometer      51525 non-null  int64         \n",
            " 7   transmission  51525 non-null  object        \n",
            " 8   type          51525 non-null  object        \n",
            " 9   paint_color   51525 non-null  object        \n",
            " 10  is_4wd        51525 non-null  bool          \n",
            " 11  date_posted   51525 non-null  datetime64[ns]\n",
            " 12  days_listed   51525 non-null  int64         \n",
            "dtypes: bool(1), datetime64[ns](1), int64(5), object(6)\n",
            "memory usage: 4.8+ MB\n"
          ]
        }
      ],
      "source": [
        "data.info()"
      ]
    },
    {
      "cell_type": "code",
      "execution_count": null,
      "metadata": {
        "id": "eb3EVVK8WKuF",
        "outputId": "66e8cfef-85c6-4c53-a5da-e5ee7f65b921"
      },
      "outputs": [
        {
          "data": {
            "text/html": [
              "<div>\n",
              "<style scoped>\n",
              "    .dataframe tbody tr th:only-of-type {\n",
              "        vertical-align: middle;\n",
              "    }\n",
              "\n",
              "    .dataframe tbody tr th {\n",
              "        vertical-align: top;\n",
              "    }\n",
              "\n",
              "    .dataframe thead th {\n",
              "        text-align: right;\n",
              "    }\n",
              "</style>\n",
              "<table border=\"1\" class=\"dataframe\">\n",
              "  <thead>\n",
              "    <tr style=\"text-align: right;\">\n",
              "      <th></th>\n",
              "      <th>price</th>\n",
              "      <th>model_year</th>\n",
              "      <th>model</th>\n",
              "      <th>condition</th>\n",
              "      <th>cylinders</th>\n",
              "      <th>fuel</th>\n",
              "      <th>odometer</th>\n",
              "      <th>transmission</th>\n",
              "      <th>type</th>\n",
              "      <th>paint_color</th>\n",
              "      <th>is_4wd</th>\n",
              "      <th>date_posted</th>\n",
              "      <th>days_listed</th>\n",
              "      <th>years_posted</th>\n",
              "    </tr>\n",
              "  </thead>\n",
              "  <tbody>\n",
              "    <tr>\n",
              "      <th>0</th>\n",
              "      <td>9400</td>\n",
              "      <td>2011</td>\n",
              "      <td>bmw x5</td>\n",
              "      <td>good</td>\n",
              "      <td>6</td>\n",
              "      <td>gas</td>\n",
              "      <td>145000</td>\n",
              "      <td>automatic</td>\n",
              "      <td>SUV</td>\n",
              "      <td>not specified</td>\n",
              "      <td>True</td>\n",
              "      <td>2018-06-23</td>\n",
              "      <td>19</td>\n",
              "      <td>8</td>\n",
              "    </tr>\n",
              "    <tr>\n",
              "      <th>1</th>\n",
              "      <td>25500</td>\n",
              "      <td>2011</td>\n",
              "      <td>ford f-150</td>\n",
              "      <td>good</td>\n",
              "      <td>6</td>\n",
              "      <td>gas</td>\n",
              "      <td>88705</td>\n",
              "      <td>automatic</td>\n",
              "      <td>pickup</td>\n",
              "      <td>white</td>\n",
              "      <td>True</td>\n",
              "      <td>2018-10-19</td>\n",
              "      <td>50</td>\n",
              "      <td>8</td>\n",
              "    </tr>\n",
              "    <tr>\n",
              "      <th>2</th>\n",
              "      <td>5500</td>\n",
              "      <td>2013</td>\n",
              "      <td>hyundai sonata</td>\n",
              "      <td>like new</td>\n",
              "      <td>4</td>\n",
              "      <td>gas</td>\n",
              "      <td>110000</td>\n",
              "      <td>automatic</td>\n",
              "      <td>sedan</td>\n",
              "      <td>red</td>\n",
              "      <td>False</td>\n",
              "      <td>2019-02-07</td>\n",
              "      <td>79</td>\n",
              "      <td>7</td>\n",
              "    </tr>\n",
              "    <tr>\n",
              "      <th>3</th>\n",
              "      <td>1500</td>\n",
              "      <td>2003</td>\n",
              "      <td>ford f-150</td>\n",
              "      <td>fair</td>\n",
              "      <td>8</td>\n",
              "      <td>gas</td>\n",
              "      <td>161397</td>\n",
              "      <td>automatic</td>\n",
              "      <td>pickup</td>\n",
              "      <td>not specified</td>\n",
              "      <td>False</td>\n",
              "      <td>2019-03-22</td>\n",
              "      <td>9</td>\n",
              "      <td>17</td>\n",
              "    </tr>\n",
              "    <tr>\n",
              "      <th>4</th>\n",
              "      <td>14900</td>\n",
              "      <td>2017</td>\n",
              "      <td>chrysler 200</td>\n",
              "      <td>excellent</td>\n",
              "      <td>4</td>\n",
              "      <td>gas</td>\n",
              "      <td>80903</td>\n",
              "      <td>automatic</td>\n",
              "      <td>sedan</td>\n",
              "      <td>black</td>\n",
              "      <td>False</td>\n",
              "      <td>2019-04-02</td>\n",
              "      <td>28</td>\n",
              "      <td>3</td>\n",
              "    </tr>\n",
              "    <tr>\n",
              "      <th>...</th>\n",
              "      <td>...</td>\n",
              "      <td>...</td>\n",
              "      <td>...</td>\n",
              "      <td>...</td>\n",
              "      <td>...</td>\n",
              "      <td>...</td>\n",
              "      <td>...</td>\n",
              "      <td>...</td>\n",
              "      <td>...</td>\n",
              "      <td>...</td>\n",
              "      <td>...</td>\n",
              "      <td>...</td>\n",
              "      <td>...</td>\n",
              "      <td>...</td>\n",
              "    </tr>\n",
              "    <tr>\n",
              "      <th>51520</th>\n",
              "      <td>9249</td>\n",
              "      <td>2013</td>\n",
              "      <td>nissan maxima</td>\n",
              "      <td>like new</td>\n",
              "      <td>6</td>\n",
              "      <td>gas</td>\n",
              "      <td>88136</td>\n",
              "      <td>automatic</td>\n",
              "      <td>sedan</td>\n",
              "      <td>black</td>\n",
              "      <td>False</td>\n",
              "      <td>2018-10-03</td>\n",
              "      <td>37</td>\n",
              "      <td>6</td>\n",
              "    </tr>\n",
              "    <tr>\n",
              "      <th>51521</th>\n",
              "      <td>2700</td>\n",
              "      <td>2002</td>\n",
              "      <td>honda civic</td>\n",
              "      <td>salvage</td>\n",
              "      <td>4</td>\n",
              "      <td>gas</td>\n",
              "      <td>181500</td>\n",
              "      <td>automatic</td>\n",
              "      <td>sedan</td>\n",
              "      <td>white</td>\n",
              "      <td>False</td>\n",
              "      <td>2018-11-14</td>\n",
              "      <td>22</td>\n",
              "      <td>17</td>\n",
              "    </tr>\n",
              "    <tr>\n",
              "      <th>51522</th>\n",
              "      <td>3950</td>\n",
              "      <td>2009</td>\n",
              "      <td>hyundai sonata</td>\n",
              "      <td>excellent</td>\n",
              "      <td>4</td>\n",
              "      <td>gas</td>\n",
              "      <td>128000</td>\n",
              "      <td>automatic</td>\n",
              "      <td>sedan</td>\n",
              "      <td>blue</td>\n",
              "      <td>False</td>\n",
              "      <td>2018-11-15</td>\n",
              "      <td>32</td>\n",
              "      <td>10</td>\n",
              "    </tr>\n",
              "    <tr>\n",
              "      <th>51523</th>\n",
              "      <td>7455</td>\n",
              "      <td>2013</td>\n",
              "      <td>toyota corolla</td>\n",
              "      <td>good</td>\n",
              "      <td>4</td>\n",
              "      <td>gas</td>\n",
              "      <td>139573</td>\n",
              "      <td>automatic</td>\n",
              "      <td>sedan</td>\n",
              "      <td>black</td>\n",
              "      <td>False</td>\n",
              "      <td>2018-07-02</td>\n",
              "      <td>71</td>\n",
              "      <td>6</td>\n",
              "    </tr>\n",
              "    <tr>\n",
              "      <th>51524</th>\n",
              "      <td>6300</td>\n",
              "      <td>2014</td>\n",
              "      <td>nissan altima</td>\n",
              "      <td>good</td>\n",
              "      <td>4</td>\n",
              "      <td>gas</td>\n",
              "      <td>90000</td>\n",
              "      <td>automatic</td>\n",
              "      <td>sedan</td>\n",
              "      <td>not specified</td>\n",
              "      <td>False</td>\n",
              "      <td>2018-06-05</td>\n",
              "      <td>10</td>\n",
              "      <td>5</td>\n",
              "    </tr>\n",
              "  </tbody>\n",
              "</table>\n",
              "<p>51525 rows × 14 columns</p>\n",
              "</div>"
            ],
            "text/plain": [
              "       price  model_year           model  condition  cylinders fuel  odometer  \\\n",
              "0       9400        2011          bmw x5       good          6  gas    145000   \n",
              "1      25500        2011      ford f-150       good          6  gas     88705   \n",
              "2       5500        2013  hyundai sonata   like new          4  gas    110000   \n",
              "3       1500        2003      ford f-150       fair          8  gas    161397   \n",
              "4      14900        2017    chrysler 200  excellent          4  gas     80903   \n",
              "...      ...         ...             ...        ...        ...  ...       ...   \n",
              "51520   9249        2013   nissan maxima   like new          6  gas     88136   \n",
              "51521   2700        2002     honda civic    salvage          4  gas    181500   \n",
              "51522   3950        2009  hyundai sonata  excellent          4  gas    128000   \n",
              "51523   7455        2013  toyota corolla       good          4  gas    139573   \n",
              "51524   6300        2014   nissan altima       good          4  gas     90000   \n",
              "\n",
              "      transmission    type    paint_color  is_4wd date_posted  days_listed  \\\n",
              "0        automatic     SUV  not specified    True  2018-06-23           19   \n",
              "1        automatic  pickup          white    True  2018-10-19           50   \n",
              "2        automatic   sedan            red   False  2019-02-07           79   \n",
              "3        automatic  pickup  not specified   False  2019-03-22            9   \n",
              "4        automatic   sedan          black   False  2019-04-02           28   \n",
              "...            ...     ...            ...     ...         ...          ...   \n",
              "51520    automatic   sedan          black   False  2018-10-03           37   \n",
              "51521    automatic   sedan          white   False  2018-11-14           22   \n",
              "51522    automatic   sedan           blue   False  2018-11-15           32   \n",
              "51523    automatic   sedan          black   False  2018-07-02           71   \n",
              "51524    automatic   sedan  not specified   False  2018-06-05           10   \n",
              "\n",
              "       years_posted  \n",
              "0                 8  \n",
              "1                 8  \n",
              "2                 7  \n",
              "3                17  \n",
              "4                 3  \n",
              "...             ...  \n",
              "51520             6  \n",
              "51521            17  \n",
              "51522            10  \n",
              "51523             6  \n",
              "51524             5  \n",
              "\n",
              "[51525 rows x 14 columns]"
            ]
          },
          "execution_count": 30,
          "metadata": {},
          "output_type": "execute_result"
        }
      ],
      "source": [
        "# Agrega los años del vehículo cuando el anuncio se colocó\n",
        "data['years_posted'] = data['date_posted'].dt.strftime('%Y')\n",
        "data['years_posted'] = ((data['years_posted'].astype('int64')) - (data['model_year']) + 1)\n",
        "data"
      ]
    },
    {
      "cell_type": "code",
      "execution_count": null,
      "metadata": {
        "id": "OilevI5hWKuF"
      },
      "outputs": [],
      "source": [
        "# Agrega el millaje promedio del vehículo por año\n",
        "data['mean_mileage'] = (data['odometer'] / data['years_posted']).round()"
      ]
    },
    {
      "cell_type": "code",
      "execution_count": null,
      "metadata": {
        "id": "lbc_O0bOWKuF"
      },
      "outputs": [],
      "source": [
        "# Podría ser útil reemplazar los valores de condición con algo que se pueda manipular más fácilmente\n",
        "def rangos_condition(row):\n",
        "    condition = row['condition']\n",
        "    if condition == 'new':\n",
        "        return '5'\n",
        "    if condition == 'like new':\n",
        "        return '4'\n",
        "    if condition == 'excellent':\n",
        "        return '3'\n",
        "    if condition == 'good':\n",
        "        return '2'\n",
        "    if condition == 'fair':\n",
        "        return '1'\n",
        "    else:\n",
        "        return '0'\n",
        "data['condition'] = data.apply(rangos_condition, axis=1)"
      ]
    },
    {
      "cell_type": "code",
      "execution_count": null,
      "metadata": {
        "id": "6TgkcKaLWKuG",
        "outputId": "ced9d7fe-a916-419d-e3df-2af84acaafe9"
      },
      "outputs": [
        {
          "data": {
            "text/html": [
              "<div>\n",
              "<style scoped>\n",
              "    .dataframe tbody tr th:only-of-type {\n",
              "        vertical-align: middle;\n",
              "    }\n",
              "\n",
              "    .dataframe tbody tr th {\n",
              "        vertical-align: top;\n",
              "    }\n",
              "\n",
              "    .dataframe thead th {\n",
              "        text-align: right;\n",
              "    }\n",
              "</style>\n",
              "<table border=\"1\" class=\"dataframe\">\n",
              "  <thead>\n",
              "    <tr style=\"text-align: right;\">\n",
              "      <th></th>\n",
              "      <th>price</th>\n",
              "      <th>model_year</th>\n",
              "      <th>model</th>\n",
              "      <th>condition</th>\n",
              "      <th>cylinders</th>\n",
              "      <th>fuel</th>\n",
              "      <th>odometer</th>\n",
              "      <th>transmission</th>\n",
              "      <th>type</th>\n",
              "      <th>paint_color</th>\n",
              "      <th>is_4wd</th>\n",
              "      <th>date_posted</th>\n",
              "      <th>days_listed</th>\n",
              "      <th>years_posted</th>\n",
              "      <th>mean_mileage</th>\n",
              "    </tr>\n",
              "  </thead>\n",
              "  <tbody>\n",
              "    <tr>\n",
              "      <th>0</th>\n",
              "      <td>9400</td>\n",
              "      <td>2011</td>\n",
              "      <td>bmw x5</td>\n",
              "      <td>2</td>\n",
              "      <td>6</td>\n",
              "      <td>gas</td>\n",
              "      <td>145000</td>\n",
              "      <td>automatic</td>\n",
              "      <td>SUV</td>\n",
              "      <td>not specified</td>\n",
              "      <td>True</td>\n",
              "      <td>2018-06-23</td>\n",
              "      <td>19</td>\n",
              "      <td>8</td>\n",
              "      <td>18125.0</td>\n",
              "    </tr>\n",
              "    <tr>\n",
              "      <th>1</th>\n",
              "      <td>25500</td>\n",
              "      <td>2011</td>\n",
              "      <td>ford f-150</td>\n",
              "      <td>2</td>\n",
              "      <td>6</td>\n",
              "      <td>gas</td>\n",
              "      <td>88705</td>\n",
              "      <td>automatic</td>\n",
              "      <td>pickup</td>\n",
              "      <td>white</td>\n",
              "      <td>True</td>\n",
              "      <td>2018-10-19</td>\n",
              "      <td>50</td>\n",
              "      <td>8</td>\n",
              "      <td>11088.0</td>\n",
              "    </tr>\n",
              "    <tr>\n",
              "      <th>2</th>\n",
              "      <td>5500</td>\n",
              "      <td>2013</td>\n",
              "      <td>hyundai sonata</td>\n",
              "      <td>4</td>\n",
              "      <td>4</td>\n",
              "      <td>gas</td>\n",
              "      <td>110000</td>\n",
              "      <td>automatic</td>\n",
              "      <td>sedan</td>\n",
              "      <td>red</td>\n",
              "      <td>False</td>\n",
              "      <td>2019-02-07</td>\n",
              "      <td>79</td>\n",
              "      <td>7</td>\n",
              "      <td>15714.0</td>\n",
              "    </tr>\n",
              "    <tr>\n",
              "      <th>3</th>\n",
              "      <td>1500</td>\n",
              "      <td>2003</td>\n",
              "      <td>ford f-150</td>\n",
              "      <td>1</td>\n",
              "      <td>8</td>\n",
              "      <td>gas</td>\n",
              "      <td>161397</td>\n",
              "      <td>automatic</td>\n",
              "      <td>pickup</td>\n",
              "      <td>not specified</td>\n",
              "      <td>False</td>\n",
              "      <td>2019-03-22</td>\n",
              "      <td>9</td>\n",
              "      <td>17</td>\n",
              "      <td>9494.0</td>\n",
              "    </tr>\n",
              "    <tr>\n",
              "      <th>4</th>\n",
              "      <td>14900</td>\n",
              "      <td>2017</td>\n",
              "      <td>chrysler 200</td>\n",
              "      <td>3</td>\n",
              "      <td>4</td>\n",
              "      <td>gas</td>\n",
              "      <td>80903</td>\n",
              "      <td>automatic</td>\n",
              "      <td>sedan</td>\n",
              "      <td>black</td>\n",
              "      <td>False</td>\n",
              "      <td>2019-04-02</td>\n",
              "      <td>28</td>\n",
              "      <td>3</td>\n",
              "      <td>26968.0</td>\n",
              "    </tr>\n",
              "  </tbody>\n",
              "</table>\n",
              "</div>"
            ],
            "text/plain": [
              "   price  model_year           model  condition  cylinders fuel  odometer  \\\n",
              "0   9400        2011          bmw x5          2          6  gas    145000   \n",
              "1  25500        2011      ford f-150          2          6  gas     88705   \n",
              "2   5500        2013  hyundai sonata          4          4  gas    110000   \n",
              "3   1500        2003      ford f-150          1          8  gas    161397   \n",
              "4  14900        2017    chrysler 200          3          4  gas     80903   \n",
              "\n",
              "  transmission    type    paint_color  is_4wd date_posted  days_listed  \\\n",
              "0    automatic     SUV  not specified    True  2018-06-23           19   \n",
              "1    automatic  pickup          white    True  2018-10-19           50   \n",
              "2    automatic   sedan            red   False  2019-02-07           79   \n",
              "3    automatic  pickup  not specified   False  2019-03-22            9   \n",
              "4    automatic   sedan          black   False  2019-04-02           28   \n",
              "\n",
              "   years_posted  mean_mileage  \n",
              "0             8       18125.0  \n",
              "1             8       11088.0  \n",
              "2             7       15714.0  \n",
              "3            17        9494.0  \n",
              "4             3       26968.0  "
            ]
          },
          "execution_count": 33,
          "metadata": {},
          "output_type": "execute_result"
        }
      ],
      "source": [
        "# Aqui cambiamos condition a int para poder manipularlo\n",
        "data['condition'] = data['condition'].astype('int64')\n",
        "data.head()"
      ]
    },
    {
      "cell_type": "code",
      "execution_count": null,
      "metadata": {
        "id": "UZ7QEQhJWKuH",
        "outputId": "11665185-1a9d-4e61-f9b3-a592c2083614"
      },
      "outputs": [
        {
          "name": "stdout",
          "output_type": "stream",
          "text": [
            "<class 'pandas.core.frame.DataFrame'>\n",
            "RangeIndex: 51525 entries, 0 to 51524\n",
            "Data columns (total 15 columns):\n",
            " #   Column        Non-Null Count  Dtype         \n",
            "---  ------        --------------  -----         \n",
            " 0   price         51525 non-null  int64         \n",
            " 1   model_year    51525 non-null  int64         \n",
            " 2   model         51525 non-null  object        \n",
            " 3   condition     51525 non-null  int64         \n",
            " 4   cylinders     51525 non-null  int64         \n",
            " 5   fuel          51525 non-null  object        \n",
            " 6   odometer      51525 non-null  int64         \n",
            " 7   transmission  51525 non-null  object        \n",
            " 8   type          51525 non-null  object        \n",
            " 9   paint_color   51525 non-null  object        \n",
            " 10  is_4wd        51525 non-null  bool          \n",
            " 11  date_posted   51525 non-null  datetime64[ns]\n",
            " 12  days_listed   51525 non-null  int64         \n",
            " 13  years_posted  51525 non-null  int64         \n",
            " 14  mean_mileage  51525 non-null  float64       \n",
            "dtypes: bool(1), datetime64[ns](1), float64(1), int64(7), object(5)\n",
            "memory usage: 5.6+ MB\n"
          ]
        }
      ],
      "source": [
        "# imprime la información general/resumida sobre el DataFrame\n",
        "data.info()"
      ]
    },
    {
      "cell_type": "code",
      "execution_count": null,
      "metadata": {
        "id": "rz5NUxe5WKuH",
        "outputId": "d59d2ad6-2a0a-461c-bf75-505047ce022a"
      },
      "outputs": [
        {
          "data": {
            "text/html": [
              "<div>\n",
              "<style scoped>\n",
              "    .dataframe tbody tr th:only-of-type {\n",
              "        vertical-align: middle;\n",
              "    }\n",
              "\n",
              "    .dataframe tbody tr th {\n",
              "        vertical-align: top;\n",
              "    }\n",
              "\n",
              "    .dataframe thead th {\n",
              "        text-align: right;\n",
              "    }\n",
              "</style>\n",
              "<table border=\"1\" class=\"dataframe\">\n",
              "  <thead>\n",
              "    <tr style=\"text-align: right;\">\n",
              "      <th></th>\n",
              "      <th>price</th>\n",
              "      <th>model_year</th>\n",
              "      <th>model</th>\n",
              "      <th>condition</th>\n",
              "      <th>cylinders</th>\n",
              "      <th>fuel</th>\n",
              "      <th>odometer</th>\n",
              "      <th>transmission</th>\n",
              "      <th>type</th>\n",
              "      <th>paint_color</th>\n",
              "      <th>is_4wd</th>\n",
              "      <th>date_posted</th>\n",
              "      <th>days_listed</th>\n",
              "      <th>years_posted</th>\n",
              "      <th>mean_mileage</th>\n",
              "    </tr>\n",
              "  </thead>\n",
              "  <tbody>\n",
              "    <tr>\n",
              "      <th>0</th>\n",
              "      <td>9400</td>\n",
              "      <td>2011</td>\n",
              "      <td>bmw x5</td>\n",
              "      <td>2</td>\n",
              "      <td>6</td>\n",
              "      <td>gas</td>\n",
              "      <td>145000</td>\n",
              "      <td>automatic</td>\n",
              "      <td>SUV</td>\n",
              "      <td>not specified</td>\n",
              "      <td>True</td>\n",
              "      <td>2018-06-23</td>\n",
              "      <td>19</td>\n",
              "      <td>8</td>\n",
              "      <td>18125.0</td>\n",
              "    </tr>\n",
              "    <tr>\n",
              "      <th>1</th>\n",
              "      <td>25500</td>\n",
              "      <td>2011</td>\n",
              "      <td>ford f-150</td>\n",
              "      <td>2</td>\n",
              "      <td>6</td>\n",
              "      <td>gas</td>\n",
              "      <td>88705</td>\n",
              "      <td>automatic</td>\n",
              "      <td>pickup</td>\n",
              "      <td>white</td>\n",
              "      <td>True</td>\n",
              "      <td>2018-10-19</td>\n",
              "      <td>50</td>\n",
              "      <td>8</td>\n",
              "      <td>11088.0</td>\n",
              "    </tr>\n",
              "    <tr>\n",
              "      <th>2</th>\n",
              "      <td>5500</td>\n",
              "      <td>2013</td>\n",
              "      <td>hyundai sonata</td>\n",
              "      <td>4</td>\n",
              "      <td>4</td>\n",
              "      <td>gas</td>\n",
              "      <td>110000</td>\n",
              "      <td>automatic</td>\n",
              "      <td>sedan</td>\n",
              "      <td>red</td>\n",
              "      <td>False</td>\n",
              "      <td>2019-02-07</td>\n",
              "      <td>79</td>\n",
              "      <td>7</td>\n",
              "      <td>15714.0</td>\n",
              "    </tr>\n",
              "    <tr>\n",
              "      <th>3</th>\n",
              "      <td>1500</td>\n",
              "      <td>2003</td>\n",
              "      <td>ford f-150</td>\n",
              "      <td>1</td>\n",
              "      <td>8</td>\n",
              "      <td>gas</td>\n",
              "      <td>161397</td>\n",
              "      <td>automatic</td>\n",
              "      <td>pickup</td>\n",
              "      <td>not specified</td>\n",
              "      <td>False</td>\n",
              "      <td>2019-03-22</td>\n",
              "      <td>9</td>\n",
              "      <td>17</td>\n",
              "      <td>9494.0</td>\n",
              "    </tr>\n",
              "    <tr>\n",
              "      <th>4</th>\n",
              "      <td>14900</td>\n",
              "      <td>2017</td>\n",
              "      <td>chrysler 200</td>\n",
              "      <td>3</td>\n",
              "      <td>4</td>\n",
              "      <td>gas</td>\n",
              "      <td>80903</td>\n",
              "      <td>automatic</td>\n",
              "      <td>sedan</td>\n",
              "      <td>black</td>\n",
              "      <td>False</td>\n",
              "      <td>2019-04-02</td>\n",
              "      <td>28</td>\n",
              "      <td>3</td>\n",
              "      <td>26968.0</td>\n",
              "    </tr>\n",
              "    <tr>\n",
              "      <th>5</th>\n",
              "      <td>14990</td>\n",
              "      <td>2014</td>\n",
              "      <td>chrysler 300</td>\n",
              "      <td>3</td>\n",
              "      <td>6</td>\n",
              "      <td>gas</td>\n",
              "      <td>57954</td>\n",
              "      <td>automatic</td>\n",
              "      <td>sedan</td>\n",
              "      <td>black</td>\n",
              "      <td>True</td>\n",
              "      <td>2018-06-20</td>\n",
              "      <td>15</td>\n",
              "      <td>5</td>\n",
              "      <td>11591.0</td>\n",
              "    </tr>\n",
              "    <tr>\n",
              "      <th>6</th>\n",
              "      <td>12990</td>\n",
              "      <td>2015</td>\n",
              "      <td>toyota camry</td>\n",
              "      <td>3</td>\n",
              "      <td>4</td>\n",
              "      <td>gas</td>\n",
              "      <td>79212</td>\n",
              "      <td>automatic</td>\n",
              "      <td>sedan</td>\n",
              "      <td>white</td>\n",
              "      <td>False</td>\n",
              "      <td>2018-12-27</td>\n",
              "      <td>73</td>\n",
              "      <td>4</td>\n",
              "      <td>19803.0</td>\n",
              "    </tr>\n",
              "    <tr>\n",
              "      <th>7</th>\n",
              "      <td>15990</td>\n",
              "      <td>2013</td>\n",
              "      <td>honda pilot</td>\n",
              "      <td>3</td>\n",
              "      <td>6</td>\n",
              "      <td>gas</td>\n",
              "      <td>109473</td>\n",
              "      <td>automatic</td>\n",
              "      <td>SUV</td>\n",
              "      <td>black</td>\n",
              "      <td>True</td>\n",
              "      <td>2019-01-07</td>\n",
              "      <td>68</td>\n",
              "      <td>7</td>\n",
              "      <td>15639.0</td>\n",
              "    </tr>\n",
              "    <tr>\n",
              "      <th>8</th>\n",
              "      <td>11500</td>\n",
              "      <td>2012</td>\n",
              "      <td>kia sorento</td>\n",
              "      <td>3</td>\n",
              "      <td>4</td>\n",
              "      <td>gas</td>\n",
              "      <td>104174</td>\n",
              "      <td>automatic</td>\n",
              "      <td>SUV</td>\n",
              "      <td>not specified</td>\n",
              "      <td>True</td>\n",
              "      <td>2018-07-16</td>\n",
              "      <td>19</td>\n",
              "      <td>7</td>\n",
              "      <td>14882.0</td>\n",
              "    </tr>\n",
              "    <tr>\n",
              "      <th>9</th>\n",
              "      <td>9200</td>\n",
              "      <td>2008</td>\n",
              "      <td>honda pilot</td>\n",
              "      <td>3</td>\n",
              "      <td>6</td>\n",
              "      <td>gas</td>\n",
              "      <td>147191</td>\n",
              "      <td>automatic</td>\n",
              "      <td>SUV</td>\n",
              "      <td>blue</td>\n",
              "      <td>True</td>\n",
              "      <td>2019-02-15</td>\n",
              "      <td>17</td>\n",
              "      <td>12</td>\n",
              "      <td>12266.0</td>\n",
              "    </tr>\n",
              "  </tbody>\n",
              "</table>\n",
              "</div>"
            ],
            "text/plain": [
              "   price  model_year           model  condition  cylinders fuel  odometer  \\\n",
              "0   9400        2011          bmw x5          2          6  gas    145000   \n",
              "1  25500        2011      ford f-150          2          6  gas     88705   \n",
              "2   5500        2013  hyundai sonata          4          4  gas    110000   \n",
              "3   1500        2003      ford f-150          1          8  gas    161397   \n",
              "4  14900        2017    chrysler 200          3          4  gas     80903   \n",
              "5  14990        2014    chrysler 300          3          6  gas     57954   \n",
              "6  12990        2015    toyota camry          3          4  gas     79212   \n",
              "7  15990        2013     honda pilot          3          6  gas    109473   \n",
              "8  11500        2012     kia sorento          3          4  gas    104174   \n",
              "9   9200        2008     honda pilot          3          6  gas    147191   \n",
              "\n",
              "  transmission    type    paint_color  is_4wd date_posted  days_listed  \\\n",
              "0    automatic     SUV  not specified    True  2018-06-23           19   \n",
              "1    automatic  pickup          white    True  2018-10-19           50   \n",
              "2    automatic   sedan            red   False  2019-02-07           79   \n",
              "3    automatic  pickup  not specified   False  2019-03-22            9   \n",
              "4    automatic   sedan          black   False  2019-04-02           28   \n",
              "5    automatic   sedan          black    True  2018-06-20           15   \n",
              "6    automatic   sedan          white   False  2018-12-27           73   \n",
              "7    automatic     SUV          black    True  2019-01-07           68   \n",
              "8    automatic     SUV  not specified    True  2018-07-16           19   \n",
              "9    automatic     SUV           blue    True  2019-02-15           17   \n",
              "\n",
              "   years_posted  mean_mileage  \n",
              "0             8       18125.0  \n",
              "1             8       11088.0  \n",
              "2             7       15714.0  \n",
              "3            17        9494.0  \n",
              "4             3       26968.0  \n",
              "5             5       11591.0  \n",
              "6             4       19803.0  \n",
              "7             7       15639.0  \n",
              "8             7       14882.0  \n",
              "9            12       12266.0  "
            ]
          },
          "execution_count": 35,
          "metadata": {},
          "output_type": "execute_result"
        }
      ],
      "source": [
        "# imprimir una muestra de datos\n",
        "data.head(10)"
      ]
    },
    {
      "cell_type": "code",
      "execution_count": null,
      "metadata": {
        "id": "zOZZbhfEWKuI"
      },
      "outputs": [],
      "source": [
        "parameters = data.loc[:, ('price', 'years_posted', 'cylinders', 'condition', 'odometer')]"
      ]
    },
    {
      "cell_type": "code",
      "execution_count": null,
      "metadata": {
        "id": "Ude3OsGAWKuJ",
        "outputId": "1ffc0d0c-a2f5-47f5-c49d-5bdccb1ce1e2"
      },
      "outputs": [
        {
          "data": {
            "image/png": "[encoded data removed]",
            "text/plain": [
              "<Figure size 720x360 with 1 Axes>"
            ]
          },
          "metadata": {
            "needs_background": "light"
          },
          "output_type": "display_data"
        },
        {
          "data": {
            "image/png": "[encoded data removed]",
            "text/plain": [
              "<Figure size 720x360 with 1 Axes>"
            ]
          },
          "metadata": {
            "needs_background": "light"
          },
          "output_type": "display_data"
        },
        {
          "data": {
            "image/png": "[encoded data removed]",
            "text/plain": [
              "<Figure size 720x360 with 1 Axes>"
            ]
          },
          "metadata": {
            "needs_background": "light"
          },
          "output_type": "display_data"
        },
        {
          "data": {
            "image/png": "[encoded data removed]",
            "text/plain": [
              "<Figure size 720x360 with 1 Axes>"
            ]
          },
          "metadata": {
            "needs_background": "light"
          },
          "output_type": "display_data"
        },
        {
          "data": {
            "image/png": "[encoded data removed]",
            "text/plain": [
              "<Figure size 720x360 with 1 Axes>"
            ]
          },
          "metadata": {
            "needs_background": "light"
          },
          "output_type": "display_data"
        }
      ],
      "source": [
        "# Creamos un bucle for para calcular todos los histogramas de las variables o parametros relevantes\n",
        "for col in parameters:\n",
        "    parameters[col].plot(kind='hist', bins=20, figsize=(10,5), title=col)\n",
        "    plt.show()"
      ]
    },
    {
      "cell_type": "code",
      "execution_count": null,
      "metadata": {
        "id": "HAS8CySvWKuL"
      },
      "outputs": [],
      "source": [
        "# Aqui se crea una funcion que calcule los cuantiles, el iqr, limite inferior y superior para cada columna y nos devuelve el dataframe ya filtrado.\n",
        "filtered_data = data.copy()\n",
        "def remove_outliers(filtered_data, nombre_col):\n",
        "    q1 = filtered_data[nombre_col].quantile(0.25)\n",
        "    q3 = filtered_data[nombre_col].quantile(0.75)\n",
        "    iqr = q3 - q1\n",
        "    lower = int(q1 - (1.5*iqr))\n",
        "    upper = int(q3 + (1.5*iqr))\n",
        "    return data.query(f'@lower <= {nombre_col} <= @upper')\n",
        "good_price = remove_outliers(filtered_data, 'price')\n",
        "good_yearsposted = remove_outliers(filtered_data, 'years_posted')\n",
        "good_odometer = remove_outliers(filtered_data, 'odometer')\n",
        "good_data1 = good_price.merge(good_yearsposted)\n",
        "good_data = good_data1.merge(good_odometer)"
      ]
    },
    {
      "cell_type": "code",
      "execution_count": null,
      "metadata": {
        "id": "FApWwp8eWKuL",
        "outputId": "d46016b5-5006-4398-f204-29789fa229ac"
      },
      "outputs": [
        {
          "data": {
            "text/html": [
              "<div>\n",
              "<style scoped>\n",
              "    .dataframe tbody tr th:only-of-type {\n",
              "        vertical-align: middle;\n",
              "    }\n",
              "\n",
              "    .dataframe tbody tr th {\n",
              "        vertical-align: top;\n",
              "    }\n",
              "\n",
              "    .dataframe thead th {\n",
              "        text-align: right;\n",
              "    }\n",
              "</style>\n",
              "<table border=\"1\" class=\"dataframe\">\n",
              "  <thead>\n",
              "    <tr style=\"text-align: right;\">\n",
              "      <th></th>\n",
              "      <th>price</th>\n",
              "      <th>model_year</th>\n",
              "      <th>model</th>\n",
              "      <th>condition</th>\n",
              "      <th>cylinders</th>\n",
              "      <th>fuel</th>\n",
              "      <th>odometer</th>\n",
              "      <th>transmission</th>\n",
              "      <th>type</th>\n",
              "      <th>paint_color</th>\n",
              "      <th>is_4wd</th>\n",
              "      <th>date_posted</th>\n",
              "      <th>days_listed</th>\n",
              "      <th>years_posted</th>\n",
              "      <th>mean_mileage</th>\n",
              "    </tr>\n",
              "  </thead>\n",
              "  <tbody>\n",
              "    <tr>\n",
              "      <th>0</th>\n",
              "      <td>9400</td>\n",
              "      <td>2011</td>\n",
              "      <td>bmw x5</td>\n",
              "      <td>2</td>\n",
              "      <td>6</td>\n",
              "      <td>gas</td>\n",
              "      <td>145000</td>\n",
              "      <td>automatic</td>\n",
              "      <td>SUV</td>\n",
              "      <td>not specified</td>\n",
              "      <td>True</td>\n",
              "      <td>2018-06-23</td>\n",
              "      <td>19</td>\n",
              "      <td>8</td>\n",
              "      <td>18125.0</td>\n",
              "    </tr>\n",
              "    <tr>\n",
              "      <th>1</th>\n",
              "      <td>25500</td>\n",
              "      <td>2011</td>\n",
              "      <td>ford f-150</td>\n",
              "      <td>2</td>\n",
              "      <td>6</td>\n",
              "      <td>gas</td>\n",
              "      <td>88705</td>\n",
              "      <td>automatic</td>\n",
              "      <td>pickup</td>\n",
              "      <td>white</td>\n",
              "      <td>True</td>\n",
              "      <td>2018-10-19</td>\n",
              "      <td>50</td>\n",
              "      <td>8</td>\n",
              "      <td>11088.0</td>\n",
              "    </tr>\n",
              "    <tr>\n",
              "      <th>2</th>\n",
              "      <td>5500</td>\n",
              "      <td>2013</td>\n",
              "      <td>hyundai sonata</td>\n",
              "      <td>4</td>\n",
              "      <td>4</td>\n",
              "      <td>gas</td>\n",
              "      <td>110000</td>\n",
              "      <td>automatic</td>\n",
              "      <td>sedan</td>\n",
              "      <td>red</td>\n",
              "      <td>False</td>\n",
              "      <td>2019-02-07</td>\n",
              "      <td>79</td>\n",
              "      <td>7</td>\n",
              "      <td>15714.0</td>\n",
              "    </tr>\n",
              "    <tr>\n",
              "      <th>3</th>\n",
              "      <td>1500</td>\n",
              "      <td>2003</td>\n",
              "      <td>ford f-150</td>\n",
              "      <td>1</td>\n",
              "      <td>8</td>\n",
              "      <td>gas</td>\n",
              "      <td>161397</td>\n",
              "      <td>automatic</td>\n",
              "      <td>pickup</td>\n",
              "      <td>not specified</td>\n",
              "      <td>False</td>\n",
              "      <td>2019-03-22</td>\n",
              "      <td>9</td>\n",
              "      <td>17</td>\n",
              "      <td>9494.0</td>\n",
              "    </tr>\n",
              "    <tr>\n",
              "      <th>4</th>\n",
              "      <td>14900</td>\n",
              "      <td>2017</td>\n",
              "      <td>chrysler 200</td>\n",
              "      <td>3</td>\n",
              "      <td>4</td>\n",
              "      <td>gas</td>\n",
              "      <td>80903</td>\n",
              "      <td>automatic</td>\n",
              "      <td>sedan</td>\n",
              "      <td>black</td>\n",
              "      <td>False</td>\n",
              "      <td>2019-04-02</td>\n",
              "      <td>28</td>\n",
              "      <td>3</td>\n",
              "      <td>26968.0</td>\n",
              "    </tr>\n",
              "    <tr>\n",
              "      <th>...</th>\n",
              "      <td>...</td>\n",
              "      <td>...</td>\n",
              "      <td>...</td>\n",
              "      <td>...</td>\n",
              "      <td>...</td>\n",
              "      <td>...</td>\n",
              "      <td>...</td>\n",
              "      <td>...</td>\n",
              "      <td>...</td>\n",
              "      <td>...</td>\n",
              "      <td>...</td>\n",
              "      <td>...</td>\n",
              "      <td>...</td>\n",
              "      <td>...</td>\n",
              "      <td>...</td>\n",
              "    </tr>\n",
              "    <tr>\n",
              "      <th>48549</th>\n",
              "      <td>9249</td>\n",
              "      <td>2013</td>\n",
              "      <td>nissan maxima</td>\n",
              "      <td>4</td>\n",
              "      <td>6</td>\n",
              "      <td>gas</td>\n",
              "      <td>88136</td>\n",
              "      <td>automatic</td>\n",
              "      <td>sedan</td>\n",
              "      <td>black</td>\n",
              "      <td>False</td>\n",
              "      <td>2018-10-03</td>\n",
              "      <td>37</td>\n",
              "      <td>6</td>\n",
              "      <td>14689.0</td>\n",
              "    </tr>\n",
              "    <tr>\n",
              "      <th>48550</th>\n",
              "      <td>2700</td>\n",
              "      <td>2002</td>\n",
              "      <td>honda civic</td>\n",
              "      <td>0</td>\n",
              "      <td>4</td>\n",
              "      <td>gas</td>\n",
              "      <td>181500</td>\n",
              "      <td>automatic</td>\n",
              "      <td>sedan</td>\n",
              "      <td>white</td>\n",
              "      <td>False</td>\n",
              "      <td>2018-11-14</td>\n",
              "      <td>22</td>\n",
              "      <td>17</td>\n",
              "      <td>10676.0</td>\n",
              "    </tr>\n",
              "    <tr>\n",
              "      <th>48551</th>\n",
              "      <td>3950</td>\n",
              "      <td>2009</td>\n",
              "      <td>hyundai sonata</td>\n",
              "      <td>3</td>\n",
              "      <td>4</td>\n",
              "      <td>gas</td>\n",
              "      <td>128000</td>\n",
              "      <td>automatic</td>\n",
              "      <td>sedan</td>\n",
              "      <td>blue</td>\n",
              "      <td>False</td>\n",
              "      <td>2018-11-15</td>\n",
              "      <td>32</td>\n",
              "      <td>10</td>\n",
              "      <td>12800.0</td>\n",
              "    </tr>\n",
              "    <tr>\n",
              "      <th>48552</th>\n",
              "      <td>7455</td>\n",
              "      <td>2013</td>\n",
              "      <td>toyota corolla</td>\n",
              "      <td>2</td>\n",
              "      <td>4</td>\n",
              "      <td>gas</td>\n",
              "      <td>139573</td>\n",
              "      <td>automatic</td>\n",
              "      <td>sedan</td>\n",
              "      <td>black</td>\n",
              "      <td>False</td>\n",
              "      <td>2018-07-02</td>\n",
              "      <td>71</td>\n",
              "      <td>6</td>\n",
              "      <td>23262.0</td>\n",
              "    </tr>\n",
              "    <tr>\n",
              "      <th>48553</th>\n",
              "      <td>6300</td>\n",
              "      <td>2014</td>\n",
              "      <td>nissan altima</td>\n",
              "      <td>2</td>\n",
              "      <td>4</td>\n",
              "      <td>gas</td>\n",
              "      <td>90000</td>\n",
              "      <td>automatic</td>\n",
              "      <td>sedan</td>\n",
              "      <td>not specified</td>\n",
              "      <td>False</td>\n",
              "      <td>2018-06-05</td>\n",
              "      <td>10</td>\n",
              "      <td>5</td>\n",
              "      <td>18000.0</td>\n",
              "    </tr>\n",
              "  </tbody>\n",
              "</table>\n",
              "<p>48554 rows × 15 columns</p>\n",
              "</div>"
            ],
            "text/plain": [
              "       price  model_year           model  condition  cylinders fuel  odometer  \\\n",
              "0       9400        2011          bmw x5          2          6  gas    145000   \n",
              "1      25500        2011      ford f-150          2          6  gas     88705   \n",
              "2       5500        2013  hyundai sonata          4          4  gas    110000   \n",
              "3       1500        2003      ford f-150          1          8  gas    161397   \n",
              "4      14900        2017    chrysler 200          3          4  gas     80903   \n",
              "...      ...         ...             ...        ...        ...  ...       ...   \n",
              "48549   9249        2013   nissan maxima          4          6  gas     88136   \n",
              "48550   2700        2002     honda civic          0          4  gas    181500   \n",
              "48551   3950        2009  hyundai sonata          3          4  gas    128000   \n",
              "48552   7455        2013  toyota corolla          2          4  gas    139573   \n",
              "48553   6300        2014   nissan altima          2          4  gas     90000   \n",
              "\n",
              "      transmission    type    paint_color  is_4wd date_posted  days_listed  \\\n",
              "0        automatic     SUV  not specified    True  2018-06-23           19   \n",
              "1        automatic  pickup          white    True  2018-10-19           50   \n",
              "2        automatic   sedan            red   False  2019-02-07           79   \n",
              "3        automatic  pickup  not specified   False  2019-03-22            9   \n",
              "4        automatic   sedan          black   False  2019-04-02           28   \n",
              "...            ...     ...            ...     ...         ...          ...   \n",
              "48549    automatic   sedan          black   False  2018-10-03           37   \n",
              "48550    automatic   sedan          white   False  2018-11-14           22   \n",
              "48551    automatic   sedan           blue   False  2018-11-15           32   \n",
              "48552    automatic   sedan          black   False  2018-07-02           71   \n",
              "48553    automatic   sedan  not specified   False  2018-06-05           10   \n",
              "\n",
              "       years_posted  mean_mileage  \n",
              "0                 8       18125.0  \n",
              "1                 8       11088.0  \n",
              "2                 7       15714.0  \n",
              "3                17        9494.0  \n",
              "4                 3       26968.0  \n",
              "...             ...           ...  \n",
              "48549             6       14689.0  \n",
              "48550            17       10676.0  \n",
              "48551            10       12800.0  \n",
              "48552             6       23262.0  \n",
              "48553             5       18000.0  \n",
              "\n",
              "[48554 rows x 15 columns]"
            ]
          },
          "execution_count": 39,
          "metadata": {},
          "output_type": "execute_result"
        }
      ],
      "source": [
        "good_data"
      ]
    },
    {
      "cell_type": "code",
      "execution_count": null,
      "metadata": {
        "id": "_wyqxGyKWKuM",
        "outputId": "63aa43d9-293d-4e44-92fb-40048e1d751a"
      },
      "outputs": [
        {
          "data": {
            "image/png": "[encoded data removed]",
            "text/plain": [
              "<Figure size 720x360 with 1 Axes>"
            ]
          },
          "metadata": {
            "needs_background": "light"
          },
          "output_type": "display_data"
        },
        {
          "data": {
            "image/png": "[encoded data removed]",
            "text/plain": [
              "<Figure size 720x360 with 1 Axes>"
            ]
          },
          "metadata": {
            "needs_background": "light"
          },
          "output_type": "display_data"
        },
        {
          "data": {
            "image/png": "[encoded data removed]",
            "text/plain": [
              "<Figure size 720x360 with 1 Axes>"
            ]
          },
          "metadata": {
            "needs_background": "light"
          },
          "output_type": "display_data"
        }
      ],
      "source": [
        "parameters2 = good_data.loc[:, ('price', 'years_posted','odometer')]\n",
        "for col in parameters2:\n",
        "    good_data[col].plot(kind='hist', bins=20, figsize=(10,5), title=col)\n",
        "    plt.show()"
      ]
    },
    {
      "cell_type": "markdown",
      "metadata": {
        "id": "U4GxKVtqWKuN"
      },
      "source": [
        "- Sin valores atipicos tenemos una distribucion mas normal con respecto a los parametros establecidos."
      ]
    },
    {
      "cell_type": "code",
      "execution_count": null,
      "metadata": {
        "id": "pFucoTRAWKuN",
        "outputId": "c50d6948-8652-44fe-a6a4-72119b5a064a"
      },
      "outputs": [
        {
          "name": "stdout",
          "output_type": "stream",
          "text": [
            "count    51525.00000\n",
            "mean        39.55476\n",
            "std         28.20427\n",
            "min          0.00000\n",
            "25%         19.00000\n",
            "50%         33.00000\n",
            "75%         53.00000\n",
            "max        271.00000\n",
            "Name: days_listed, dtype: float64\n"
          ]
        }
      ],
      "source": [
        "# Aqui calculamos la media y la mediana de la cantidad de dias que un auto estuvo posteado\n",
        "print(data['days_listed'].describe())"
      ]
    },
    {
      "cell_type": "code",
      "execution_count": null,
      "metadata": {
        "id": "kzxh6cEjWKuO",
        "outputId": "4423d667-4ba3-405c-a319-392d1121288d"
      },
      "outputs": [
        {
          "data": {
            "text/plain": [
              "53.0"
            ]
          },
          "execution_count": 42,
          "metadata": {},
          "output_type": "execute_result"
        }
      ],
      "source": [
        "# Aqui colocamos el tiempo que dura posteado un auto\n",
        "data['days_listed'].describe()['75%']"
      ]
    },
    {
      "cell_type": "markdown",
      "metadata": {
        "id": "RBnp3pHDWKuO"
      },
      "source": [
        "- El promedio de tiempo que dura un auto posteado es de 53 dias, estamos utilizando el 75% debido a que 3/4 autos se vende en un maximo de 53 dias, hay valores atipicos en la muestra por ende no podemos considerar la media para definir la hipotesis."
      ]
    },
    {
      "cell_type": "code",
      "execution_count": null,
      "metadata": {
        "id": "2sMb8oleWKuO",
        "outputId": "3c6600c1-a1c7-4837-edd3-3e22c519b31b"
      },
      "outputs": [
        {
          "data": {
            "text/plain": [
              "{'whiskers': [<matplotlib.lines.Line2D at 0x7f6cfec77df0>,\n",
              "  <matplotlib.lines.Line2D at 0x7f6cfec08190>],\n",
              " 'caps': [<matplotlib.lines.Line2D at 0x7f6cfec084f0>,\n",
              "  <matplotlib.lines.Line2D at 0x7f6cfec08850>],\n",
              " 'boxes': [<matplotlib.lines.Line2D at 0x7f6cfec77a90>],\n",
              " 'medians': [<matplotlib.lines.Line2D at 0x7f6cfec08bb0>],\n",
              " 'fliers': [<matplotlib.lines.Line2D at 0x7f6cfec08f10>],\n",
              " 'means': []}"
            ]
          },
          "execution_count": 43,
          "metadata": {},
          "output_type": "execute_result"
        },
        {
          "data": {
            "image/png": "[encoded data removed]",
            "text/plain": [
              "<Figure size 432x288 with 1 Axes>"
            ]
          },
          "metadata": {
            "needs_background": "light"
          },
          "output_type": "display_data"
        }
      ],
      "source": [
        "plt.boxplot(data['days_listed'])"
      ]
    },
    {
      "cell_type": "markdown",
      "metadata": {
        "id": "pcUv7bEGWKuP"
      },
      "source": [
        "- Tras una investigación profunda de todos los parametros para definir si existia una correlacion entre los coches que se vendieron pronto con los que no, no podemos concluir con que exista una correlacion. Dicho de otra forma no podemos explicar el por que un anuncio tarda mucho o poco despues de ser posteado asi como tampoco podemos definir que es atipicamente corto y que es atipicamente largo."
      ]
    },
    {
      "cell_type": "code",
      "execution_count": null,
      "metadata": {
        "id": "XUK6xYdJWKuQ",
        "outputId": "59f6d0ca-e128-4166-e056-049fae41f86f"
      },
      "outputs": [
        {
          "data": {
            "text/plain": [
              "(array([2.0799e+04, 1.8375e+04, 8.0180e+03, 2.9750e+03, 9.1700e+02,\n",
              "        3.0400e+02, 8.7000e+01, 3.2000e+01, 1.1000e+01, 7.0000e+00]),\n",
              " array([  0. ,  27.1,  54.2,  81.3, 108.4, 135.5, 162.6, 189.7, 216.8,\n",
              "        243.9, 271. ]),\n",
              " <BarContainer object of 10 artists>)"
            ]
          },
          "execution_count": 44,
          "metadata": {},
          "output_type": "execute_result"
        },
        {
          "data": {
            "image/png": "[encoded data removed]",
            "text/plain": [
              "<Figure size 432x288 with 1 Axes>"
            ]
          },
          "metadata": {
            "needs_background": "light"
          },
          "output_type": "display_data"
        }
      ],
      "source": [
        "plt.hist(data['days_listed'])"
      ]
    },
    {
      "cell_type": "markdown",
      "metadata": {
        "id": "0q3m1ZokWKuR"
      },
      "source": [
        "- Si tuviera que dar una respuesta diria que los valores atipicamente largos son superiores a los 60 dias posteados y 0 dias seria atipicamente corto."
      ]
    },
    {
      "cell_type": "code",
      "execution_count": null,
      "metadata": {
        "scrolled": true,
        "id": "EpXaWgQOWKuR",
        "outputId": "c823da77-cd96-47ee-dd51-7fa3c9aa861b"
      },
      "outputs": [
        {
          "name": "stdout",
          "output_type": "stream",
          "text": [
            "51525\n",
            "***************\n"
          ]
        },
        {
          "data": {
            "text/plain": [
              "<AxesSubplot:xlabel='type'>"
            ]
          },
          "execution_count": 45,
          "metadata": {},
          "output_type": "execute_result"
        },
        {
          "data": {
            "image/png": "[encoded data removed]",
            "text/plain": [
              "<Figure size 432x288 with 1 Axes>"
            ]
          },
          "metadata": {
            "needs_background": "light"
          },
          "output_type": "display_data"
        }
      ],
      "source": [
        "print(len(data['days_listed']))\n",
        "data1 = good_data.groupby('type')['price'].agg(func='mean')\n",
        "print('*'*15)\n",
        "plot_type_price = good_data.pivot_table(index='type', values='price', aggfunc='count')\n",
        "plot_type_sorted = plot_type_price['price'].sort_values(ascending=False)\n",
        "plot_type_sorted.plot(kind='bar')"
      ]
    },
    {
      "cell_type": "code",
      "execution_count": null,
      "metadata": {
        "id": "nhpnYME5WKuS"
      },
      "outputs": [],
      "source": [
        "# Aqui crearemos los dos dataframes filtrados a los dos vehiculos mas populares que son SUV y sedan\n",
        "sedan_type = good_data.query('type == \"sedan\"')\n",
        "suv_type = good_data.query('type == \"SUV\"')"
      ]
    },
    {
      "cell_type": "code",
      "execution_count": null,
      "metadata": {
        "id": "z_bjcj0FWKuS",
        "outputId": "1741634e-e233-4d4a-b07c-41736a980583"
      },
      "outputs": [
        {
          "data": {
            "image/png": "[encoded data removed]",
            "text/plain": [
              "<Figure size 432x288 with 1 Axes>"
            ]
          },
          "metadata": {
            "needs_background": "light"
          },
          "output_type": "display_data"
        }
      ],
      "source": [
        "# Aqui trabajeremos primero sobre el sedan\n",
        "plt.boxplot(sedan_type['price'])\n",
        "plt.show()"
      ]
    },
    {
      "cell_type": "code",
      "execution_count": null,
      "metadata": {
        "id": "RjqBomGIWKuT",
        "outputId": "bfad990b-0661-453e-fabe-34c7fbe2bc8e"
      },
      "outputs": [
        {
          "name": "stdout",
          "output_type": "stream",
          "text": [
            "0.6188611493429222\n",
            "0.2936511442529821\n",
            "-0.6154039722575414\n",
            "0.04082450838902464\n",
            "-0.5634824129326048\n"
          ]
        }
      ],
      "source": [
        "# Las correlaciones con sedan\n",
        "print(sedan_type['price'].corr(sedan_type['model_year']))\n",
        "print(sedan_type['price'].corr(sedan_type['condition']))\n",
        "print(sedan_type['price'].corr(sedan_type['years_posted']))\n",
        "print(sedan_type['price'].corr(sedan_type['is_4wd']))\n",
        "print(sedan_type['price'].corr(sedan_type['odometer']))"
      ]
    },
    {
      "cell_type": "code",
      "execution_count": null,
      "metadata": {
        "id": "4-BnTPOFWKuT",
        "outputId": "6b0a67bb-e4d5-46d5-89b4-ba5b1e7b3551"
      },
      "outputs": [
        {
          "data": {
            "image/png": "[encoded data removed]",
            "text/plain": [
              "<Figure size 432x288 with 1 Axes>"
            ]
          },
          "metadata": {
            "needs_background": "light"
          },
          "output_type": "display_data"
        },
        {
          "data": {
            "image/png": "[encoded data removed]",
            "text/plain": [
              "<Figure size 432x288 with 1 Axes>"
            ]
          },
          "metadata": {
            "needs_background": "light"
          },
          "output_type": "display_data"
        },
        {
          "data": {
            "image/png": "[encoded data removed]",
            "text/plain": [
              "<Figure size 432x288 with 1 Axes>"
            ]
          },
          "metadata": {
            "needs_background": "light"
          },
          "output_type": "display_data"
        },
        {
          "data": {
            "image/png": "[encoded data removed]",
            "text/plain": [
              "<Figure size 432x288 with 1 Axes>"
            ]
          },
          "metadata": {
            "needs_background": "light"
          },
          "output_type": "display_data"
        },
        {
          "data": {
            "image/png": "[encoded data removed]",
            "text/plain": [
              "<Figure size 432x288 with 1 Axes>"
            ]
          },
          "metadata": {
            "needs_background": "light"
          },
          "output_type": "display_data"
        }
      ],
      "source": [
        "plt.scatter(sedan_type['odometer'], sedan_type['price'])\n",
        "plt.show()\n",
        "plt.scatter(sedan_type['years_posted'] ,sedan_type['price'])\n",
        "plt.show()\n",
        "plt.scatter(sedan_type['condition'] ,sedan_type['price'])\n",
        "plt.show()\n",
        "plt.scatter(sedan_type['model_year'] ,sedan_type['price'])\n",
        "plt.show()\n",
        "plt.scatter(sedan_type['is_4wd'] ,sedan_type['price'])\n",
        "plt.show()"
      ]
    },
    {
      "cell_type": "markdown",
      "metadata": {
        "id": "2LSO0eJtWKuU"
      },
      "source": [
        "- Tras haber investigado las correlaciones y realizado un analisis grafico podemos observar que no existe correlacion entre el precio y ninguna de las variables debido a que todas tienden a 0."
      ]
    },
    {
      "cell_type": "code",
      "execution_count": null,
      "metadata": {
        "id": "PxM4a4NJWKuU",
        "outputId": "a5eb9d1e-e4ad-4fb8-d509-356537d38d6b"
      },
      "outputs": [
        {
          "data": {
            "image/png": "[encoded data removed]",
            "text/plain": [
              "<Figure size 432x288 with 1 Axes>"
            ]
          },
          "metadata": {
            "needs_background": "light"
          },
          "output_type": "display_data"
        }
      ],
      "source": [
        "# Aqui trabajaremos sobre SUV\n",
        "plt.boxplot(suv_type['price'])\n",
        "plt.show()"
      ]
    },
    {
      "cell_type": "code",
      "execution_count": null,
      "metadata": {
        "id": "cDTdw4QGWKuV",
        "outputId": "5ede5a5c-9ced-4d0a-9842-2cca1ed0e3d7"
      },
      "outputs": [
        {
          "data": {
            "text/plain": [
              "<AxesSubplot:>"
            ]
          },
          "execution_count": 70,
          "metadata": {},
          "output_type": "execute_result"
        },
        {
          "data": {
            "image/png": "[encoded data removed]",
            "text/plain": [
              "<Figure size 432x288 with 1 Axes>"
            ]
          },
          "metadata": {
            "needs_background": "light"
          },
          "output_type": "display_data"
        }
      ],
      "source": [
        "suv_type.plot(kind='box')"
      ]
    },
    {
      "cell_type": "code",
      "execution_count": null,
      "metadata": {
        "id": "extR7VdbWKuW",
        "outputId": "2424603a-b129-4dd9-9d3d-dd6c41e97c0c"
      },
      "outputs": [
        {
          "name": "stdout",
          "output_type": "stream",
          "text": [
            "0.5770925813821247\n",
            "0.26398907805170096\n",
            "-0.5751379481422204\n",
            "0.11188963859832168\n",
            "-0.5227759774311167\n"
          ]
        }
      ],
      "source": [
        "# Las correlaciones con SUV\n",
        "print(suv_type['price'].corr(suv_type['model_year']))\n",
        "print(suv_type['price'].corr(suv_type['condition']))\n",
        "print(suv_type['price'].corr(suv_type['years_posted']))\n",
        "print(suv_type['price'].corr(suv_type['is_4wd']))\n",
        "print(suv_type['price'].corr(suv_type['odometer']))"
      ]
    },
    {
      "cell_type": "code",
      "execution_count": null,
      "metadata": {
        "id": "ggq65W51WKuW",
        "outputId": "d5def2ba-3256-4284-8a82-f820bcc0b820"
      },
      "outputs": [
        {
          "data": {
            "image/png": "[encoded data removed]",
            "text/plain": [
              "<Figure size 432x288 with 1 Axes>"
            ]
          },
          "metadata": {
            "needs_background": "light"
          },
          "output_type": "display_data"
        },
        {
          "data": {
            "image/png": "[encoded data removed]",
            "text/plain": [
              "<Figure size 432x288 with 1 Axes>"
            ]
          },
          "metadata": {
            "needs_background": "light"
          },
          "output_type": "display_data"
        },
        {
          "data": {
            "image/png": "[encoded data removed]",
            "text/plain": [
              "<Figure size 432x288 with 1 Axes>"
            ]
          },
          "metadata": {
            "needs_background": "light"
          },
          "output_type": "display_data"
        },
        {
          "data": {
            "image/png": "[encoded data removed]",
            "text/plain": [
              "<Figure size 432x288 with 1 Axes>"
            ]
          },
          "metadata": {
            "needs_background": "light"
          },
          "output_type": "display_data"
        },
        {
          "data": {
            "image/png": "[encoded data removed]",
            "text/plain": [
              "<Figure size 432x288 with 1 Axes>"
            ]
          },
          "metadata": {
            "needs_background": "light"
          },
          "output_type": "display_data"
        }
      ],
      "source": [
        "plt.scatter(suv_type['odometer'], suv_type['price'])\n",
        "plt.show()\n",
        "plt.scatter(suv_type['years_posted'] ,suv_type['price'])\n",
        "plt.show()\n",
        "plt.scatter(suv_type['condition'] ,suv_type['price'])\n",
        "plt.show()\n",
        "plt.scatter(suv_type['model_year'] ,suv_type['price'])\n",
        "plt.show()\n",
        "plt.scatter(suv_type['is_4wd'] ,suv_type['price'])\n",
        "plt.show()"
      ]
    },
    {
      "cell_type": "markdown",
      "metadata": {
        "id": "USDYqptWWKuX"
      },
      "source": [
        "- Tras haber investigado las correlaciones y realizado un analisis grafico podemos observar que no existe correlacion entre el precio y ninguna de las variables debido a que todas tienden a 0."
      ]
    },
    {
      "cell_type": "markdown",
      "metadata": {
        "id": "FmHsQ9PsWKuX"
      },
      "source": [
        "## Conclusión general"
      ]
    },
    {
      "cell_type": "markdown",
      "metadata": {
        "id": "-Zp9qOWuWKuY"
      },
      "source": [
        "- Al inciiar el proyecto me enfoque en depurar los datos lo mas posible eliminando e imputando valores para los valores ausentes para tener un dataframe mas limpio.\n",
        "- De igual manera por medio de los graficos se hizo mas visual y evidente los valores atipicos del problema.\n",
        "- Al no tener manera de saber de donde pertenecian los valores ausentes del color del vehiculo decidi imputarlo con 'not specified' ya que no representaria un cambio significativo de momento para los datos que estaba buscando.\n",
        "- Para model_year se imputo con la mediana de valores de los datos cuyo modelo de vehiculo y año fueran los mismos para que guardaran una correlacion con los demas datos similares.\n",
        "- Igualmente para is_4wd se intuyo que al ser una columna booleana los 0 serian false y los 1 true, entonces simplemente se opto por imputar que se rellenaran los NaN con 0.\n",
        "- Para la columna condition se sustituyo con valores mas manipulables.\n",
        "- Se modificaron algunos de los tipos de datos debido a que eran mas apropiados de otra manera."
      ]
    }
  ],
  "metadata": {
    "ExecuteTimeLog": [
      {
        "duration": 828,
        "start_time": "2021-11-16T09:21:11.304Z"
      },
      {
        "duration": 893,
        "start_time": "2021-11-16T09:21:17.728Z"
      },
      {
        "duration": 1150,
        "start_time": "2021-11-16T09:21:29.568Z"
      },
      {
        "duration": 3,
        "start_time": "2021-11-16T09:24:14.495Z"
      },
      {
        "duration": 120,
        "start_time": "2021-11-16T09:24:46.630Z"
      },
      {
        "duration": 3,
        "start_time": "2021-11-16T09:28:27.882Z"
      },
      {
        "duration": 4,
        "start_time": "2021-11-16T09:29:54.281Z"
      },
      {
        "duration": 3,
        "start_time": "2021-11-16T09:30:45.936Z"
      },
      {
        "duration": 4,
        "start_time": "2021-11-16T09:31:06.300Z"
      },
      {
        "duration": 113,
        "start_time": "2021-11-16T09:31:37.208Z"
      },
      {
        "duration": 143,
        "start_time": "2021-11-16T09:31:48.656Z"
      },
      {
        "duration": 98,
        "start_time": "2021-11-16T09:31:55.678Z"
      },
      {
        "duration": 3,
        "start_time": "2021-11-16T09:32:08.535Z"
      },
      {
        "duration": 111,
        "start_time": "2021-11-16T09:32:10.120Z"
      },
      {
        "duration": 3,
        "start_time": "2021-11-16T09:32:15.732Z"
      },
      {
        "duration": 4,
        "start_time": "2021-11-16T09:32:29.423Z"
      },
      {
        "duration": 3,
        "start_time": "2021-11-16T10:03:03.074Z"
      },
      {
        "duration": 3,
        "start_time": "2021-11-16T10:10:01.288Z"
      },
      {
        "duration": 3,
        "start_time": "2021-11-16T10:10:46.923Z"
      },
      {
        "duration": 121,
        "start_time": "2021-11-16T10:37:46.494Z"
      },
      {
        "duration": 125,
        "start_time": "2021-11-16T10:38:20.632Z"
      },
      {
        "duration": 112,
        "start_time": "2021-11-16T10:46:53.001Z"
      },
      {
        "duration": 110,
        "start_time": "2021-11-16T10:48:25.775Z"
      },
      {
        "duration": 3,
        "start_time": "2021-11-16T10:50:18.720Z"
      },
      {
        "duration": 4,
        "start_time": "2021-11-16T10:50:37.649Z"
      },
      {
        "duration": 2,
        "start_time": "2021-11-16T10:50:51.884Z"
      },
      {
        "duration": 3,
        "start_time": "2021-11-16T10:51:56.237Z"
      },
      {
        "duration": 101,
        "start_time": "2021-11-16T10:53:13.791Z"
      },
      {
        "duration": 3,
        "start_time": "2021-11-16T10:55:59.186Z"
      },
      {
        "duration": 3,
        "start_time": "2021-11-16T10:56:10.751Z"
      },
      {
        "duration": 3,
        "start_time": "2021-11-16T10:56:49.038Z"
      },
      {
        "duration": 3,
        "start_time": "2021-11-16T10:56:49.174Z"
      },
      {
        "duration": 4,
        "start_time": "2021-11-16T10:56:49.414Z"
      },
      {
        "duration": 3,
        "start_time": "2021-11-16T10:56:49.680Z"
      },
      {
        "duration": 3,
        "start_time": "2021-11-16T10:56:50.370Z"
      },
      {
        "duration": 114,
        "start_time": "2021-11-16T10:59:34.518Z"
      },
      {
        "duration": 3,
        "start_time": "2021-11-16T11:01:41.201Z"
      },
      {
        "duration": 116,
        "start_time": "2021-11-16T11:01:48.754Z"
      },
      {
        "duration": 3,
        "start_time": "2021-11-16T11:02:16.685Z"
      },
      {
        "duration": 3,
        "start_time": "2021-11-16T11:02:19.479Z"
      },
      {
        "duration": 3,
        "start_time": "2021-11-16T11:02:47.067Z"
      },
      {
        "duration": 3,
        "start_time": "2021-11-16T11:02:49.353Z"
      },
      {
        "duration": 3,
        "start_time": "2021-11-16T11:03:07.835Z"
      },
      {
        "duration": 3,
        "start_time": "2021-11-16T11:03:07.953Z"
      },
      {
        "duration": 112,
        "start_time": "2021-11-16T11:07:52.072Z"
      },
      {
        "duration": 187,
        "start_time": "2021-11-16T11:09:23.468Z"
      },
      {
        "duration": 4,
        "start_time": "2021-11-16T11:10:01.455Z"
      },
      {
        "duration": 3,
        "start_time": "2021-11-16T11:10:05.069Z"
      },
      {
        "duration": 4,
        "start_time": "2021-11-16T11:10:13.376Z"
      },
      {
        "duration": 3,
        "start_time": "2021-11-16T11:10:14.434Z"
      },
      {
        "duration": 3,
        "start_time": "2021-11-16T11:10:22.853Z"
      },
      {
        "duration": 4,
        "start_time": "2021-11-16T11:27:29.279Z"
      },
      {
        "duration": 4,
        "start_time": "2021-11-16T11:29:08.919Z"
      },
      {
        "duration": 118,
        "start_time": "2021-11-16T11:29:46.703Z"
      },
      {
        "duration": 437,
        "start_time": "2021-11-16T11:36:02.181Z"
      },
      {
        "duration": 157,
        "start_time": "2021-11-16T11:36:14.388Z"
      },
      {
        "duration": 207,
        "start_time": "2021-11-16T11:47:15.898Z"
      },
      {
        "duration": 3,
        "start_time": "2021-11-16T11:53:52.092Z"
      },
      {
        "duration": 3,
        "start_time": "2021-11-16T11:53:52.236Z"
      },
      {
        "duration": 3,
        "start_time": "2021-11-16T11:59:12.005Z"
      },
      {
        "duration": 112,
        "start_time": "2021-11-16T12:00:33.446Z"
      },
      {
        "duration": 3,
        "start_time": "2021-11-16T12:02:14.453Z"
      },
      {
        "duration": 3,
        "start_time": "2021-11-16T12:02:39.512Z"
      },
      {
        "duration": 106,
        "start_time": "2021-11-16T12:03:03.460Z"
      }
    ],
    "kernelspec": {
      "display_name": "Python 3 (ipykernel)",
      "language": "python",
      "name": "python3"
    },
    "language_info": {
      "codemirror_mode": {
        "name": "ipython",
        "version": 3
      },
      "file_extension": ".py",
      "mimetype": "text/x-python",
      "name": "python",
      "nbconvert_exporter": "python",
      "pygments_lexer": "ipython3",
      "version": "3.9.5"
    },
    "toc": {
      "base_numbering": 1,
      "nav_menu": {},
      "number_sections": true,
      "sideBar": true,
      "skip_h1_title": false,
      "title_cell": "Table of Contents",
      "title_sidebar": "Contents",
      "toc_cell": false,
      "toc_position": {},
      "toc_section_display": true,
      "toc_window_display": false
    },
    "colab": {
      "provenance": []
    }
  },
  "nbformat": 4,
  "nbformat_minor": 0
}