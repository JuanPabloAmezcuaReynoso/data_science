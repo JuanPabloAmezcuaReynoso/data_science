{
  "cells": [
    {
      "cell_type": "markdown",
      "metadata": {
        "id": "3XXcLHtHtG2a"
      },
      "source": [
        "# Introduccion"
      ]
    },
    {
      "cell_type": "markdown",
      "metadata": {
        "id": "g3KcvA5utG2b"
      },
      "source": [
        "- En este proyecto trabajare para la compañía móvil no está satisfecha al ver que muchos de sus clientes utilizan planes heredados. Quieren desarrollar un modelo que pueda analizar el comportamiento de los clientes y recomendar uno de los nuevos planes de Megaline: Smart o Ultra. Voy a analizar el comportamiento de los datos para crear un modelo que escoja el plan correcto, se tendra que profundizar en la base de datos para poder definir los pasos a tomar.\n",
        "1. Segmentar los datos fuente en un conjunto de entrenamiento, uno de validación y uno de prueba.\n",
        "2. Investigar la calidad de diferentes modelos cambiando los hiperparámetros. Describe brevemente los hallazgos del estudio.\n",
        "3. Comprobar la calidad del modelo usando el conjunto de prueba.\n",
        "4. Hacer una prueba de cordura al modelo."
      ]
    },
    {
      "cell_type": "markdown",
      "metadata": {
        "id": "y1MSkRMqtG2b"
      },
      "source": [
        "# Contenido"
      ]
    },
    {
      "cell_type": "markdown",
      "metadata": {
        "id": "jqiDfGfptG2c"
      },
      "source": [
        "* [1. Introducción]\n",
        "* [2. Contents]\n",
        "* [3. Inicialización]\n",
        "    * [3.1 Cargar las librerias]\n",
        "    * [3.2 Cargar los datos]\n",
        "* [4. Segmentación de datos]\n",
        "    * [4.1 Generacion del modelo]\n",
        "    * [4.2 Creacion del arbol de decision]\n",
        "* [5. Conclusiones]"
      ]
    },
    {
      "cell_type": "markdown",
      "metadata": {
        "id": "jYYlQjbttG2c"
      },
      "source": [
        "#  Inicialización"
      ]
    },
    {
      "cell_type": "markdown",
      "metadata": {
        "id": "S1QB9fPXtG2d"
      },
      "source": [
        "## Cargar las librerias"
      ]
    },
    {
      "cell_type": "code",
      "execution_count": null,
      "metadata": {
        "id": "nQd-pRZbtG2d"
      },
      "outputs": [],
      "source": [
        "# Cargar todas las librerías\n",
        "import pandas as pd\n",
        "import numpy as np\n",
        "from sklearn.metrics import mean_squared_error\n",
        "from sklearn.tree import DecisionTreeRegressor\n",
        "from sklearn.model_selection import train_test_split\n",
        "from sklearn.ensemble import RandomForestRegressor\n",
        "from sklearn.linear_model import LinearRegression\n",
        "from sklearn.ensemble import RandomForestClassifier\n",
        "from sklearn.tree import DecisionTreeClassifier\n",
        "from sklearn.metrics import accuracy_score\n",
        "from sklearn.linear_model import LogisticRegression"
      ]
    },
    {
      "cell_type": "markdown",
      "metadata": {
        "id": "ArihHVx6tG2g"
      },
      "source": [
        "## Cargar los datos"
      ]
    },
    {
      "cell_type": "code",
      "execution_count": null,
      "metadata": {
        "id": "5OFO7C_vtG2h"
      },
      "outputs": [],
      "source": [
        "# Crear un dataframe para los datos\n",
        "df = pd.read_csv('/datasets/users_behavior.csv')"
      ]
    },
    {
      "cell_type": "code",
      "execution_count": null,
      "metadata": {
        "id": "skut3Nb9tG2i",
        "outputId": "01d6a815-e480-4e0b-8e83-5ff3012ffb5d"
      },
      "outputs": [
        {
          "data": {
            "text/plain": [
              "(3214, 5)"
            ]
          },
          "metadata": {},
          "output_type": "display_data"
        },
        {
          "data": {
            "text/html": [
              "<div>\n",
              "<style scoped>\n",
              "    .dataframe tbody tr th:only-of-type {\n",
              "        vertical-align: middle;\n",
              "    }\n",
              "\n",
              "    .dataframe tbody tr th {\n",
              "        vertical-align: top;\n",
              "    }\n",
              "\n",
              "    .dataframe thead th {\n",
              "        text-align: right;\n",
              "    }\n",
              "</style>\n",
              "<table border=\"1\" class=\"dataframe\">\n",
              "  <thead>\n",
              "    <tr style=\"text-align: right;\">\n",
              "      <th></th>\n",
              "      <th>calls</th>\n",
              "      <th>minutes</th>\n",
              "      <th>messages</th>\n",
              "      <th>mb_used</th>\n",
              "      <th>is_ultra</th>\n",
              "    </tr>\n",
              "  </thead>\n",
              "  <tbody>\n",
              "    <tr>\n",
              "      <th>0</th>\n",
              "      <td>40.0</td>\n",
              "      <td>311.90</td>\n",
              "      <td>83.0</td>\n",
              "      <td>19915.42</td>\n",
              "      <td>0</td>\n",
              "    </tr>\n",
              "    <tr>\n",
              "      <th>1</th>\n",
              "      <td>85.0</td>\n",
              "      <td>516.75</td>\n",
              "      <td>56.0</td>\n",
              "      <td>22696.96</td>\n",
              "      <td>0</td>\n",
              "    </tr>\n",
              "    <tr>\n",
              "      <th>2</th>\n",
              "      <td>77.0</td>\n",
              "      <td>467.66</td>\n",
              "      <td>86.0</td>\n",
              "      <td>21060.45</td>\n",
              "      <td>0</td>\n",
              "    </tr>\n",
              "    <tr>\n",
              "      <th>3</th>\n",
              "      <td>106.0</td>\n",
              "      <td>745.53</td>\n",
              "      <td>81.0</td>\n",
              "      <td>8437.39</td>\n",
              "      <td>1</td>\n",
              "    </tr>\n",
              "    <tr>\n",
              "      <th>4</th>\n",
              "      <td>66.0</td>\n",
              "      <td>418.74</td>\n",
              "      <td>1.0</td>\n",
              "      <td>14502.75</td>\n",
              "      <td>0</td>\n",
              "    </tr>\n",
              "  </tbody>\n",
              "</table>\n",
              "</div>"
            ],
            "text/plain": [
              "   calls  minutes  messages   mb_used  is_ultra\n",
              "0   40.0   311.90      83.0  19915.42         0\n",
              "1   85.0   516.75      56.0  22696.96         0\n",
              "2   77.0   467.66      86.0  21060.45         0\n",
              "3  106.0   745.53      81.0   8437.39         1\n",
              "4   66.0   418.74       1.0  14502.75         0"
            ]
          },
          "metadata": {},
          "output_type": "display_data"
        },
        {
          "name": "stdout",
          "output_type": "stream",
          "text": [
            "<class 'pandas.core.frame.DataFrame'>\n",
            "RangeIndex: 3214 entries, 0 to 3213\n",
            "Data columns (total 5 columns):\n",
            " #   Column    Non-Null Count  Dtype  \n",
            "---  ------    --------------  -----  \n",
            " 0   calls     3214 non-null   float64\n",
            " 1   minutes   3214 non-null   float64\n",
            " 2   messages  3214 non-null   float64\n",
            " 3   mb_used   3214 non-null   float64\n",
            " 4   is_ultra  3214 non-null   int64  \n",
            "dtypes: float64(4), int64(1)\n",
            "memory usage: 125.7 KB\n"
          ]
        },
        {
          "data": {
            "text/plain": [
              "None"
            ]
          },
          "metadata": {},
          "output_type": "display_data"
        }
      ],
      "source": [
        "# Observamos una muestra del conjunto de datos y su tamaño\n",
        "display(df.shape)\n",
        "display(df.head(5))\n",
        "display(df.info())"
      ]
    },
    {
      "cell_type": "code",
      "execution_count": null,
      "metadata": {
        "id": "0nz45OVQtG2k"
      },
      "outputs": [],
      "source": [
        "df['messages'] = df['messages'].astype('int64')\n",
        "df['calls'] = df['calls'].astype('int64')"
      ]
    },
    {
      "cell_type": "markdown",
      "metadata": {
        "id": "35lhCAOEtG2l"
      },
      "source": [
        "- Al no contar con datos ausentes ni duplicados podemos proceder al analisis de machine learning. Simplemente cambiamos el tipo de datos de float a int en algunas columnas para hacer mas facil su interpretacion debido a que no poseían ningun decimal."
      ]
    },
    {
      "cell_type": "markdown",
      "metadata": {
        "id": "vKIo2L-etG2m"
      },
      "source": [
        "# Segmentación de datos"
      ]
    },
    {
      "cell_type": "code",
      "execution_count": null,
      "metadata": {
        "id": "a57tdMR7tG2n"
      },
      "outputs": [],
      "source": [
        "# Segmentamos el dataframe en 3 partes, el conjunto de entrenamiento corresponde al 60% de los datos, el de prueba al 20% y el de validación al 20%\n",
        "df_train, df_test = train_test_split(df, test_size=0.20, random_state=54321)\n",
        "df_train, df_valid = train_test_split(df_train, test_size=0.25, random_state=54321)"
      ]
    },
    {
      "cell_type": "markdown",
      "metadata": {
        "id": "AILGfS8etG2n"
      },
      "source": [
        "## Generación del modelo"
      ]
    },
    {
      "cell_type": "code",
      "execution_count": null,
      "metadata": {
        "id": "TWsOY7OctG2o"
      },
      "outputs": [],
      "source": [
        "# Se declaran caracteristicas y objetivos para los diferentes conjuntos de datos\n",
        "features_train = df_train.drop(['is_ultra'], axis=1)\n",
        "target_train = df_train['is_ultra']\n",
        "features_valid = df_valid.drop(['is_ultra'], axis=1)\n",
        "target_valid = df_valid['is_ultra']\n",
        "features_test = df_test.drop(['is_ultra'], axis=1)\n",
        "target_test = df_test['is_ultra']"
      ]
    },
    {
      "cell_type": "code",
      "execution_count": null,
      "metadata": {
        "id": "qMcaj_GDtG2p",
        "outputId": "dc7e33dd-a895-400b-8b58-552c8d0ddc34"
      },
      "outputs": [
        {
          "data": {
            "text/plain": [
              "DecisionTreeClassifier(max_depth=5, random_state=54321)"
            ]
          },
          "execution_count": 7,
          "metadata": {},
          "output_type": "execute_result"
        }
      ],
      "source": [
        "model_one = DecisionTreeClassifier(random_state=54321, max_depth=5)\n",
        "model_one.fit(features_train, target_train)"
      ]
    },
    {
      "cell_type": "code",
      "execution_count": null,
      "metadata": {
        "id": "PA7ln9sztG2p",
        "outputId": "1c9641e2-5bfc-425c-86ea-987355a59b89"
      },
      "outputs": [
        {
          "name": "stdout",
          "output_type": "stream",
          "text": [
            "RMSE training set: 0.41870180716054006\n",
            "RMSE validation set: 0.426567186432821\n",
            "Training set: 0.8246887966804979\n",
            "Validation set: 0.8180404354587869\n"
          ]
        }
      ],
      "source": [
        "train_predictions = model_one.predict(features_train)\n",
        "valid_predictions = model_one.predict(features_valid)\n",
        "rmse_valid = mean_squared_error(target_valid, valid_predictions)**0.5\n",
        "rmse_train = mean_squared_error(target_train, train_predictions)**0.5\n",
        "print('RMSE training set:', rmse_train)\n",
        "print('RMSE validation set:', rmse_valid)\n",
        "print('Training set:', accuracy_score(target_train, train_predictions))\n",
        "print('Validation set:', accuracy_score(target_valid, valid_predictions))"
      ]
    },
    {
      "cell_type": "markdown",
      "metadata": {
        "id": "2V3o6ZJmtG2q"
      },
      "source": [
        "- Aqui podemos observar que la exactitud del conjunto de entrenamiento es del 82%% y del conjunto de validacion es del 82%. Lo que significa que podemos refinar el modelo aun mas."
      ]
    },
    {
      "cell_type": "markdown",
      "metadata": {
        "id": "C5cmWuqOtG2r"
      },
      "source": [
        "## Creación del arbol de decisión"
      ]
    },
    {
      "cell_type": "code",
      "execution_count": null,
      "metadata": {
        "id": "Bm9kGjJJtG2r",
        "outputId": "9613f398-cc53-4904-b125-40474ebd4931"
      },
      "outputs": [
        {
          "name": "stdout",
          "output_type": "stream",
          "text": [
            "Accuracy del mejor modelo en el conjunto de validacion (n_estimators = 41): 0.8273716951788491\n"
          ]
        }
      ],
      "source": [
        "# Bosque aleatorio de decisión conjunto de entrenamiento\n",
        "best_score = 0\n",
        "best_est = 0\n",
        "for est in range(1, 51, 10): # selecciona el rango del hiperparámetro\n",
        "    model = RandomForestClassifier(random_state=54321, n_estimators=est, min_samples_split=2)\n",
        "    model.fit(features_train, target_train)\n",
        "    score = model.score(features_valid, target_valid)\n",
        "    if score > best_score:\n",
        "        best_score = score\n",
        "        best_est = est\n",
        "\n",
        "print(\"Accuracy del mejor modelo en el conjunto de validacion (n_estimators = {}): {}\".format(best_est, best_score))"
      ]
    },
    {
      "cell_type": "markdown",
      "metadata": {
        "id": "HW1fMwQXtG3B"
      },
      "source": [
        "- Aqui con este modelo de bosque aleatorio dimos con una exactitud del 83% para el conjunto de entrenamiento en el estimador 41."
      ]
    },
    {
      "cell_type": "code",
      "execution_count": null,
      "metadata": {
        "id": "sPE24B4PtG3C",
        "outputId": "f2d9ce24-e1d5-4b2e-a1b7-921e7f77e587"
      },
      "outputs": [
        {
          "name": "stdout",
          "output_type": "stream",
          "text": [
            "Accuracy del mejor modelo en el conjunto de validación (depth = 5): 0.8180404354587869\n"
          ]
        }
      ],
      "source": [
        "# Arbpl de decisión conjunto de entrenamiento\n",
        "best_tree = 0\n",
        "best_depth = 0\n",
        "score_one = 0\n",
        "for depth in range(1, 51): # selecciona el rango del hiperparámetro\n",
        "    tree = DecisionTreeClassifier(random_state=54321, max_depth = depth,  min_samples_leaf=1)\n",
        "    tree.fit(features_train, target_train)\n",
        "    score_one = tree.score(features_valid, target_valid)\n",
        "    if score_one > best_tree:\n",
        "        best_tree = score_one\n",
        "        best_depth = depth\n",
        "\n",
        "print(\"Accuracy del mejor modelo en el conjunto de validación (depth = {}): {}\".format(best_depth, best_tree))"
      ]
    },
    {
      "cell_type": "code",
      "execution_count": null,
      "metadata": {
        "id": "8dnD9vYGtG3D",
        "outputId": "bee93010-3e7b-49e7-b5be-32bb6aa80a2f"
      },
      "outputs": [
        {
          "name": "stdout",
          "output_type": "stream",
          "text": [
            "Accuracy del modelo de regresión logística en el conjunto de entrenamiento: 0.7505186721991701\n",
            "Accuracy del modelo de regresión logística en el conjunto de validación: 0.776049766718507\n"
          ]
        }
      ],
      "source": [
        "# Aqui se hace una regresión logística\n",
        "model_two = LogisticRegression(random_state=54321, solver='liblinear')\n",
        "model_two.fit(features_train, target_train)\n",
        "score_train = model_two.score(features_train, target_train)\n",
        "score_valid = model_two.score(features_valid, target_valid)\n",
        "\n",
        "print(\"Accuracy del modelo de regresión logística en el conjunto de entrenamiento:\", score_train)\n",
        "print(\"Accuracy del modelo de regresión logística en el conjunto de validación:\", score_valid)"
      ]
    },
    {
      "cell_type": "markdown",
      "metadata": {
        "id": "paLOBQXYtG3E"
      },
      "source": [
        "- Se realizo una regresion logistica para comprobar si los resultados eran mejores, podemos observar que no son mejores. Dandonos una exactitud de 75% para el conjunto de entrenamiento y de 77% para el conjunto de validacion."
      ]
    },
    {
      "cell_type": "code",
      "execution_count": null,
      "metadata": {
        "id": "udKexltVtG3J",
        "outputId": "f019645a-bd6a-455c-ae92-34ba33a20ba1"
      },
      "outputs": [
        {
          "name": "stdout",
          "output_type": "stream",
          "text": [
            "Test set: 0.7884914463452566\n"
          ]
        }
      ],
      "source": [
        "final_model = RandomForestClassifier(random_state=54321, n_estimators=41, min_samples_split=2)\n",
        "final_model.fit(features_train, target_train)\n",
        "final_test_predictions = final_model.predict(features_test)\n",
        "print('Test set:', accuracy_score(target_test, final_test_predictions))"
      ]
    },
    {
      "cell_type": "markdown",
      "metadata": {
        "id": "ioF0fz9MtG3K"
      },
      "source": [
        "- Aqui finalmente entrenamos nuestro modelo final con los mejores hiperparametros que vendria siendo un bosque aleatorio de clasificacion con 41 estimadores para el conjunto de prueba, dandonos un accuracy score de 78.84%"
      ]
    },
    {
      "cell_type": "code",
      "execution_count": null,
      "metadata": {
        "id": "q4iy4LngtG3L",
        "outputId": "c0ed11d8-fe72-4f0f-ac86-eec93346b0bc"
      },
      "outputs": [
        {
          "name": "stdout",
          "output_type": "stream",
          "text": [
            "Prueba de cordura en test set: 0.6640746500777605\n"
          ]
        }
      ],
      "source": [
        "zero_predictions = pd.Series(0, index=target_test.index)\n",
        "print('Prueba de cordura en test set:', accuracy_score(target_test, zero_predictions))"
      ]
    },
    {
      "cell_type": "markdown",
      "metadata": {
        "id": "UguvdOeItG3N"
      },
      "source": [
        "- Prueba de cordura al modelo que nos regresa un 66.40% de exactitud, que es menor que nuestro mejor modelo por consiguiente podemos concluir que la prueba de cordura fue superada por nuestro modelo."
      ]
    },
    {
      "cell_type": "markdown",
      "metadata": {
        "id": "EgUTUseZtG3S"
      },
      "source": [
        "# Conclusiones\n",
        "- Como pudimos observar tras realizar el proyecto y probar diferentes modelos de clasificacion para machine learning debido a que era una variable clasificable la que buscabamos obtener, dimos con que el mejor resultado para nuestro modelo de prueba seria un Random Forest Classifier con 20 estimadores debido a que esto nos da una exactitud del 99.06% siendo una exactitud casi perfecta. Por consiguiente podemos dar por hecho que logramos crear un modelo casi perfecto."
      ]
    }
  ],
  "metadata": {
    "kernelspec": {
      "display_name": "Python 3 (ipykernel)",
      "language": "python",
      "name": "python3"
    },
    "language_info": {
      "codemirror_mode": {
        "name": "ipython",
        "version": 3
      },
      "file_extension": ".py",
      "mimetype": "text/x-python",
      "name": "python",
      "nbconvert_exporter": "python",
      "pygments_lexer": "ipython3",
      "version": "3.9.5"
    },
    "toc": {
      "base_numbering": 1,
      "nav_menu": {},
      "number_sections": true,
      "sideBar": true,
      "skip_h1_title": false,
      "title_cell": "Table of Contents",
      "title_sidebar": "Contents",
      "toc_cell": false,
      "toc_position": {
        "height": "calc(100% - 180px)",
        "left": "10px",
        "top": "150px",
        "width": "261px"
      },
      "toc_section_display": true,
      "toc_window_display": true
    },
    "colab": {
      "provenance": []
    }
  },
  "nbformat": 4,
  "nbformat_minor": 0
}